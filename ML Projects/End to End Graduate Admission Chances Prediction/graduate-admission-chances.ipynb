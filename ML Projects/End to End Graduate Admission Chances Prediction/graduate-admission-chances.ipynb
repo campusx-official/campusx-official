{
 "cells": [
  {
   "cell_type": "markdown",
   "id": "c0800d7a",
   "metadata": {
    "execution": {
     "iopub.execute_input": "2024-11-07T02:54:49.208145Z",
     "iopub.status.busy": "2024-11-07T02:54:49.207155Z",
     "iopub.status.idle": "2024-11-07T02:54:49.215918Z",
     "shell.execute_reply": "2024-11-07T02:54:49.214313Z",
     "shell.execute_reply.started": "2024-11-07T02:54:49.208102Z"
    },
    "papermill": {
     "duration": 0.037129,
     "end_time": "2024-11-07T10:19:23.438222",
     "exception": false,
     "start_time": "2024-11-07T10:19:23.401093",
     "status": "completed"
    },
    "tags": []
   },
   "source": [
    "<a id=\"Import\"></a>\n",
    "<p style=\"background-color: #1E90FF; font-family: 'Pacifico', cursive; color:#FFD700; font-size:300%; text-align:center; border-radius:3000px 50px;\">🧠📈 Graduate Admission Predictions  🎓</p>"
   ]
  },
  {
   "cell_type": "markdown",
   "id": "223881db",
   "metadata": {
    "papermill": {
     "duration": 0.034487,
     "end_time": "2024-11-07T10:19:23.506951",
     "exception": false,
     "start_time": "2024-11-07T10:19:23.472464",
     "status": "completed"
    },
    "tags": []
   },
   "source": [
    "![](https://i.pinimg.com/originals/64/28/0b/64280bed4ef699066f8656f468092009.gif)"
   ]
  },
  {
   "cell_type": "markdown",
   "id": "bcefa4bd",
   "metadata": {
    "papermill": {
     "duration": 0.033439,
     "end_time": "2024-11-07T10:19:23.575141",
     "exception": false,
     "start_time": "2024-11-07T10:19:23.541702",
     "status": "completed"
    },
    "tags": []
   },
   "source": [
    "<a id=\"Import\"></a>\n",
    "<p style=\"background-color: #1E90FF; font-family: 'Pacifico', cursive; color:#FFD700; font-size:200%; text-align:center; border-radius:3000px 50px;\">About Data</p>"
   ]
  },
  {
   "cell_type": "markdown",
   "id": "01f09f01",
   "metadata": {
    "papermill": {
     "duration": 0.033862,
     "end_time": "2024-11-07T10:19:23.643738",
     "exception": false,
     "start_time": "2024-11-07T10:19:23.609876",
     "status": "completed"
    },
    "tags": []
   },
   "source": [
    "**Context:** This dataset is created for prediction of Graduate Admissions from an Indian perspective.\n",
    "\n",
    "**Content:** The dataset contains several parameters which are considered important during the application for Masters Programs. The parameters included are:\n",
    "\n",
    "- GRE Scores (out of 340)\n",
    "- TOEFL Scores (out of 120)\n",
    "- University Rating (out of 5)\n",
    "- Statement of Purpose and Letter of Recommendation Strength (out of 5)\n",
    "- Undergraduate GPA (out of 10)\n",
    "- Research Experience (either 0 or 1)\n",
    "- Chance of Admit (ranging from 0 to 1)\n",
    "\n",
    "**Acknowledgements:**\n",
    "This dataset is inspired by the UCLA Graduate Dataset. The test scores and GPA are in the older format. The dataset is owned by Mohan S Acharya.\n",
    "\n",
    "**Inspiration:**\n",
    "This dataset was built with the purpose of helping students in shortlisting universities with their profiles. The predicted output gives them a fair idea about their chances for a particular university.\n",
    " to 1)"
   ]
  },
  {
   "cell_type": "markdown",
   "id": "9da534ce",
   "metadata": {
    "papermill": {
     "duration": 0.033567,
     "end_time": "2024-11-07T10:19:23.711622",
     "exception": false,
     "start_time": "2024-11-07T10:19:23.678055",
     "status": "completed"
    },
    "tags": []
   },
   "source": [
    "#### **Name :** Prarthana Singh\n",
    "#### **Social Link :** \n",
    "\n",
    "<div style=\"text-align: left;\">\n",
    "    <table>\n",
    "        <tr>\n",
    "            <th><b>Website</b></th>\n",
    "            <th><b>Links</b></th>\n",
    "        </tr>\n",
    "        <tr>\n",
    "        </tr>\n",
    "        <tr>\n",
    "            <td>GitHub</td>\n",
    "            <td><a href=\"https://github.com/Prarthana-Singh\"><img src=\"https://img.shields.io/badge/GitHub-Profile-blue?style=for-the-badge&logo=github\" alt=\"GitHub\"/></a></td>\n",
    "        </tr>\n",
    "        <tr>\n",
    "            <td>LinkedIn</td>\n",
    "            <td><a href=\"https://linkedin.com/in/prarthana-singh-7b2589258\"><img \n",
    "src=\"https://img.shields.io/badge/LinkedIn-Profile-blue?style=for-the-badge&logo=linkedin\" alt=\"LinkedIn\"/></a></td>\n",
    "        </tr>\n",
    "        <tr>\n",
    "        </tr>\n",
    "        <tr>\n",
    "            <td>Gmail</td>\n",
    "            <td><a href=\"mailto:prarthanas645@gmail.com\"><img src=\"https://img.shields.io/badge/Gmail-Contact%20Me-red?style=for-the-badge&logo=gmail\" alt=\"Gmail\"/></a></td>\n",
    "        </tr>\n",
    "    </table>"
   ]
  },
  {
   "cell_type": "markdown",
   "id": "5c508764",
   "metadata": {
    "papermill": {
     "duration": 0.035285,
     "end_time": "2024-11-07T10:19:23.781438",
     "exception": false,
     "start_time": "2024-11-07T10:19:23.746153",
     "status": "completed"
    },
    "tags": []
   },
   "source": [
    "<h1 style=\"color:#19e6e6;font-size:50px;font-family:Georgia;text-align:center;\"><strong>🌟Introduction <strong style=\"color:black;font-size:45px;font-family:Georgia;\">:- </strong></strong></h1>\n",
    "<p style= \"font-family:Georgia;color:#000000;font-size:110%;text-align:center;border-radius:10px 10px;border-style: dotted;border-width:5px;border-color:#19e6e6;\"><br>\n",
    "   Student admission problem is very important in educational institutions.<br>\n",
    "    This Notebook will assist students to know in advance if they have a chance to get accepted. <br>\n",
    "     Most of the students get panic waiting for a call from the universities they’ve applied to.<br>\n",
    "They might get questions like — <br>\n",
    "          <b>----- Will they get admission to the applied university?</b><br>\n",
    "          <b> -----What if they reject my application with just a 0.1 score?</b><br>\n",
    "Well, You will find all the answers to your questions here.<br>\n",
    "<br></p>\n",
    "\n",
    "\n",
    "<a class=\"anchor\" id=\"toc\"></a>\n",
    "<div style=\"background: #f9f9f9 none repeat scroll 0 0;border: 1px solid #aaa;display: table;font-size: 95%;margin-bottom: 1em;padding: 20px;width: 600px;\">\n",
    "<h1 style=\"color:#19e6e6;font-size:50px;font-family:Georgia;text-align:center;\"><strong>🌟Contents <strong style=\"color:black;font-size:45px;font-family:Georgia;\">:- </strong></strong></h1>\n",
    "\n",
    "\n",
    "<ul style=\"font-weight: 700;text-align: left;list-style: outside none none !important;\">\n",
    "<li style=\"list-style: outside none none !important;font-size:17px\"><a href=\"#1\">1 Introduction</a></li>\n",
    "    \n",
    "<li style=\"list-style: outside none none !important;font-size:17px\"><a href=\"#2\">2 Understanding data</a></li>\n",
    "\n",
    "<li style=\"list-style: outside none none !important;font-size:17px\"><a href=\"#3\">3 Data Analysis</a></li>\n",
    "     \n",
    "<li style=\"list-style: outside none none !important;font-size:17px\"><a href=\"#4\">4 Modelling</a></li>\n",
    "    <ul style=\"font-weight: 700;text-align: left;list-style: outside none none !important;\">  \n",
    "        <li style=\"list-style: outside none none !important;\"><a href=\"#4.1\">4.1 Regression</a></li>\n",
    "            <li style=\"list-style: outside none none !important;\"><a href=\"#4.2\">4.2 Classification</a></li>\n",
    "            <li style=\"list-style: outside none none !important;\"><a href=\"#4.3\">4.3 Blending (Coming soon)</a></li>\n",
    "\n",
    "</ul>\n",
    "</div>"
   ]
  },
  {
   "cell_type": "markdown",
   "id": "91b78632",
   "metadata": {
    "papermill": {
     "duration": 0.034069,
     "end_time": "2024-11-07T10:19:23.849420",
     "exception": false,
     "start_time": "2024-11-07T10:19:23.815351",
     "status": "completed"
    },
    "tags": []
   },
   "source": [
    "<h1 style=\"color:#19e6e6;font-size:50px;font-family:Georgia;text-align:center;\"><strong>🌟About <strong style=\"color:black;font-size:45px;font-family:Georgia;\">The <strong style=\"color:#19e6e6;font-size:50px;font-family:Georgia;\">Dataset <strong style=\"color:black;font-size:45px;font-family:Georgia;\">:- </strong></strong></strong></strong></h1>\n",
    "\n",
    "<p style= \"font-family:Georgia;color:#000000;font-size:110%;text-align:center;border-radius:10px 10px;border-style: dotted;border-width:5px;border-color:#19e6e6;\"><br>\n",
    "1.Serial No. <br>\n",
    "2.GRE [Graduate Record Examinations] Scores ( out of 340 ).<br>\n",
    "3.TOEFL [Test of English as a Foreign Language] Scores ( out of 120 ).<br>\n",
    "4.University Rating ( out of 5 ).<br>\n",
    "5.SOP [Statement of Purpose].<br>\n",
    "6.LOR [Letter of Recommendation Strength] ( out of 5 ).<br>\n",
    "7.CGPA [Cumulative Grade Points Average] ( out of 10 ).<br>\n",
    "8.Research ( either 0 or 1 ).<br>\n",
    "9.Chance of Admit ( ranging from 0 to 1 ).<br>\n",
    "<br></p>\n"
   ]
  },
  {
   "cell_type": "markdown",
   "id": "05ad613c",
   "metadata": {
    "papermill": {
     "duration": 0.033251,
     "end_time": "2024-11-07T10:19:23.916380",
     "exception": false,
     "start_time": "2024-11-07T10:19:23.883129",
     "status": "completed"
    },
    "tags": []
   },
   "source": [
    "<h1 style=\"color:#19e6e6;font-size:50px;font-family:Georgia;text-align:center;\"><strong>🌟Table <strong style=\"color:black;font-size:45px;font-family:Georgia;\">Of <strong style=\"color:#19e6e6;font-size:50px;font-family:Georgia;\">The <strong style=\"color:black;font-size:45px;font-family:Georgia;\">Contents <strong style=\"color:#19e6e6;font-size:50px;font-family:Georgia;\">:-</strong></strong></strong></strong></strong></h1>\n",
    "<p style= \"font-family:Georgia;color:#000000;font-size:110%;text-align:center;border-radius:10px 10px;border-style: dotted;border-width:5px;border-color:#19e6e6;\"><br>\n",
    "  1.Import the modules.<br>\n",
    "   2.Loading the dataset.<br>\n",
    "    3.Reading the dataset.<br>\n",
    "    4.Meta Information of the dataframe.<br>\n",
    "    5.Basics Statistics.<br>\n",
    "    6.Divide the categorical & numerical features.<br>\n",
    "    7.Finding the unique values.<br>\n",
    "    8.Finding the missing values.<br>\n",
    "    9.Finding the duplicate records.<br>\n",
    "    10.Univariate Analysis.<br>\n",
    "    11.Bivariate Analysis.<br>\n",
    "    12.Hypothesis Testing.<br>\n",
    "    13.Checking the multicollinearity.<br>\n",
    "    14.Corelation between the features.<br> \n",
    "    15.Split the dataset into train and test.<br>\n",
    "    16.Model creation.<br>\n",
    "    17.Evaluate the model.<br>\n",
    "    18.Conclusion.<br>\n",
    "<br></p>"
   ]
  },
  {
   "cell_type": "markdown",
   "id": "38acf9ea",
   "metadata": {
    "papermill": {
     "duration": 0.03332,
     "end_time": "2024-11-07T10:19:23.983672",
     "exception": false,
     "start_time": "2024-11-07T10:19:23.950352",
     "status": "completed"
    },
    "tags": []
   },
   "source": [
    "<a id=\"Import\"></a>\n",
    "<p style=\"background-color: #1E90FF; font-family: 'Pacifico', cursive; color:#FFD700; font-size:200%; text-align:center; border-radius:3000px 50px;\">📚 Import Libraries</p>\n"
   ]
  },
  {
   "cell_type": "markdown",
   "id": "f6dd064e",
   "metadata": {
    "papermill": {
     "duration": 0.036448,
     "end_time": "2024-11-07T10:19:24.053892",
     "exception": false,
     "start_time": "2024-11-07T10:19:24.017444",
     "status": "completed"
    },
    "tags": []
   },
   "source": [
    "<a class=\"anchor\" id=\"1\"></a>\n",
    "<a href=\"#toc\"><img src= \"https://upload.wikimedia.org/wikipedia/commons/thumb/2/20/Circle-icons-arrow-up.svg/1200px-Circle-icons-arrow-up.svg.png\" style=\"width:20px;hight:20px;float:left\" >        Back to the table of contents</a>"
   ]
  },
  {
   "cell_type": "code",
   "execution_count": 1,
   "id": "e112a746",
   "metadata": {
    "execution": {
     "iopub.execute_input": "2024-11-07T10:19:24.125396Z",
     "iopub.status.busy": "2024-11-07T10:19:24.124829Z",
     "iopub.status.idle": "2024-11-07T10:19:24.139848Z",
     "shell.execute_reply": "2024-11-07T10:19:24.138506Z"
    },
    "papermill": {
     "duration": 0.054631,
     "end_time": "2024-11-07T10:19:24.142615",
     "exception": false,
     "start_time": "2024-11-07T10:19:24.087984",
     "status": "completed"
    },
    "tags": []
   },
   "outputs": [],
   "source": [
    "def PrintColor(text, color=\"blue\"):\n",
    "    colors = {\n",
    "        \"blue\": \"\\033[94m\",\n",
    "        \"green\": \"\\033[92m\",\n",
    "        \"yellow\": \"\\033[93m\",\n",
    "        \"red\": \"\\033[91m\",\n",
    "        \"end\": \"\\033[0m\"\n",
    "    }\n",
    "    print(f\"{colors.get(color, colors['blue'])}{text}{colors['end']}\")\n"
   ]
  },
  {
   "cell_type": "code",
   "execution_count": 2,
   "id": "393dce14",
   "metadata": {
    "execution": {
     "iopub.execute_input": "2024-11-07T10:19:24.214022Z",
     "iopub.status.busy": "2024-11-07T10:19:24.213557Z",
     "iopub.status.idle": "2024-11-07T10:19:24.222793Z",
     "shell.execute_reply": "2024-11-07T10:19:24.221456Z"
    },
    "papermill": {
     "duration": 0.047678,
     "end_time": "2024-11-07T10:19:24.225441",
     "exception": false,
     "start_time": "2024-11-07T10:19:24.177763",
     "status": "completed"
    },
    "tags": []
   },
   "outputs": [],
   "source": [
    "def print_boxed_zigzag_heading(heading):\n",
    "    gradient = [Fore.BLUE, Fore.CYAN, Fore.GREEN, Fore.YELLOW, Fore.RED, Fore.MAGENTA]\n",
    "    print(\"\\n\" + f\"{Fore.YELLOW}\" + \"╭\" + \"─\" * (len(heading) + 20) + \"╮\" + Style.RESET_ALL)  # Change line color to yellow\n",
    "    words = heading.split()\n",
    "    for i, word in enumerate(words):\n",
    "        if i == len(words) - 1:\n",
    "            print(f\"{Fore.CYAN}│ {word} │\" + Style.RESET_ALL) \n",
    "        else:\n",
    "            print(f\"{gradient[len(word) % len(gradient)]}│ {word}\", end=\" \")\n",
    "    print(f\"{Fore.YELLOW}\" + \"╰\" + \"─\" * (len(heading) + 20) + \"╯\" + Style.RESET_ALL) \n",
    "    "
   ]
  },
  {
   "cell_type": "code",
   "execution_count": 3,
   "id": "d0ec62d9",
   "metadata": {
    "execution": {
     "iopub.execute_input": "2024-11-07T10:19:24.295513Z",
     "iopub.status.busy": "2024-11-07T10:19:24.295094Z",
     "iopub.status.idle": "2024-11-07T10:19:31.237508Z",
     "shell.execute_reply": "2024-11-07T10:19:31.236134Z"
    },
    "papermill": {
     "duration": 6.980826,
     "end_time": "2024-11-07T10:19:31.240301",
     "exception": false,
     "start_time": "2024-11-07T10:19:24.259475",
     "status": "completed"
    },
    "tags": []
   },
   "outputs": [
    {
     "name": "stdout",
     "output_type": "stream",
     "text": [
      "\n",
      "\u001b[33m╭───────────────────────────────────────╮\u001b[0m\n",
      "\u001b[35m│ Setup \u001b[36m│ Initialized │\u001b[0m\n",
      "\u001b[33m╰───────────────────────────────────────╯\u001b[0m\n"
     ]
    }
   ],
   "source": [
    "# Import Libraries\n",
    "import pandas as pd\n",
    "import numpy as np\n",
    "import matplotlib.pyplot as plt\n",
    "import seaborn as sns\n",
    "import plotly.express as px\n",
    "import math\n",
    "import optuna\n",
    "from colorama import Fore, Style, init;\n",
    "# Import necessary libraries\n",
    "from IPython.display import display, HTML\n",
    "from scipy.stats import skew # Import skew function\n",
    "# Import plotly.go\n",
    "import plotly.graph_objects as go\n",
    "# Import subplots\n",
    "from plotly.subplots import make_subplots\n",
    "\n",
    "# Ignore Warnings\n",
    "import warnings\n",
    "warnings.filterwarnings(\"ignore\")\n",
    "\n",
    "# Model Classifier\n",
    "from sklearn.model_selection import train_test_split\n",
    "from sklearn.metrics import mean_squared_error, r2_score\n",
    "from sklearn.metrics import accuracy_score\n",
    "from sklearn.ensemble import VotingClassifier, VotingRegressor\n",
    "from sklearn.model_selection import RepeatedStratifiedKFold, cross_val_score\n",
    "from sklearn.preprocessing import LabelEncoder, MinMaxScaler, StandardScaler, QuantileTransformer\n",
    "from sklearn.metrics import *\n",
    "\n",
    "# Classifier\n",
    "from sklearn.svm import SVC\n",
    "from sklearn.neighbors import KNeighborsClassifier\n",
    "from sklearn.naive_bayes import MultinomialNB\n",
    "from lightgbm import LGBMClassifier\n",
    "import lightgbm as lgb\n",
    "from catboost import CatBoostClassifier\n",
    "from sklearn.tree import DecisionTreeClassifier\n",
    "from sklearn.linear_model import LogisticRegression\n",
    "from sklearn.ensemble import RandomForestClassifier, AdaBoostClassifier, ExtraTreesClassifier,GradientBoostingClassifier\n",
    "from xgboost import XGBClassifier\n",
    "\n",
    "\n",
    "# Regressor\n",
    "from sklearn.tree import DecisionTreeRegressor\n",
    "from sklearn.ensemble import RandomForestRegressor\n",
    "from sklearn.neighbors import KNeighborsRegressor\n",
    "from sklearn.svm import SVR\n",
    "from sklearn.linear_model import LinearRegression\n",
    "from sklearn.ensemble import AdaBoostRegressor\n",
    "from sklearn.ensemble import GradientBoostingRegressor\n",
    "from xgboost import XGBRegressor\n",
    "from catboost import CatBoostRegressor\n",
    "from lightgbm import LGBMRegressor\n",
    "from sklearn.linear_model import Lasso,Ridge,BayesianRidge,ElasticNet,HuberRegressor,LinearRegression,LogisticRegression,SGDRegressor\n",
    "from sklearn.metrics import mean_squared_error\n",
    "\n",
    "# Paellete\n",
    "palette = ['#D7A9E3FF', '#8BBEE8FF', '#A8D5BAFF']\n",
    "color_palette = sns.color_palette(palette)\n",
    "# Set the option to display all columns\n",
    "pd.set_option('display.max_columns', None)\n",
    "print_boxed_zigzag_heading(' Setup Initialized ')"
   ]
  },
  {
   "cell_type": "markdown",
   "id": "c98d91fe",
   "metadata": {
    "papermill": {
     "duration": 0.033862,
     "end_time": "2024-11-07T10:19:31.308971",
     "exception": false,
     "start_time": "2024-11-07T10:19:31.275109",
     "status": "completed"
    },
    "tags": []
   },
   "source": [
    "<a id=\"Import\"></a>\n",
    "<p style=\"background-color: #1E90FF; font-family: 'Pacifico', cursive; color:#FFD700; font-size:200%; text-align:center; border-radius:3000px 50px;\">Load Data and Overview</p>"
   ]
  },
  {
   "cell_type": "markdown",
   "id": "f8888965",
   "metadata": {
    "papermill": {
     "duration": 0.034744,
     "end_time": "2024-11-07T10:19:31.378532",
     "exception": false,
     "start_time": "2024-11-07T10:19:31.343788",
     "status": "completed"
    },
    "tags": []
   },
   "source": [
    "<a class=\"anchor\" id=\"1\"></a>\n",
    "<a href=\"#toc\"><img src= \"https://upload.wikimedia.org/wikipedia/commons/thumb/2/20/Circle-icons-arrow-up.svg/1200px-Circle-icons-arrow-up.svg.png\" style=\"width:20px;hight:20px;float:left\" >        Back to the table of contents</a>"
   ]
  },
  {
   "cell_type": "code",
   "execution_count": 4,
   "id": "c61a625b",
   "metadata": {
    "execution": {
     "iopub.execute_input": "2024-11-07T10:19:31.452662Z",
     "iopub.status.busy": "2024-11-07T10:19:31.451827Z",
     "iopub.status.idle": "2024-11-07T10:19:31.472210Z",
     "shell.execute_reply": "2024-11-07T10:19:31.470923Z"
    },
    "papermill": {
     "duration": 0.059847,
     "end_time": "2024-11-07T10:19:31.474999",
     "exception": false,
     "start_time": "2024-11-07T10:19:31.415152",
     "status": "completed"
    },
    "tags": []
   },
   "outputs": [
    {
     "name": "stdout",
     "output_type": "stream",
     "text": [
      "\n",
      "\u001b[33m╭───────────────────────────────╮\u001b[0m\n",
      "\u001b[31m│ Data \u001b[36m│ Loaded │\u001b[0m\n",
      "\u001b[33m╰───────────────────────────────╯\u001b[0m\n"
     ]
    }
   ],
   "source": [
    "\n",
    "data = pd.read_csv('/kaggle/input/graduate-admissions/Admission_Predict.csv')\n",
    "print_boxed_zigzag_heading('Data Loaded')"
   ]
  },
  {
   "cell_type": "code",
   "execution_count": 5,
   "id": "28678fdb",
   "metadata": {
    "execution": {
     "iopub.execute_input": "2024-11-07T10:19:31.549000Z",
     "iopub.status.busy": "2024-11-07T10:19:31.548203Z",
     "iopub.status.idle": "2024-11-07T10:19:31.576064Z",
     "shell.execute_reply": "2024-11-07T10:19:31.574824Z"
    },
    "papermill": {
     "duration": 0.067984,
     "end_time": "2024-11-07T10:19:31.579157",
     "exception": false,
     "start_time": "2024-11-07T10:19:31.511173",
     "status": "completed"
    },
    "tags": []
   },
   "outputs": [
    {
     "name": "stdout",
     "output_type": "stream",
     "text": [
      "\n",
      "\u001b[33m╭─────────────────────────────────────────────────╮\u001b[0m\n",
      "\u001b[31m│ Load \u001b[31m│ Data \u001b[32m│ Function \u001b[36m│ Intilized │\u001b[0m\n",
      "\u001b[33m╰─────────────────────────────────────────────────╯\u001b[0m\n"
     ]
    }
   ],
   "source": [
    "# Function 4 Data Overview\n",
    "def print_boxed_blue_heading(heading):\n",
    "    gradient = [Fore.BLUE, Fore.CYAN, Fore.GREEN, Fore.YELLOW, Fore.RED, Fore.MAGENTA]\n",
    "    print(\"\\n\" + \"=\" * (len(heading) + 20))\n",
    "    words = heading.split()\n",
    "    for i, word in enumerate(words):\n",
    "        if i == len(words) - 1:\n",
    "            print(f\"| {gradient[len(word) % len(gradient)] + word + Style.RESET_ALL} |\")\n",
    "        else:\n",
    "            print(f\"| {gradient[len(word) % len(gradient)] + word + Style.RESET_ALL}\", end=\" \")\n",
    "    print(\"=\" * (len(heading) + 20))\n",
    "def print_boxed_zigzag_heading(heading):\n",
    "    gradient = [Fore.BLUE, Fore.CYAN, Fore.GREEN, Fore.YELLOW, Fore.RED, Fore.MAGENTA]\n",
    "    print(\"\\n\" + f\"{Fore.YELLOW}\" + \"╭\" + \"─\" * (len(heading) + 20) + \"╮\" + Style.RESET_ALL)  # Change line color to yellow\n",
    "    words = heading.split()\n",
    "    for i, word in enumerate(words):\n",
    "        if i == len(words) - 1:\n",
    "            print(f\"{Fore.CYAN}│ {word} │\" + Style.RESET_ALL) \n",
    "        else:\n",
    "            print(f\"{gradient[len(word) % len(gradient)]}│ {word}\", end=\" \")\n",
    "    print(f\"{Fore.YELLOW}\" + \"╰\" + \"─\" * (len(heading) + 20) + \"╯\" + Style.RESET_ALL) \n",
    "    \n",
    "# Load Data and Make DataFrame\n",
    "def L_Data(directory_TR,directory_TE):\n",
    "    filepath_TR =[]\n",
    "    label_TR = []\n",
    "\n",
    "    folds_TR = os.listdir(directory_TR)\n",
    "\n",
    "    for fold in folds_TR:\n",
    "        f_path_TR = os.path.join(directory_TR , fold)\n",
    "\n",
    "        imgs_TR = os.listdir(f_path_TR)\n",
    "\n",
    "        for img in imgs_TR:\n",
    "            img_path_TR = os.path.join(f_path_TR , img)\n",
    "            filepath_TR.append(img_path_TR)\n",
    "            label_TR.append(fold)\n",
    "\n",
    "    #Concat data paths with labels\n",
    "    file_path_series_TR = pd.Series(filepath_TR , name= 'filepath')\n",
    "    Label_path_series_TR = pd.Series(label_TR , name = 'label')\n",
    "    df_train = pd.concat([file_path_series_TR ,Label_path_series_TR ] , axis = 1)\n",
    "    \n",
    "    filepath_TE =[]\n",
    "    label_TE = []\n",
    "\n",
    "    folds_TE = os.listdir(directory_TE)\n",
    "\n",
    "    for fold in folds_TE:\n",
    "        f_path_TE = os.path.join(directory_TE , fold)\n",
    "\n",
    "        imgs_TE = os.listdir(f_path_TE)\n",
    "\n",
    "        for img in imgs_TE:\n",
    "\n",
    "            img_path_TE = os.path.join(f_path_TE , img)\n",
    "            filepath_TE.append(img_path_TE)\n",
    "            label_TE.append(fold)\n",
    "\n",
    "    #Concat data paths with labels\n",
    "    file_path_series_TE = pd.Series(filepath_TE , name= 'filepath')\n",
    "    Label_path_series_TE = pd.Series(label_TE , name = 'label')\n",
    "    df_test = pd.concat([file_path_series_TE ,Label_path_series_TE ] , axis = 1)   \n",
    "    \n",
    "    # Display head of the training dataset nicely\n",
    "    print_boxed_zigzag_heading('Train Data')\n",
    "    print_boxed_blue_heading(f\"The Head Of Train Dataset is:\")\n",
    "    display(HTML(df_train.head(5).to_html(index=False).replace('<table border=\"1\" class=\"dataframe\">', '<table style=\"border: 2px solid blue;\">').replace('<td>', '<td style=\"color: skyblue;\">')))\n",
    "    print('\\n')\n",
    "\n",
    "    # Display tail of the training dataset nicely\n",
    "    print_boxed_blue_heading(\"The Tail Of Train Dataset is:\")\n",
    "    display(HTML(df_train.tail(5).to_html(index=False).replace('<table border=\"1\" class=\"dataframe\">', '<table style=\"border: 2px solid blue;\">').replace('<td>', '<td style=\"color: skyblue;\">')))\n",
    "    print('\\n')\n",
    "\n",
    "    print_boxed_blue_heading(f'The Shape of the Train Data is {df_train.shape} |')\n",
    "    print_boxed_blue_heading(f'- 1.The No of Rows is {df_train.shape[0]} |')\n",
    "    print_boxed_blue_heading(f'- 2.The No of Cols is {df_train.shape[1]}|')\n",
    "\n",
    "\n",
    "\n",
    "    print('\\n')\n",
    "    \n",
    "    # Display head of the training dataset nicely\n",
    "    print_boxed_zigzag_heading('Test Data')\n",
    "    print_boxed_blue_heading(f\"The Head Of Test Dataset is:\")\n",
    "    display(HTML(df_test.head(5).to_html(index=False).replace('<table border=\"1\" class=\"dataframe\">', '<table style=\"border: 2px solid blue;\">').replace('<td>', '<td style=\"color: skyblue;\">')))\n",
    "    print('\\n')\n",
    "\n",
    "    # Display tail of the training dataset nicely\n",
    "    print_boxed_blue_heading(\"The Tail Of Test Dataset is:\")\n",
    "    display(HTML(df_test.tail(5).to_html(index=False).replace('<table border=\"1\" class=\"dataframe\">', '<table style=\"border: 2px solid blue;\">').replace('<td>', '<td style=\"color: skyblue;\">')))\n",
    "    print('\\n')\n",
    "\n",
    "    print_boxed_blue_heading(f'The Shape of the Test Data is {df_test.shape} |')\n",
    "\n",
    "\n",
    "\n",
    "    print_boxed_blue_heading(f'- 1.The No of Rows is {df_test.shape[0]} |')\n",
    "    print_boxed_blue_heading(f'- 2.The No of Cols is {df_test.shape[1]}|')\n",
    "\n",
    "    print('\\n')\n",
    "    \n",
    "    return df_train , df_test\n",
    "print_boxed_zigzag_heading('Load Data Function Intilized ')\n"
   ]
  },
  {
   "cell_type": "code",
   "execution_count": 6,
   "id": "d243ddbf",
   "metadata": {
    "execution": {
     "iopub.execute_input": "2024-11-07T10:19:31.709077Z",
     "iopub.status.busy": "2024-11-07T10:19:31.708620Z",
     "iopub.status.idle": "2024-11-07T10:19:31.719568Z",
     "shell.execute_reply": "2024-11-07T10:19:31.718384Z"
    },
    "papermill": {
     "duration": 0.107998,
     "end_time": "2024-11-07T10:19:31.722260",
     "exception": false,
     "start_time": "2024-11-07T10:19:31.614262",
     "status": "completed"
    },
    "tags": []
   },
   "outputs": [],
   "source": [
    "def data_overview(data):\n",
    "    # Display head of the training dataset nicely\n",
    "    print_boxed_zigzag_heading('Train Data')\n",
    "    print_boxed_blue_heading(f\"The Head Of Train Dataset is:\")\n",
    "    display(HTML(data.head(5).to_html(index=False).replace('<table border=\"1\" class=\"dataframe\">', '<table style=\"border: 2px solid blue;\">').replace('<td>', '<td style=\"color: skyblue;\">')))\n",
    "    print('\\n')\n",
    "\n",
    "\n",
    "    # Display tail of the training dataset nicely\n",
    "    print_boxed_blue_heading(\"The Tail Of Train Dataset is:\")\n",
    "    display(HTML(data.tail(5).to_html(index=False).replace('<table border=\"1\" class=\"dataframe\">', '<table style=\"border: 2px solid blue;\">').replace('<td>', '<td style=\"color: skyblue;\">')))\n",
    "    print('\\n')\n",
    "\n",
    "    print_boxed_blue_heading(f'The Shape of the  Data is ')\n",
    "    shape_info = f\"The Shape Of Train Data is {data.shape} || No of Rows is : {data.shape[0]} and Columns is {data.shape[1]}\"\n",
    "    print(shape_info)\n",
    "    print('\\n')\n",
    "    \n",
    "    print_boxed_blue_heading(f'Dataset Information ')\n",
    "    data_info = f\" {data.info()} \"\n",
    "    print(data_info)\n",
    "    print('\\n')\n",
    "    \n",
    "    print_boxed_blue_heading(f'Numerical Summary ')\n",
    "    des = f\"{data.describe()} \"\n",
    "    print(des)\n",
    "    print('\\n')\n",
    "    \n",
    "    print_boxed_blue_heading(f'Null Values ')\n",
    "    null_ = f\"{data.isnull().sum()} \"\n",
    "    print(null_)\n",
    "    print('\\n')\n",
    "    \n",
    "    print_boxed_blue_heading(f'Duplicate Values ')\n",
    "    dup_ = f\"{data.duplicated().sum()} \"\n",
    "    print(dup_)\n",
    "    print('\\n')"
   ]
  },
  {
   "cell_type": "code",
   "execution_count": 7,
   "id": "5d3fae09",
   "metadata": {
    "execution": {
     "iopub.execute_input": "2024-11-07T10:19:31.793206Z",
     "iopub.status.busy": "2024-11-07T10:19:31.792753Z",
     "iopub.status.idle": "2024-11-07T10:19:31.878968Z",
     "shell.execute_reply": "2024-11-07T10:19:31.877758Z"
    },
    "papermill": {
     "duration": 0.125197,
     "end_time": "2024-11-07T10:19:31.881979",
     "exception": false,
     "start_time": "2024-11-07T10:19:31.756782",
     "status": "completed"
    },
    "tags": []
   },
   "outputs": [
    {
     "name": "stdout",
     "output_type": "stream",
     "text": [
      "\n",
      "\u001b[33m╭──────────────────────────────╮\u001b[0m\n",
      "\u001b[35m│ Train \u001b[36m│ Data │\u001b[0m\n",
      "\u001b[33m╰──────────────────────────────╯\u001b[0m\n",
      "\n",
      "=================================================\n",
      "| \u001b[33mThe\u001b[0m | \u001b[31mHead\u001b[0m | \u001b[32mOf\u001b[0m | \u001b[35mTrain\u001b[0m | \u001b[36mDataset\u001b[0m | \u001b[33mis:\u001b[0m |\n",
      "=================================================\n"
     ]
    },
    {
     "data": {
      "text/html": [
       "<table style=\"border: 2px solid blue;\">\n",
       "  <thead>\n",
       "    <tr style=\"text-align: right;\">\n",
       "      <th>Serial No.</th>\n",
       "      <th>GRE Score</th>\n",
       "      <th>TOEFL Score</th>\n",
       "      <th>University Rating</th>\n",
       "      <th>SOP</th>\n",
       "      <th>LOR</th>\n",
       "      <th>CGPA</th>\n",
       "      <th>Research</th>\n",
       "      <th>Chance of Admit</th>\n",
       "    </tr>\n",
       "  </thead>\n",
       "  <tbody>\n",
       "    <tr>\n",
       "      <td style=\"color: skyblue;\">1</td>\n",
       "      <td style=\"color: skyblue;\">337</td>\n",
       "      <td style=\"color: skyblue;\">118</td>\n",
       "      <td style=\"color: skyblue;\">4</td>\n",
       "      <td style=\"color: skyblue;\">4.5</td>\n",
       "      <td style=\"color: skyblue;\">4.5</td>\n",
       "      <td style=\"color: skyblue;\">9.65</td>\n",
       "      <td style=\"color: skyblue;\">1</td>\n",
       "      <td style=\"color: skyblue;\">0.92</td>\n",
       "    </tr>\n",
       "    <tr>\n",
       "      <td style=\"color: skyblue;\">2</td>\n",
       "      <td style=\"color: skyblue;\">324</td>\n",
       "      <td style=\"color: skyblue;\">107</td>\n",
       "      <td style=\"color: skyblue;\">4</td>\n",
       "      <td style=\"color: skyblue;\">4.0</td>\n",
       "      <td style=\"color: skyblue;\">4.5</td>\n",
       "      <td style=\"color: skyblue;\">8.87</td>\n",
       "      <td style=\"color: skyblue;\">1</td>\n",
       "      <td style=\"color: skyblue;\">0.76</td>\n",
       "    </tr>\n",
       "    <tr>\n",
       "      <td style=\"color: skyblue;\">3</td>\n",
       "      <td style=\"color: skyblue;\">316</td>\n",
       "      <td style=\"color: skyblue;\">104</td>\n",
       "      <td style=\"color: skyblue;\">3</td>\n",
       "      <td style=\"color: skyblue;\">3.0</td>\n",
       "      <td style=\"color: skyblue;\">3.5</td>\n",
       "      <td style=\"color: skyblue;\">8.00</td>\n",
       "      <td style=\"color: skyblue;\">1</td>\n",
       "      <td style=\"color: skyblue;\">0.72</td>\n",
       "    </tr>\n",
       "    <tr>\n",
       "      <td style=\"color: skyblue;\">4</td>\n",
       "      <td style=\"color: skyblue;\">322</td>\n",
       "      <td style=\"color: skyblue;\">110</td>\n",
       "      <td style=\"color: skyblue;\">3</td>\n",
       "      <td style=\"color: skyblue;\">3.5</td>\n",
       "      <td style=\"color: skyblue;\">2.5</td>\n",
       "      <td style=\"color: skyblue;\">8.67</td>\n",
       "      <td style=\"color: skyblue;\">1</td>\n",
       "      <td style=\"color: skyblue;\">0.80</td>\n",
       "    </tr>\n",
       "    <tr>\n",
       "      <td style=\"color: skyblue;\">5</td>\n",
       "      <td style=\"color: skyblue;\">314</td>\n",
       "      <td style=\"color: skyblue;\">103</td>\n",
       "      <td style=\"color: skyblue;\">2</td>\n",
       "      <td style=\"color: skyblue;\">2.0</td>\n",
       "      <td style=\"color: skyblue;\">3.0</td>\n",
       "      <td style=\"color: skyblue;\">8.21</td>\n",
       "      <td style=\"color: skyblue;\">0</td>\n",
       "      <td style=\"color: skyblue;\">0.65</td>\n",
       "    </tr>\n",
       "  </tbody>\n",
       "</table>"
      ],
      "text/plain": [
       "<IPython.core.display.HTML object>"
      ]
     },
     "metadata": {},
     "output_type": "display_data"
    },
    {
     "name": "stdout",
     "output_type": "stream",
     "text": [
      "\n",
      "\n",
      "\n",
      "=================================================\n",
      "| \u001b[33mThe\u001b[0m | \u001b[31mTail\u001b[0m | \u001b[32mOf\u001b[0m | \u001b[35mTrain\u001b[0m | \u001b[36mDataset\u001b[0m | \u001b[33mis:\u001b[0m |\n",
      "=================================================\n"
     ]
    },
    {
     "data": {
      "text/html": [
       "<table style=\"border: 2px solid blue;\">\n",
       "  <thead>\n",
       "    <tr style=\"text-align: right;\">\n",
       "      <th>Serial No.</th>\n",
       "      <th>GRE Score</th>\n",
       "      <th>TOEFL Score</th>\n",
       "      <th>University Rating</th>\n",
       "      <th>SOP</th>\n",
       "      <th>LOR</th>\n",
       "      <th>CGPA</th>\n",
       "      <th>Research</th>\n",
       "      <th>Chance of Admit</th>\n",
       "    </tr>\n",
       "  </thead>\n",
       "  <tbody>\n",
       "    <tr>\n",
       "      <td style=\"color: skyblue;\">396</td>\n",
       "      <td style=\"color: skyblue;\">324</td>\n",
       "      <td style=\"color: skyblue;\">110</td>\n",
       "      <td style=\"color: skyblue;\">3</td>\n",
       "      <td style=\"color: skyblue;\">3.5</td>\n",
       "      <td style=\"color: skyblue;\">3.5</td>\n",
       "      <td style=\"color: skyblue;\">9.04</td>\n",
       "      <td style=\"color: skyblue;\">1</td>\n",
       "      <td style=\"color: skyblue;\">0.82</td>\n",
       "    </tr>\n",
       "    <tr>\n",
       "      <td style=\"color: skyblue;\">397</td>\n",
       "      <td style=\"color: skyblue;\">325</td>\n",
       "      <td style=\"color: skyblue;\">107</td>\n",
       "      <td style=\"color: skyblue;\">3</td>\n",
       "      <td style=\"color: skyblue;\">3.0</td>\n",
       "      <td style=\"color: skyblue;\">3.5</td>\n",
       "      <td style=\"color: skyblue;\">9.11</td>\n",
       "      <td style=\"color: skyblue;\">1</td>\n",
       "      <td style=\"color: skyblue;\">0.84</td>\n",
       "    </tr>\n",
       "    <tr>\n",
       "      <td style=\"color: skyblue;\">398</td>\n",
       "      <td style=\"color: skyblue;\">330</td>\n",
       "      <td style=\"color: skyblue;\">116</td>\n",
       "      <td style=\"color: skyblue;\">4</td>\n",
       "      <td style=\"color: skyblue;\">5.0</td>\n",
       "      <td style=\"color: skyblue;\">4.5</td>\n",
       "      <td style=\"color: skyblue;\">9.45</td>\n",
       "      <td style=\"color: skyblue;\">1</td>\n",
       "      <td style=\"color: skyblue;\">0.91</td>\n",
       "    </tr>\n",
       "    <tr>\n",
       "      <td style=\"color: skyblue;\">399</td>\n",
       "      <td style=\"color: skyblue;\">312</td>\n",
       "      <td style=\"color: skyblue;\">103</td>\n",
       "      <td style=\"color: skyblue;\">3</td>\n",
       "      <td style=\"color: skyblue;\">3.5</td>\n",
       "      <td style=\"color: skyblue;\">4.0</td>\n",
       "      <td style=\"color: skyblue;\">8.78</td>\n",
       "      <td style=\"color: skyblue;\">0</td>\n",
       "      <td style=\"color: skyblue;\">0.67</td>\n",
       "    </tr>\n",
       "    <tr>\n",
       "      <td style=\"color: skyblue;\">400</td>\n",
       "      <td style=\"color: skyblue;\">333</td>\n",
       "      <td style=\"color: skyblue;\">117</td>\n",
       "      <td style=\"color: skyblue;\">4</td>\n",
       "      <td style=\"color: skyblue;\">5.0</td>\n",
       "      <td style=\"color: skyblue;\">4.0</td>\n",
       "      <td style=\"color: skyblue;\">9.66</td>\n",
       "      <td style=\"color: skyblue;\">1</td>\n",
       "      <td style=\"color: skyblue;\">0.95</td>\n",
       "    </tr>\n",
       "  </tbody>\n",
       "</table>"
      ],
      "text/plain": [
       "<IPython.core.display.HTML object>"
      ]
     },
     "metadata": {},
     "output_type": "display_data"
    },
    {
     "name": "stdout",
     "output_type": "stream",
     "text": [
      "\n",
      "\n",
      "\n",
      "==============================================\n",
      "| \u001b[33mThe\u001b[0m | \u001b[35mShape\u001b[0m | \u001b[32mof\u001b[0m | \u001b[33mthe\u001b[0m | \u001b[31mData\u001b[0m | \u001b[32mis\u001b[0m |\n",
      "==============================================\n",
      "The Shape Of Train Data is (400, 9) || No of Rows is : 400 and Columns is 9\n",
      "\n",
      "\n",
      "\n",
      "========================================\n",
      "| \u001b[36mDataset\u001b[0m | \u001b[35mInformation\u001b[0m |\n",
      "========================================\n",
      "<class 'pandas.core.frame.DataFrame'>\n",
      "RangeIndex: 400 entries, 0 to 399\n",
      "Data columns (total 9 columns):\n",
      " #   Column             Non-Null Count  Dtype  \n",
      "---  ------             --------------  -----  \n",
      " 0   Serial No.         400 non-null    int64  \n",
      " 1   GRE Score          400 non-null    int64  \n",
      " 2   TOEFL Score        400 non-null    int64  \n",
      " 3   University Rating  400 non-null    int64  \n",
      " 4   SOP                400 non-null    float64\n",
      " 5   LOR                400 non-null    float64\n",
      " 6   CGPA               400 non-null    float64\n",
      " 7   Research           400 non-null    int64  \n",
      " 8   Chance of Admit    400 non-null    float64\n",
      "dtypes: float64(4), int64(5)\n",
      "memory usage: 28.2 KB\n",
      " None \n",
      "\n",
      "\n",
      "\n",
      "======================================\n",
      "| \u001b[33mNumerical\u001b[0m | \u001b[36mSummary\u001b[0m |\n",
      "======================================\n",
      "       Serial No.   GRE Score  TOEFL Score  University Rating         SOP  \\\n",
      "count  400.000000  400.000000   400.000000         400.000000  400.000000   \n",
      "mean   200.500000  316.807500   107.410000           3.087500    3.400000   \n",
      "std    115.614301   11.473646     6.069514           1.143728    1.006869   \n",
      "min      1.000000  290.000000    92.000000           1.000000    1.000000   \n",
      "25%    100.750000  308.000000   103.000000           2.000000    2.500000   \n",
      "50%    200.500000  317.000000   107.000000           3.000000    3.500000   \n",
      "75%    300.250000  325.000000   112.000000           4.000000    4.000000   \n",
      "max    400.000000  340.000000   120.000000           5.000000    5.000000   \n",
      "\n",
      "             LOR         CGPA    Research  Chance of Admit   \n",
      "count  400.000000  400.000000  400.000000        400.000000  \n",
      "mean     3.452500    8.598925    0.547500          0.724350  \n",
      "std      0.898478    0.596317    0.498362          0.142609  \n",
      "min      1.000000    6.800000    0.000000          0.340000  \n",
      "25%      3.000000    8.170000    0.000000          0.640000  \n",
      "50%      3.500000    8.610000    1.000000          0.730000  \n",
      "75%      4.000000    9.062500    1.000000          0.830000  \n",
      "max      5.000000    9.920000    1.000000          0.970000   \n",
      "\n",
      "\n",
      "\n",
      "================================\n",
      "| \u001b[31mNull\u001b[0m | \u001b[34mValues\u001b[0m |\n",
      "================================\n",
      "Serial No.           0\n",
      "GRE Score            0\n",
      "TOEFL Score          0\n",
      "University Rating    0\n",
      "SOP                  0\n",
      "LOR                  0\n",
      "CGPA                 0\n",
      "Research             0\n",
      "Chance of Admit      0\n",
      "dtype: int64 \n",
      "\n",
      "\n",
      "\n",
      "=====================================\n",
      "| \u001b[33mDuplicate\u001b[0m | \u001b[34mValues\u001b[0m |\n",
      "=====================================\n",
      "0 \n",
      "\n",
      "\n"
     ]
    }
   ],
   "source": [
    "data_overview(data)"
   ]
  },
  {
   "cell_type": "markdown",
   "id": "5f552afd",
   "metadata": {
    "papermill": {
     "duration": 0.034849,
     "end_time": "2024-11-07T10:19:31.952692",
     "exception": false,
     "start_time": "2024-11-07T10:19:31.917843",
     "status": "completed"
    },
    "tags": []
   },
   "source": [
    "<h1 style=\"color:black;font-size:45px;font-family:Georgia;text-align:center;\"><strong>3.<strong style=\"color:#19e6e6;font-size:40px;font-family:Georgia;\">Reading <strong style=\"color:black;font-size:45px;font-family:Georgia;\">The <strong style=\"color:#19e6e6;font-size:40px;font-family:Georgia;\">Dataset <strong style=\"color:black;font-size:45px;font-family:Georgia;\">:- </strong></strong></strong></strong></strong></h1>"
   ]
  },
  {
   "cell_type": "code",
   "execution_count": 8,
   "id": "1bacd928",
   "metadata": {
    "execution": {
     "iopub.execute_input": "2024-11-07T10:19:32.026099Z",
     "iopub.status.busy": "2024-11-07T10:19:32.025663Z",
     "iopub.status.idle": "2024-11-07T10:19:32.118905Z",
     "shell.execute_reply": "2024-11-07T10:19:32.117674Z"
    },
    "papermill": {
     "duration": 0.133502,
     "end_time": "2024-11-07T10:19:32.121540",
     "exception": false,
     "start_time": "2024-11-07T10:19:31.988038",
     "status": "completed"
    },
    "tags": []
   },
   "outputs": [
    {
     "data": {
      "text/html": [
       "<style type=\"text/css\">\n",
       "#T_fcf7c_row0_col0, #T_fcf7c_row2_col6, #T_fcf7c_row3_col5, #T_fcf7c_row4_col1, #T_fcf7c_row4_col2, #T_fcf7c_row4_col3, #T_fcf7c_row4_col4, #T_fcf7c_row4_col7, #T_fcf7c_row4_col8 {\n",
       "  background-color: #ffffff;\n",
       "  color: #000000;\n",
       "}\n",
       "#T_fcf7c_row0_col1, #T_fcf7c_row0_col2, #T_fcf7c_row0_col3, #T_fcf7c_row0_col4, #T_fcf7c_row0_col5, #T_fcf7c_row0_col6, #T_fcf7c_row0_col7, #T_fcf7c_row0_col8, #T_fcf7c_row1_col3, #T_fcf7c_row1_col5, #T_fcf7c_row1_col7, #T_fcf7c_row2_col7, #T_fcf7c_row3_col7, #T_fcf7c_row4_col0 {\n",
       "  background-color: #000000;\n",
       "  color: #f1f1f1;\n",
       "}\n",
       "#T_fcf7c_row1_col0, #T_fcf7c_row4_col5 {\n",
       "  background-color: #d9d9d9;\n",
       "  color: #000000;\n",
       "}\n",
       "#T_fcf7c_row1_col1 {\n",
       "  background-color: #aaaaaa;\n",
       "  color: #f1f1f1;\n",
       "}\n",
       "#T_fcf7c_row1_col2 {\n",
       "  background-color: #d5d5d5;\n",
       "  color: #000000;\n",
       "}\n",
       "#T_fcf7c_row1_col4 {\n",
       "  background-color: #404040;\n",
       "  color: #f1f1f1;\n",
       "}\n",
       "#T_fcf7c_row1_col6 {\n",
       "  background-color: #8f8f8f;\n",
       "  color: #f1f1f1;\n",
       "}\n",
       "#T_fcf7c_row1_col8 {\n",
       "  background-color: #b3b3b3;\n",
       "  color: #000000;\n",
       "}\n",
       "#T_fcf7c_row2_col0, #T_fcf7c_row2_col3, #T_fcf7c_row2_col5, #T_fcf7c_row3_col3 {\n",
       "  background-color: #959595;\n",
       "  color: #f1f1f1;\n",
       "}\n",
       "#T_fcf7c_row2_col1 {\n",
       "  background-color: #f5f5f5;\n",
       "  color: #000000;\n",
       "}\n",
       "#T_fcf7c_row2_col2 {\n",
       "  background-color: #f7f7f7;\n",
       "  color: #000000;\n",
       "}\n",
       "#T_fcf7c_row2_col4 {\n",
       "  background-color: #b5b5b5;\n",
       "  color: #000000;\n",
       "}\n",
       "#T_fcf7c_row2_col8 {\n",
       "  background-color: #d7d7d7;\n",
       "  color: #000000;\n",
       "}\n",
       "#T_fcf7c_row3_col0 {\n",
       "  background-color: #515151;\n",
       "  color: #f1f1f1;\n",
       "}\n",
       "#T_fcf7c_row3_col1 {\n",
       "  background-color: #c3c3c3;\n",
       "  color: #000000;\n",
       "}\n",
       "#T_fcf7c_row3_col2 {\n",
       "  background-color: #a0a0a0;\n",
       "  color: #f1f1f1;\n",
       "}\n",
       "#T_fcf7c_row3_col4 {\n",
       "  background-color: #7a7a7a;\n",
       "  color: #f1f1f1;\n",
       "}\n",
       "#T_fcf7c_row3_col6 {\n",
       "  background-color: #b4b4b4;\n",
       "  color: #000000;\n",
       "}\n",
       "#T_fcf7c_row3_col8 {\n",
       "  background-color: #868686;\n",
       "  color: #f1f1f1;\n",
       "}\n",
       "#T_fcf7c_row4_col6 {\n",
       "  background-color: #f0f0f0;\n",
       "  color: #000000;\n",
       "}\n",
       "</style>\n",
       "<table id=\"T_fcf7c\">\n",
       "  <thead>\n",
       "    <tr>\n",
       "      <th class=\"blank level0\" >&nbsp;</th>\n",
       "      <th id=\"T_fcf7c_level0_col0\" class=\"col_heading level0 col0\" >Serial No.</th>\n",
       "      <th id=\"T_fcf7c_level0_col1\" class=\"col_heading level0 col1\" >GRE Score</th>\n",
       "      <th id=\"T_fcf7c_level0_col2\" class=\"col_heading level0 col2\" >TOEFL Score</th>\n",
       "      <th id=\"T_fcf7c_level0_col3\" class=\"col_heading level0 col3\" >University Rating</th>\n",
       "      <th id=\"T_fcf7c_level0_col4\" class=\"col_heading level0 col4\" >SOP</th>\n",
       "      <th id=\"T_fcf7c_level0_col5\" class=\"col_heading level0 col5\" >LOR </th>\n",
       "      <th id=\"T_fcf7c_level0_col6\" class=\"col_heading level0 col6\" >CGPA</th>\n",
       "      <th id=\"T_fcf7c_level0_col7\" class=\"col_heading level0 col7\" >Research</th>\n",
       "      <th id=\"T_fcf7c_level0_col8\" class=\"col_heading level0 col8\" >Chance of Admit </th>\n",
       "    </tr>\n",
       "  </thead>\n",
       "  <tbody>\n",
       "    <tr>\n",
       "      <th id=\"T_fcf7c_level0_row0\" class=\"row_heading level0 row0\" >0</th>\n",
       "      <td id=\"T_fcf7c_row0_col0\" class=\"data row0 col0\" >1</td>\n",
       "      <td id=\"T_fcf7c_row0_col1\" class=\"data row0 col1\" >337</td>\n",
       "      <td id=\"T_fcf7c_row0_col2\" class=\"data row0 col2\" >118</td>\n",
       "      <td id=\"T_fcf7c_row0_col3\" class=\"data row0 col3\" >4</td>\n",
       "      <td id=\"T_fcf7c_row0_col4\" class=\"data row0 col4\" >4.500000</td>\n",
       "      <td id=\"T_fcf7c_row0_col5\" class=\"data row0 col5\" >4.500000</td>\n",
       "      <td id=\"T_fcf7c_row0_col6\" class=\"data row0 col6\" >9.650000</td>\n",
       "      <td id=\"T_fcf7c_row0_col7\" class=\"data row0 col7\" >1</td>\n",
       "      <td id=\"T_fcf7c_row0_col8\" class=\"data row0 col8\" >0.920000</td>\n",
       "    </tr>\n",
       "    <tr>\n",
       "      <th id=\"T_fcf7c_level0_row1\" class=\"row_heading level0 row1\" >1</th>\n",
       "      <td id=\"T_fcf7c_row1_col0\" class=\"data row1 col0\" >2</td>\n",
       "      <td id=\"T_fcf7c_row1_col1\" class=\"data row1 col1\" >324</td>\n",
       "      <td id=\"T_fcf7c_row1_col2\" class=\"data row1 col2\" >107</td>\n",
       "      <td id=\"T_fcf7c_row1_col3\" class=\"data row1 col3\" >4</td>\n",
       "      <td id=\"T_fcf7c_row1_col4\" class=\"data row1 col4\" >4.000000</td>\n",
       "      <td id=\"T_fcf7c_row1_col5\" class=\"data row1 col5\" >4.500000</td>\n",
       "      <td id=\"T_fcf7c_row1_col6\" class=\"data row1 col6\" >8.870000</td>\n",
       "      <td id=\"T_fcf7c_row1_col7\" class=\"data row1 col7\" >1</td>\n",
       "      <td id=\"T_fcf7c_row1_col8\" class=\"data row1 col8\" >0.760000</td>\n",
       "    </tr>\n",
       "    <tr>\n",
       "      <th id=\"T_fcf7c_level0_row2\" class=\"row_heading level0 row2\" >2</th>\n",
       "      <td id=\"T_fcf7c_row2_col0\" class=\"data row2 col0\" >3</td>\n",
       "      <td id=\"T_fcf7c_row2_col1\" class=\"data row2 col1\" >316</td>\n",
       "      <td id=\"T_fcf7c_row2_col2\" class=\"data row2 col2\" >104</td>\n",
       "      <td id=\"T_fcf7c_row2_col3\" class=\"data row2 col3\" >3</td>\n",
       "      <td id=\"T_fcf7c_row2_col4\" class=\"data row2 col4\" >3.000000</td>\n",
       "      <td id=\"T_fcf7c_row2_col5\" class=\"data row2 col5\" >3.500000</td>\n",
       "      <td id=\"T_fcf7c_row2_col6\" class=\"data row2 col6\" >8.000000</td>\n",
       "      <td id=\"T_fcf7c_row2_col7\" class=\"data row2 col7\" >1</td>\n",
       "      <td id=\"T_fcf7c_row2_col8\" class=\"data row2 col8\" >0.720000</td>\n",
       "    </tr>\n",
       "    <tr>\n",
       "      <th id=\"T_fcf7c_level0_row3\" class=\"row_heading level0 row3\" >3</th>\n",
       "      <td id=\"T_fcf7c_row3_col0\" class=\"data row3 col0\" >4</td>\n",
       "      <td id=\"T_fcf7c_row3_col1\" class=\"data row3 col1\" >322</td>\n",
       "      <td id=\"T_fcf7c_row3_col2\" class=\"data row3 col2\" >110</td>\n",
       "      <td id=\"T_fcf7c_row3_col3\" class=\"data row3 col3\" >3</td>\n",
       "      <td id=\"T_fcf7c_row3_col4\" class=\"data row3 col4\" >3.500000</td>\n",
       "      <td id=\"T_fcf7c_row3_col5\" class=\"data row3 col5\" >2.500000</td>\n",
       "      <td id=\"T_fcf7c_row3_col6\" class=\"data row3 col6\" >8.670000</td>\n",
       "      <td id=\"T_fcf7c_row3_col7\" class=\"data row3 col7\" >1</td>\n",
       "      <td id=\"T_fcf7c_row3_col8\" class=\"data row3 col8\" >0.800000</td>\n",
       "    </tr>\n",
       "    <tr>\n",
       "      <th id=\"T_fcf7c_level0_row4\" class=\"row_heading level0 row4\" >4</th>\n",
       "      <td id=\"T_fcf7c_row4_col0\" class=\"data row4 col0\" >5</td>\n",
       "      <td id=\"T_fcf7c_row4_col1\" class=\"data row4 col1\" >314</td>\n",
       "      <td id=\"T_fcf7c_row4_col2\" class=\"data row4 col2\" >103</td>\n",
       "      <td id=\"T_fcf7c_row4_col3\" class=\"data row4 col3\" >2</td>\n",
       "      <td id=\"T_fcf7c_row4_col4\" class=\"data row4 col4\" >2.000000</td>\n",
       "      <td id=\"T_fcf7c_row4_col5\" class=\"data row4 col5\" >3.000000</td>\n",
       "      <td id=\"T_fcf7c_row4_col6\" class=\"data row4 col6\" >8.210000</td>\n",
       "      <td id=\"T_fcf7c_row4_col7\" class=\"data row4 col7\" >0</td>\n",
       "      <td id=\"T_fcf7c_row4_col8\" class=\"data row4 col8\" >0.650000</td>\n",
       "    </tr>\n",
       "  </tbody>\n",
       "</table>\n"
      ],
      "text/plain": [
       "<pandas.io.formats.style.Styler at 0x79ee30e06e30>"
      ]
     },
     "execution_count": 8,
     "metadata": {},
     "output_type": "execute_result"
    }
   ],
   "source": [
    "data.head(5).style.background_gradient(cmap='Greys')"
   ]
  },
  {
   "cell_type": "markdown",
   "id": "c106f413",
   "metadata": {
    "papermill": {
     "duration": 0.035675,
     "end_time": "2024-11-07T10:19:32.193106",
     "exception": false,
     "start_time": "2024-11-07T10:19:32.157431",
     "status": "completed"
    },
    "tags": []
   },
   "source": [
    "<h1 style=\"color:black;font-size:45px;font-family:Georgia;text-align:center;\"><strong>4.<strong style=\"color:#19e6e6;font-size:40px;font-family:Georgia;\">Meta <strong style=\"color:black;font-size:45px;font-family:Georgia;\">Info <strong style=\"color:#19e6e6;font-size:40px;font-family:Georgia;\">Of <strong style=\"color:black;font-size:45px;font-family:Georgia;\">The <strong style=\"color:#19e6e6;font-size:40px;font-family:Georgia;\">DataFrame <strong style=\"color:black;font-size:45px;font-family:Georgia;\">:- </strong></strong></strong></strong></strong></strong></strong></h1>"
   ]
  },
  {
   "cell_type": "markdown",
   "id": "c2f4cedd",
   "metadata": {
    "papermill": {
     "duration": 0.035259,
     "end_time": "2024-11-07T10:19:32.264035",
     "exception": false,
     "start_time": "2024-11-07T10:19:32.228776",
     "status": "completed"
    },
    "tags": []
   },
   "source": [
    "<h1 style=\"color:black;font-size:25px;font-family:Georgia;text-align:center;\"><strong>4.1<strong style=\"color:#19e6e6;font-size:20px;font-family:Georgia;\">Shape <strong style=\"color:black;font-size:25px;font-family:Georgia;\">Of <strong style=\"color:#19e6e6;font-size:20px;font-family:Georgia;\">The <strong style=\"color:black;font-size:25px;font-family:Georgia;\">Dataset <strong style=\"color:#19e6e6;font-size:20px;font-family:Georgia;\">:- </strong></strong></strong></strong></strong></strong></h1>"
   ]
  },
  {
   "cell_type": "code",
   "execution_count": 9,
   "id": "d07e8625",
   "metadata": {
    "execution": {
     "iopub.execute_input": "2024-11-07T10:19:32.337569Z",
     "iopub.status.busy": "2024-11-07T10:19:32.336517Z",
     "iopub.status.idle": "2024-11-07T10:19:32.343244Z",
     "shell.execute_reply": "2024-11-07T10:19:32.342205Z"
    },
    "papermill": {
     "duration": 0.04623,
     "end_time": "2024-11-07T10:19:32.345801",
     "exception": false,
     "start_time": "2024-11-07T10:19:32.299571",
     "status": "completed"
    },
    "tags": []
   },
   "outputs": [
    {
     "name": "stdout",
     "output_type": "stream",
     "text": [
      "\n",
      "==============================================\n",
      "| \u001b[33mThe\u001b[0m | \u001b[35mShape\u001b[0m | \u001b[32mof\u001b[0m | \u001b[33mthe\u001b[0m | \u001b[31mData\u001b[0m | \u001b[32mis\u001b[0m |\n",
      "==============================================\n",
      "\u001b[94mThe Shape Of Train Data is (400, 9) || No of Rows is : 400 and Columns is 9\u001b[0m\n",
      "\n",
      "\n"
     ]
    }
   ],
   "source": [
    "print_boxed_blue_heading(f'The Shape of the  Data is ')\n",
    "shape_info = f\"The Shape Of Train Data is {data.shape} || No of Rows is : {data.shape[0]} and Columns is {data.shape[1]}\"\n",
    "PrintColor(shape_info)\n",
    "print('\\n')"
   ]
  },
  {
   "cell_type": "markdown",
   "id": "e521bf6c",
   "metadata": {
    "papermill": {
     "duration": 0.035404,
     "end_time": "2024-11-07T10:19:32.417451",
     "exception": false,
     "start_time": "2024-11-07T10:19:32.382047",
     "status": "completed"
    },
    "tags": []
   },
   "source": [
    "<h1 style=\"color:black;font-size:25px;font-family:Georgia;text-align:center;\"><strong>4.2 <strong style=\"color:#19e6e6;font-size:20px;font-family:Georgia;\">Dimension <strong style=\"color:black;font-size:25px;font-family:Georgia;\">Of <strong style=\"color:#19e6e6;font-size:20px;font-family:Georgia;\">The <strong style=\"color:black;font-size:25px;font-family:Georgia;\">Dataset <strong style=\"color:#19e6e6;font-size:20px;font-family:Georgia;\">:- </strong></strong></strong></strong></strong></strong></h1>"
   ]
  },
  {
   "cell_type": "code",
   "execution_count": 10,
   "id": "adcc886d",
   "metadata": {
    "execution": {
     "iopub.execute_input": "2024-11-07T10:19:32.492171Z",
     "iopub.status.busy": "2024-11-07T10:19:32.491740Z",
     "iopub.status.idle": "2024-11-07T10:19:32.498269Z",
     "shell.execute_reply": "2024-11-07T10:19:32.496796Z"
    },
    "papermill": {
     "duration": 0.046713,
     "end_time": "2024-11-07T10:19:32.501215",
     "exception": false,
     "start_time": "2024-11-07T10:19:32.454502",
     "status": "completed"
    },
    "tags": []
   },
   "outputs": [
    {
     "name": "stdout",
     "output_type": "stream",
     "text": [
      "\n",
      "=====================\n",
      "| \u001b[36m2\u001b[0m |\n",
      "=====================\n"
     ]
    }
   ],
   "source": [
    "print_boxed_blue_heading(f'{data.ndim}')"
   ]
  },
  {
   "cell_type": "markdown",
   "id": "763190dc",
   "metadata": {
    "papermill": {
     "duration": 0.035501,
     "end_time": "2024-11-07T10:19:32.573488",
     "exception": false,
     "start_time": "2024-11-07T10:19:32.537987",
     "status": "completed"
    },
    "tags": []
   },
   "source": [
    "<h1 style=\"color:black;font-size:25px;font-family:Georgia;text-align:center;\"><strong>4.3 <strong style=\"color:#19e6e6;font-size:20px;font-family:Georgia;\">Size <strong style=\"color:black;font-size:25px;font-family:Georgia;\">Of <strong style=\"color:#19e6e6;font-size:20px;font-family:Georgia;\">The <strong style=\"color:black;font-size:25px;font-family:Georgia;\">Dataset <strong style=\"color:#19e6e6;font-size:20px;font-family:Georgia;\">:- </strong></strong></strong></strong></strong></strong></h1>"
   ]
  },
  {
   "cell_type": "code",
   "execution_count": 11,
   "id": "d7003531",
   "metadata": {
    "execution": {
     "iopub.execute_input": "2024-11-07T10:19:32.647650Z",
     "iopub.status.busy": "2024-11-07T10:19:32.646216Z",
     "iopub.status.idle": "2024-11-07T10:19:32.652931Z",
     "shell.execute_reply": "2024-11-07T10:19:32.651796Z"
    },
    "papermill": {
     "duration": 0.046391,
     "end_time": "2024-11-07T10:19:32.655571",
     "exception": false,
     "start_time": "2024-11-07T10:19:32.609180",
     "status": "completed"
    },
    "tags": []
   },
   "outputs": [
    {
     "name": "stdout",
     "output_type": "stream",
     "text": [
      "\n",
      "========================\n",
      "| \u001b[31m3600\u001b[0m |\n",
      "========================\n"
     ]
    }
   ],
   "source": [
    "print_boxed_blue_heading(f'{data.size}')"
   ]
  },
  {
   "cell_type": "markdown",
   "id": "b9872051",
   "metadata": {
    "papermill": {
     "duration": 0.035667,
     "end_time": "2024-11-07T10:19:32.727329",
     "exception": false,
     "start_time": "2024-11-07T10:19:32.691662",
     "status": "completed"
    },
    "tags": []
   },
   "source": [
    "<h1 style=\"color:black;font-size:25px;font-family:Georgia;text-align:center;\"><strong>4.4 <strong style=\"color:#19e6e6;font-size:20px;font-family:Georgia;\">Column_name <strong style=\"color:black;font-size:25px;font-family:Georgia;\">Of <strong style=\"color:#19e6e6;font-size:20px;font-family:Georgia;\">The <strong style=\"color:black;font-size:25px;font-family:Georgia;\">Dataset <strong style=\"color:#19e6e6;font-size:20px;font-family:Georgia;\">:- </strong></strong></strong></strong></strong></strong></h1>"
   ]
  },
  {
   "cell_type": "code",
   "execution_count": 12,
   "id": "59db7de9",
   "metadata": {
    "execution": {
     "iopub.execute_input": "2024-11-07T10:19:32.803195Z",
     "iopub.status.busy": "2024-11-07T10:19:32.802760Z",
     "iopub.status.idle": "2024-11-07T10:19:32.808908Z",
     "shell.execute_reply": "2024-11-07T10:19:32.807762Z"
    },
    "papermill": {
     "duration": 0.046587,
     "end_time": "2024-11-07T10:19:32.811974",
     "exception": false,
     "start_time": "2024-11-07T10:19:32.765387",
     "status": "completed"
    },
    "tags": []
   },
   "outputs": [
    {
     "name": "stdout",
     "output_type": "stream",
     "text": [
      "\u001b[94mIndex(['Serial No.', 'GRE Score', 'TOEFL Score', 'University Rating', 'SOP',\n",
      "       'LOR ', 'CGPA', 'Research', 'Chance of Admit '],\n",
      "      dtype='object')\u001b[0m\n"
     ]
    }
   ],
   "source": [
    "PrintColor(f'{data.columns}')"
   ]
  },
  {
   "cell_type": "markdown",
   "id": "978cc95a",
   "metadata": {
    "papermill": {
     "duration": 0.036139,
     "end_time": "2024-11-07T10:19:32.884278",
     "exception": false,
     "start_time": "2024-11-07T10:19:32.848139",
     "status": "completed"
    },
    "tags": []
   },
   "source": [
    "<h1 style=\"color:black;font-size:25px;font-family:Georgia;text-align:center;\"><strong>4.5 <strong style=\"color:#19e6e6;font-size:20px;font-family:Georgia;\">Index <strong style=\"color:black;font-size:25px;font-family:Georgia;\">Of <strong style=\"color:#19e6e6;font-size:20px;font-family:Georgia;\">The <strong style=\"color:black;font-size:25px;font-family:Georgia;\">Dataset <strong style=\"color:#19e6e6;font-size:20px;font-family:Georgia;\">:- </strong></strong></strong></strong></strong></strong></h1>"
   ]
  },
  {
   "cell_type": "code",
   "execution_count": 13,
   "id": "484952d4",
   "metadata": {
    "execution": {
     "iopub.execute_input": "2024-11-07T10:19:32.959917Z",
     "iopub.status.busy": "2024-11-07T10:19:32.958921Z",
     "iopub.status.idle": "2024-11-07T10:19:32.966799Z",
     "shell.execute_reply": "2024-11-07T10:19:32.965658Z"
    },
    "papermill": {
     "duration": 0.048723,
     "end_time": "2024-11-07T10:19:32.969354",
     "exception": false,
     "start_time": "2024-11-07T10:19:32.920631",
     "status": "completed"
    },
    "tags": []
   },
   "outputs": [
    {
     "data": {
      "text/plain": [
       "RangeIndex(start=0, stop=400, step=1)"
      ]
     },
     "execution_count": 13,
     "metadata": {},
     "output_type": "execute_result"
    }
   ],
   "source": [
    "data.index"
   ]
  },
  {
   "cell_type": "markdown",
   "id": "3fffabdb",
   "metadata": {
    "papermill": {
     "duration": 0.036439,
     "end_time": "2024-11-07T10:19:33.042951",
     "exception": false,
     "start_time": "2024-11-07T10:19:33.006512",
     "status": "completed"
    },
    "tags": []
   },
   "source": [
    "<h1 style=\"color:black;font-size:25px;font-family:Georgia;text-align:center;\"><strong>4.6 <strong style=\"color:#19e6e6;font-size:20px;font-family:Georgia;\">Info <strong style=\"color:black;font-size:25px;font-family:Georgia;\">Of <strong style=\"color:#19e6e6;font-size:20px;font-family:Georgia;\">The <strong style=\"color:black;font-size:25px;font-family:Georgia;\">Dataset <strong style=\"color:#19e6e6;font-size:20px;font-family:Georgia;\">:- </strong></strong></strong></strong></strong></strong></h1>"
   ]
  },
  {
   "cell_type": "code",
   "execution_count": 14,
   "id": "ae781418",
   "metadata": {
    "execution": {
     "iopub.execute_input": "2024-11-07T10:19:33.119290Z",
     "iopub.status.busy": "2024-11-07T10:19:33.118842Z",
     "iopub.status.idle": "2024-11-07T10:19:33.130902Z",
     "shell.execute_reply": "2024-11-07T10:19:33.129682Z"
    },
    "papermill": {
     "duration": 0.052272,
     "end_time": "2024-11-07T10:19:33.133609",
     "exception": false,
     "start_time": "2024-11-07T10:19:33.081337",
     "status": "completed"
    },
    "tags": []
   },
   "outputs": [
    {
     "name": "stdout",
     "output_type": "stream",
     "text": [
      "<class 'pandas.core.frame.DataFrame'>\n",
      "RangeIndex: 400 entries, 0 to 399\n",
      "Data columns (total 9 columns):\n",
      " #   Column             Non-Null Count  Dtype  \n",
      "---  ------             --------------  -----  \n",
      " 0   Serial No.         400 non-null    int64  \n",
      " 1   GRE Score          400 non-null    int64  \n",
      " 2   TOEFL Score        400 non-null    int64  \n",
      " 3   University Rating  400 non-null    int64  \n",
      " 4   SOP                400 non-null    float64\n",
      " 5   LOR                400 non-null    float64\n",
      " 6   CGPA               400 non-null    float64\n",
      " 7   Research           400 non-null    int64  \n",
      " 8   Chance of Admit    400 non-null    float64\n",
      "dtypes: float64(4), int64(5)\n",
      "memory usage: 28.2 KB\n"
     ]
    }
   ],
   "source": [
    "data.info()"
   ]
  },
  {
   "cell_type": "markdown",
   "id": "ead675fa",
   "metadata": {
    "papermill": {
     "duration": 0.036662,
     "end_time": "2024-11-07T10:19:33.206874",
     "exception": false,
     "start_time": "2024-11-07T10:19:33.170212",
     "status": "completed"
    },
    "tags": []
   },
   "source": [
    "<br>\n",
    "<p style= \"font-family:Georgia;color:#000000;font-size:110%;text-align:center;border-radius:10px 10px;border-style: dotted;border-width:5px;border-color:#19e6e6;\"><br>\n",
    " Data contains all numeric columns - 4 columns are \"Int64\" and  4 columns are \"Float64\".\n",
    "<br>\n",
    "<br>\n",
    "</p>"
   ]
  },
  {
   "cell_type": "markdown",
   "id": "c641386a",
   "metadata": {
    "papermill": {
     "duration": 0.036821,
     "end_time": "2024-11-07T10:19:33.280536",
     "exception": false,
     "start_time": "2024-11-07T10:19:33.243715",
     "status": "completed"
    },
    "tags": []
   },
   "source": [
    "<h1 style=\"color:black;font-size:25px;font-family:Georgia;text-align:center;\"><strong>4.7 <strong style=\"color:#19e6e6;font-size:20px;font-family:Georgia;\">Delete <strong style=\"color:black;font-size:25px;font-family:Georgia;\">The <strong style=\"color:#19e6e6;font-size:20px;font-family:Georgia;\">Wanted <strong style=\"color:black;font-size:25px;font-family:Georgia;\">Column <strong style=\"color:#19e6e6;font-size:20px;font-family:Georgia;\">:- </strong></strong></strong></strong></strong></strong></h1>"
   ]
  },
  {
   "cell_type": "code",
   "execution_count": 15,
   "id": "061499fb",
   "metadata": {
    "execution": {
     "iopub.execute_input": "2024-11-07T10:19:33.356049Z",
     "iopub.status.busy": "2024-11-07T10:19:33.355546Z",
     "iopub.status.idle": "2024-11-07T10:19:33.363238Z",
     "shell.execute_reply": "2024-11-07T10:19:33.362004Z"
    },
    "papermill": {
     "duration": 0.049093,
     "end_time": "2024-11-07T10:19:33.366348",
     "exception": false,
     "start_time": "2024-11-07T10:19:33.317255",
     "status": "completed"
    },
    "tags": []
   },
   "outputs": [
    {
     "name": "stdout",
     "output_type": "stream",
     "text": [
      "\n",
      "\u001b[33m╭──────────────────────────────────╮\u001b[0m\n",
      "\u001b[34m│ Column \u001b[36m│ Dropped │\u001b[0m\n",
      "\u001b[33m╰──────────────────────────────────╯\u001b[0m\n"
     ]
    }
   ],
   "source": [
    "# Drop Irrelevent Column\n",
    "data.drop('Serial No.', axis=1, inplace=True)\n",
    "print_boxed_zigzag_heading('Column Dropped')"
   ]
  },
  {
   "cell_type": "markdown",
   "id": "8857c659",
   "metadata": {
    "papermill": {
     "duration": 0.0371,
     "end_time": "2024-11-07T10:19:33.439832",
     "exception": false,
     "start_time": "2024-11-07T10:19:33.402732",
     "status": "completed"
    },
    "tags": []
   },
   "source": [
    "<h1 style=\"color:black;font-size:45px;font-family:Georgia;text-align:center;\"><strong>5.<strong style=\"color:#19e6e6;font-size:40px;font-family:Georgia;\">Basics <strong style=\"color:black;font-size:45px;font-family:Georgia;\">Statistics <strong style=\"color:#19e6e6;font-size:40px;font-family:Georgia;\">:- </strong></strong></strong></strong></h1>"
   ]
  },
  {
   "cell_type": "code",
   "execution_count": 16,
   "id": "6b0f8bfe",
   "metadata": {
    "execution": {
     "iopub.execute_input": "2024-11-07T10:19:33.516067Z",
     "iopub.status.busy": "2024-11-07T10:19:33.515008Z",
     "iopub.status.idle": "2024-11-07T10:19:33.558864Z",
     "shell.execute_reply": "2024-11-07T10:19:33.557779Z"
    },
    "papermill": {
     "duration": 0.084087,
     "end_time": "2024-11-07T10:19:33.561215",
     "exception": false,
     "start_time": "2024-11-07T10:19:33.477128",
     "status": "completed"
    },
    "tags": []
   },
   "outputs": [
    {
     "data": {
      "text/html": [
       "<style type=\"text/css\">\n",
       "#T_9c28b_row0_col0, #T_9c28b_row1_col0, #T_9c28b_row2_col0, #T_9c28b_row2_col3, #T_9c28b_row2_col4, #T_9c28b_row2_col5, #T_9c28b_row3_col0, #T_9c28b_row3_col3, #T_9c28b_row4_col0, #T_9c28b_row4_col3, #T_9c28b_row5_col0, #T_9c28b_row6_col0, #T_9c28b_row6_col1, #T_9c28b_row6_col3, #T_9c28b_row6_col4, #T_9c28b_row6_col5, #T_9c28b_row6_col6, #T_9c28b_row6_col7, #T_9c28b_row7_col0, #T_9c28b_row7_col1, #T_9c28b_row7_col2, #T_9c28b_row7_col3, #T_9c28b_row7_col4, #T_9c28b_row7_col5, #T_9c28b_row7_col6, #T_9c28b_row7_col7 {\n",
       "  background-color: #ffffff;\n",
       "  color: #000000;\n",
       "}\n",
       "#T_9c28b_row0_col1, #T_9c28b_row0_col2, #T_9c28b_row0_col3, #T_9c28b_row0_col4, #T_9c28b_row0_col5, #T_9c28b_row0_col6, #T_9c28b_row0_col7 {\n",
       "  background-color: #000000;\n",
       "  color: #f1f1f1;\n",
       "}\n",
       "#T_9c28b_row1_col1, #T_9c28b_row1_col5, #T_9c28b_row1_col6 {\n",
       "  background-color: #c5c5c5;\n",
       "  color: #000000;\n",
       "}\n",
       "#T_9c28b_row1_col2 {\n",
       "  background-color: #909090;\n",
       "  color: #f1f1f1;\n",
       "}\n",
       "#T_9c28b_row1_col3 {\n",
       "  background-color: #cacaca;\n",
       "  color: #000000;\n",
       "}\n",
       "#T_9c28b_row1_col4 {\n",
       "  background-color: #c6c6c6;\n",
       "  color: #000000;\n",
       "}\n",
       "#T_9c28b_row1_col7 {\n",
       "  background-color: #c3c3c3;\n",
       "  color: #000000;\n",
       "}\n",
       "#T_9c28b_row2_col1, #T_9c28b_row2_col6, #T_9c28b_row2_col7, #T_9c28b_row3_col1, #T_9c28b_row3_col4, #T_9c28b_row3_col5, #T_9c28b_row3_col6, #T_9c28b_row3_col7, #T_9c28b_row4_col1, #T_9c28b_row4_col4, #T_9c28b_row4_col5, #T_9c28b_row4_col6, #T_9c28b_row4_col7 {\n",
       "  background-color: #fefefe;\n",
       "  color: #000000;\n",
       "}\n",
       "#T_9c28b_row2_col2 {\n",
       "  background-color: #f5f5f5;\n",
       "  color: #000000;\n",
       "}\n",
       "#T_9c28b_row3_col2 {\n",
       "  background-color: #f6f6f6;\n",
       "  color: #000000;\n",
       "}\n",
       "#T_9c28b_row4_col2 {\n",
       "  background-color: #f7f7f7;\n",
       "  color: #000000;\n",
       "}\n",
       "#T_9c28b_row5_col1, #T_9c28b_row5_col3, #T_9c28b_row5_col4, #T_9c28b_row5_col5, #T_9c28b_row5_col6, #T_9c28b_row5_col7 {\n",
       "  background-color: #fcfcfc;\n",
       "  color: #000000;\n",
       "}\n",
       "#T_9c28b_row5_col2 {\n",
       "  background-color: #fafafa;\n",
       "  color: #000000;\n",
       "}\n",
       "#T_9c28b_row6_col2 {\n",
       "  background-color: #fbfbfb;\n",
       "  color: #000000;\n",
       "}\n",
       "</style>\n",
       "<table id=\"T_9c28b\">\n",
       "  <thead>\n",
       "    <tr>\n",
       "      <th class=\"blank level0\" >&nbsp;</th>\n",
       "      <th id=\"T_9c28b_level0_col0\" class=\"col_heading level0 col0\" >count</th>\n",
       "      <th id=\"T_9c28b_level0_col1\" class=\"col_heading level0 col1\" >mean</th>\n",
       "      <th id=\"T_9c28b_level0_col2\" class=\"col_heading level0 col2\" >std</th>\n",
       "      <th id=\"T_9c28b_level0_col3\" class=\"col_heading level0 col3\" >min</th>\n",
       "      <th id=\"T_9c28b_level0_col4\" class=\"col_heading level0 col4\" >25%</th>\n",
       "      <th id=\"T_9c28b_level0_col5\" class=\"col_heading level0 col5\" >50%</th>\n",
       "      <th id=\"T_9c28b_level0_col6\" class=\"col_heading level0 col6\" >75%</th>\n",
       "      <th id=\"T_9c28b_level0_col7\" class=\"col_heading level0 col7\" >max</th>\n",
       "    </tr>\n",
       "  </thead>\n",
       "  <tbody>\n",
       "    <tr>\n",
       "      <th id=\"T_9c28b_level0_row0\" class=\"row_heading level0 row0\" >GRE Score</th>\n",
       "      <td id=\"T_9c28b_row0_col0\" class=\"data row0 col0\" >400.000000</td>\n",
       "      <td id=\"T_9c28b_row0_col1\" class=\"data row0 col1\" >316.807500</td>\n",
       "      <td id=\"T_9c28b_row0_col2\" class=\"data row0 col2\" >11.473646</td>\n",
       "      <td id=\"T_9c28b_row0_col3\" class=\"data row0 col3\" >290.000000</td>\n",
       "      <td id=\"T_9c28b_row0_col4\" class=\"data row0 col4\" >308.000000</td>\n",
       "      <td id=\"T_9c28b_row0_col5\" class=\"data row0 col5\" >317.000000</td>\n",
       "      <td id=\"T_9c28b_row0_col6\" class=\"data row0 col6\" >325.000000</td>\n",
       "      <td id=\"T_9c28b_row0_col7\" class=\"data row0 col7\" >340.000000</td>\n",
       "    </tr>\n",
       "    <tr>\n",
       "      <th id=\"T_9c28b_level0_row1\" class=\"row_heading level0 row1\" >TOEFL Score</th>\n",
       "      <td id=\"T_9c28b_row1_col0\" class=\"data row1 col0\" >400.000000</td>\n",
       "      <td id=\"T_9c28b_row1_col1\" class=\"data row1 col1\" >107.410000</td>\n",
       "      <td id=\"T_9c28b_row1_col2\" class=\"data row1 col2\" >6.069514</td>\n",
       "      <td id=\"T_9c28b_row1_col3\" class=\"data row1 col3\" >92.000000</td>\n",
       "      <td id=\"T_9c28b_row1_col4\" class=\"data row1 col4\" >103.000000</td>\n",
       "      <td id=\"T_9c28b_row1_col5\" class=\"data row1 col5\" >107.000000</td>\n",
       "      <td id=\"T_9c28b_row1_col6\" class=\"data row1 col6\" >112.000000</td>\n",
       "      <td id=\"T_9c28b_row1_col7\" class=\"data row1 col7\" >120.000000</td>\n",
       "    </tr>\n",
       "    <tr>\n",
       "      <th id=\"T_9c28b_level0_row2\" class=\"row_heading level0 row2\" >University Rating</th>\n",
       "      <td id=\"T_9c28b_row2_col0\" class=\"data row2 col0\" >400.000000</td>\n",
       "      <td id=\"T_9c28b_row2_col1\" class=\"data row2 col1\" >3.087500</td>\n",
       "      <td id=\"T_9c28b_row2_col2\" class=\"data row2 col2\" >1.143728</td>\n",
       "      <td id=\"T_9c28b_row2_col3\" class=\"data row2 col3\" >1.000000</td>\n",
       "      <td id=\"T_9c28b_row2_col4\" class=\"data row2 col4\" >2.000000</td>\n",
       "      <td id=\"T_9c28b_row2_col5\" class=\"data row2 col5\" >3.000000</td>\n",
       "      <td id=\"T_9c28b_row2_col6\" class=\"data row2 col6\" >4.000000</td>\n",
       "      <td id=\"T_9c28b_row2_col7\" class=\"data row2 col7\" >5.000000</td>\n",
       "    </tr>\n",
       "    <tr>\n",
       "      <th id=\"T_9c28b_level0_row3\" class=\"row_heading level0 row3\" >SOP</th>\n",
       "      <td id=\"T_9c28b_row3_col0\" class=\"data row3 col0\" >400.000000</td>\n",
       "      <td id=\"T_9c28b_row3_col1\" class=\"data row3 col1\" >3.400000</td>\n",
       "      <td id=\"T_9c28b_row3_col2\" class=\"data row3 col2\" >1.006869</td>\n",
       "      <td id=\"T_9c28b_row3_col3\" class=\"data row3 col3\" >1.000000</td>\n",
       "      <td id=\"T_9c28b_row3_col4\" class=\"data row3 col4\" >2.500000</td>\n",
       "      <td id=\"T_9c28b_row3_col5\" class=\"data row3 col5\" >3.500000</td>\n",
       "      <td id=\"T_9c28b_row3_col6\" class=\"data row3 col6\" >4.000000</td>\n",
       "      <td id=\"T_9c28b_row3_col7\" class=\"data row3 col7\" >5.000000</td>\n",
       "    </tr>\n",
       "    <tr>\n",
       "      <th id=\"T_9c28b_level0_row4\" class=\"row_heading level0 row4\" >LOR </th>\n",
       "      <td id=\"T_9c28b_row4_col0\" class=\"data row4 col0\" >400.000000</td>\n",
       "      <td id=\"T_9c28b_row4_col1\" class=\"data row4 col1\" >3.452500</td>\n",
       "      <td id=\"T_9c28b_row4_col2\" class=\"data row4 col2\" >0.898478</td>\n",
       "      <td id=\"T_9c28b_row4_col3\" class=\"data row4 col3\" >1.000000</td>\n",
       "      <td id=\"T_9c28b_row4_col4\" class=\"data row4 col4\" >3.000000</td>\n",
       "      <td id=\"T_9c28b_row4_col5\" class=\"data row4 col5\" >3.500000</td>\n",
       "      <td id=\"T_9c28b_row4_col6\" class=\"data row4 col6\" >4.000000</td>\n",
       "      <td id=\"T_9c28b_row4_col7\" class=\"data row4 col7\" >5.000000</td>\n",
       "    </tr>\n",
       "    <tr>\n",
       "      <th id=\"T_9c28b_level0_row5\" class=\"row_heading level0 row5\" >CGPA</th>\n",
       "      <td id=\"T_9c28b_row5_col0\" class=\"data row5 col0\" >400.000000</td>\n",
       "      <td id=\"T_9c28b_row5_col1\" class=\"data row5 col1\" >8.598925</td>\n",
       "      <td id=\"T_9c28b_row5_col2\" class=\"data row5 col2\" >0.596317</td>\n",
       "      <td id=\"T_9c28b_row5_col3\" class=\"data row5 col3\" >6.800000</td>\n",
       "      <td id=\"T_9c28b_row5_col4\" class=\"data row5 col4\" >8.170000</td>\n",
       "      <td id=\"T_9c28b_row5_col5\" class=\"data row5 col5\" >8.610000</td>\n",
       "      <td id=\"T_9c28b_row5_col6\" class=\"data row5 col6\" >9.062500</td>\n",
       "      <td id=\"T_9c28b_row5_col7\" class=\"data row5 col7\" >9.920000</td>\n",
       "    </tr>\n",
       "    <tr>\n",
       "      <th id=\"T_9c28b_level0_row6\" class=\"row_heading level0 row6\" >Research</th>\n",
       "      <td id=\"T_9c28b_row6_col0\" class=\"data row6 col0\" >400.000000</td>\n",
       "      <td id=\"T_9c28b_row6_col1\" class=\"data row6 col1\" >0.547500</td>\n",
       "      <td id=\"T_9c28b_row6_col2\" class=\"data row6 col2\" >0.498362</td>\n",
       "      <td id=\"T_9c28b_row6_col3\" class=\"data row6 col3\" >0.000000</td>\n",
       "      <td id=\"T_9c28b_row6_col4\" class=\"data row6 col4\" >0.000000</td>\n",
       "      <td id=\"T_9c28b_row6_col5\" class=\"data row6 col5\" >1.000000</td>\n",
       "      <td id=\"T_9c28b_row6_col6\" class=\"data row6 col6\" >1.000000</td>\n",
       "      <td id=\"T_9c28b_row6_col7\" class=\"data row6 col7\" >1.000000</td>\n",
       "    </tr>\n",
       "    <tr>\n",
       "      <th id=\"T_9c28b_level0_row7\" class=\"row_heading level0 row7\" >Chance of Admit </th>\n",
       "      <td id=\"T_9c28b_row7_col0\" class=\"data row7 col0\" >400.000000</td>\n",
       "      <td id=\"T_9c28b_row7_col1\" class=\"data row7 col1\" >0.724350</td>\n",
       "      <td id=\"T_9c28b_row7_col2\" class=\"data row7 col2\" >0.142609</td>\n",
       "      <td id=\"T_9c28b_row7_col3\" class=\"data row7 col3\" >0.340000</td>\n",
       "      <td id=\"T_9c28b_row7_col4\" class=\"data row7 col4\" >0.640000</td>\n",
       "      <td id=\"T_9c28b_row7_col5\" class=\"data row7 col5\" >0.730000</td>\n",
       "      <td id=\"T_9c28b_row7_col6\" class=\"data row7 col6\" >0.830000</td>\n",
       "      <td id=\"T_9c28b_row7_col7\" class=\"data row7 col7\" >0.970000</td>\n",
       "    </tr>\n",
       "  </tbody>\n",
       "</table>\n"
      ],
      "text/plain": [
       "<pandas.io.formats.style.Styler at 0x79ee012e8d00>"
      ]
     },
     "execution_count": 16,
     "metadata": {},
     "output_type": "execute_result"
    }
   ],
   "source": [
    "data.describe().T.style.background_gradient(cmap='Greys')"
   ]
  },
  {
   "cell_type": "markdown",
   "id": "84ddb381",
   "metadata": {
    "papermill": {
     "duration": 0.036768,
     "end_time": "2024-11-07T10:19:33.635268",
     "exception": false,
     "start_time": "2024-11-07T10:19:33.598500",
     "status": "completed"
    },
    "tags": []
   },
   "source": [
    "<h1 style=\"color:black;font-size:45px;font-family:Georgia;text-align:center;\"><strong>6.<strong style=\"color:#19e6e6;font-size:40px;font-family:Georgia;\">Divide <strong style=\"color:black;font-size:45px;font-family:Georgia;\">The <strong style=\"color:#19e6e6;font-size:40px;font-family:Georgia;\">Categorical <strong style=\"color:black;font-size:45px;font-family:Georgia;\">& <strong style=\"color:#19e6e6;font-size:40px;font-family:Georgia;\">Numerical <strong style=\"color:black;font-size:45px;font-family:Georgia;\">Features <strong style=\"color:#19e6e6;font-size:40px;font-family:Georgia;\">:- </strong></strong></strong></strong></strong></strong></strong></strong></h1>"
   ]
  },
  {
   "cell_type": "markdown",
   "id": "cf8f92f4",
   "metadata": {
    "papermill": {
     "duration": 0.036585,
     "end_time": "2024-11-07T10:19:33.709028",
     "exception": false,
     "start_time": "2024-11-07T10:19:33.672443",
     "status": "completed"
    },
    "tags": []
   },
   "source": [
    "<h1 style=\"color:black;font-size:25px;font-family:Georgia;text-align:center;\"><strong>6.1 <strong style=\"color:#19e6e6;font-size:20px;font-family:Georgia;\">Categorical <strong style=\"color:black;font-size:25px;font-family:Georgia;\">Variables <strong style=\"color:#19e6e6;font-size:20px;font-family:Georgia;\"> are <strong style=\"color:black;font-size:25px;font-family:Georgia;\">:- </strong></strong></strong></strong></strong></h1>"
   ]
  },
  {
   "cell_type": "code",
   "execution_count": 17,
   "id": "3e2837fe",
   "metadata": {
    "execution": {
     "iopub.execute_input": "2024-11-07T10:19:33.785865Z",
     "iopub.status.busy": "2024-11-07T10:19:33.784822Z",
     "iopub.status.idle": "2024-11-07T10:19:33.793644Z",
     "shell.execute_reply": "2024-11-07T10:19:33.792156Z"
    },
    "papermill": {
     "duration": 0.049754,
     "end_time": "2024-11-07T10:19:33.796019",
     "exception": false,
     "start_time": "2024-11-07T10:19:33.746265",
     "status": "completed"
    },
    "tags": []
   },
   "outputs": [
    {
     "data": {
      "text/plain": [
       "[]"
      ]
     },
     "execution_count": 17,
     "metadata": {},
     "output_type": "execute_result"
    }
   ],
   "source": [
    "Cat_features = [feature for feature in data.columns if data[feature].dtypes=='O']\n",
    "Cat_features"
   ]
  },
  {
   "cell_type": "markdown",
   "id": "dc40dca1",
   "metadata": {
    "papermill": {
     "duration": 0.036838,
     "end_time": "2024-11-07T10:19:33.870817",
     "exception": false,
     "start_time": "2024-11-07T10:19:33.833979",
     "status": "completed"
    },
    "tags": []
   },
   "source": [
    "<h1 style=\"color:black;font-size:25px;font-family:Georgia;text-align:center;\"><strong>6.2 <strong style=\"color:#19e6e6;font-size:20px;font-family:Georgia;\">Discrete <strong style=\"color:black;font-size:25px;font-family:Georgia;\">Variables <strong style=\"color:#19e6e6;font-size:20px;font-family:Georgia;\"> are <strong style=\"color:black;font-size:25px;font-family:Georgia;\">:- </strong></strong></strong></strong></strong></h1>"
   ]
  },
  {
   "cell_type": "code",
   "execution_count": 18,
   "id": "f874977e",
   "metadata": {
    "execution": {
     "iopub.execute_input": "2024-11-07T10:19:33.947437Z",
     "iopub.status.busy": "2024-11-07T10:19:33.946981Z",
     "iopub.status.idle": "2024-11-07T10:19:33.955133Z",
     "shell.execute_reply": "2024-11-07T10:19:33.953971Z"
    },
    "papermill": {
     "duration": 0.049803,
     "end_time": "2024-11-07T10:19:33.957650",
     "exception": false,
     "start_time": "2024-11-07T10:19:33.907847",
     "status": "completed"
    },
    "tags": []
   },
   "outputs": [
    {
     "data": {
      "text/plain": [
       "['GRE Score', 'TOEFL Score', 'University Rating', 'Research']"
      ]
     },
     "execution_count": 18,
     "metadata": {},
     "output_type": "execute_result"
    }
   ],
   "source": [
    "Dis_features = [feature for feature in data.columns if data[feature].dtypes=='int64']\n",
    "Dis_features"
   ]
  },
  {
   "cell_type": "markdown",
   "id": "ef08a3c7",
   "metadata": {
    "papermill": {
     "duration": 0.036892,
     "end_time": "2024-11-07T10:19:34.032979",
     "exception": false,
     "start_time": "2024-11-07T10:19:33.996087",
     "status": "completed"
    },
    "tags": []
   },
   "source": [
    "<h1 style=\"color:black;font-size:25px;font-family:Georgia;text-align:center;\"><strong>6.3 <strong style=\"color:#19e6e6;font-size:20px;font-family:Georgia;\">Continous <strong style=\"color:black;font-size:25px;font-family:Georgia;\">Variables <strong style=\"color:#19e6e6;font-size:20px;font-family:Georgia;\"> are <strong style=\"color:black;font-size:25px;font-family:Georgia;\">:- </strong></strong></strong></strong></strong></h1>"
   ]
  },
  {
   "cell_type": "code",
   "execution_count": 19,
   "id": "099cfb27",
   "metadata": {
    "execution": {
     "iopub.execute_input": "2024-11-07T10:19:34.111557Z",
     "iopub.status.busy": "2024-11-07T10:19:34.110741Z",
     "iopub.status.idle": "2024-11-07T10:19:34.118825Z",
     "shell.execute_reply": "2024-11-07T10:19:34.117665Z"
    },
    "papermill": {
     "duration": 0.049755,
     "end_time": "2024-11-07T10:19:34.121289",
     "exception": false,
     "start_time": "2024-11-07T10:19:34.071534",
     "status": "completed"
    },
    "tags": []
   },
   "outputs": [
    {
     "data": {
      "text/plain": [
       "['SOP', 'LOR ', 'CGPA', 'Chance of Admit ']"
      ]
     },
     "execution_count": 19,
     "metadata": {},
     "output_type": "execute_result"
    }
   ],
   "source": [
    "Continous_features = [feature for feature in data.columns if data[feature].dtypes=='float64']\n",
    "Continous_features"
   ]
  },
  {
   "cell_type": "code",
   "execution_count": 20,
   "id": "69e9165b",
   "metadata": {
    "execution": {
     "iopub.execute_input": "2024-11-07T10:19:34.198858Z",
     "iopub.status.busy": "2024-11-07T10:19:34.198397Z",
     "iopub.status.idle": "2024-11-07T10:19:34.207698Z",
     "shell.execute_reply": "2024-11-07T10:19:34.206473Z"
    },
    "papermill": {
     "duration": 0.050705,
     "end_time": "2024-11-07T10:19:34.210155",
     "exception": false,
     "start_time": "2024-11-07T10:19:34.159450",
     "status": "completed"
    },
    "tags": []
   },
   "outputs": [
    {
     "data": {
      "text/plain": [
       "Index(['GREScore', 'TOEFLScore', 'UniversityRating', 'SOP', 'LOR', 'CGPA',\n",
       "       'Research', 'ChanceofAdmit'],\n",
       "      dtype='object')"
      ]
     },
     "execution_count": 20,
     "metadata": {},
     "output_type": "execute_result"
    }
   ],
   "source": [
    "#I have observed some spaces at column names...\n",
    "data.columns = data.columns.str.replace(' ', '')\n",
    "data.columns"
   ]
  },
  {
   "cell_type": "markdown",
   "id": "ca48194c",
   "metadata": {
    "papermill": {
     "duration": 0.037409,
     "end_time": "2024-11-07T10:19:34.286191",
     "exception": false,
     "start_time": "2024-11-07T10:19:34.248782",
     "status": "completed"
    },
    "tags": []
   },
   "source": [
    "<h1 style=\"color:black;font-size:45px;font-family:Georgia;text-align:center;\"><strong>7.<strong style=\"color:#19e6e6;font-size:40px;font-family:Georgia;\">Finding <strong style=\"color:black;font-size:45px;font-family:Georgia;\">The <strong style=\"color:#19e6e6;font-size:40px;font-family:Georgia;\">Unique <strong style=\"color:black;font-size:45px;font-family:Georgia;\">values <strong style=\"color:#19e6e6;font-size:40px;font-family:Georgia;\">:- </strong></strong></strong></strong></strong></strong></h1>"
   ]
  },
  {
   "cell_type": "code",
   "execution_count": 21,
   "id": "74f70714",
   "metadata": {
    "execution": {
     "iopub.execute_input": "2024-11-07T10:19:34.363608Z",
     "iopub.status.busy": "2024-11-07T10:19:34.363109Z",
     "iopub.status.idle": "2024-11-07T10:19:34.370300Z",
     "shell.execute_reply": "2024-11-07T10:19:34.369092Z"
    },
    "papermill": {
     "duration": 0.049042,
     "end_time": "2024-11-07T10:19:34.372948",
     "exception": false,
     "start_time": "2024-11-07T10:19:34.323906",
     "status": "completed"
    },
    "tags": []
   },
   "outputs": [],
   "source": [
    "from IPython.core.display import HTML\n",
    "\n",
    "def multi_table(table_list):\n",
    "    ''' Acceps a list of IpyTable objects and returns a table which contains each IpyTable in a cell\n",
    "    '''\n",
    "    return HTML(\n",
    "        '<table><tr style=\"background-color:white;\">' + \n",
    "        ''.join(['<td>' + table._repr_html_() + '</td>' for table in table_list]) +\n",
    "        '</tr></table>')"
   ]
  },
  {
   "cell_type": "code",
   "execution_count": 22,
   "id": "835d9ee3",
   "metadata": {
    "execution": {
     "iopub.execute_input": "2024-11-07T10:19:34.450210Z",
     "iopub.status.busy": "2024-11-07T10:19:34.449779Z",
     "iopub.status.idle": "2024-11-07T10:19:34.562740Z",
     "shell.execute_reply": "2024-11-07T10:19:34.561710Z"
    },
    "papermill": {
     "duration": 0.155397,
     "end_time": "2024-11-07T10:19:34.566144",
     "exception": false,
     "start_time": "2024-11-07T10:19:34.410747",
     "status": "completed"
    },
    "tags": []
   },
   "outputs": [
    {
     "data": {
      "text/html": [
       "<table><tr style=\"background-color:white;\"><td><style type=\"text/css\">\n",
       "#T_f434b_row0_col0, #T_f434b_row1_col0 {\n",
       "  background-color: #000000;\n",
       "  color: #f1f1f1;\n",
       "}\n",
       "#T_f434b_row2_col0, #T_f434b_row3_col0, #T_f434b_row4_col0 {\n",
       "  background-color: #5a5a5a;\n",
       "  color: #f1f1f1;\n",
       "}\n",
       "#T_f434b_row5_col0, #T_f434b_row6_col0 {\n",
       "  background-color: #686868;\n",
       "  color: #f1f1f1;\n",
       "}\n",
       "#T_f434b_row7_col0, #T_f434b_row8_col0, #T_f434b_row9_col0, #T_f434b_row10_col0 {\n",
       "  background-color: #777777;\n",
       "  color: #f1f1f1;\n",
       "}\n",
       "#T_f434b_row11_col0, #T_f434b_row12_col0, #T_f434b_row13_col0 {\n",
       "  background-color: #868686;\n",
       "  color: #f1f1f1;\n",
       "}\n",
       "#T_f434b_row14_col0, #T_f434b_row15_col0 {\n",
       "  background-color: #959595;\n",
       "  color: #f1f1f1;\n",
       "}\n",
       "#T_f434b_row16_col0, #T_f434b_row17_col0, #T_f434b_row18_col0, #T_f434b_row19_col0 {\n",
       "  background-color: #a8a8a8;\n",
       "  color: #f1f1f1;\n",
       "}\n",
       "#T_f434b_row20_col0, #T_f434b_row21_col0, #T_f434b_row22_col0, #T_f434b_row23_col0, #T_f434b_row24_col0, #T_f434b_row25_col0, #T_f434b_row26_col0, #T_f434b_row27_col0 {\n",
       "  background-color: #b9b9b9;\n",
       "  color: #000000;\n",
       "}\n",
       "#T_f434b_row28_col0, #T_f434b_row29_col0 {\n",
       "  background-color: #c6c6c6;\n",
       "  color: #000000;\n",
       "}\n",
       "#T_f434b_row30_col0, #T_f434b_row31_col0, #T_f434b_row32_col0, #T_f434b_row33_col0, #T_f434b_row34_col0 {\n",
       "  background-color: #d3d3d3;\n",
       "  color: #000000;\n",
       "}\n",
       "#T_f434b_row35_col0, #T_f434b_row36_col0, #T_f434b_row37_col0, #T_f434b_row38_col0 {\n",
       "  background-color: #dfdfdf;\n",
       "  color: #000000;\n",
       "}\n",
       "#T_f434b_row39_col0, #T_f434b_row40_col0, #T_f434b_row41_col0, #T_f434b_row42_col0, #T_f434b_row43_col0 {\n",
       "  background-color: #e9e9e9;\n",
       "  color: #000000;\n",
       "}\n",
       "#T_f434b_row44_col0 {\n",
       "  background-color: #f2f2f2;\n",
       "  color: #000000;\n",
       "}\n",
       "#T_f434b_row45_col0, #T_f434b_row46_col0 {\n",
       "  background-color: #f8f8f8;\n",
       "  color: #000000;\n",
       "}\n",
       "#T_f434b_row47_col0, #T_f434b_row48_col0 {\n",
       "  background-color: #ffffff;\n",
       "  color: #000000;\n",
       "}\n",
       "</style>\n",
       "<table id=\"T_f434b\">\n",
       "  <thead>\n",
       "    <tr>\n",
       "      <th class=\"blank level0\" >&nbsp;</th>\n",
       "      <th id=\"T_f434b_level0_col0\" class=\"col_heading level0 col0\" >count</th>\n",
       "    </tr>\n",
       "    <tr>\n",
       "      <th class=\"index_name level0\" >GREScore</th>\n",
       "      <th class=\"blank col0\" >&nbsp;</th>\n",
       "    </tr>\n",
       "  </thead>\n",
       "  <tbody>\n",
       "    <tr>\n",
       "      <th id=\"T_f434b_level0_row0\" class=\"row_heading level0 row0\" >324</th>\n",
       "      <td id=\"T_f434b_row0_col0\" class=\"data row0 col0\" >19</td>\n",
       "    </tr>\n",
       "    <tr>\n",
       "      <th id=\"T_f434b_level0_row1\" class=\"row_heading level0 row1\" >312</th>\n",
       "      <td id=\"T_f434b_row1_col0\" class=\"data row1 col0\" >19</td>\n",
       "    </tr>\n",
       "    <tr>\n",
       "      <th id=\"T_f434b_level0_row2\" class=\"row_heading level0 row2\" >316</th>\n",
       "      <td id=\"T_f434b_row2_col0\" class=\"data row2 col0\" >14</td>\n",
       "    </tr>\n",
       "    <tr>\n",
       "      <th id=\"T_f434b_level0_row3\" class=\"row_heading level0 row3\" >322</th>\n",
       "      <td id=\"T_f434b_row3_col0\" class=\"data row3 col0\" >14</td>\n",
       "    </tr>\n",
       "    <tr>\n",
       "      <th id=\"T_f434b_level0_row4\" class=\"row_heading level0 row4\" >314</th>\n",
       "      <td id=\"T_f434b_row4_col0\" class=\"data row4 col0\" >14</td>\n",
       "    </tr>\n",
       "    <tr>\n",
       "      <th id=\"T_f434b_level0_row5\" class=\"row_heading level0 row5\" >325</th>\n",
       "      <td id=\"T_f434b_row5_col0\" class=\"data row5 col0\" >13</td>\n",
       "    </tr>\n",
       "    <tr>\n",
       "      <th id=\"T_f434b_level0_row6\" class=\"row_heading level0 row6\" >321</th>\n",
       "      <td id=\"T_f434b_row6_col0\" class=\"data row6 col0\" >13</td>\n",
       "    </tr>\n",
       "    <tr>\n",
       "      <th id=\"T_f434b_level0_row7\" class=\"row_heading level0 row7\" >311</th>\n",
       "      <td id=\"T_f434b_row7_col0\" class=\"data row7 col0\" >12</td>\n",
       "    </tr>\n",
       "    <tr>\n",
       "      <th id=\"T_f434b_level0_row8\" class=\"row_heading level0 row8\" >317</th>\n",
       "      <td id=\"T_f434b_row8_col0\" class=\"data row8 col0\" >12</td>\n",
       "    </tr>\n",
       "    <tr>\n",
       "      <th id=\"T_f434b_level0_row9\" class=\"row_heading level0 row9\" >327</th>\n",
       "      <td id=\"T_f434b_row9_col0\" class=\"data row9 col0\" >12</td>\n",
       "    </tr>\n",
       "    <tr>\n",
       "      <th id=\"T_f434b_level0_row10\" class=\"row_heading level0 row10\" >320</th>\n",
       "      <td id=\"T_f434b_row10_col0\" class=\"data row10 col0\" >12</td>\n",
       "    </tr>\n",
       "    <tr>\n",
       "      <th id=\"T_f434b_level0_row11\" class=\"row_heading level0 row11\" >326</th>\n",
       "      <td id=\"T_f434b_row11_col0\" class=\"data row11 col0\" >11</td>\n",
       "    </tr>\n",
       "    <tr>\n",
       "      <th id=\"T_f434b_level0_row12\" class=\"row_heading level0 row12\" >313</th>\n",
       "      <td id=\"T_f434b_row12_col0\" class=\"data row12 col0\" >11</td>\n",
       "    </tr>\n",
       "    <tr>\n",
       "      <th id=\"T_f434b_level0_row13\" class=\"row_heading level0 row13\" >308</th>\n",
       "      <td id=\"T_f434b_row13_col0\" class=\"data row13 col0\" >11</td>\n",
       "    </tr>\n",
       "    <tr>\n",
       "      <th id=\"T_f434b_level0_row14\" class=\"row_heading level0 row14\" >323</th>\n",
       "      <td id=\"T_f434b_row14_col0\" class=\"data row14 col0\" >10</td>\n",
       "    </tr>\n",
       "    <tr>\n",
       "      <th id=\"T_f434b_level0_row15\" class=\"row_heading level0 row15\" >315</th>\n",
       "      <td id=\"T_f434b_row15_col0\" class=\"data row15 col0\" >10</td>\n",
       "    </tr>\n",
       "    <tr>\n",
       "      <th id=\"T_f434b_level0_row16\" class=\"row_heading level0 row16\" >300</th>\n",
       "      <td id=\"T_f434b_row16_col0\" class=\"data row16 col0\" >9</td>\n",
       "    </tr>\n",
       "    <tr>\n",
       "      <th id=\"T_f434b_level0_row17\" class=\"row_heading level0 row17\" >329</th>\n",
       "      <td id=\"T_f434b_row17_col0\" class=\"data row17 col0\" >9</td>\n",
       "    </tr>\n",
       "    <tr>\n",
       "      <th id=\"T_f434b_level0_row18\" class=\"row_heading level0 row18\" >319</th>\n",
       "      <td id=\"T_f434b_row18_col0\" class=\"data row18 col0\" >9</td>\n",
       "    </tr>\n",
       "    <tr>\n",
       "      <th id=\"T_f434b_level0_row19\" class=\"row_heading level0 row19\" >318</th>\n",
       "      <td id=\"T_f434b_row19_col0\" class=\"data row19 col0\" >9</td>\n",
       "    </tr>\n",
       "    <tr>\n",
       "      <th id=\"T_f434b_level0_row20\" class=\"row_heading level0 row20\" >340</th>\n",
       "      <td id=\"T_f434b_row20_col0\" class=\"data row20 col0\" >8</td>\n",
       "    </tr>\n",
       "    <tr>\n",
       "      <th id=\"T_f434b_level0_row21\" class=\"row_heading level0 row21\" >310</th>\n",
       "      <td id=\"T_f434b_row21_col0\" class=\"data row21 col0\" >8</td>\n",
       "    </tr>\n",
       "    <tr>\n",
       "      <th id=\"T_f434b_level0_row22\" class=\"row_heading level0 row22\" >301</th>\n",
       "      <td id=\"T_f434b_row22_col0\" class=\"data row22 col0\" >8</td>\n",
       "    </tr>\n",
       "    <tr>\n",
       "      <th id=\"T_f434b_level0_row23\" class=\"row_heading level0 row23\" >299</th>\n",
       "      <td id=\"T_f434b_row23_col0\" class=\"data row23 col0\" >8</td>\n",
       "    </tr>\n",
       "    <tr>\n",
       "      <th id=\"T_f434b_level0_row24\" class=\"row_heading level0 row24\" >304</th>\n",
       "      <td id=\"T_f434b_row24_col0\" class=\"data row24 col0\" >8</td>\n",
       "    </tr>\n",
       "    <tr>\n",
       "      <th id=\"T_f434b_level0_row25\" class=\"row_heading level0 row25\" >331</th>\n",
       "      <td id=\"T_f434b_row25_col0\" class=\"data row25 col0\" >8</td>\n",
       "    </tr>\n",
       "    <tr>\n",
       "      <th id=\"T_f434b_level0_row26\" class=\"row_heading level0 row26\" >307</th>\n",
       "      <td id=\"T_f434b_row26_col0\" class=\"data row26 col0\" >8</td>\n",
       "    </tr>\n",
       "    <tr>\n",
       "      <th id=\"T_f434b_level0_row27\" class=\"row_heading level0 row27\" >305</th>\n",
       "      <td id=\"T_f434b_row27_col0\" class=\"data row27 col0\" >8</td>\n",
       "    </tr>\n",
       "    <tr>\n",
       "      <th id=\"T_f434b_level0_row28\" class=\"row_heading level0 row28\" >298</th>\n",
       "      <td id=\"T_f434b_row28_col0\" class=\"data row28 col0\" >7</td>\n",
       "    </tr>\n",
       "    <tr>\n",
       "      <th id=\"T_f434b_level0_row29\" class=\"row_heading level0 row29\" >334</th>\n",
       "      <td id=\"T_f434b_row29_col0\" class=\"data row29 col0\" >7</td>\n",
       "    </tr>\n",
       "    <tr>\n",
       "      <th id=\"T_f434b_level0_row30\" class=\"row_heading level0 row30\" >332</th>\n",
       "      <td id=\"T_f434b_row30_col0\" class=\"data row30 col0\" >6</td>\n",
       "    </tr>\n",
       "    <tr>\n",
       "      <th id=\"T_f434b_level0_row31\" class=\"row_heading level0 row31\" >328</th>\n",
       "      <td id=\"T_f434b_row31_col0\" class=\"data row31 col0\" >6</td>\n",
       "    </tr>\n",
       "    <tr>\n",
       "      <th id=\"T_f434b_level0_row32\" class=\"row_heading level0 row32\" >306</th>\n",
       "      <td id=\"T_f434b_row32_col0\" class=\"data row32 col0\" >6</td>\n",
       "    </tr>\n",
       "    <tr>\n",
       "      <th id=\"T_f434b_level0_row33\" class=\"row_heading level0 row33\" >309</th>\n",
       "      <td id=\"T_f434b_row33_col0\" class=\"data row33 col0\" >6</td>\n",
       "    </tr>\n",
       "    <tr>\n",
       "      <th id=\"T_f434b_level0_row34\" class=\"row_heading level0 row34\" >330</th>\n",
       "      <td id=\"T_f434b_row34_col0\" class=\"data row34 col0\" >6</td>\n",
       "    </tr>\n",
       "    <tr>\n",
       "      <th id=\"T_f434b_level0_row35\" class=\"row_heading level0 row35\" >336</th>\n",
       "      <td id=\"T_f434b_row35_col0\" class=\"data row35 col0\" >5</td>\n",
       "    </tr>\n",
       "    <tr>\n",
       "      <th id=\"T_f434b_level0_row36\" class=\"row_heading level0 row36\" >296</th>\n",
       "      <td id=\"T_f434b_row36_col0\" class=\"data row36 col0\" >5</td>\n",
       "    </tr>\n",
       "    <tr>\n",
       "      <th id=\"T_f434b_level0_row37\" class=\"row_heading level0 row37\" >303</th>\n",
       "      <td id=\"T_f434b_row37_col0\" class=\"data row37 col0\" >5</td>\n",
       "    </tr>\n",
       "    <tr>\n",
       "      <th id=\"T_f434b_level0_row38\" class=\"row_heading level0 row38\" >302</th>\n",
       "      <td id=\"T_f434b_row38_col0\" class=\"data row38 col0\" >5</td>\n",
       "    </tr>\n",
       "    <tr>\n",
       "      <th id=\"T_f434b_level0_row39\" class=\"row_heading level0 row39\" >335</th>\n",
       "      <td id=\"T_f434b_row39_col0\" class=\"data row39 col0\" >4</td>\n",
       "    </tr>\n",
       "    <tr>\n",
       "      <th id=\"T_f434b_level0_row40\" class=\"row_heading level0 row40\" >295</th>\n",
       "      <td id=\"T_f434b_row40_col0\" class=\"data row40 col0\" >4</td>\n",
       "    </tr>\n",
       "    <tr>\n",
       "      <th id=\"T_f434b_level0_row41\" class=\"row_heading level0 row41\" >338</th>\n",
       "      <td id=\"T_f434b_row41_col0\" class=\"data row41 col0\" >4</td>\n",
       "    </tr>\n",
       "    <tr>\n",
       "      <th id=\"T_f434b_level0_row42\" class=\"row_heading level0 row42\" >297</th>\n",
       "      <td id=\"T_f434b_row42_col0\" class=\"data row42 col0\" >4</td>\n",
       "    </tr>\n",
       "    <tr>\n",
       "      <th id=\"T_f434b_level0_row43\" class=\"row_heading level0 row43\" >333</th>\n",
       "      <td id=\"T_f434b_row43_col0\" class=\"data row43 col0\" >4</td>\n",
       "    </tr>\n",
       "    <tr>\n",
       "      <th id=\"T_f434b_level0_row44\" class=\"row_heading level0 row44\" >339</th>\n",
       "      <td id=\"T_f434b_row44_col0\" class=\"data row44 col0\" >3</td>\n",
       "    </tr>\n",
       "    <tr>\n",
       "      <th id=\"T_f434b_level0_row45\" class=\"row_heading level0 row45\" >294</th>\n",
       "      <td id=\"T_f434b_row45_col0\" class=\"data row45 col0\" >2</td>\n",
       "    </tr>\n",
       "    <tr>\n",
       "      <th id=\"T_f434b_level0_row46\" class=\"row_heading level0 row46\" >290</th>\n",
       "      <td id=\"T_f434b_row46_col0\" class=\"data row46 col0\" >2</td>\n",
       "    </tr>\n",
       "    <tr>\n",
       "      <th id=\"T_f434b_level0_row47\" class=\"row_heading level0 row47\" >337</th>\n",
       "      <td id=\"T_f434b_row47_col0\" class=\"data row47 col0\" >1</td>\n",
       "    </tr>\n",
       "    <tr>\n",
       "      <th id=\"T_f434b_level0_row48\" class=\"row_heading level0 row48\" >293</th>\n",
       "      <td id=\"T_f434b_row48_col0\" class=\"data row48 col0\" >1</td>\n",
       "    </tr>\n",
       "  </tbody>\n",
       "</table>\n",
       "</td><td><style type=\"text/css\">\n",
       "#T_4dc0e_row0_col0 {\n",
       "  background-color: #000000;\n",
       "  color: #f1f1f1;\n",
       "}\n",
       "#T_4dc0e_row1_col0 {\n",
       "  background-color: #515151;\n",
       "  color: #f1f1f1;\n",
       "}\n",
       "#T_4dc0e_row2_col0 {\n",
       "  background-color: #616161;\n",
       "  color: #f1f1f1;\n",
       "}\n",
       "#T_4dc0e_row3_col0 {\n",
       "  background-color: #686868;\n",
       "  color: #f1f1f1;\n",
       "}\n",
       "#T_4dc0e_row4_col0 {\n",
       "  background-color: #6f6f6f;\n",
       "  color: #f1f1f1;\n",
       "}\n",
       "#T_4dc0e_row5_col0 {\n",
       "  background-color: #868686;\n",
       "  color: #f1f1f1;\n",
       "}\n",
       "#T_4dc0e_row6_col0 {\n",
       "  background-color: #959595;\n",
       "  color: #f1f1f1;\n",
       "}\n",
       "#T_4dc0e_row7_col0 {\n",
       "  background-color: #9f9f9f;\n",
       "  color: #f1f1f1;\n",
       "}\n",
       "#T_4dc0e_row8_col0, #T_4dc0e_row9_col0, #T_4dc0e_row10_col0, #T_4dc0e_row11_col0 {\n",
       "  background-color: #a8a8a8;\n",
       "  color: #f1f1f1;\n",
       "}\n",
       "#T_4dc0e_row12_col0 {\n",
       "  background-color: #b0b0b0;\n",
       "  color: #000000;\n",
       "}\n",
       "#T_4dc0e_row13_col0 {\n",
       "  background-color: #b9b9b9;\n",
       "  color: #000000;\n",
       "}\n",
       "#T_4dc0e_row14_col0 {\n",
       "  background-color: #c0c0c0;\n",
       "  color: #000000;\n",
       "}\n",
       "#T_4dc0e_row15_col0, #T_4dc0e_row16_col0 {\n",
       "  background-color: #d3d3d3;\n",
       "  color: #000000;\n",
       "}\n",
       "#T_4dc0e_row17_col0, #T_4dc0e_row18_col0, #T_4dc0e_row19_col0, #T_4dc0e_row20_col0 {\n",
       "  background-color: #dfdfdf;\n",
       "  color: #000000;\n",
       "}\n",
       "#T_4dc0e_row21_col0 {\n",
       "  background-color: #e4e4e4;\n",
       "  color: #000000;\n",
       "}\n",
       "#T_4dc0e_row22_col0 {\n",
       "  background-color: #e9e9e9;\n",
       "  color: #000000;\n",
       "}\n",
       "#T_4dc0e_row23_col0 {\n",
       "  background-color: #eeeeee;\n",
       "  color: #000000;\n",
       "}\n",
       "#T_4dc0e_row24_col0 {\n",
       "  background-color: #f5f5f5;\n",
       "  color: #000000;\n",
       "}\n",
       "#T_4dc0e_row25_col0, #T_4dc0e_row26_col0 {\n",
       "  background-color: #fcfcfc;\n",
       "  color: #000000;\n",
       "}\n",
       "#T_4dc0e_row27_col0, #T_4dc0e_row28_col0 {\n",
       "  background-color: #ffffff;\n",
       "  color: #000000;\n",
       "}\n",
       "</style>\n",
       "<table id=\"T_4dc0e\">\n",
       "  <thead>\n",
       "    <tr>\n",
       "      <th class=\"blank level0\" >&nbsp;</th>\n",
       "      <th id=\"T_4dc0e_level0_col0\" class=\"col_heading level0 col0\" >count</th>\n",
       "    </tr>\n",
       "    <tr>\n",
       "      <th class=\"index_name level0\" >TOEFLScore</th>\n",
       "      <th class=\"blank col0\" >&nbsp;</th>\n",
       "    </tr>\n",
       "  </thead>\n",
       "  <tbody>\n",
       "    <tr>\n",
       "      <th id=\"T_4dc0e_level0_row0\" class=\"row_heading level0 row0\" >110</th>\n",
       "      <td id=\"T_4dc0e_row0_col0\" class=\"data row0 col0\" >37</td>\n",
       "    </tr>\n",
       "    <tr>\n",
       "      <th id=\"T_4dc0e_level0_row1\" class=\"row_heading level0 row1\" >105</th>\n",
       "      <td id=\"T_4dc0e_row1_col0\" class=\"data row1 col0\" >28</td>\n",
       "    </tr>\n",
       "    <tr>\n",
       "      <th id=\"T_4dc0e_level0_row2\" class=\"row_heading level0 row2\" >107</th>\n",
       "      <td id=\"T_4dc0e_row2_col0\" class=\"data row2 col0\" >26</td>\n",
       "    </tr>\n",
       "    <tr>\n",
       "      <th id=\"T_4dc0e_level0_row3\" class=\"row_heading level0 row3\" >104</th>\n",
       "      <td id=\"T_4dc0e_row3_col0\" class=\"data row3 col0\" >25</td>\n",
       "    </tr>\n",
       "    <tr>\n",
       "      <th id=\"T_4dc0e_level0_row4\" class=\"row_heading level0 row4\" >106</th>\n",
       "      <td id=\"T_4dc0e_row4_col0\" class=\"data row4 col0\" >24</td>\n",
       "    </tr>\n",
       "    <tr>\n",
       "      <th id=\"T_4dc0e_level0_row5\" class=\"row_heading level0 row5\" >112</th>\n",
       "      <td id=\"T_4dc0e_row5_col0\" class=\"data row5 col0\" >21</td>\n",
       "    </tr>\n",
       "    <tr>\n",
       "      <th id=\"T_4dc0e_level0_row6\" class=\"row_heading level0 row6\" >100</th>\n",
       "      <td id=\"T_4dc0e_row6_col0\" class=\"data row6 col0\" >19</td>\n",
       "    </tr>\n",
       "    <tr>\n",
       "      <th id=\"T_4dc0e_level0_row7\" class=\"row_heading level0 row7\" >99</th>\n",
       "      <td id=\"T_4dc0e_row7_col0\" class=\"data row7 col0\" >18</td>\n",
       "    </tr>\n",
       "    <tr>\n",
       "      <th id=\"T_4dc0e_level0_row8\" class=\"row_heading level0 row8\" >111</th>\n",
       "      <td id=\"T_4dc0e_row8_col0\" class=\"data row8 col0\" >17</td>\n",
       "    </tr>\n",
       "    <tr>\n",
       "      <th id=\"T_4dc0e_level0_row9\" class=\"row_heading level0 row9\" >108</th>\n",
       "      <td id=\"T_4dc0e_row9_col0\" class=\"data row9 col0\" >17</td>\n",
       "    </tr>\n",
       "    <tr>\n",
       "      <th id=\"T_4dc0e_level0_row10\" class=\"row_heading level0 row10\" >102</th>\n",
       "      <td id=\"T_4dc0e_row10_col0\" class=\"data row10 col0\" >17</td>\n",
       "    </tr>\n",
       "    <tr>\n",
       "      <th id=\"T_4dc0e_level0_row11\" class=\"row_heading level0 row11\" >109</th>\n",
       "      <td id=\"T_4dc0e_row11_col0\" class=\"data row11 col0\" >17</td>\n",
       "    </tr>\n",
       "    <tr>\n",
       "      <th id=\"T_4dc0e_level0_row12\" class=\"row_heading level0 row12\" >103</th>\n",
       "      <td id=\"T_4dc0e_row12_col0\" class=\"data row12 col0\" >16</td>\n",
       "    </tr>\n",
       "    <tr>\n",
       "      <th id=\"T_4dc0e_level0_row13\" class=\"row_heading level0 row13\" >114</th>\n",
       "      <td id=\"T_4dc0e_row13_col0\" class=\"data row13 col0\" >15</td>\n",
       "    </tr>\n",
       "    <tr>\n",
       "      <th id=\"T_4dc0e_level0_row14\" class=\"row_heading level0 row14\" >113</th>\n",
       "      <td id=\"T_4dc0e_row14_col0\" class=\"data row14 col0\" >14</td>\n",
       "    </tr>\n",
       "    <tr>\n",
       "      <th id=\"T_4dc0e_level0_row15\" class=\"row_heading level0 row15\" >101</th>\n",
       "      <td id=\"T_4dc0e_row15_col0\" class=\"data row15 col0\" >11</td>\n",
       "    </tr>\n",
       "    <tr>\n",
       "      <th id=\"T_4dc0e_level0_row16\" class=\"row_heading level0 row16\" >116</th>\n",
       "      <td id=\"T_4dc0e_row16_col0\" class=\"data row16 col0\" >11</td>\n",
       "    </tr>\n",
       "    <tr>\n",
       "      <th id=\"T_4dc0e_level0_row17\" class=\"row_heading level0 row17\" >98</th>\n",
       "      <td id=\"T_4dc0e_row17_col0\" class=\"data row17 col0\" >9</td>\n",
       "    </tr>\n",
       "    <tr>\n",
       "      <th id=\"T_4dc0e_level0_row18\" class=\"row_heading level0 row18\" >118</th>\n",
       "      <td id=\"T_4dc0e_row18_col0\" class=\"data row18 col0\" >9</td>\n",
       "    </tr>\n",
       "    <tr>\n",
       "      <th id=\"T_4dc0e_level0_row19\" class=\"row_heading level0 row19\" >119</th>\n",
       "      <td id=\"T_4dc0e_row19_col0\" class=\"data row19 col0\" >9</td>\n",
       "    </tr>\n",
       "    <tr>\n",
       "      <th id=\"T_4dc0e_level0_row20\" class=\"row_heading level0 row20\" >115</th>\n",
       "      <td id=\"T_4dc0e_row20_col0\" class=\"data row20 col0\" >9</td>\n",
       "    </tr>\n",
       "    <tr>\n",
       "      <th id=\"T_4dc0e_level0_row21\" class=\"row_heading level0 row21\" >120</th>\n",
       "      <td id=\"T_4dc0e_row21_col0\" class=\"data row21 col0\" >8</td>\n",
       "    </tr>\n",
       "    <tr>\n",
       "      <th id=\"T_4dc0e_level0_row22\" class=\"row_heading level0 row22\" >117</th>\n",
       "      <td id=\"T_4dc0e_row22_col0\" class=\"data row22 col0\" >7</td>\n",
       "    </tr>\n",
       "    <tr>\n",
       "      <th id=\"T_4dc0e_level0_row23\" class=\"row_heading level0 row23\" >97</th>\n",
       "      <td id=\"T_4dc0e_row23_col0\" class=\"data row23 col0\" >6</td>\n",
       "    </tr>\n",
       "    <tr>\n",
       "      <th id=\"T_4dc0e_level0_row24\" class=\"row_heading level0 row24\" >96</th>\n",
       "      <td id=\"T_4dc0e_row24_col0\" class=\"data row24 col0\" >4</td>\n",
       "    </tr>\n",
       "    <tr>\n",
       "      <th id=\"T_4dc0e_level0_row25\" class=\"row_heading level0 row25\" >93</th>\n",
       "      <td id=\"T_4dc0e_row25_col0\" class=\"data row25 col0\" >2</td>\n",
       "    </tr>\n",
       "    <tr>\n",
       "      <th id=\"T_4dc0e_level0_row26\" class=\"row_heading level0 row26\" >95</th>\n",
       "      <td id=\"T_4dc0e_row26_col0\" class=\"data row26 col0\" >2</td>\n",
       "    </tr>\n",
       "    <tr>\n",
       "      <th id=\"T_4dc0e_level0_row27\" class=\"row_heading level0 row27\" >94</th>\n",
       "      <td id=\"T_4dc0e_row27_col0\" class=\"data row27 col0\" >1</td>\n",
       "    </tr>\n",
       "    <tr>\n",
       "      <th id=\"T_4dc0e_level0_row28\" class=\"row_heading level0 row28\" >92</th>\n",
       "      <td id=\"T_4dc0e_row28_col0\" class=\"data row28 col0\" >1</td>\n",
       "    </tr>\n",
       "  </tbody>\n",
       "</table>\n",
       "</td><td><style type=\"text/css\">\n",
       "#T_ea185_row0_col0 {\n",
       "  background-color: #000000;\n",
       "  color: #f1f1f1;\n",
       "}\n",
       "#T_ea185_row1_col0 {\n",
       "  background-color: #505050;\n",
       "  color: #f1f1f1;\n",
       "}\n",
       "#T_ea185_row2_col0 {\n",
       "  background-color: #a7a7a7;\n",
       "  color: #f1f1f1;\n",
       "}\n",
       "#T_ea185_row3_col0 {\n",
       "  background-color: #cacaca;\n",
       "  color: #000000;\n",
       "}\n",
       "#T_ea185_row4_col0 {\n",
       "  background-color: #ffffff;\n",
       "  color: #000000;\n",
       "}\n",
       "</style>\n",
       "<table id=\"T_ea185\">\n",
       "  <thead>\n",
       "    <tr>\n",
       "      <th class=\"blank level0\" >&nbsp;</th>\n",
       "      <th id=\"T_ea185_level0_col0\" class=\"col_heading level0 col0\" >count</th>\n",
       "    </tr>\n",
       "    <tr>\n",
       "      <th class=\"index_name level0\" >UniversityRating</th>\n",
       "      <th class=\"blank col0\" >&nbsp;</th>\n",
       "    </tr>\n",
       "  </thead>\n",
       "  <tbody>\n",
       "    <tr>\n",
       "      <th id=\"T_ea185_level0_row0\" class=\"row_heading level0 row0\" >3</th>\n",
       "      <td id=\"T_ea185_row0_col0\" class=\"data row0 col0\" >133</td>\n",
       "    </tr>\n",
       "    <tr>\n",
       "      <th id=\"T_ea185_level0_row1\" class=\"row_heading level0 row1\" >2</th>\n",
       "      <td id=\"T_ea185_row1_col0\" class=\"data row1 col0\" >107</td>\n",
       "    </tr>\n",
       "    <tr>\n",
       "      <th id=\"T_ea185_level0_row2\" class=\"row_heading level0 row2\" >4</th>\n",
       "      <td id=\"T_ea185_row2_col0\" class=\"data row2 col0\" >74</td>\n",
       "    </tr>\n",
       "    <tr>\n",
       "      <th id=\"T_ea185_level0_row3\" class=\"row_heading level0 row3\" >5</th>\n",
       "      <td id=\"T_ea185_row3_col0\" class=\"data row3 col0\" >60</td>\n",
       "    </tr>\n",
       "    <tr>\n",
       "      <th id=\"T_ea185_level0_row4\" class=\"row_heading level0 row4\" >1</th>\n",
       "      <td id=\"T_ea185_row4_col0\" class=\"data row4 col0\" >26</td>\n",
       "    </tr>\n",
       "  </tbody>\n",
       "</table>\n",
       "</td><td><style type=\"text/css\">\n",
       "#T_5211a_row0_col0, #T_5211a_row1_col0 {\n",
       "  background-color: #000000;\n",
       "  color: #f1f1f1;\n",
       "}\n",
       "#T_5211a_row2_col0 {\n",
       "  background-color: #1b1b1b;\n",
       "  color: #f1f1f1;\n",
       "}\n",
       "#T_5211a_row3_col0 {\n",
       "  background-color: #555555;\n",
       "  color: #f1f1f1;\n",
       "}\n",
       "#T_5211a_row4_col0 {\n",
       "  background-color: #6e6e6e;\n",
       "  color: #f1f1f1;\n",
       "}\n",
       "#T_5211a_row5_col0 {\n",
       "  background-color: #9a9a9a;\n",
       "  color: #f1f1f1;\n",
       "}\n",
       "#T_5211a_row6_col0 {\n",
       "  background-color: #aeaeae;\n",
       "  color: #000000;\n",
       "}\n",
       "#T_5211a_row7_col0 {\n",
       "  background-color: #dfdfdf;\n",
       "  color: #000000;\n",
       "}\n",
       "#T_5211a_row8_col0 {\n",
       "  background-color: #ffffff;\n",
       "  color: #000000;\n",
       "}\n",
       "</style>\n",
       "<table id=\"T_5211a\">\n",
       "  <thead>\n",
       "    <tr>\n",
       "      <th class=\"blank level0\" >&nbsp;</th>\n",
       "      <th id=\"T_5211a_level0_col0\" class=\"col_heading level0 col0\" >count</th>\n",
       "    </tr>\n",
       "    <tr>\n",
       "      <th class=\"index_name level0\" >SOP</th>\n",
       "      <th class=\"blank col0\" >&nbsp;</th>\n",
       "    </tr>\n",
       "  </thead>\n",
       "  <tbody>\n",
       "    <tr>\n",
       "      <th id=\"T_5211a_level0_row0\" class=\"row_heading level0 row0\" >4.000000</th>\n",
       "      <td id=\"T_5211a_row0_col0\" class=\"data row0 col0\" >70</td>\n",
       "    </tr>\n",
       "    <tr>\n",
       "      <th id=\"T_5211a_level0_row1\" class=\"row_heading level0 row1\" >3.500000</th>\n",
       "      <td id=\"T_5211a_row1_col0\" class=\"data row1 col0\" >70</td>\n",
       "    </tr>\n",
       "    <tr>\n",
       "      <th id=\"T_5211a_level0_row2\" class=\"row_heading level0 row2\" >3.000000</th>\n",
       "      <td id=\"T_5211a_row2_col0\" class=\"data row2 col0\" >64</td>\n",
       "    </tr>\n",
       "    <tr>\n",
       "      <th id=\"T_5211a_level0_row3\" class=\"row_heading level0 row3\" >4.500000</th>\n",
       "      <td id=\"T_5211a_row3_col0\" class=\"data row3 col0\" >53</td>\n",
       "    </tr>\n",
       "    <tr>\n",
       "      <th id=\"T_5211a_level0_row4\" class=\"row_heading level0 row4\" >2.500000</th>\n",
       "      <td id=\"T_5211a_row4_col0\" class=\"data row4 col0\" >47</td>\n",
       "    </tr>\n",
       "    <tr>\n",
       "      <th id=\"T_5211a_level0_row5\" class=\"row_heading level0 row5\" >5.000000</th>\n",
       "      <td id=\"T_5211a_row5_col0\" class=\"data row5 col0\" >37</td>\n",
       "    </tr>\n",
       "    <tr>\n",
       "      <th id=\"T_5211a_level0_row6\" class=\"row_heading level0 row6\" >2.000000</th>\n",
       "      <td id=\"T_5211a_row6_col0\" class=\"data row6 col0\" >33</td>\n",
       "    </tr>\n",
       "    <tr>\n",
       "      <th id=\"T_5211a_level0_row7\" class=\"row_heading level0 row7\" >1.500000</th>\n",
       "      <td id=\"T_5211a_row7_col0\" class=\"data row7 col0\" >20</td>\n",
       "    </tr>\n",
       "    <tr>\n",
       "      <th id=\"T_5211a_level0_row8\" class=\"row_heading level0 row8\" >1.000000</th>\n",
       "      <td id=\"T_5211a_row8_col0\" class=\"data row8 col0\" >6</td>\n",
       "    </tr>\n",
       "  </tbody>\n",
       "</table>\n",
       "</td><td><style type=\"text/css\">\n",
       "#T_39203_row0_col0 {\n",
       "  background-color: #000000;\n",
       "  color: #f1f1f1;\n",
       "}\n",
       "#T_39203_row1_col0 {\n",
       "  background-color: #1c1c1c;\n",
       "  color: #f1f1f1;\n",
       "}\n",
       "#T_39203_row2_col0 {\n",
       "  background-color: #2b2b2b;\n",
       "  color: #f1f1f1;\n",
       "}\n",
       "#T_39203_row3_col0 {\n",
       "  background-color: #8f8f8f;\n",
       "  color: #f1f1f1;\n",
       "}\n",
       "#T_39203_row4_col0 {\n",
       "  background-color: #a5a5a5;\n",
       "  color: #f1f1f1;\n",
       "}\n",
       "#T_39203_row5_col0 {\n",
       "  background-color: #a9a9a9;\n",
       "  color: #f1f1f1;\n",
       "}\n",
       "#T_39203_row6_col0 {\n",
       "  background-color: #b4b4b4;\n",
       "  color: #000000;\n",
       "}\n",
       "#T_39203_row7_col0 {\n",
       "  background-color: #f7f7f7;\n",
       "  color: #000000;\n",
       "}\n",
       "#T_39203_row8_col0 {\n",
       "  background-color: #ffffff;\n",
       "  color: #000000;\n",
       "}\n",
       "</style>\n",
       "<table id=\"T_39203\">\n",
       "  <thead>\n",
       "    <tr>\n",
       "      <th class=\"blank level0\" >&nbsp;</th>\n",
       "      <th id=\"T_39203_level0_col0\" class=\"col_heading level0 col0\" >count</th>\n",
       "    </tr>\n",
       "    <tr>\n",
       "      <th class=\"index_name level0\" >LOR</th>\n",
       "      <th class=\"blank col0\" >&nbsp;</th>\n",
       "    </tr>\n",
       "  </thead>\n",
       "  <tbody>\n",
       "    <tr>\n",
       "      <th id=\"T_39203_level0_row0\" class=\"row_heading level0 row0\" >3.000000</th>\n",
       "      <td id=\"T_39203_row0_col0\" class=\"data row0 col0\" >85</td>\n",
       "    </tr>\n",
       "    <tr>\n",
       "      <th id=\"T_39203_level0_row1\" class=\"row_heading level0 row1\" >4.000000</th>\n",
       "      <td id=\"T_39203_row1_col0\" class=\"data row1 col0\" >77</td>\n",
       "    </tr>\n",
       "    <tr>\n",
       "      <th id=\"T_39203_level0_row2\" class=\"row_heading level0 row2\" >3.500000</th>\n",
       "      <td id=\"T_39203_row2_col0\" class=\"data row2 col0\" >73</td>\n",
       "    </tr>\n",
       "    <tr>\n",
       "      <th id=\"T_39203_level0_row3\" class=\"row_heading level0 row3\" >4.500000</th>\n",
       "      <td id=\"T_39203_row3_col0\" class=\"data row3 col0\" >45</td>\n",
       "    </tr>\n",
       "    <tr>\n",
       "      <th id=\"T_39203_level0_row4\" class=\"row_heading level0 row4\" >2.500000</th>\n",
       "      <td id=\"T_39203_row4_col0\" class=\"data row4 col0\" >39</td>\n",
       "    </tr>\n",
       "    <tr>\n",
       "      <th id=\"T_39203_level0_row5\" class=\"row_heading level0 row5\" >2.000000</th>\n",
       "      <td id=\"T_39203_row5_col0\" class=\"data row5 col0\" >38</td>\n",
       "    </tr>\n",
       "    <tr>\n",
       "      <th id=\"T_39203_level0_row6\" class=\"row_heading level0 row6\" >5.000000</th>\n",
       "      <td id=\"T_39203_row6_col0\" class=\"data row6 col0\" >35</td>\n",
       "    </tr>\n",
       "    <tr>\n",
       "      <th id=\"T_39203_level0_row7\" class=\"row_heading level0 row7\" >1.500000</th>\n",
       "      <td id=\"T_39203_row7_col0\" class=\"data row7 col0\" >7</td>\n",
       "    </tr>\n",
       "    <tr>\n",
       "      <th id=\"T_39203_level0_row8\" class=\"row_heading level0 row8\" >1.000000</th>\n",
       "      <td id=\"T_39203_row8_col0\" class=\"data row8 col0\" >1</td>\n",
       "    </tr>\n",
       "  </tbody>\n",
       "</table>\n",
       "</td><td><style type=\"text/css\">\n",
       "#T_7b9ef_row0_col0 {\n",
       "  background-color: #000000;\n",
       "  color: #f1f1f1;\n",
       "}\n",
       "#T_7b9ef_row1_col0 {\n",
       "  background-color: #242424;\n",
       "  color: #f1f1f1;\n",
       "}\n",
       "#T_7b9ef_row2_col0 {\n",
       "  background-color: #515151;\n",
       "  color: #f1f1f1;\n",
       "}\n",
       "#T_7b9ef_row3_col0, #T_7b9ef_row4_col0, #T_7b9ef_row5_col0 {\n",
       "  background-color: #727272;\n",
       "  color: #f1f1f1;\n",
       "}\n",
       "#T_7b9ef_row6_col0, #T_7b9ef_row7_col0, #T_7b9ef_row8_col0, #T_7b9ef_row9_col0, #T_7b9ef_row10_col0, #T_7b9ef_row11_col0, #T_7b9ef_row12_col0, #T_7b9ef_row13_col0, #T_7b9ef_row14_col0, #T_7b9ef_row15_col0, #T_7b9ef_row16_col0 {\n",
       "  background-color: #959595;\n",
       "  color: #f1f1f1;\n",
       "}\n",
       "#T_7b9ef_row17_col0, #T_7b9ef_row18_col0, #T_7b9ef_row19_col0, #T_7b9ef_row20_col0, #T_7b9ef_row21_col0, #T_7b9ef_row22_col0, #T_7b9ef_row23_col0, #T_7b9ef_row24_col0, #T_7b9ef_row25_col0, #T_7b9ef_row26_col0, #T_7b9ef_row27_col0, #T_7b9ef_row28_col0, #T_7b9ef_row29_col0, #T_7b9ef_row30_col0, #T_7b9ef_row31_col0 {\n",
       "  background-color: #bdbdbd;\n",
       "  color: #000000;\n",
       "}\n",
       "#T_7b9ef_row32_col0, #T_7b9ef_row33_col0, #T_7b9ef_row34_col0, #T_7b9ef_row35_col0, #T_7b9ef_row36_col0, #T_7b9ef_row37_col0, #T_7b9ef_row38_col0, #T_7b9ef_row39_col0, #T_7b9ef_row40_col0, #T_7b9ef_row41_col0, #T_7b9ef_row42_col0, #T_7b9ef_row43_col0, #T_7b9ef_row44_col0, #T_7b9ef_row45_col0, #T_7b9ef_row46_col0, #T_7b9ef_row47_col0, #T_7b9ef_row48_col0, #T_7b9ef_row49_col0, #T_7b9ef_row50_col0, #T_7b9ef_row51_col0, #T_7b9ef_row52_col0, #T_7b9ef_row53_col0, #T_7b9ef_row54_col0, #T_7b9ef_row55_col0, #T_7b9ef_row56_col0, #T_7b9ef_row57_col0, #T_7b9ef_row58_col0, #T_7b9ef_row59_col0, #T_7b9ef_row60_col0, #T_7b9ef_row61_col0, #T_7b9ef_row62_col0, #T_7b9ef_row63_col0, #T_7b9ef_row64_col0, #T_7b9ef_row65_col0 {\n",
       "  background-color: #d9d9d9;\n",
       "  color: #000000;\n",
       "}\n",
       "#T_7b9ef_row66_col0, #T_7b9ef_row67_col0, #T_7b9ef_row68_col0, #T_7b9ef_row69_col0, #T_7b9ef_row70_col0, #T_7b9ef_row71_col0, #T_7b9ef_row72_col0, #T_7b9ef_row73_col0, #T_7b9ef_row74_col0, #T_7b9ef_row75_col0, #T_7b9ef_row76_col0, #T_7b9ef_row77_col0, #T_7b9ef_row78_col0, #T_7b9ef_row79_col0, #T_7b9ef_row80_col0, #T_7b9ef_row81_col0, #T_7b9ef_row82_col0, #T_7b9ef_row83_col0, #T_7b9ef_row84_col0, #T_7b9ef_row85_col0, #T_7b9ef_row86_col0, #T_7b9ef_row87_col0, #T_7b9ef_row88_col0, #T_7b9ef_row89_col0, #T_7b9ef_row90_col0, #T_7b9ef_row91_col0, #T_7b9ef_row92_col0, #T_7b9ef_row93_col0, #T_7b9ef_row94_col0, #T_7b9ef_row95_col0, #T_7b9ef_row96_col0, #T_7b9ef_row97_col0, #T_7b9ef_row98_col0, #T_7b9ef_row99_col0, #T_7b9ef_row100_col0, #T_7b9ef_row101_col0, #T_7b9ef_row102_col0, #T_7b9ef_row103_col0, #T_7b9ef_row104_col0 {\n",
       "  background-color: #f0f0f0;\n",
       "  color: #000000;\n",
       "}\n",
       "#T_7b9ef_row105_col0, #T_7b9ef_row106_col0, #T_7b9ef_row107_col0, #T_7b9ef_row108_col0, #T_7b9ef_row109_col0, #T_7b9ef_row110_col0, #T_7b9ef_row111_col0, #T_7b9ef_row112_col0, #T_7b9ef_row113_col0, #T_7b9ef_row114_col0, #T_7b9ef_row115_col0, #T_7b9ef_row116_col0, #T_7b9ef_row117_col0, #T_7b9ef_row118_col0, #T_7b9ef_row119_col0, #T_7b9ef_row120_col0, #T_7b9ef_row121_col0, #T_7b9ef_row122_col0, #T_7b9ef_row123_col0, #T_7b9ef_row124_col0, #T_7b9ef_row125_col0, #T_7b9ef_row126_col0, #T_7b9ef_row127_col0, #T_7b9ef_row128_col0, #T_7b9ef_row129_col0, #T_7b9ef_row130_col0, #T_7b9ef_row131_col0, #T_7b9ef_row132_col0, #T_7b9ef_row133_col0, #T_7b9ef_row134_col0, #T_7b9ef_row135_col0, #T_7b9ef_row136_col0, #T_7b9ef_row137_col0, #T_7b9ef_row138_col0, #T_7b9ef_row139_col0, #T_7b9ef_row140_col0, #T_7b9ef_row141_col0, #T_7b9ef_row142_col0, #T_7b9ef_row143_col0, #T_7b9ef_row144_col0, #T_7b9ef_row145_col0, #T_7b9ef_row146_col0, #T_7b9ef_row147_col0, #T_7b9ef_row148_col0, #T_7b9ef_row149_col0, #T_7b9ef_row150_col0, #T_7b9ef_row151_col0, #T_7b9ef_row152_col0, #T_7b9ef_row153_col0, #T_7b9ef_row154_col0, #T_7b9ef_row155_col0, #T_7b9ef_row156_col0, #T_7b9ef_row157_col0, #T_7b9ef_row158_col0, #T_7b9ef_row159_col0, #T_7b9ef_row160_col0, #T_7b9ef_row161_col0, #T_7b9ef_row162_col0, #T_7b9ef_row163_col0, #T_7b9ef_row164_col0, #T_7b9ef_row165_col0, #T_7b9ef_row166_col0, #T_7b9ef_row167_col0 {\n",
       "  background-color: #ffffff;\n",
       "  color: #000000;\n",
       "}\n",
       "</style>\n",
       "<table id=\"T_7b9ef\">\n",
       "  <thead>\n",
       "    <tr>\n",
       "      <th class=\"blank level0\" >&nbsp;</th>\n",
       "      <th id=\"T_7b9ef_level0_col0\" class=\"col_heading level0 col0\" >count</th>\n",
       "    </tr>\n",
       "    <tr>\n",
       "      <th class=\"index_name level0\" >CGPA</th>\n",
       "      <th class=\"blank col0\" >&nbsp;</th>\n",
       "    </tr>\n",
       "  </thead>\n",
       "  <tbody>\n",
       "    <tr>\n",
       "      <th id=\"T_7b9ef_level0_row0\" class=\"row_heading level0 row0\" >8.000000</th>\n",
       "      <td id=\"T_7b9ef_row0_col0\" class=\"data row0 col0\" >9</td>\n",
       "    </tr>\n",
       "    <tr>\n",
       "      <th id=\"T_7b9ef_level0_row1\" class=\"row_heading level0 row1\" >8.760000</th>\n",
       "      <td id=\"T_7b9ef_row1_col0\" class=\"data row1 col0\" >8</td>\n",
       "    </tr>\n",
       "    <tr>\n",
       "      <th id=\"T_7b9ef_level0_row2\" class=\"row_heading level0 row2\" >8.560000</th>\n",
       "      <td id=\"T_7b9ef_row2_col0\" class=\"data row2 col0\" >7</td>\n",
       "    </tr>\n",
       "    <tr>\n",
       "      <th id=\"T_7b9ef_level0_row3\" class=\"row_heading level0 row3\" >9.110000</th>\n",
       "      <td id=\"T_7b9ef_row3_col0\" class=\"data row3 col0\" >6</td>\n",
       "    </tr>\n",
       "    <tr>\n",
       "      <th id=\"T_7b9ef_level0_row4\" class=\"row_heading level0 row4\" >8.640000</th>\n",
       "      <td id=\"T_7b9ef_row4_col0\" class=\"data row4 col0\" >6</td>\n",
       "    </tr>\n",
       "    <tr>\n",
       "      <th id=\"T_7b9ef_level0_row5\" class=\"row_heading level0 row5\" >8.450000</th>\n",
       "      <td id=\"T_7b9ef_row5_col0\" class=\"data row5 col0\" >6</td>\n",
       "    </tr>\n",
       "    <tr>\n",
       "      <th id=\"T_7b9ef_level0_row6\" class=\"row_heading level0 row6\" >9.040000</th>\n",
       "      <td id=\"T_7b9ef_row6_col0\" class=\"data row6 col0\" >5</td>\n",
       "    </tr>\n",
       "    <tr>\n",
       "      <th id=\"T_7b9ef_level0_row7\" class=\"row_heading level0 row7\" >8.270000</th>\n",
       "      <td id=\"T_7b9ef_row7_col0\" class=\"data row7 col0\" >5</td>\n",
       "    </tr>\n",
       "    <tr>\n",
       "      <th id=\"T_7b9ef_level0_row8\" class=\"row_heading level0 row8\" >8.650000</th>\n",
       "      <td id=\"T_7b9ef_row8_col0\" class=\"data row8 col0\" >5</td>\n",
       "    </tr>\n",
       "    <tr>\n",
       "      <th id=\"T_7b9ef_level0_row9\" class=\"row_heading level0 row9\" >8.540000</th>\n",
       "      <td id=\"T_7b9ef_row9_col0\" class=\"data row9 col0\" >5</td>\n",
       "    </tr>\n",
       "    <tr>\n",
       "      <th id=\"T_7b9ef_level0_row10\" class=\"row_heading level0 row10\" >8.500000</th>\n",
       "      <td id=\"T_7b9ef_row10_col0\" class=\"data row10 col0\" >5</td>\n",
       "    </tr>\n",
       "    <tr>\n",
       "      <th id=\"T_7b9ef_level0_row11\" class=\"row_heading level0 row11\" >8.800000</th>\n",
       "      <td id=\"T_7b9ef_row11_col0\" class=\"data row11 col0\" >5</td>\n",
       "    </tr>\n",
       "    <tr>\n",
       "      <th id=\"T_7b9ef_level0_row12\" class=\"row_heading level0 row12\" >9.100000</th>\n",
       "      <td id=\"T_7b9ef_row12_col0\" class=\"data row12 col0\" >5</td>\n",
       "    </tr>\n",
       "    <tr>\n",
       "      <th id=\"T_7b9ef_level0_row13\" class=\"row_heading level0 row13\" >9.000000</th>\n",
       "      <td id=\"T_7b9ef_row13_col0\" class=\"data row13 col0\" >5</td>\n",
       "    </tr>\n",
       "    <tr>\n",
       "      <th id=\"T_7b9ef_level0_row14\" class=\"row_heading level0 row14\" >8.120000</th>\n",
       "      <td id=\"T_7b9ef_row14_col0\" class=\"data row14 col0\" >5</td>\n",
       "    </tr>\n",
       "    <tr>\n",
       "      <th id=\"T_7b9ef_level0_row15\" class=\"row_heading level0 row15\" >8.200000</th>\n",
       "      <td id=\"T_7b9ef_row15_col0\" class=\"data row15 col0\" >5</td>\n",
       "    </tr>\n",
       "    <tr>\n",
       "      <th id=\"T_7b9ef_level0_row16\" class=\"row_heading level0 row16\" >8.670000</th>\n",
       "      <td id=\"T_7b9ef_row16_col0\" class=\"data row16 col0\" >5</td>\n",
       "    </tr>\n",
       "    <tr>\n",
       "      <th id=\"T_7b9ef_level0_row17\" class=\"row_heading level0 row17\" >9.450000</th>\n",
       "      <td id=\"T_7b9ef_row17_col0\" class=\"data row17 col0\" >4</td>\n",
       "    </tr>\n",
       "    <tr>\n",
       "      <th id=\"T_7b9ef_level0_row18\" class=\"row_heading level0 row18\" >7.860000</th>\n",
       "      <td id=\"T_7b9ef_row18_col0\" class=\"data row18 col0\" >4</td>\n",
       "    </tr>\n",
       "    <tr>\n",
       "      <th id=\"T_7b9ef_level0_row19\" class=\"row_heading level0 row19\" >8.340000</th>\n",
       "      <td id=\"T_7b9ef_row19_col0\" class=\"data row19 col0\" >4</td>\n",
       "    </tr>\n",
       "    <tr>\n",
       "      <th id=\"T_7b9ef_level0_row20\" class=\"row_heading level0 row20\" >9.360000</th>\n",
       "      <td id=\"T_7b9ef_row20_col0\" class=\"data row20 col0\" >4</td>\n",
       "    </tr>\n",
       "    <tr>\n",
       "      <th id=\"T_7b9ef_level0_row21\" class=\"row_heading level0 row21\" >8.660000</th>\n",
       "      <td id=\"T_7b9ef_row21_col0\" class=\"data row21 col0\" >4</td>\n",
       "    </tr>\n",
       "    <tr>\n",
       "      <th id=\"T_7b9ef_level0_row22\" class=\"row_heading level0 row22\" >8.790000</th>\n",
       "      <td id=\"T_7b9ef_row22_col0\" class=\"data row22 col0\" >4</td>\n",
       "    </tr>\n",
       "    <tr>\n",
       "      <th id=\"T_7b9ef_level0_row23\" class=\"row_heading level0 row23\" >8.260000</th>\n",
       "      <td id=\"T_7b9ef_row23_col0\" class=\"data row23 col0\" >4</td>\n",
       "    </tr>\n",
       "    <tr>\n",
       "      <th id=\"T_7b9ef_level0_row24\" class=\"row_heading level0 row24\" >7.900000</th>\n",
       "      <td id=\"T_7b9ef_row24_col0\" class=\"data row24 col0\" >4</td>\n",
       "    </tr>\n",
       "    <tr>\n",
       "      <th id=\"T_7b9ef_level0_row25\" class=\"row_heading level0 row25\" >8.300000</th>\n",
       "      <td id=\"T_7b9ef_row25_col0\" class=\"data row25 col0\" >4</td>\n",
       "    </tr>\n",
       "    <tr>\n",
       "      <th id=\"T_7b9ef_level0_row26\" class=\"row_heading level0 row26\" >8.100000</th>\n",
       "      <td id=\"T_7b9ef_row26_col0\" class=\"data row26 col0\" >4</td>\n",
       "    </tr>\n",
       "    <tr>\n",
       "      <th id=\"T_7b9ef_level0_row27\" class=\"row_heading level0 row27\" >8.400000</th>\n",
       "      <td id=\"T_7b9ef_row27_col0\" class=\"data row27 col0\" >4</td>\n",
       "    </tr>\n",
       "    <tr>\n",
       "      <th id=\"T_7b9ef_level0_row28\" class=\"row_heading level0 row28\" >7.890000</th>\n",
       "      <td id=\"T_7b9ef_row28_col0\" class=\"data row28 col0\" >4</td>\n",
       "    </tr>\n",
       "    <tr>\n",
       "      <th id=\"T_7b9ef_level0_row29\" class=\"row_heading level0 row29\" >9.230000</th>\n",
       "      <td id=\"T_7b9ef_row29_col0\" class=\"data row29 col0\" >4</td>\n",
       "    </tr>\n",
       "    <tr>\n",
       "      <th id=\"T_7b9ef_level0_row30\" class=\"row_heading level0 row30\" >7.650000</th>\n",
       "      <td id=\"T_7b9ef_row30_col0\" class=\"data row30 col0\" >4</td>\n",
       "    </tr>\n",
       "    <tr>\n",
       "      <th id=\"T_7b9ef_level0_row31\" class=\"row_heading level0 row31\" >8.330000</th>\n",
       "      <td id=\"T_7b9ef_row31_col0\" class=\"data row31 col0\" >4</td>\n",
       "    </tr>\n",
       "    <tr>\n",
       "      <th id=\"T_7b9ef_level0_row32\" class=\"row_heading level0 row32\" >8.960000</th>\n",
       "      <td id=\"T_7b9ef_row32_col0\" class=\"data row32 col0\" >3</td>\n",
       "    </tr>\n",
       "    <tr>\n",
       "      <th id=\"T_7b9ef_level0_row33\" class=\"row_heading level0 row33\" >9.140000</th>\n",
       "      <td id=\"T_7b9ef_row33_col0\" class=\"data row33 col0\" >3</td>\n",
       "    </tr>\n",
       "    <tr>\n",
       "      <th id=\"T_7b9ef_level0_row34\" class=\"row_heading level0 row34\" >8.780000</th>\n",
       "      <td id=\"T_7b9ef_row34_col0\" class=\"data row34 col0\" >3</td>\n",
       "    </tr>\n",
       "    <tr>\n",
       "      <th id=\"T_7b9ef_level0_row35\" class=\"row_heading level0 row35\" >8.480000</th>\n",
       "      <td id=\"T_7b9ef_row35_col0\" class=\"data row35 col0\" >3</td>\n",
       "    </tr>\n",
       "    <tr>\n",
       "      <th id=\"T_7b9ef_level0_row36\" class=\"row_heading level0 row36\" >9.660000</th>\n",
       "      <td id=\"T_7b9ef_row36_col0\" class=\"data row36 col0\" >3</td>\n",
       "    </tr>\n",
       "    <tr>\n",
       "      <th id=\"T_7b9ef_level0_row37\" class=\"row_heading level0 row37\" >8.680000</th>\n",
       "      <td id=\"T_7b9ef_row37_col0\" class=\"data row37 col0\" >3</td>\n",
       "    </tr>\n",
       "    <tr>\n",
       "      <th id=\"T_7b9ef_level0_row38\" class=\"row_heading level0 row38\" >7.880000</th>\n",
       "      <td id=\"T_7b9ef_row38_col0\" class=\"data row38 col0\" >3</td>\n",
       "    </tr>\n",
       "    <tr>\n",
       "      <th id=\"T_7b9ef_level0_row39\" class=\"row_heading level0 row39\" >8.030000</th>\n",
       "      <td id=\"T_7b9ef_row39_col0\" class=\"data row39 col0\" >3</td>\n",
       "    </tr>\n",
       "    <tr>\n",
       "      <th id=\"T_7b9ef_level0_row40\" class=\"row_heading level0 row40\" >8.970000</th>\n",
       "      <td id=\"T_7b9ef_row40_col0\" class=\"data row40 col0\" >3</td>\n",
       "    </tr>\n",
       "    <tr>\n",
       "      <th id=\"T_7b9ef_level0_row41\" class=\"row_heading level0 row41\" >8.430000</th>\n",
       "      <td id=\"T_7b9ef_row41_col0\" class=\"data row41 col0\" >3</td>\n",
       "    </tr>\n",
       "    <tr>\n",
       "      <th id=\"T_7b9ef_level0_row42\" class=\"row_heading level0 row42\" >7.460000</th>\n",
       "      <td id=\"T_7b9ef_row42_col0\" class=\"data row42 col0\" >3</td>\n",
       "    </tr>\n",
       "    <tr>\n",
       "      <th id=\"T_7b9ef_level0_row43\" class=\"row_heading level0 row43\" >7.640000</th>\n",
       "      <td id=\"T_7b9ef_row43_col0\" class=\"data row43 col0\" >3</td>\n",
       "    </tr>\n",
       "    <tr>\n",
       "      <th id=\"T_7b9ef_level0_row44\" class=\"row_heading level0 row44\" >8.360000</th>\n",
       "      <td id=\"T_7b9ef_row44_col0\" class=\"data row44 col0\" >3</td>\n",
       "    </tr>\n",
       "    <tr>\n",
       "      <th id=\"T_7b9ef_level0_row45\" class=\"row_heading level0 row45\" >8.870000</th>\n",
       "      <td id=\"T_7b9ef_row45_col0\" class=\"data row45 col0\" >3</td>\n",
       "    </tr>\n",
       "    <tr>\n",
       "      <th id=\"T_7b9ef_level0_row46\" class=\"row_heading level0 row46\" >9.130000</th>\n",
       "      <td id=\"T_7b9ef_row46_col0\" class=\"data row46 col0\" >3</td>\n",
       "    </tr>\n",
       "    <tr>\n",
       "      <th id=\"T_7b9ef_level0_row47\" class=\"row_heading level0 row47\" >8.770000</th>\n",
       "      <td id=\"T_7b9ef_row47_col0\" class=\"data row47 col0\" >3</td>\n",
       "    </tr>\n",
       "    <tr>\n",
       "      <th id=\"T_7b9ef_level0_row48\" class=\"row_heading level0 row48\" >8.160000</th>\n",
       "      <td id=\"T_7b9ef_row48_col0\" class=\"data row48 col0\" >3</td>\n",
       "    </tr>\n",
       "    <tr>\n",
       "      <th id=\"T_7b9ef_level0_row49\" class=\"row_heading level0 row49\" >9.080000</th>\n",
       "      <td id=\"T_7b9ef_row49_col0\" class=\"data row49 col0\" >3</td>\n",
       "    </tr>\n",
       "    <tr>\n",
       "      <th id=\"T_7b9ef_level0_row50\" class=\"row_heading level0 row50\" >9.120000</th>\n",
       "      <td id=\"T_7b9ef_row50_col0\" class=\"data row50 col0\" >3</td>\n",
       "    </tr>\n",
       "    <tr>\n",
       "      <th id=\"T_7b9ef_level0_row51\" class=\"row_heading level0 row51\" >8.040000</th>\n",
       "      <td id=\"T_7b9ef_row51_col0\" class=\"data row51 col0\" >3</td>\n",
       "    </tr>\n",
       "    <tr>\n",
       "      <th id=\"T_7b9ef_level0_row52\" class=\"row_heading level0 row52\" >8.690000</th>\n",
       "      <td id=\"T_7b9ef_row52_col0\" class=\"data row52 col0\" >3</td>\n",
       "    </tr>\n",
       "    <tr>\n",
       "      <th id=\"T_7b9ef_level0_row53\" class=\"row_heading level0 row53\" >7.660000</th>\n",
       "      <td id=\"T_7b9ef_row53_col0\" class=\"data row53 col0\" >3</td>\n",
       "    </tr>\n",
       "    <tr>\n",
       "      <th id=\"T_7b9ef_level0_row54\" class=\"row_heading level0 row54\" >8.460000</th>\n",
       "      <td id=\"T_7b9ef_row54_col0\" class=\"data row54 col0\" >3</td>\n",
       "    </tr>\n",
       "    <tr>\n",
       "      <th id=\"T_7b9ef_level0_row55\" class=\"row_heading level0 row55\" >9.020000</th>\n",
       "      <td id=\"T_7b9ef_row55_col0\" class=\"data row55 col0\" >3</td>\n",
       "    </tr>\n",
       "    <tr>\n",
       "      <th id=\"T_7b9ef_level0_row56\" class=\"row_heading level0 row56\" >9.220000</th>\n",
       "      <td id=\"T_7b9ef_row56_col0\" class=\"data row56 col0\" >3</td>\n",
       "    </tr>\n",
       "    <tr>\n",
       "      <th id=\"T_7b9ef_level0_row57\" class=\"row_heading level0 row57\" >8.900000</th>\n",
       "      <td id=\"T_7b9ef_row57_col0\" class=\"data row57 col0\" >3</td>\n",
       "    </tr>\n",
       "    <tr>\n",
       "      <th id=\"T_7b9ef_level0_row58\" class=\"row_heading level0 row58\" >7.800000</th>\n",
       "      <td id=\"T_7b9ef_row58_col0\" class=\"data row58 col0\" >3</td>\n",
       "    </tr>\n",
       "    <tr>\n",
       "      <th id=\"T_7b9ef_level0_row59\" class=\"row_heading level0 row59\" >8.240000</th>\n",
       "      <td id=\"T_7b9ef_row59_col0\" class=\"data row59 col0\" >3</td>\n",
       "    </tr>\n",
       "    <tr>\n",
       "      <th id=\"T_7b9ef_level0_row60\" class=\"row_heading level0 row60\" >9.160000</th>\n",
       "      <td id=\"T_7b9ef_row60_col0\" class=\"data row60 col0\" >3</td>\n",
       "    </tr>\n",
       "    <tr>\n",
       "      <th id=\"T_7b9ef_level0_row61\" class=\"row_heading level0 row61\" >8.440000</th>\n",
       "      <td id=\"T_7b9ef_row61_col0\" class=\"data row61 col0\" >3</td>\n",
       "    </tr>\n",
       "    <tr>\n",
       "      <th id=\"T_7b9ef_level0_row62\" class=\"row_heading level0 row62\" >8.020000</th>\n",
       "      <td id=\"T_7b9ef_row62_col0\" class=\"data row62 col0\" >3</td>\n",
       "    </tr>\n",
       "    <tr>\n",
       "      <th id=\"T_7b9ef_level0_row63\" class=\"row_heading level0 row63\" >9.800000</th>\n",
       "      <td id=\"T_7b9ef_row63_col0\" class=\"data row63 col0\" >3</td>\n",
       "    </tr>\n",
       "    <tr>\n",
       "      <th id=\"T_7b9ef_level0_row64\" class=\"row_heading level0 row64\" >8.420000</th>\n",
       "      <td id=\"T_7b9ef_row64_col0\" class=\"data row64 col0\" >3</td>\n",
       "    </tr>\n",
       "    <tr>\n",
       "      <th id=\"T_7b9ef_level0_row65\" class=\"row_heading level0 row65\" >8.220000</th>\n",
       "      <td id=\"T_7b9ef_row65_col0\" class=\"data row65 col0\" >3</td>\n",
       "    </tr>\n",
       "    <tr>\n",
       "      <th id=\"T_7b9ef_level0_row66\" class=\"row_heading level0 row66\" >9.700000</th>\n",
       "      <td id=\"T_7b9ef_row66_col0\" class=\"data row66 col0\" >2</td>\n",
       "    </tr>\n",
       "    <tr>\n",
       "      <th id=\"T_7b9ef_level0_row67\" class=\"row_heading level0 row67\" >9.170000</th>\n",
       "      <td id=\"T_7b9ef_row67_col0\" class=\"data row67 col0\" >2</td>\n",
       "    </tr>\n",
       "    <tr>\n",
       "      <th id=\"T_7b9ef_level0_row68\" class=\"row_heading level0 row68\" >8.140000</th>\n",
       "      <td id=\"T_7b9ef_row68_col0\" class=\"data row68 col0\" >2</td>\n",
       "    </tr>\n",
       "    <tr>\n",
       "      <th id=\"T_7b9ef_level0_row69\" class=\"row_heading level0 row69\" >9.150000</th>\n",
       "      <td id=\"T_7b9ef_row69_col0\" class=\"data row69 col0\" >2</td>\n",
       "    </tr>\n",
       "    <tr>\n",
       "      <th id=\"T_7b9ef_level0_row70\" class=\"row_heading level0 row70\" >9.440000</th>\n",
       "      <td id=\"T_7b9ef_row70_col0\" class=\"data row70 col0\" >2</td>\n",
       "    </tr>\n",
       "    <tr>\n",
       "      <th id=\"T_7b9ef_level0_row71\" class=\"row_heading level0 row71\" >8.570000</th>\n",
       "      <td id=\"T_7b9ef_row71_col0\" class=\"data row71 col0\" >2</td>\n",
       "    </tr>\n",
       "    <tr>\n",
       "      <th id=\"T_7b9ef_level0_row72\" class=\"row_heading level0 row72\" >9.280000</th>\n",
       "      <td id=\"T_7b9ef_row72_col0\" class=\"data row72 col0\" >2</td>\n",
       "    </tr>\n",
       "    <tr>\n",
       "      <th id=\"T_7b9ef_level0_row73\" class=\"row_heading level0 row73\" >8.740000</th>\n",
       "      <td id=\"T_7b9ef_row73_col0\" class=\"data row73 col0\" >2</td>\n",
       "    </tr>\n",
       "    <tr>\n",
       "      <th id=\"T_7b9ef_level0_row74\" class=\"row_heading level0 row74\" >9.190000</th>\n",
       "      <td id=\"T_7b9ef_row74_col0\" class=\"data row74 col0\" >2</td>\n",
       "    </tr>\n",
       "    <tr>\n",
       "      <th id=\"T_7b9ef_level0_row75\" class=\"row_heading level0 row75\" >7.430000</th>\n",
       "      <td id=\"T_7b9ef_row75_col0\" class=\"data row75 col0\" >2</td>\n",
       "    </tr>\n",
       "    <tr>\n",
       "      <th id=\"T_7b9ef_level0_row76\" class=\"row_heading level0 row76\" >8.370000</th>\n",
       "      <td id=\"T_7b9ef_row76_col0\" class=\"data row76 col0\" >2</td>\n",
       "    </tr>\n",
       "    <tr>\n",
       "      <th id=\"T_7b9ef_level0_row77\" class=\"row_heading level0 row77\" >9.060000</th>\n",
       "      <td id=\"T_7b9ef_row77_col0\" class=\"data row77 col0\" >2</td>\n",
       "    </tr>\n",
       "    <tr>\n",
       "      <th id=\"T_7b9ef_level0_row78\" class=\"row_heading level0 row78\" >8.750000</th>\n",
       "      <td id=\"T_7b9ef_row78_col0\" class=\"data row78 col0\" >2</td>\n",
       "    </tr>\n",
       "    <tr>\n",
       "      <th id=\"T_7b9ef_level0_row79\" class=\"row_heading level0 row79\" >8.730000</th>\n",
       "      <td id=\"T_7b9ef_row79_col0\" class=\"data row79 col0\" >2</td>\n",
       "    </tr>\n",
       "    <tr>\n",
       "      <th id=\"T_7b9ef_level0_row80\" class=\"row_heading level0 row80\" >8.320000</th>\n",
       "      <td id=\"T_7b9ef_row80_col0\" class=\"data row80 col0\" >2</td>\n",
       "    </tr>\n",
       "    <tr>\n",
       "      <th id=\"T_7b9ef_level0_row81\" class=\"row_heading level0 row81\" >9.010000</th>\n",
       "      <td id=\"T_7b9ef_row81_col0\" class=\"data row81 col0\" >2</td>\n",
       "    </tr>\n",
       "    <tr>\n",
       "      <th id=\"T_7b9ef_level0_row82\" class=\"row_heading level0 row82\" >9.400000</th>\n",
       "      <td id=\"T_7b9ef_row82_col0\" class=\"data row82 col0\" >2</td>\n",
       "    </tr>\n",
       "    <tr>\n",
       "      <th id=\"T_7b9ef_level0_row83\" class=\"row_heading level0 row83\" >9.600000</th>\n",
       "      <td id=\"T_7b9ef_row83_col0\" class=\"data row83 col0\" >2</td>\n",
       "    </tr>\n",
       "    <tr>\n",
       "      <th id=\"T_7b9ef_level0_row84\" class=\"row_heading level0 row84\" >7.700000</th>\n",
       "      <td id=\"T_7b9ef_row84_col0\" class=\"data row84 col0\" >2</td>\n",
       "    </tr>\n",
       "    <tr>\n",
       "      <th id=\"T_7b9ef_level0_row85\" class=\"row_heading level0 row85\" >8.170000</th>\n",
       "      <td id=\"T_7b9ef_row85_col0\" class=\"data row85 col0\" >2</td>\n",
       "    </tr>\n",
       "    <tr>\n",
       "      <th id=\"T_7b9ef_level0_row86\" class=\"row_heading level0 row86\" >9.500000</th>\n",
       "      <td id=\"T_7b9ef_row86_col0\" class=\"data row86 col0\" >2</td>\n",
       "    </tr>\n",
       "    <tr>\n",
       "      <th id=\"T_7b9ef_level0_row87\" class=\"row_heading level0 row87\" >8.070000</th>\n",
       "      <td id=\"T_7b9ef_row87_col0\" class=\"data row87 col0\" >2</td>\n",
       "    </tr>\n",
       "    <tr>\n",
       "      <th id=\"T_7b9ef_level0_row88\" class=\"row_heading level0 row88\" >8.130000</th>\n",
       "      <td id=\"T_7b9ef_row88_col0\" class=\"data row88 col0\" >2</td>\n",
       "    </tr>\n",
       "    <tr>\n",
       "      <th id=\"T_7b9ef_level0_row89\" class=\"row_heading level0 row89\" >9.240000</th>\n",
       "      <td id=\"T_7b9ef_row89_col0\" class=\"data row89 col0\" >2</td>\n",
       "    </tr>\n",
       "    <tr>\n",
       "      <th id=\"T_7b9ef_level0_row90\" class=\"row_heading level0 row90\" >8.180000</th>\n",
       "      <td id=\"T_7b9ef_row90_col0\" class=\"data row90 col0\" >2</td>\n",
       "    </tr>\n",
       "    <tr>\n",
       "      <th id=\"T_7b9ef_level0_row91\" class=\"row_heading level0 row91\" >9.260000</th>\n",
       "      <td id=\"T_7b9ef_row91_col0\" class=\"data row91 col0\" >2</td>\n",
       "    </tr>\n",
       "    <tr>\n",
       "      <th id=\"T_7b9ef_level0_row92\" class=\"row_heading level0 row92\" >8.210000</th>\n",
       "      <td id=\"T_7b9ef_row92_col0\" class=\"data row92 col0\" >2</td>\n",
       "    </tr>\n",
       "    <tr>\n",
       "      <th id=\"T_7b9ef_level0_row93\" class=\"row_heading level0 row93\" >8.470000</th>\n",
       "      <td id=\"T_7b9ef_row93_col0\" class=\"data row93 col0\" >2</td>\n",
       "    </tr>\n",
       "    <tr>\n",
       "      <th id=\"T_7b9ef_level0_row94\" class=\"row_heading level0 row94\" >9.340000</th>\n",
       "      <td id=\"T_7b9ef_row94_col0\" class=\"data row94 col0\" >2</td>\n",
       "    </tr>\n",
       "    <tr>\n",
       "      <th id=\"T_7b9ef_level0_row95\" class=\"row_heading level0 row95\" >8.600000</th>\n",
       "      <td id=\"T_7b9ef_row95_col0\" class=\"data row95 col0\" >2</td>\n",
       "    </tr>\n",
       "    <tr>\n",
       "      <th id=\"T_7b9ef_level0_row96\" class=\"row_heading level0 row96\" >9.180000</th>\n",
       "      <td id=\"T_7b9ef_row96_col0\" class=\"data row96 col0\" >2</td>\n",
       "    </tr>\n",
       "    <tr>\n",
       "      <th id=\"T_7b9ef_level0_row97\" class=\"row_heading level0 row97\" >8.700000</th>\n",
       "      <td id=\"T_7b9ef_row97_col0\" class=\"data row97 col0\" >2</td>\n",
       "    </tr>\n",
       "    <tr>\n",
       "      <th id=\"T_7b9ef_level0_row98\" class=\"row_heading level0 row98\" >8.530000</th>\n",
       "      <td id=\"T_7b9ef_row98_col0\" class=\"data row98 col0\" >2</td>\n",
       "    </tr>\n",
       "    <tr>\n",
       "      <th id=\"T_7b9ef_level0_row99\" class=\"row_heading level0 row99\" >9.760000</th>\n",
       "      <td id=\"T_7b9ef_row99_col0\" class=\"data row99 col0\" >2</td>\n",
       "    </tr>\n",
       "    <tr>\n",
       "      <th id=\"T_7b9ef_level0_row100\" class=\"row_heading level0 row100\" >8.620000</th>\n",
       "      <td id=\"T_7b9ef_row100_col0\" class=\"data row100 col0\" >2</td>\n",
       "    </tr>\n",
       "    <tr>\n",
       "      <th id=\"T_7b9ef_level0_row101\" class=\"row_heading level0 row101\" >7.340000</th>\n",
       "      <td id=\"T_7b9ef_row101_col0\" class=\"data row101 col0\" >2</td>\n",
       "    </tr>\n",
       "    <tr>\n",
       "      <th id=\"T_7b9ef_level0_row102\" class=\"row_heading level0 row102\" >8.010000</th>\n",
       "      <td id=\"T_7b9ef_row102_col0\" class=\"data row102 col0\" >2</td>\n",
       "    </tr>\n",
       "    <tr>\n",
       "      <th id=\"T_7b9ef_level0_row103\" class=\"row_heading level0 row103\" >8.840000</th>\n",
       "      <td id=\"T_7b9ef_row103_col0\" class=\"data row103 col0\" >2</td>\n",
       "    </tr>\n",
       "    <tr>\n",
       "      <th id=\"T_7b9ef_level0_row104\" class=\"row_heading level0 row104\" >7.500000</th>\n",
       "      <td id=\"T_7b9ef_row104_col0\" class=\"data row104 col0\" >2</td>\n",
       "    </tr>\n",
       "    <tr>\n",
       "      <th id=\"T_7b9ef_level0_row105\" class=\"row_heading level0 row105\" >9.310000</th>\n",
       "      <td id=\"T_7b9ef_row105_col0\" class=\"data row105 col0\" >1</td>\n",
       "    </tr>\n",
       "    <tr>\n",
       "      <th id=\"T_7b9ef_level0_row106\" class=\"row_heading level0 row106\" >8.230000</th>\n",
       "      <td id=\"T_7b9ef_row106_col0\" class=\"data row106 col0\" >1</td>\n",
       "    </tr>\n",
       "    <tr>\n",
       "      <th id=\"T_7b9ef_level0_row107\" class=\"row_heading level0 row107\" >7.680000</th>\n",
       "      <td id=\"T_7b9ef_row107_col0\" class=\"data row107 col0\" >1</td>\n",
       "    </tr>\n",
       "    <tr>\n",
       "      <th id=\"T_7b9ef_level0_row108\" class=\"row_heading level0 row108\" >9.540000</th>\n",
       "      <td id=\"T_7b9ef_row108_col0\" class=\"data row108 col0\" >1</td>\n",
       "    </tr>\n",
       "    <tr>\n",
       "      <th id=\"T_7b9ef_level0_row109\" class=\"row_heading level0 row109\" >8.150000</th>\n",
       "      <td id=\"T_7b9ef_row109_col0\" class=\"data row109 col0\" >1</td>\n",
       "    </tr>\n",
       "    <tr>\n",
       "      <th id=\"T_7b9ef_level0_row110\" class=\"row_heading level0 row110\" >9.820000</th>\n",
       "      <td id=\"T_7b9ef_row110_col0\" class=\"data row110 col0\" >1</td>\n",
       "    </tr>\n",
       "    <tr>\n",
       "      <th id=\"T_7b9ef_level0_row111\" class=\"row_heading level0 row111\" >8.550000</th>\n",
       "      <td id=\"T_7b9ef_row111_col0\" class=\"data row111 col0\" >1</td>\n",
       "    </tr>\n",
       "    <tr>\n",
       "      <th id=\"T_7b9ef_level0_row112\" class=\"row_heading level0 row112\" >7.970000</th>\n",
       "      <td id=\"T_7b9ef_row112_col0\" class=\"data row112 col0\" >1</td>\n",
       "    </tr>\n",
       "    <tr>\n",
       "      <th id=\"T_7b9ef_level0_row113\" class=\"row_heading level0 row113\" >7.870000</th>\n",
       "      <td id=\"T_7b9ef_row113_col0\" class=\"data row113 col0\" >1</td>\n",
       "    </tr>\n",
       "    <tr>\n",
       "      <th id=\"T_7b9ef_level0_row114\" class=\"row_heading level0 row114\" >9.470000</th>\n",
       "      <td id=\"T_7b9ef_row114_col0\" class=\"data row114 col0\" >1</td>\n",
       "    </tr>\n",
       "    <tr>\n",
       "      <th id=\"T_7b9ef_level0_row115\" class=\"row_heading level0 row115\" >8.490000</th>\n",
       "      <td id=\"T_7b9ef_row115_col0\" class=\"data row115 col0\" >1</td>\n",
       "    </tr>\n",
       "    <tr>\n",
       "      <th id=\"T_7b9ef_level0_row116\" class=\"row_heading level0 row116\" >7.950000</th>\n",
       "      <td id=\"T_7b9ef_row116_col0\" class=\"data row116 col0\" >1</td>\n",
       "    </tr>\n",
       "    <tr>\n",
       "      <th id=\"T_7b9ef_level0_row117\" class=\"row_heading level0 row117\" >8.090000</th>\n",
       "      <td id=\"T_7b9ef_row117_col0\" class=\"data row117 col0\" >1</td>\n",
       "    </tr>\n",
       "    <tr>\n",
       "      <th id=\"T_7b9ef_level0_row118\" class=\"row_heading level0 row118\" >9.680000</th>\n",
       "      <td id=\"T_7b9ef_row118_col0\" class=\"data row118 col0\" >1</td>\n",
       "    </tr>\n",
       "    <tr>\n",
       "      <th id=\"T_7b9ef_level0_row119\" class=\"row_heading level0 row119\" >7.250000</th>\n",
       "      <td id=\"T_7b9ef_row119_col0\" class=\"data row119 col0\" >1</td>\n",
       "    </tr>\n",
       "    <tr>\n",
       "      <th id=\"T_7b9ef_level0_row120\" class=\"row_heading level0 row120\" >8.060000</th>\n",
       "      <td id=\"T_7b9ef_row120_col0\" class=\"data row120 col0\" >1</td>\n",
       "    </tr>\n",
       "    <tr>\n",
       "      <th id=\"T_7b9ef_level0_row121\" class=\"row_heading level0 row121\" >7.670000</th>\n",
       "      <td id=\"T_7b9ef_row121_col0\" class=\"data row121 col0\" >1</td>\n",
       "    </tr>\n",
       "    <tr>\n",
       "      <th id=\"T_7b9ef_level0_row122\" class=\"row_heading level0 row122\" >9.620000</th>\n",
       "      <td id=\"T_7b9ef_row122_col0\" class=\"data row122 col0\" >1</td>\n",
       "    </tr>\n",
       "    <tr>\n",
       "      <th id=\"T_7b9ef_level0_row123\" class=\"row_heading level0 row123\" >8.830000</th>\n",
       "      <td id=\"T_7b9ef_row123_col0\" class=\"data row123 col0\" >1</td>\n",
       "    </tr>\n",
       "    <tr>\n",
       "      <th id=\"T_7b9ef_level0_row124\" class=\"row_heading level0 row124\" >7.560000</th>\n",
       "      <td id=\"T_7b9ef_row124_col0\" class=\"data row124 col0\" >1</td>\n",
       "    </tr>\n",
       "    <tr>\n",
       "      <th id=\"T_7b9ef_level0_row125\" class=\"row_heading level0 row125\" >9.740000</th>\n",
       "      <td id=\"T_7b9ef_row125_col0\" class=\"data row125 col0\" >1</td>\n",
       "    </tr>\n",
       "    <tr>\n",
       "      <th id=\"T_7b9ef_level0_row126\" class=\"row_heading level0 row126\" >9.650000</th>\n",
       "      <td id=\"T_7b9ef_row126_col0\" class=\"data row126 col0\" >1</td>\n",
       "    </tr>\n",
       "    <tr>\n",
       "      <th id=\"T_7b9ef_level0_row127\" class=\"row_heading level0 row127\" >8.710000</th>\n",
       "      <td id=\"T_7b9ef_row127_col0\" class=\"data row127 col0\" >1</td>\n",
       "    </tr>\n",
       "    <tr>\n",
       "      <th id=\"T_7b9ef_level0_row128\" class=\"row_heading level0 row128\" >9.420000</th>\n",
       "      <td id=\"T_7b9ef_row128_col0\" class=\"data row128 col0\" >1</td>\n",
       "    </tr>\n",
       "    <tr>\n",
       "      <th id=\"T_7b9ef_level0_row129\" class=\"row_heading level0 row129\" >9.780000</th>\n",
       "      <td id=\"T_7b9ef_row129_col0\" class=\"data row129 col0\" >1</td>\n",
       "    </tr>\n",
       "    <tr>\n",
       "      <th id=\"T_7b9ef_level0_row130\" class=\"row_heading level0 row130\" >8.880000</th>\n",
       "      <td id=\"T_7b9ef_row130_col0\" class=\"data row130 col0\" >1</td>\n",
       "    </tr>\n",
       "    <tr>\n",
       "      <th id=\"T_7b9ef_level0_row131\" class=\"row_heading level0 row131\" >7.840000</th>\n",
       "      <td id=\"T_7b9ef_row131_col0\" class=\"data row131 col0\" >1</td>\n",
       "    </tr>\n",
       "    <tr>\n",
       "      <th id=\"T_7b9ef_level0_row132\" class=\"row_heading level0 row132\" >7.920000</th>\n",
       "      <td id=\"T_7b9ef_row132_col0\" class=\"data row132 col0\" >1</td>\n",
       "    </tr>\n",
       "    <tr>\n",
       "      <th id=\"T_7b9ef_level0_row133\" class=\"row_heading level0 row133\" >8.280000</th>\n",
       "      <td id=\"T_7b9ef_row133_col0\" class=\"data row133 col0\" >1</td>\n",
       "    </tr>\n",
       "    <tr>\n",
       "      <th id=\"T_7b9ef_level0_row134\" class=\"row_heading level0 row134\" >7.360000</th>\n",
       "      <td id=\"T_7b9ef_row134_col0\" class=\"data row134 col0\" >1</td>\n",
       "    </tr>\n",
       "    <tr>\n",
       "      <th id=\"T_7b9ef_level0_row135\" class=\"row_heading level0 row135\" >7.540000</th>\n",
       "      <td id=\"T_7b9ef_row135_col0\" class=\"data row135 col0\" >1</td>\n",
       "    </tr>\n",
       "    <tr>\n",
       "      <th id=\"T_7b9ef_level0_row136\" class=\"row_heading level0 row136\" >8.720000</th>\n",
       "      <td id=\"T_7b9ef_row136_col0\" class=\"data row136 col0\" >1</td>\n",
       "    </tr>\n",
       "    <tr>\n",
       "      <th id=\"T_7b9ef_level0_row137\" class=\"row_heading level0 row137\" >9.640000</th>\n",
       "      <td id=\"T_7b9ef_row137_col0\" class=\"data row137 col0\" >1</td>\n",
       "    </tr>\n",
       "    <tr>\n",
       "      <th id=\"T_7b9ef_level0_row138\" class=\"row_heading level0 row138\" >8.920000</th>\n",
       "      <td id=\"T_7b9ef_row138_col0\" class=\"data row138 col0\" >1</td>\n",
       "    </tr>\n",
       "    <tr>\n",
       "      <th id=\"T_7b9ef_level0_row139\" class=\"row_heading level0 row139\" >6.800000</th>\n",
       "      <td id=\"T_7b9ef_row139_col0\" class=\"data row139 col0\" >1</td>\n",
       "    </tr>\n",
       "    <tr>\n",
       "      <th id=\"T_7b9ef_level0_row140\" class=\"row_heading level0 row140\" >7.600000</th>\n",
       "      <td id=\"T_7b9ef_row140_col0\" class=\"data row140 col0\" >1</td>\n",
       "    </tr>\n",
       "    <tr>\n",
       "      <th id=\"T_7b9ef_level0_row141\" class=\"row_heading level0 row141\" >7.400000</th>\n",
       "      <td id=\"T_7b9ef_row141_col0\" class=\"data row141 col0\" >1</td>\n",
       "    </tr>\n",
       "    <tr>\n",
       "      <th id=\"T_7b9ef_level0_row142\" class=\"row_heading level0 row142\" >8.850000</th>\n",
       "      <td id=\"T_7b9ef_row142_col0\" class=\"data row142 col0\" >1</td>\n",
       "    </tr>\n",
       "    <tr>\n",
       "      <th id=\"T_7b9ef_level0_row143\" class=\"row_heading level0 row143\" >9.300000</th>\n",
       "      <td id=\"T_7b9ef_row143_col0\" class=\"data row143 col0\" >1</td>\n",
       "    </tr>\n",
       "    <tr>\n",
       "      <th id=\"T_7b9ef_level0_row144\" class=\"row_heading level0 row144\" >9.200000</th>\n",
       "      <td id=\"T_7b9ef_row144_col0\" class=\"data row144 col0\" >1</td>\n",
       "    </tr>\n",
       "    <tr>\n",
       "      <th id=\"T_7b9ef_level0_row145\" class=\"row_heading level0 row145\" >7.300000</th>\n",
       "      <td id=\"T_7b9ef_row145_col0\" class=\"data row145 col0\" >1</td>\n",
       "    </tr>\n",
       "    <tr>\n",
       "      <th id=\"T_7b9ef_level0_row146\" class=\"row_heading level0 row146\" >7.200000</th>\n",
       "      <td id=\"T_7b9ef_row146_col0\" class=\"data row146 col0\" >1</td>\n",
       "    </tr>\n",
       "    <tr>\n",
       "      <th id=\"T_7b9ef_level0_row147\" class=\"row_heading level0 row147\" >8.250000</th>\n",
       "      <td id=\"T_7b9ef_row147_col0\" class=\"data row147 col0\" >1</td>\n",
       "    </tr>\n",
       "    <tr>\n",
       "      <th id=\"T_7b9ef_level0_row148\" class=\"row_heading level0 row148\" >9.050000</th>\n",
       "      <td id=\"T_7b9ef_row148_col0\" class=\"data row148 col0\" >1</td>\n",
       "    </tr>\n",
       "    <tr>\n",
       "      <th id=\"T_7b9ef_level0_row149\" class=\"row_heading level0 row149\" >9.460000</th>\n",
       "      <td id=\"T_7b9ef_row149_col0\" class=\"data row149 col0\" >1</td>\n",
       "    </tr>\n",
       "    <tr>\n",
       "      <th id=\"T_7b9ef_level0_row150\" class=\"row_heading level0 row150\" >7.980000</th>\n",
       "      <td id=\"T_7b9ef_row150_col0\" class=\"data row150 col0\" >1</td>\n",
       "    </tr>\n",
       "    <tr>\n",
       "      <th id=\"T_7b9ef_level0_row151\" class=\"row_heading level0 row151\" >9.870000</th>\n",
       "      <td id=\"T_7b9ef_row151_col0\" class=\"data row151 col0\" >1</td>\n",
       "    </tr>\n",
       "    <tr>\n",
       "      <th id=\"T_7b9ef_level0_row152\" class=\"row_heading level0 row152\" >9.910000</th>\n",
       "      <td id=\"T_7b9ef_row152_col0\" class=\"data row152 col0\" >1</td>\n",
       "    </tr>\n",
       "    <tr>\n",
       "      <th id=\"T_7b9ef_level0_row153\" class=\"row_heading level0 row153\" >8.520000</th>\n",
       "      <td id=\"T_7b9ef_row153_col0\" class=\"data row153 col0\" >1</td>\n",
       "    </tr>\n",
       "    <tr>\n",
       "      <th id=\"T_7b9ef_level0_row154\" class=\"row_heading level0 row154\" >9.530000</th>\n",
       "      <td id=\"T_7b9ef_row154_col0\" class=\"data row154 col0\" >1</td>\n",
       "    </tr>\n",
       "    <tr>\n",
       "      <th id=\"T_7b9ef_level0_row155\" class=\"row_heading level0 row155\" >8.940000</th>\n",
       "      <td id=\"T_7b9ef_row155_col0\" class=\"data row155 col0\" >1</td>\n",
       "    </tr>\n",
       "    <tr>\n",
       "      <th id=\"T_7b9ef_level0_row156\" class=\"row_heading level0 row156\" >8.980000</th>\n",
       "      <td id=\"T_7b9ef_row156_col0\" class=\"data row156 col0\" >1</td>\n",
       "    </tr>\n",
       "    <tr>\n",
       "      <th id=\"T_7b9ef_level0_row157\" class=\"row_heading level0 row157\" >9.070000</th>\n",
       "      <td id=\"T_7b9ef_row157_col0\" class=\"data row157 col0\" >1</td>\n",
       "    </tr>\n",
       "    <tr>\n",
       "      <th id=\"T_7b9ef_level0_row158\" class=\"row_heading level0 row158\" >8.890000</th>\n",
       "      <td id=\"T_7b9ef_row158_col0\" class=\"data row158 col0\" >1</td>\n",
       "    </tr>\n",
       "    <tr>\n",
       "      <th id=\"T_7b9ef_level0_row159\" class=\"row_heading level0 row159\" >9.380000</th>\n",
       "      <td id=\"T_7b9ef_row159_col0\" class=\"data row159 col0\" >1</td>\n",
       "    </tr>\n",
       "    <tr>\n",
       "      <th id=\"T_7b9ef_level0_row160\" class=\"row_heading level0 row160\" >9.430000</th>\n",
       "      <td id=\"T_7b9ef_row160_col0\" class=\"data row160 col0\" >1</td>\n",
       "    </tr>\n",
       "    <tr>\n",
       "      <th id=\"T_7b9ef_level0_row161\" class=\"row_heading level0 row161\" >9.920000</th>\n",
       "      <td id=\"T_7b9ef_row161_col0\" class=\"data row161 col0\" >1</td>\n",
       "    </tr>\n",
       "    <tr>\n",
       "      <th id=\"T_7b9ef_level0_row162\" class=\"row_heading level0 row162\" >9.350000</th>\n",
       "      <td id=\"T_7b9ef_row162_col0\" class=\"data row162 col0\" >1</td>\n",
       "    </tr>\n",
       "    <tr>\n",
       "      <th id=\"T_7b9ef_level0_row163\" class=\"row_heading level0 row163\" >9.320000</th>\n",
       "      <td id=\"T_7b9ef_row163_col0\" class=\"data row163 col0\" >1</td>\n",
       "    </tr>\n",
       "    <tr>\n",
       "      <th id=\"T_7b9ef_level0_row164\" class=\"row_heading level0 row164\" >9.480000</th>\n",
       "      <td id=\"T_7b9ef_row164_col0\" class=\"data row164 col0\" >1</td>\n",
       "    </tr>\n",
       "    <tr>\n",
       "      <th id=\"T_7b9ef_level0_row165\" class=\"row_heading level0 row165\" >9.560000</th>\n",
       "      <td id=\"T_7b9ef_row165_col0\" class=\"data row165 col0\" >1</td>\n",
       "    </tr>\n",
       "    <tr>\n",
       "      <th id=\"T_7b9ef_level0_row166\" class=\"row_heading level0 row166\" >7.280000</th>\n",
       "      <td id=\"T_7b9ef_row166_col0\" class=\"data row166 col0\" >1</td>\n",
       "    </tr>\n",
       "    <tr>\n",
       "      <th id=\"T_7b9ef_level0_row167\" class=\"row_heading level0 row167\" >7.960000</th>\n",
       "      <td id=\"T_7b9ef_row167_col0\" class=\"data row167 col0\" >1</td>\n",
       "    </tr>\n",
       "  </tbody>\n",
       "</table>\n",
       "</td><td><style type=\"text/css\">\n",
       "#T_332a9_row0_col0 {\n",
       "  background-color: #000000;\n",
       "  color: #f1f1f1;\n",
       "}\n",
       "#T_332a9_row1_col0 {\n",
       "  background-color: #ffffff;\n",
       "  color: #000000;\n",
       "}\n",
       "</style>\n",
       "<table id=\"T_332a9\">\n",
       "  <thead>\n",
       "    <tr>\n",
       "      <th class=\"blank level0\" >&nbsp;</th>\n",
       "      <th id=\"T_332a9_level0_col0\" class=\"col_heading level0 col0\" >count</th>\n",
       "    </tr>\n",
       "    <tr>\n",
       "      <th class=\"index_name level0\" >Research</th>\n",
       "      <th class=\"blank col0\" >&nbsp;</th>\n",
       "    </tr>\n",
       "  </thead>\n",
       "  <tbody>\n",
       "    <tr>\n",
       "      <th id=\"T_332a9_level0_row0\" class=\"row_heading level0 row0\" >1</th>\n",
       "      <td id=\"T_332a9_row0_col0\" class=\"data row0 col0\" >219</td>\n",
       "    </tr>\n",
       "    <tr>\n",
       "      <th id=\"T_332a9_level0_row1\" class=\"row_heading level0 row1\" >0</th>\n",
       "      <td id=\"T_332a9_row1_col0\" class=\"data row1 col0\" >181</td>\n",
       "    </tr>\n",
       "  </tbody>\n",
       "</table>\n",
       "</td><td><style type=\"text/css\">\n",
       "#T_2ab52_row0_col0 {\n",
       "  background-color: #000000;\n",
       "  color: #f1f1f1;\n",
       "}\n",
       "#T_2ab52_row1_col0 {\n",
       "  background-color: #111111;\n",
       "  color: #f1f1f1;\n",
       "}\n",
       "#T_2ab52_row2_col0 {\n",
       "  background-color: #242424;\n",
       "  color: #f1f1f1;\n",
       "}\n",
       "#T_2ab52_row3_col0 {\n",
       "  background-color: #515151;\n",
       "  color: #f1f1f1;\n",
       "}\n",
       "#T_2ab52_row4_col0, #T_2ab52_row5_col0, #T_2ab52_row6_col0, #T_2ab52_row7_col0, #T_2ab52_row8_col0 {\n",
       "  background-color: #626262;\n",
       "  color: #f1f1f1;\n",
       "}\n",
       "#T_2ab52_row9_col0, #T_2ab52_row10_col0 {\n",
       "  background-color: #727272;\n",
       "  color: #f1f1f1;\n",
       "}\n",
       "#T_2ab52_row11_col0 {\n",
       "  background-color: #848484;\n",
       "  color: #f1f1f1;\n",
       "}\n",
       "#T_2ab52_row12_col0, #T_2ab52_row13_col0, #T_2ab52_row14_col0, #T_2ab52_row15_col0, #T_2ab52_row16_col0 {\n",
       "  background-color: #959595;\n",
       "  color: #f1f1f1;\n",
       "}\n",
       "#T_2ab52_row17_col0, #T_2ab52_row18_col0, #T_2ab52_row19_col0, #T_2ab52_row20_col0, #T_2ab52_row21_col0, #T_2ab52_row22_col0, #T_2ab52_row23_col0 {\n",
       "  background-color: #a9a9a9;\n",
       "  color: #f1f1f1;\n",
       "}\n",
       "#T_2ab52_row24_col0, #T_2ab52_row25_col0, #T_2ab52_row26_col0, #T_2ab52_row27_col0, #T_2ab52_row28_col0, #T_2ab52_row29_col0 {\n",
       "  background-color: #bdbdbd;\n",
       "  color: #000000;\n",
       "}\n",
       "#T_2ab52_row30_col0, #T_2ab52_row31_col0, #T_2ab52_row32_col0, #T_2ab52_row33_col0 {\n",
       "  background-color: #cbcbcb;\n",
       "  color: #000000;\n",
       "}\n",
       "#T_2ab52_row34_col0, #T_2ab52_row35_col0, #T_2ab52_row36_col0, #T_2ab52_row37_col0, #T_2ab52_row38_col0, #T_2ab52_row39_col0 {\n",
       "  background-color: #d9d9d9;\n",
       "  color: #000000;\n",
       "}\n",
       "#T_2ab52_row40_col0, #T_2ab52_row41_col0, #T_2ab52_row42_col0, #T_2ab52_row43_col0, #T_2ab52_row44_col0 {\n",
       "  background-color: #e4e4e4;\n",
       "  color: #000000;\n",
       "}\n",
       "#T_2ab52_row45_col0, #T_2ab52_row46_col0, #T_2ab52_row47_col0, #T_2ab52_row48_col0, #T_2ab52_row49_col0 {\n",
       "  background-color: #f0f0f0;\n",
       "  color: #000000;\n",
       "}\n",
       "#T_2ab52_row50_col0, #T_2ab52_row51_col0, #T_2ab52_row52_col0, #T_2ab52_row53_col0, #T_2ab52_row54_col0 {\n",
       "  background-color: #f7f7f7;\n",
       "  color: #000000;\n",
       "}\n",
       "#T_2ab52_row55_col0, #T_2ab52_row56_col0, #T_2ab52_row57_col0, #T_2ab52_row58_col0, #T_2ab52_row59_col0 {\n",
       "  background-color: #ffffff;\n",
       "  color: #000000;\n",
       "}\n",
       "</style>\n",
       "<table id=\"T_2ab52\">\n",
       "  <thead>\n",
       "    <tr>\n",
       "      <th class=\"blank level0\" >&nbsp;</th>\n",
       "      <th id=\"T_2ab52_level0_col0\" class=\"col_heading level0 col0\" >count</th>\n",
       "    </tr>\n",
       "    <tr>\n",
       "      <th class=\"index_name level0\" >ChanceofAdmit</th>\n",
       "      <th class=\"blank col0\" >&nbsp;</th>\n",
       "    </tr>\n",
       "  </thead>\n",
       "  <tbody>\n",
       "    <tr>\n",
       "      <th id=\"T_2ab52_level0_row0\" class=\"row_heading level0 row0\" >0.640000</th>\n",
       "      <td id=\"T_2ab52_row0_col0\" class=\"data row0 col0\" >17</td>\n",
       "    </tr>\n",
       "    <tr>\n",
       "      <th id=\"T_2ab52_level0_row1\" class=\"row_heading level0 row1\" >0.710000</th>\n",
       "      <td id=\"T_2ab52_row1_col0\" class=\"data row1 col0\" >16</td>\n",
       "    </tr>\n",
       "    <tr>\n",
       "      <th id=\"T_2ab52_level0_row2\" class=\"row_heading level0 row2\" >0.720000</th>\n",
       "      <td id=\"T_2ab52_row2_col0\" class=\"data row2 col0\" >15</td>\n",
       "    </tr>\n",
       "    <tr>\n",
       "      <th id=\"T_2ab52_level0_row3\" class=\"row_heading level0 row3\" >0.730000</th>\n",
       "      <td id=\"T_2ab52_row3_col0\" class=\"data row3 col0\" >13</td>\n",
       "    </tr>\n",
       "    <tr>\n",
       "      <th id=\"T_2ab52_level0_row4\" class=\"row_heading level0 row4\" >0.940000</th>\n",
       "      <td id=\"T_2ab52_row4_col0\" class=\"data row4 col0\" >12</td>\n",
       "    </tr>\n",
       "    <tr>\n",
       "      <th id=\"T_2ab52_level0_row5\" class=\"row_heading level0 row5\" >0.790000</th>\n",
       "      <td id=\"T_2ab52_row5_col0\" class=\"data row5 col0\" >12</td>\n",
       "    </tr>\n",
       "    <tr>\n",
       "      <th id=\"T_2ab52_level0_row6\" class=\"row_heading level0 row6\" >0.760000</th>\n",
       "      <td id=\"T_2ab52_row6_col0\" class=\"data row6 col0\" >12</td>\n",
       "    </tr>\n",
       "    <tr>\n",
       "      <th id=\"T_2ab52_level0_row7\" class=\"row_heading level0 row7\" >0.700000</th>\n",
       "      <td id=\"T_2ab52_row7_col0\" class=\"data row7 col0\" >12</td>\n",
       "    </tr>\n",
       "    <tr>\n",
       "      <th id=\"T_2ab52_level0_row8\" class=\"row_heading level0 row8\" >0.780000</th>\n",
       "      <td id=\"T_2ab52_row8_col0\" class=\"data row8 col0\" >12</td>\n",
       "    </tr>\n",
       "    <tr>\n",
       "      <th id=\"T_2ab52_level0_row9\" class=\"row_heading level0 row9\" >0.740000</th>\n",
       "      <td id=\"T_2ab52_row9_col0\" class=\"data row9 col0\" >11</td>\n",
       "    </tr>\n",
       "    <tr>\n",
       "      <th id=\"T_2ab52_level0_row10\" class=\"row_heading level0 row10\" >0.800000</th>\n",
       "      <td id=\"T_2ab52_row10_col0\" class=\"data row10 col0\" >11</td>\n",
       "    </tr>\n",
       "    <tr>\n",
       "      <th id=\"T_2ab52_level0_row11\" class=\"row_heading level0 row11\" >0.680000</th>\n",
       "      <td id=\"T_2ab52_row11_col0\" class=\"data row11 col0\" >10</td>\n",
       "    </tr>\n",
       "    <tr>\n",
       "      <th id=\"T_2ab52_level0_row12\" class=\"row_heading level0 row12\" >0.930000</th>\n",
       "      <td id=\"T_2ab52_row12_col0\" class=\"data row12 col0\" >9</td>\n",
       "    </tr>\n",
       "    <tr>\n",
       "      <th id=\"T_2ab52_level0_row13\" class=\"row_heading level0 row13\" >0.840000</th>\n",
       "      <td id=\"T_2ab52_row13_col0\" class=\"data row13 col0\" >9</td>\n",
       "    </tr>\n",
       "    <tr>\n",
       "      <th id=\"T_2ab52_level0_row14\" class=\"row_heading level0 row14\" >0.890000</th>\n",
       "      <td id=\"T_2ab52_row14_col0\" class=\"data row14 col0\" >9</td>\n",
       "    </tr>\n",
       "    <tr>\n",
       "      <th id=\"T_2ab52_level0_row15\" class=\"row_heading level0 row15\" >0.650000</th>\n",
       "      <td id=\"T_2ab52_row15_col0\" class=\"data row15 col0\" >9</td>\n",
       "    </tr>\n",
       "    <tr>\n",
       "      <th id=\"T_2ab52_level0_row16\" class=\"row_heading level0 row16\" >0.620000</th>\n",
       "      <td id=\"T_2ab52_row16_col0\" class=\"data row16 col0\" >9</td>\n",
       "    </tr>\n",
       "    <tr>\n",
       "      <th id=\"T_2ab52_level0_row17\" class=\"row_heading level0 row17\" >0.820000</th>\n",
       "      <td id=\"T_2ab52_row17_col0\" class=\"data row17 col0\" >8</td>\n",
       "    </tr>\n",
       "    <tr>\n",
       "      <th id=\"T_2ab52_level0_row18\" class=\"row_heading level0 row18\" >0.860000</th>\n",
       "      <td id=\"T_2ab52_row18_col0\" class=\"data row18 col0\" >8</td>\n",
       "    </tr>\n",
       "    <tr>\n",
       "      <th id=\"T_2ab52_level0_row19\" class=\"row_heading level0 row19\" >0.750000</th>\n",
       "      <td id=\"T_2ab52_row19_col0\" class=\"data row19 col0\" >8</td>\n",
       "    </tr>\n",
       "    <tr>\n",
       "      <th id=\"T_2ab52_level0_row20\" class=\"row_heading level0 row20\" >0.900000</th>\n",
       "      <td id=\"T_2ab52_row20_col0\" class=\"data row20 col0\" >8</td>\n",
       "    </tr>\n",
       "    <tr>\n",
       "      <th id=\"T_2ab52_level0_row21\" class=\"row_heading level0 row21\" >0.570000</th>\n",
       "      <td id=\"T_2ab52_row21_col0\" class=\"data row21 col0\" >8</td>\n",
       "    </tr>\n",
       "    <tr>\n",
       "      <th id=\"T_2ab52_level0_row22\" class=\"row_heading level0 row22\" >0.810000</th>\n",
       "      <td id=\"T_2ab52_row22_col0\" class=\"data row22 col0\" >8</td>\n",
       "    </tr>\n",
       "    <tr>\n",
       "      <th id=\"T_2ab52_level0_row23\" class=\"row_heading level0 row23\" >0.770000</th>\n",
       "      <td id=\"T_2ab52_row23_col0\" class=\"data row23 col0\" >8</td>\n",
       "    </tr>\n",
       "    <tr>\n",
       "      <th id=\"T_2ab52_level0_row24\" class=\"row_heading level0 row24\" >0.910000</th>\n",
       "      <td id=\"T_2ab52_row24_col0\" class=\"data row24 col0\" >7</td>\n",
       "    </tr>\n",
       "    <tr>\n",
       "      <th id=\"T_2ab52_level0_row25\" class=\"row_heading level0 row25\" >0.690000</th>\n",
       "      <td id=\"T_2ab52_row25_col0\" class=\"data row25 col0\" >7</td>\n",
       "    </tr>\n",
       "    <tr>\n",
       "      <th id=\"T_2ab52_level0_row26\" class=\"row_heading level0 row26\" >0.960000</th>\n",
       "      <td id=\"T_2ab52_row26_col0\" class=\"data row26 col0\" >7</td>\n",
       "    </tr>\n",
       "    <tr>\n",
       "      <th id=\"T_2ab52_level0_row27\" class=\"row_heading level0 row27\" >0.660000</th>\n",
       "      <td id=\"T_2ab52_row27_col0\" class=\"data row27 col0\" >7</td>\n",
       "    </tr>\n",
       "    <tr>\n",
       "      <th id=\"T_2ab52_level0_row28\" class=\"row_heading level0 row28\" >0.610000</th>\n",
       "      <td id=\"T_2ab52_row28_col0\" class=\"data row28 col0\" >7</td>\n",
       "    </tr>\n",
       "    <tr>\n",
       "      <th id=\"T_2ab52_level0_row29\" class=\"row_heading level0 row29\" >0.670000</th>\n",
       "      <td id=\"T_2ab52_row29_col0\" class=\"data row29 col0\" >7</td>\n",
       "    </tr>\n",
       "    <tr>\n",
       "      <th id=\"T_2ab52_level0_row30\" class=\"row_heading level0 row30\" >0.850000</th>\n",
       "      <td id=\"T_2ab52_row30_col0\" class=\"data row30 col0\" >6</td>\n",
       "    </tr>\n",
       "    <tr>\n",
       "      <th id=\"T_2ab52_level0_row31\" class=\"row_heading level0 row31\" >0.630000</th>\n",
       "      <td id=\"T_2ab52_row31_col0\" class=\"data row31 col0\" >6</td>\n",
       "    </tr>\n",
       "    <tr>\n",
       "      <th id=\"T_2ab52_level0_row32\" class=\"row_heading level0 row32\" >0.560000</th>\n",
       "      <td id=\"T_2ab52_row32_col0\" class=\"data row32 col0\" >6</td>\n",
       "    </tr>\n",
       "    <tr>\n",
       "      <th id=\"T_2ab52_level0_row33\" class=\"row_heading level0 row33\" >0.920000</th>\n",
       "      <td id=\"T_2ab52_row33_col0\" class=\"data row33 col0\" >6</td>\n",
       "    </tr>\n",
       "    <tr>\n",
       "      <th id=\"T_2ab52_level0_row34\" class=\"row_heading level0 row34\" >0.580000</th>\n",
       "      <td id=\"T_2ab52_row34_col0\" class=\"data row34 col0\" >5</td>\n",
       "    </tr>\n",
       "    <tr>\n",
       "      <th id=\"T_2ab52_level0_row35\" class=\"row_heading level0 row35\" >0.460000</th>\n",
       "      <td id=\"T_2ab52_row35_col0\" class=\"data row35 col0\" >5</td>\n",
       "    </tr>\n",
       "    <tr>\n",
       "      <th id=\"T_2ab52_level0_row36\" class=\"row_heading level0 row36\" >0.870000</th>\n",
       "      <td id=\"T_2ab52_row36_col0\" class=\"data row36 col0\" >5</td>\n",
       "    </tr>\n",
       "    <tr>\n",
       "      <th id=\"T_2ab52_level0_row37\" class=\"row_heading level0 row37\" >0.540000</th>\n",
       "      <td id=\"T_2ab52_row37_col0\" class=\"data row37 col0\" >5</td>\n",
       "    </tr>\n",
       "    <tr>\n",
       "      <th id=\"T_2ab52_level0_row38\" class=\"row_heading level0 row38\" >0.520000</th>\n",
       "      <td id=\"T_2ab52_row38_col0\" class=\"data row38 col0\" >5</td>\n",
       "    </tr>\n",
       "    <tr>\n",
       "      <th id=\"T_2ab52_level0_row39\" class=\"row_heading level0 row39\" >0.470000</th>\n",
       "      <td id=\"T_2ab52_row39_col0\" class=\"data row39 col0\" >5</td>\n",
       "    </tr>\n",
       "    <tr>\n",
       "      <th id=\"T_2ab52_level0_row40\" class=\"row_heading level0 row40\" >0.590000</th>\n",
       "      <td id=\"T_2ab52_row40_col0\" class=\"data row40 col0\" >4</td>\n",
       "    </tr>\n",
       "    <tr>\n",
       "      <th id=\"T_2ab52_level0_row41\" class=\"row_heading level0 row41\" >0.490000</th>\n",
       "      <td id=\"T_2ab52_row41_col0\" class=\"data row41 col0\" >4</td>\n",
       "    </tr>\n",
       "    <tr>\n",
       "      <th id=\"T_2ab52_level0_row42\" class=\"row_heading level0 row42\" >0.970000</th>\n",
       "      <td id=\"T_2ab52_row42_col0\" class=\"data row42 col0\" >4</td>\n",
       "    </tr>\n",
       "    <tr>\n",
       "      <th id=\"T_2ab52_level0_row43\" class=\"row_heading level0 row43\" >0.880000</th>\n",
       "      <td id=\"T_2ab52_row43_col0\" class=\"data row43 col0\" >4</td>\n",
       "    </tr>\n",
       "    <tr>\n",
       "      <th id=\"T_2ab52_level0_row44\" class=\"row_heading level0 row44\" >0.950000</th>\n",
       "      <td id=\"T_2ab52_row44_col0\" class=\"data row44 col0\" >4</td>\n",
       "    </tr>\n",
       "    <tr>\n",
       "      <th id=\"T_2ab52_level0_row45\" class=\"row_heading level0 row45\" >0.530000</th>\n",
       "      <td id=\"T_2ab52_row45_col0\" class=\"data row45 col0\" >3</td>\n",
       "    </tr>\n",
       "    <tr>\n",
       "      <th id=\"T_2ab52_level0_row46\" class=\"row_heading level0 row46\" >0.480000</th>\n",
       "      <td id=\"T_2ab52_row46_col0\" class=\"data row46 col0\" >3</td>\n",
       "    </tr>\n",
       "    <tr>\n",
       "      <th id=\"T_2ab52_level0_row47\" class=\"row_heading level0 row47\" >0.440000</th>\n",
       "      <td id=\"T_2ab52_row47_col0\" class=\"data row47 col0\" >3</td>\n",
       "    </tr>\n",
       "    <tr>\n",
       "      <th id=\"T_2ab52_level0_row48\" class=\"row_heading level0 row48\" >0.420000</th>\n",
       "      <td id=\"T_2ab52_row48_col0\" class=\"data row48 col0\" >3</td>\n",
       "    </tr>\n",
       "    <tr>\n",
       "      <th id=\"T_2ab52_level0_row49\" class=\"row_heading level0 row49\" >0.830000</th>\n",
       "      <td id=\"T_2ab52_row49_col0\" class=\"data row49 col0\" >3</td>\n",
       "    </tr>\n",
       "    <tr>\n",
       "      <th id=\"T_2ab52_level0_row50\" class=\"row_heading level0 row50\" >0.380000</th>\n",
       "      <td id=\"T_2ab52_row50_col0\" class=\"data row50 col0\" >2</td>\n",
       "    </tr>\n",
       "    <tr>\n",
       "      <th id=\"T_2ab52_level0_row51\" class=\"row_heading level0 row51\" >0.340000</th>\n",
       "      <td id=\"T_2ab52_row51_col0\" class=\"data row51 col0\" >2</td>\n",
       "    </tr>\n",
       "    <tr>\n",
       "      <th id=\"T_2ab52_level0_row52\" class=\"row_heading level0 row52\" >0.360000</th>\n",
       "      <td id=\"T_2ab52_row52_col0\" class=\"data row52 col0\" >2</td>\n",
       "    </tr>\n",
       "    <tr>\n",
       "      <th id=\"T_2ab52_level0_row53\" class=\"row_heading level0 row53\" >0.450000</th>\n",
       "      <td id=\"T_2ab52_row53_col0\" class=\"data row53 col0\" >2</td>\n",
       "    </tr>\n",
       "    <tr>\n",
       "      <th id=\"T_2ab52_level0_row54\" class=\"row_heading level0 row54\" >0.500000</th>\n",
       "      <td id=\"T_2ab52_row54_col0\" class=\"data row54 col0\" >2</td>\n",
       "    </tr>\n",
       "    <tr>\n",
       "      <th id=\"T_2ab52_level0_row55\" class=\"row_heading level0 row55\" >0.430000</th>\n",
       "      <td id=\"T_2ab52_row55_col0\" class=\"data row55 col0\" >1</td>\n",
       "    </tr>\n",
       "    <tr>\n",
       "      <th id=\"T_2ab52_level0_row56\" class=\"row_heading level0 row56\" >0.510000</th>\n",
       "      <td id=\"T_2ab52_row56_col0\" class=\"data row56 col0\" >1</td>\n",
       "    </tr>\n",
       "    <tr>\n",
       "      <th id=\"T_2ab52_level0_row57\" class=\"row_heading level0 row57\" >0.550000</th>\n",
       "      <td id=\"T_2ab52_row57_col0\" class=\"data row57 col0\" >1</td>\n",
       "    </tr>\n",
       "    <tr>\n",
       "      <th id=\"T_2ab52_level0_row58\" class=\"row_heading level0 row58\" >0.600000</th>\n",
       "      <td id=\"T_2ab52_row58_col0\" class=\"data row58 col0\" >1</td>\n",
       "    </tr>\n",
       "    <tr>\n",
       "      <th id=\"T_2ab52_level0_row59\" class=\"row_heading level0 row59\" >0.390000</th>\n",
       "      <td id=\"T_2ab52_row59_col0\" class=\"data row59 col0\" >1</td>\n",
       "    </tr>\n",
       "  </tbody>\n",
       "</table>\n",
       "</td></tr></table>"
      ],
      "text/plain": [
       "<IPython.core.display.HTML object>"
      ]
     },
     "execution_count": 22,
     "metadata": {},
     "output_type": "execute_result"
    }
   ],
   "source": [
    "df_nunique = {var: pd.DataFrame(data[var].value_counts()) \n",
    "              for var in {'GREScore', 'TOEFLScore', 'UniversityRating', 'SOP', 'LOR','CGPA',\n",
    "       'Research', 'ChanceofAdmit'}}\n",
    "multi_table([df_nunique['GREScore'].style.background_gradient(cmap='Greys'), df_nunique['TOEFLScore'].style.background_gradient(cmap='Greys'),df_nunique['UniversityRating'].style.background_gradient(cmap='Greys') ,df_nunique['SOP'].style.background_gradient(cmap='Greys'),df_nunique['LOR'].style.background_gradient(cmap='Greys'),df_nunique['CGPA'].style.background_gradient(cmap='Greys'),df_nunique['Research'].style.background_gradient(cmap='Greys'),df_nunique['ChanceofAdmit'].style.background_gradient(cmap='Greys')])"
   ]
  },
  {
   "cell_type": "markdown",
   "id": "7b28d440",
   "metadata": {
    "papermill": {
     "duration": 0.040019,
     "end_time": "2024-11-07T10:19:34.647318",
     "exception": false,
     "start_time": "2024-11-07T10:19:34.607299",
     "status": "completed"
    },
    "tags": []
   },
   "source": [
    "<h1 style=\"color:black;font-size:45px;font-family:Georgia;text-align:center;\"><strong>7.<strong style=\"color:#19e6e6;font-size:40px;font-family:Georgia;\">Finding <strong style=\"color:black;font-size:45px;font-family:Georgia;\">The <strong style=\"color:#19e6e6;font-size:40px;font-family:Georgia;\">Misiing <strong style=\"color:black;font-size:45px;font-family:Georgia;\">Values <strong style=\"color:#19e6e6;font-size:40px;font-family:Georgia;\">:- </strong></strong></strong></strong></strong></strong></h1>"
   ]
  },
  {
   "cell_type": "markdown",
   "id": "fac5d894",
   "metadata": {
    "papermill": {
     "duration": 0.039869,
     "end_time": "2024-11-07T10:19:34.727685",
     "exception": false,
     "start_time": "2024-11-07T10:19:34.687816",
     "status": "completed"
    },
    "tags": []
   },
   "source": [
    "<p style= \"font-family:Georgia;color:#000000;font-size:110%;text-align:center;border-radius:10px 10px;border-style: dotted;border-width:5px;border-color:#19e6e6;\">\n",
    "Let's calculate the percentage of blanks and filled values for all columns.\n",
    "<br></p>"
   ]
  },
  {
   "cell_type": "code",
   "execution_count": 23,
   "id": "d8ff9ba5",
   "metadata": {
    "execution": {
     "iopub.execute_input": "2024-11-07T10:19:34.810436Z",
     "iopub.status.busy": "2024-11-07T10:19:34.809529Z",
     "iopub.status.idle": "2024-11-07T10:19:35.670031Z",
     "shell.execute_reply": "2024-11-07T10:19:35.668933Z"
    },
    "papermill": {
     "duration": 0.905141,
     "end_time": "2024-11-07T10:19:35.673138",
     "exception": false,
     "start_time": "2024-11-07T10:19:34.767997",
     "status": "completed"
    },
    "tags": []
   },
   "outputs": [
    {
     "data": {
      "text/plain": [
       "<Axes: >"
      ]
     },
     "execution_count": 23,
     "metadata": {},
     "output_type": "execute_result"
    },
    {
     "data": {
      "image/png": "[encoded data removed]",
      "text/plain": [
       "<Figure size 2500x1000 with 2 Axes>"
      ]
     },
     "metadata": {},
     "output_type": "display_data"
    }
   ],
   "source": [
    "# Visualizing the missing values\n",
    "import missingno as mn\n",
    "mn.matrix(data)"
   ]
  },
  {
   "cell_type": "code",
   "execution_count": 24,
   "id": "70f7aa39",
   "metadata": {
    "execution": {
     "iopub.execute_input": "2024-11-07T10:19:35.760165Z",
     "iopub.status.busy": "2024-11-07T10:19:35.759188Z",
     "iopub.status.idle": "2024-11-07T10:19:35.782730Z",
     "shell.execute_reply": "2024-11-07T10:19:35.781400Z"
    },
    "papermill": {
     "duration": 0.069964,
     "end_time": "2024-11-07T10:19:35.785231",
     "exception": false,
     "start_time": "2024-11-07T10:19:35.715267",
     "status": "completed"
    },
    "tags": []
   },
   "outputs": [
    {
     "data": {
      "text/html": [
       "<style type=\"text/css\">\n",
       "#T_a7dfc_row0_col0, #T_a7dfc_row0_col1, #T_a7dfc_row1_col0, #T_a7dfc_row1_col1, #T_a7dfc_row2_col0, #T_a7dfc_row2_col1, #T_a7dfc_row3_col0, #T_a7dfc_row3_col1, #T_a7dfc_row4_col0, #T_a7dfc_row4_col1, #T_a7dfc_row5_col0, #T_a7dfc_row5_col1, #T_a7dfc_row6_col0, #T_a7dfc_row6_col1, #T_a7dfc_row7_col0, #T_a7dfc_row7_col1 {\n",
       "  background-color: #ffffff;\n",
       "  color: #000000;\n",
       "}\n",
       "</style>\n",
       "<table id=\"T_a7dfc\">\n",
       "  <thead>\n",
       "    <tr>\n",
       "      <th class=\"blank level0\" >&nbsp;</th>\n",
       "      <th id=\"T_a7dfc_level0_col0\" class=\"col_heading level0 col0\" >Total</th>\n",
       "      <th id=\"T_a7dfc_level0_col1\" class=\"col_heading level0 col1\" >Percentage</th>\n",
       "    </tr>\n",
       "  </thead>\n",
       "  <tbody>\n",
       "    <tr>\n",
       "      <th id=\"T_a7dfc_level0_row0\" class=\"row_heading level0 row0\" >GREScore</th>\n",
       "      <td id=\"T_a7dfc_row0_col0\" class=\"data row0 col0\" >0</td>\n",
       "      <td id=\"T_a7dfc_row0_col1\" class=\"data row0 col1\" >0.000000</td>\n",
       "    </tr>\n",
       "    <tr>\n",
       "      <th id=\"T_a7dfc_level0_row1\" class=\"row_heading level0 row1\" >TOEFLScore</th>\n",
       "      <td id=\"T_a7dfc_row1_col0\" class=\"data row1 col0\" >0</td>\n",
       "      <td id=\"T_a7dfc_row1_col1\" class=\"data row1 col1\" >0.000000</td>\n",
       "    </tr>\n",
       "    <tr>\n",
       "      <th id=\"T_a7dfc_level0_row2\" class=\"row_heading level0 row2\" >UniversityRating</th>\n",
       "      <td id=\"T_a7dfc_row2_col0\" class=\"data row2 col0\" >0</td>\n",
       "      <td id=\"T_a7dfc_row2_col1\" class=\"data row2 col1\" >0.000000</td>\n",
       "    </tr>\n",
       "    <tr>\n",
       "      <th id=\"T_a7dfc_level0_row3\" class=\"row_heading level0 row3\" >SOP</th>\n",
       "      <td id=\"T_a7dfc_row3_col0\" class=\"data row3 col0\" >0</td>\n",
       "      <td id=\"T_a7dfc_row3_col1\" class=\"data row3 col1\" >0.000000</td>\n",
       "    </tr>\n",
       "    <tr>\n",
       "      <th id=\"T_a7dfc_level0_row4\" class=\"row_heading level0 row4\" >LOR</th>\n",
       "      <td id=\"T_a7dfc_row4_col0\" class=\"data row4 col0\" >0</td>\n",
       "      <td id=\"T_a7dfc_row4_col1\" class=\"data row4 col1\" >0.000000</td>\n",
       "    </tr>\n",
       "    <tr>\n",
       "      <th id=\"T_a7dfc_level0_row5\" class=\"row_heading level0 row5\" >CGPA</th>\n",
       "      <td id=\"T_a7dfc_row5_col0\" class=\"data row5 col0\" >0</td>\n",
       "      <td id=\"T_a7dfc_row5_col1\" class=\"data row5 col1\" >0.000000</td>\n",
       "    </tr>\n",
       "    <tr>\n",
       "      <th id=\"T_a7dfc_level0_row6\" class=\"row_heading level0 row6\" >Research</th>\n",
       "      <td id=\"T_a7dfc_row6_col0\" class=\"data row6 col0\" >0</td>\n",
       "      <td id=\"T_a7dfc_row6_col1\" class=\"data row6 col1\" >0.000000</td>\n",
       "    </tr>\n",
       "    <tr>\n",
       "      <th id=\"T_a7dfc_level0_row7\" class=\"row_heading level0 row7\" >ChanceofAdmit</th>\n",
       "      <td id=\"T_a7dfc_row7_col0\" class=\"data row7 col0\" >0</td>\n",
       "      <td id=\"T_a7dfc_row7_col1\" class=\"data row7 col1\" >0.000000</td>\n",
       "    </tr>\n",
       "  </tbody>\n",
       "</table>\n"
      ],
      "text/plain": [
       "<pandas.io.formats.style.Styler at 0x79edd757e7a0>"
      ]
     },
     "execution_count": 24,
     "metadata": {},
     "output_type": "execute_result"
    }
   ],
   "source": [
    "#PERCENTAGE OF THE MISSING VALUES - DATAFRAME..... \n",
    "def missing_data(df):\n",
    "    total = df.isnull().sum().sort_values(ascending = False)\n",
    "    Percentage = (df.isnull().sum()/df.isnull().count()*100).sort_values(ascending = False)\n",
    "    return pd.concat([total, Percentage], axis=1, keys=['Total', 'Percentage'])\n",
    "\n",
    "missing_data(data).style.background_gradient(cmap='Greys')\n",
    "\n"
   ]
  },
  {
   "cell_type": "markdown",
   "id": "a83117d4",
   "metadata": {
    "papermill": {
     "duration": 0.041158,
     "end_time": "2024-11-07T10:19:35.868254",
     "exception": false,
     "start_time": "2024-11-07T10:19:35.827096",
     "status": "completed"
    },
    "tags": []
   },
   "source": [
    "<h1 style=\"color:black;font-size:45px;font-family:Georgia;text-align:center;\"><strong>8.<strong style=\"color:#19e6e6;font-size:40px;font-family:Georgia;\">Finding <strong style=\"color:black;font-size:45px;font-family:Georgia;\">The <strong style=\"color:#19e6e6;font-size:40px;font-family:Georgia;\">duplicate <strong style=\"color:black;font-size:45px;font-family:Georgia;\">records <strong style=\"color:#19e6e6;font-size:40px;font-family:Georgia;\">:- </strong></strong></strong></strong></strong></strong></h1>"
   ]
  },
  {
   "cell_type": "code",
   "execution_count": 25,
   "id": "6df2dd98",
   "metadata": {
    "execution": {
     "iopub.execute_input": "2024-11-07T10:19:35.954447Z",
     "iopub.status.busy": "2024-11-07T10:19:35.953308Z",
     "iopub.status.idle": "2024-11-07T10:19:35.966556Z",
     "shell.execute_reply": "2024-11-07T10:19:35.965420Z"
    },
    "papermill": {
     "duration": 0.058846,
     "end_time": "2024-11-07T10:19:35.968965",
     "exception": false,
     "start_time": "2024-11-07T10:19:35.910119",
     "status": "completed"
    },
    "tags": []
   },
   "outputs": [
    {
     "data": {
      "text/html": [
       "<div>\n",
       "<style scoped>\n",
       "    .dataframe tbody tr th:only-of-type {\n",
       "        vertical-align: middle;\n",
       "    }\n",
       "\n",
       "    .dataframe tbody tr th {\n",
       "        vertical-align: top;\n",
       "    }\n",
       "\n",
       "    .dataframe thead th {\n",
       "        text-align: right;\n",
       "    }\n",
       "</style>\n",
       "<table border=\"1\" class=\"dataframe\">\n",
       "  <thead>\n",
       "    <tr style=\"text-align: right;\">\n",
       "      <th></th>\n",
       "      <th>GREScore</th>\n",
       "      <th>TOEFLScore</th>\n",
       "      <th>UniversityRating</th>\n",
       "      <th>SOP</th>\n",
       "      <th>LOR</th>\n",
       "      <th>CGPA</th>\n",
       "      <th>Research</th>\n",
       "      <th>ChanceofAdmit</th>\n",
       "    </tr>\n",
       "  </thead>\n",
       "  <tbody>\n",
       "  </tbody>\n",
       "</table>\n",
       "</div>"
      ],
      "text/plain": [
       "Empty DataFrame\n",
       "Columns: [GREScore, TOEFLScore, UniversityRating, SOP, LOR, CGPA, Research, ChanceofAdmit]\n",
       "Index: []"
      ]
     },
     "execution_count": 25,
     "metadata": {},
     "output_type": "execute_result"
    }
   ],
   "source": [
    "data[data.duplicated()]"
   ]
  },
  {
   "cell_type": "markdown",
   "id": "864efd92",
   "metadata": {
    "papermill": {
     "duration": 0.042572,
     "end_time": "2024-11-07T10:19:36.054909",
     "exception": false,
     "start_time": "2024-11-07T10:19:36.012337",
     "status": "completed"
    },
    "tags": []
   },
   "source": [
    "<p style= \"font-family:Georgia;color:#000000;font-size:110%;text-align:center;border-radius:10px 10px;border-style: dotted;border-width:5px;border-color:#19e6e6;\"><b>Conclusion:-</b>We dont have any duplicate records in the dataset.\n",
    "<br></p>"
   ]
  },
  {
   "cell_type": "markdown",
   "id": "a0099813",
   "metadata": {
    "papermill": {
     "duration": 0.043477,
     "end_time": "2024-11-07T10:19:36.144662",
     "exception": false,
     "start_time": "2024-11-07T10:19:36.101185",
     "status": "completed"
    },
    "tags": []
   },
   "source": [
    "<h1 style=\"color:black;font-size:45px;font-family:Georgia;text-align:center;\"><strong>9.<strong style=\"color:#19e6e6;font-size:40px;font-family:Georgia;\">Univariate <strong style=\"color:black;font-size:45px;font-family:Georgia;\">Analysis <strong style=\"color:#19e6e6;font-size:40px;font-family:Georgia;\">:- </strong></strong></strong></strong></h1>"
   ]
  },
  {
   "cell_type": "markdown",
   "id": "3f07fa41",
   "metadata": {
    "papermill": {
     "duration": 0.043918,
     "end_time": "2024-11-07T10:19:36.231632",
     "exception": false,
     "start_time": "2024-11-07T10:19:36.187714",
     "status": "completed"
    },
    "tags": []
   },
   "source": [
    "<h1 style=\"color:black;font-size:25px;font-family:Georgia;text-align:center;\">📌<strong style=\"color:#19e6e6;font-size:20px;font-family:Georgia;\">Graduate <strong style=\"color:black;font-size:25px;font-family:Georgia;\">Record <strong style=\"color:#19e6e6;font-size:20px;font-family:Georgia;\">Examinations <strong style=\"color:black;font-size:25px;font-family:Georgia;\">[GRE] <strong style=\"color:#19e6e6;font-size:20px;font-family:Georgia;\">Score <strong style=\"color:black;font-size:25px;font-family:Georgia;\">:- </strong></strong></strong></strong></strong></strong></h1>"
   ]
  },
  {
   "cell_type": "code",
   "execution_count": 26,
   "id": "d450732a",
   "metadata": {
    "execution": {
     "iopub.execute_input": "2024-11-07T10:19:36.322772Z",
     "iopub.status.busy": "2024-11-07T10:19:36.322255Z",
     "iopub.status.idle": "2024-11-07T10:19:36.330095Z",
     "shell.execute_reply": "2024-11-07T10:19:36.328891Z"
    },
    "papermill": {
     "duration": 0.058008,
     "end_time": "2024-11-07T10:19:36.332703",
     "exception": false,
     "start_time": "2024-11-07T10:19:36.274695",
     "status": "completed"
    },
    "tags": []
   },
   "outputs": [],
   "source": [
    "def percent_value_counts(df, feature):\n",
    "    \"\"\"This function takes in a dataframe and a column and finds the percentage of the value_counts\"\"\"\n",
    "    percent = pd.DataFrame(round(df.loc[:,feature].value_counts(dropna=False, normalize=True)*100,2))\n",
    "    ## creating a df with th\n",
    "    total = pd.DataFrame(df.loc[:,feature].value_counts(dropna=False))\n",
    "    ## concating percent and total dataframe\n",
    "\n",
    "    total.columns = [\"Total\"]\n",
    "    percent.columns = ['Percent']\n",
    "    return pd.concat([total, percent], axis = 1)"
   ]
  },
  {
   "cell_type": "code",
   "execution_count": 27,
   "id": "a3399e3e",
   "metadata": {
    "execution": {
     "iopub.execute_input": "2024-11-07T10:19:36.421434Z",
     "iopub.status.busy": "2024-11-07T10:19:36.420975Z",
     "iopub.status.idle": "2024-11-07T10:19:36.448975Z",
     "shell.execute_reply": "2024-11-07T10:19:36.447739Z"
    },
    "papermill": {
     "duration": 0.075474,
     "end_time": "2024-11-07T10:19:36.451593",
     "exception": false,
     "start_time": "2024-11-07T10:19:36.376119",
     "status": "completed"
    },
    "tags": []
   },
   "outputs": [
    {
     "data": {
      "text/html": [
       "<style type=\"text/css\">\n",
       "#T_4c880_row0_col0, #T_4c880_row0_col1, #T_4c880_row1_col0, #T_4c880_row1_col1 {\n",
       "  background-color: #000000;\n",
       "  color: #f1f1f1;\n",
       "}\n",
       "#T_4c880_row2_col0, #T_4c880_row2_col1, #T_4c880_row3_col0, #T_4c880_row3_col1, #T_4c880_row4_col0, #T_4c880_row4_col1 {\n",
       "  background-color: #5a5a5a;\n",
       "  color: #f1f1f1;\n",
       "}\n",
       "#T_4c880_row5_col0, #T_4c880_row5_col1, #T_4c880_row6_col0, #T_4c880_row6_col1 {\n",
       "  background-color: #686868;\n",
       "  color: #f1f1f1;\n",
       "}\n",
       "#T_4c880_row7_col0, #T_4c880_row7_col1, #T_4c880_row8_col0, #T_4c880_row8_col1, #T_4c880_row9_col0, #T_4c880_row9_col1, #T_4c880_row10_col0, #T_4c880_row10_col1 {\n",
       "  background-color: #777777;\n",
       "  color: #f1f1f1;\n",
       "}\n",
       "#T_4c880_row11_col0, #T_4c880_row11_col1, #T_4c880_row12_col0, #T_4c880_row12_col1, #T_4c880_row13_col0, #T_4c880_row13_col1 {\n",
       "  background-color: #868686;\n",
       "  color: #f1f1f1;\n",
       "}\n",
       "#T_4c880_row14_col0, #T_4c880_row14_col1, #T_4c880_row15_col0, #T_4c880_row15_col1 {\n",
       "  background-color: #959595;\n",
       "  color: #f1f1f1;\n",
       "}\n",
       "#T_4c880_row16_col0, #T_4c880_row16_col1, #T_4c880_row17_col0, #T_4c880_row17_col1, #T_4c880_row18_col0, #T_4c880_row18_col1, #T_4c880_row19_col0, #T_4c880_row19_col1 {\n",
       "  background-color: #a8a8a8;\n",
       "  color: #f1f1f1;\n",
       "}\n",
       "#T_4c880_row20_col0, #T_4c880_row20_col1, #T_4c880_row21_col0, #T_4c880_row21_col1, #T_4c880_row22_col0, #T_4c880_row22_col1, #T_4c880_row23_col0, #T_4c880_row23_col1, #T_4c880_row24_col0, #T_4c880_row24_col1, #T_4c880_row25_col0, #T_4c880_row25_col1, #T_4c880_row26_col0, #T_4c880_row26_col1, #T_4c880_row27_col0, #T_4c880_row27_col1 {\n",
       "  background-color: #b9b9b9;\n",
       "  color: #000000;\n",
       "}\n",
       "#T_4c880_row28_col0, #T_4c880_row28_col1, #T_4c880_row29_col0, #T_4c880_row29_col1 {\n",
       "  background-color: #c6c6c6;\n",
       "  color: #000000;\n",
       "}\n",
       "#T_4c880_row30_col0, #T_4c880_row30_col1, #T_4c880_row31_col0, #T_4c880_row31_col1, #T_4c880_row32_col0, #T_4c880_row32_col1, #T_4c880_row33_col0, #T_4c880_row33_col1, #T_4c880_row34_col0, #T_4c880_row34_col1 {\n",
       "  background-color: #d3d3d3;\n",
       "  color: #000000;\n",
       "}\n",
       "#T_4c880_row35_col0, #T_4c880_row35_col1, #T_4c880_row36_col0, #T_4c880_row36_col1, #T_4c880_row37_col0, #T_4c880_row37_col1, #T_4c880_row38_col0, #T_4c880_row38_col1 {\n",
       "  background-color: #dfdfdf;\n",
       "  color: #000000;\n",
       "}\n",
       "#T_4c880_row39_col0, #T_4c880_row39_col1, #T_4c880_row40_col0, #T_4c880_row40_col1, #T_4c880_row41_col0, #T_4c880_row41_col1, #T_4c880_row42_col0, #T_4c880_row42_col1, #T_4c880_row43_col0, #T_4c880_row43_col1 {\n",
       "  background-color: #e9e9e9;\n",
       "  color: #000000;\n",
       "}\n",
       "#T_4c880_row44_col0, #T_4c880_row44_col1 {\n",
       "  background-color: #f2f2f2;\n",
       "  color: #000000;\n",
       "}\n",
       "#T_4c880_row45_col0, #T_4c880_row45_col1, #T_4c880_row46_col0, #T_4c880_row46_col1 {\n",
       "  background-color: #f8f8f8;\n",
       "  color: #000000;\n",
       "}\n",
       "#T_4c880_row47_col0, #T_4c880_row47_col1, #T_4c880_row48_col0, #T_4c880_row48_col1 {\n",
       "  background-color: #ffffff;\n",
       "  color: #000000;\n",
       "}\n",
       "</style>\n",
       "<table id=\"T_4c880\">\n",
       "  <thead>\n",
       "    <tr>\n",
       "      <th class=\"blank level0\" >&nbsp;</th>\n",
       "      <th id=\"T_4c880_level0_col0\" class=\"col_heading level0 col0\" >Total</th>\n",
       "      <th id=\"T_4c880_level0_col1\" class=\"col_heading level0 col1\" >Percent</th>\n",
       "    </tr>\n",
       "    <tr>\n",
       "      <th class=\"index_name level0\" >GREScore</th>\n",
       "      <th class=\"blank col0\" >&nbsp;</th>\n",
       "      <th class=\"blank col1\" >&nbsp;</th>\n",
       "    </tr>\n",
       "  </thead>\n",
       "  <tbody>\n",
       "    <tr>\n",
       "      <th id=\"T_4c880_level0_row0\" class=\"row_heading level0 row0\" >324</th>\n",
       "      <td id=\"T_4c880_row0_col0\" class=\"data row0 col0\" >19</td>\n",
       "      <td id=\"T_4c880_row0_col1\" class=\"data row0 col1\" >4.750000</td>\n",
       "    </tr>\n",
       "    <tr>\n",
       "      <th id=\"T_4c880_level0_row1\" class=\"row_heading level0 row1\" >312</th>\n",
       "      <td id=\"T_4c880_row1_col0\" class=\"data row1 col0\" >19</td>\n",
       "      <td id=\"T_4c880_row1_col1\" class=\"data row1 col1\" >4.750000</td>\n",
       "    </tr>\n",
       "    <tr>\n",
       "      <th id=\"T_4c880_level0_row2\" class=\"row_heading level0 row2\" >316</th>\n",
       "      <td id=\"T_4c880_row2_col0\" class=\"data row2 col0\" >14</td>\n",
       "      <td id=\"T_4c880_row2_col1\" class=\"data row2 col1\" >3.500000</td>\n",
       "    </tr>\n",
       "    <tr>\n",
       "      <th id=\"T_4c880_level0_row3\" class=\"row_heading level0 row3\" >322</th>\n",
       "      <td id=\"T_4c880_row3_col0\" class=\"data row3 col0\" >14</td>\n",
       "      <td id=\"T_4c880_row3_col1\" class=\"data row3 col1\" >3.500000</td>\n",
       "    </tr>\n",
       "    <tr>\n",
       "      <th id=\"T_4c880_level0_row4\" class=\"row_heading level0 row4\" >314</th>\n",
       "      <td id=\"T_4c880_row4_col0\" class=\"data row4 col0\" >14</td>\n",
       "      <td id=\"T_4c880_row4_col1\" class=\"data row4 col1\" >3.500000</td>\n",
       "    </tr>\n",
       "    <tr>\n",
       "      <th id=\"T_4c880_level0_row5\" class=\"row_heading level0 row5\" >325</th>\n",
       "      <td id=\"T_4c880_row5_col0\" class=\"data row5 col0\" >13</td>\n",
       "      <td id=\"T_4c880_row5_col1\" class=\"data row5 col1\" >3.250000</td>\n",
       "    </tr>\n",
       "    <tr>\n",
       "      <th id=\"T_4c880_level0_row6\" class=\"row_heading level0 row6\" >321</th>\n",
       "      <td id=\"T_4c880_row6_col0\" class=\"data row6 col0\" >13</td>\n",
       "      <td id=\"T_4c880_row6_col1\" class=\"data row6 col1\" >3.250000</td>\n",
       "    </tr>\n",
       "    <tr>\n",
       "      <th id=\"T_4c880_level0_row7\" class=\"row_heading level0 row7\" >311</th>\n",
       "      <td id=\"T_4c880_row7_col0\" class=\"data row7 col0\" >12</td>\n",
       "      <td id=\"T_4c880_row7_col1\" class=\"data row7 col1\" >3.000000</td>\n",
       "    </tr>\n",
       "    <tr>\n",
       "      <th id=\"T_4c880_level0_row8\" class=\"row_heading level0 row8\" >317</th>\n",
       "      <td id=\"T_4c880_row8_col0\" class=\"data row8 col0\" >12</td>\n",
       "      <td id=\"T_4c880_row8_col1\" class=\"data row8 col1\" >3.000000</td>\n",
       "    </tr>\n",
       "    <tr>\n",
       "      <th id=\"T_4c880_level0_row9\" class=\"row_heading level0 row9\" >327</th>\n",
       "      <td id=\"T_4c880_row9_col0\" class=\"data row9 col0\" >12</td>\n",
       "      <td id=\"T_4c880_row9_col1\" class=\"data row9 col1\" >3.000000</td>\n",
       "    </tr>\n",
       "    <tr>\n",
       "      <th id=\"T_4c880_level0_row10\" class=\"row_heading level0 row10\" >320</th>\n",
       "      <td id=\"T_4c880_row10_col0\" class=\"data row10 col0\" >12</td>\n",
       "      <td id=\"T_4c880_row10_col1\" class=\"data row10 col1\" >3.000000</td>\n",
       "    </tr>\n",
       "    <tr>\n",
       "      <th id=\"T_4c880_level0_row11\" class=\"row_heading level0 row11\" >326</th>\n",
       "      <td id=\"T_4c880_row11_col0\" class=\"data row11 col0\" >11</td>\n",
       "      <td id=\"T_4c880_row11_col1\" class=\"data row11 col1\" >2.750000</td>\n",
       "    </tr>\n",
       "    <tr>\n",
       "      <th id=\"T_4c880_level0_row12\" class=\"row_heading level0 row12\" >313</th>\n",
       "      <td id=\"T_4c880_row12_col0\" class=\"data row12 col0\" >11</td>\n",
       "      <td id=\"T_4c880_row12_col1\" class=\"data row12 col1\" >2.750000</td>\n",
       "    </tr>\n",
       "    <tr>\n",
       "      <th id=\"T_4c880_level0_row13\" class=\"row_heading level0 row13\" >308</th>\n",
       "      <td id=\"T_4c880_row13_col0\" class=\"data row13 col0\" >11</td>\n",
       "      <td id=\"T_4c880_row13_col1\" class=\"data row13 col1\" >2.750000</td>\n",
       "    </tr>\n",
       "    <tr>\n",
       "      <th id=\"T_4c880_level0_row14\" class=\"row_heading level0 row14\" >323</th>\n",
       "      <td id=\"T_4c880_row14_col0\" class=\"data row14 col0\" >10</td>\n",
       "      <td id=\"T_4c880_row14_col1\" class=\"data row14 col1\" >2.500000</td>\n",
       "    </tr>\n",
       "    <tr>\n",
       "      <th id=\"T_4c880_level0_row15\" class=\"row_heading level0 row15\" >315</th>\n",
       "      <td id=\"T_4c880_row15_col0\" class=\"data row15 col0\" >10</td>\n",
       "      <td id=\"T_4c880_row15_col1\" class=\"data row15 col1\" >2.500000</td>\n",
       "    </tr>\n",
       "    <tr>\n",
       "      <th id=\"T_4c880_level0_row16\" class=\"row_heading level0 row16\" >300</th>\n",
       "      <td id=\"T_4c880_row16_col0\" class=\"data row16 col0\" >9</td>\n",
       "      <td id=\"T_4c880_row16_col1\" class=\"data row16 col1\" >2.250000</td>\n",
       "    </tr>\n",
       "    <tr>\n",
       "      <th id=\"T_4c880_level0_row17\" class=\"row_heading level0 row17\" >329</th>\n",
       "      <td id=\"T_4c880_row17_col0\" class=\"data row17 col0\" >9</td>\n",
       "      <td id=\"T_4c880_row17_col1\" class=\"data row17 col1\" >2.250000</td>\n",
       "    </tr>\n",
       "    <tr>\n",
       "      <th id=\"T_4c880_level0_row18\" class=\"row_heading level0 row18\" >319</th>\n",
       "      <td id=\"T_4c880_row18_col0\" class=\"data row18 col0\" >9</td>\n",
       "      <td id=\"T_4c880_row18_col1\" class=\"data row18 col1\" >2.250000</td>\n",
       "    </tr>\n",
       "    <tr>\n",
       "      <th id=\"T_4c880_level0_row19\" class=\"row_heading level0 row19\" >318</th>\n",
       "      <td id=\"T_4c880_row19_col0\" class=\"data row19 col0\" >9</td>\n",
       "      <td id=\"T_4c880_row19_col1\" class=\"data row19 col1\" >2.250000</td>\n",
       "    </tr>\n",
       "    <tr>\n",
       "      <th id=\"T_4c880_level0_row20\" class=\"row_heading level0 row20\" >340</th>\n",
       "      <td id=\"T_4c880_row20_col0\" class=\"data row20 col0\" >8</td>\n",
       "      <td id=\"T_4c880_row20_col1\" class=\"data row20 col1\" >2.000000</td>\n",
       "    </tr>\n",
       "    <tr>\n",
       "      <th id=\"T_4c880_level0_row21\" class=\"row_heading level0 row21\" >310</th>\n",
       "      <td id=\"T_4c880_row21_col0\" class=\"data row21 col0\" >8</td>\n",
       "      <td id=\"T_4c880_row21_col1\" class=\"data row21 col1\" >2.000000</td>\n",
       "    </tr>\n",
       "    <tr>\n",
       "      <th id=\"T_4c880_level0_row22\" class=\"row_heading level0 row22\" >301</th>\n",
       "      <td id=\"T_4c880_row22_col0\" class=\"data row22 col0\" >8</td>\n",
       "      <td id=\"T_4c880_row22_col1\" class=\"data row22 col1\" >2.000000</td>\n",
       "    </tr>\n",
       "    <tr>\n",
       "      <th id=\"T_4c880_level0_row23\" class=\"row_heading level0 row23\" >299</th>\n",
       "      <td id=\"T_4c880_row23_col0\" class=\"data row23 col0\" >8</td>\n",
       "      <td id=\"T_4c880_row23_col1\" class=\"data row23 col1\" >2.000000</td>\n",
       "    </tr>\n",
       "    <tr>\n",
       "      <th id=\"T_4c880_level0_row24\" class=\"row_heading level0 row24\" >304</th>\n",
       "      <td id=\"T_4c880_row24_col0\" class=\"data row24 col0\" >8</td>\n",
       "      <td id=\"T_4c880_row24_col1\" class=\"data row24 col1\" >2.000000</td>\n",
       "    </tr>\n",
       "    <tr>\n",
       "      <th id=\"T_4c880_level0_row25\" class=\"row_heading level0 row25\" >331</th>\n",
       "      <td id=\"T_4c880_row25_col0\" class=\"data row25 col0\" >8</td>\n",
       "      <td id=\"T_4c880_row25_col1\" class=\"data row25 col1\" >2.000000</td>\n",
       "    </tr>\n",
       "    <tr>\n",
       "      <th id=\"T_4c880_level0_row26\" class=\"row_heading level0 row26\" >307</th>\n",
       "      <td id=\"T_4c880_row26_col0\" class=\"data row26 col0\" >8</td>\n",
       "      <td id=\"T_4c880_row26_col1\" class=\"data row26 col1\" >2.000000</td>\n",
       "    </tr>\n",
       "    <tr>\n",
       "      <th id=\"T_4c880_level0_row27\" class=\"row_heading level0 row27\" >305</th>\n",
       "      <td id=\"T_4c880_row27_col0\" class=\"data row27 col0\" >8</td>\n",
       "      <td id=\"T_4c880_row27_col1\" class=\"data row27 col1\" >2.000000</td>\n",
       "    </tr>\n",
       "    <tr>\n",
       "      <th id=\"T_4c880_level0_row28\" class=\"row_heading level0 row28\" >298</th>\n",
       "      <td id=\"T_4c880_row28_col0\" class=\"data row28 col0\" >7</td>\n",
       "      <td id=\"T_4c880_row28_col1\" class=\"data row28 col1\" >1.750000</td>\n",
       "    </tr>\n",
       "    <tr>\n",
       "      <th id=\"T_4c880_level0_row29\" class=\"row_heading level0 row29\" >334</th>\n",
       "      <td id=\"T_4c880_row29_col0\" class=\"data row29 col0\" >7</td>\n",
       "      <td id=\"T_4c880_row29_col1\" class=\"data row29 col1\" >1.750000</td>\n",
       "    </tr>\n",
       "    <tr>\n",
       "      <th id=\"T_4c880_level0_row30\" class=\"row_heading level0 row30\" >332</th>\n",
       "      <td id=\"T_4c880_row30_col0\" class=\"data row30 col0\" >6</td>\n",
       "      <td id=\"T_4c880_row30_col1\" class=\"data row30 col1\" >1.500000</td>\n",
       "    </tr>\n",
       "    <tr>\n",
       "      <th id=\"T_4c880_level0_row31\" class=\"row_heading level0 row31\" >328</th>\n",
       "      <td id=\"T_4c880_row31_col0\" class=\"data row31 col0\" >6</td>\n",
       "      <td id=\"T_4c880_row31_col1\" class=\"data row31 col1\" >1.500000</td>\n",
       "    </tr>\n",
       "    <tr>\n",
       "      <th id=\"T_4c880_level0_row32\" class=\"row_heading level0 row32\" >306</th>\n",
       "      <td id=\"T_4c880_row32_col0\" class=\"data row32 col0\" >6</td>\n",
       "      <td id=\"T_4c880_row32_col1\" class=\"data row32 col1\" >1.500000</td>\n",
       "    </tr>\n",
       "    <tr>\n",
       "      <th id=\"T_4c880_level0_row33\" class=\"row_heading level0 row33\" >309</th>\n",
       "      <td id=\"T_4c880_row33_col0\" class=\"data row33 col0\" >6</td>\n",
       "      <td id=\"T_4c880_row33_col1\" class=\"data row33 col1\" >1.500000</td>\n",
       "    </tr>\n",
       "    <tr>\n",
       "      <th id=\"T_4c880_level0_row34\" class=\"row_heading level0 row34\" >330</th>\n",
       "      <td id=\"T_4c880_row34_col0\" class=\"data row34 col0\" >6</td>\n",
       "      <td id=\"T_4c880_row34_col1\" class=\"data row34 col1\" >1.500000</td>\n",
       "    </tr>\n",
       "    <tr>\n",
       "      <th id=\"T_4c880_level0_row35\" class=\"row_heading level0 row35\" >336</th>\n",
       "      <td id=\"T_4c880_row35_col0\" class=\"data row35 col0\" >5</td>\n",
       "      <td id=\"T_4c880_row35_col1\" class=\"data row35 col1\" >1.250000</td>\n",
       "    </tr>\n",
       "    <tr>\n",
       "      <th id=\"T_4c880_level0_row36\" class=\"row_heading level0 row36\" >296</th>\n",
       "      <td id=\"T_4c880_row36_col0\" class=\"data row36 col0\" >5</td>\n",
       "      <td id=\"T_4c880_row36_col1\" class=\"data row36 col1\" >1.250000</td>\n",
       "    </tr>\n",
       "    <tr>\n",
       "      <th id=\"T_4c880_level0_row37\" class=\"row_heading level0 row37\" >303</th>\n",
       "      <td id=\"T_4c880_row37_col0\" class=\"data row37 col0\" >5</td>\n",
       "      <td id=\"T_4c880_row37_col1\" class=\"data row37 col1\" >1.250000</td>\n",
       "    </tr>\n",
       "    <tr>\n",
       "      <th id=\"T_4c880_level0_row38\" class=\"row_heading level0 row38\" >302</th>\n",
       "      <td id=\"T_4c880_row38_col0\" class=\"data row38 col0\" >5</td>\n",
       "      <td id=\"T_4c880_row38_col1\" class=\"data row38 col1\" >1.250000</td>\n",
       "    </tr>\n",
       "    <tr>\n",
       "      <th id=\"T_4c880_level0_row39\" class=\"row_heading level0 row39\" >335</th>\n",
       "      <td id=\"T_4c880_row39_col0\" class=\"data row39 col0\" >4</td>\n",
       "      <td id=\"T_4c880_row39_col1\" class=\"data row39 col1\" >1.000000</td>\n",
       "    </tr>\n",
       "    <tr>\n",
       "      <th id=\"T_4c880_level0_row40\" class=\"row_heading level0 row40\" >295</th>\n",
       "      <td id=\"T_4c880_row40_col0\" class=\"data row40 col0\" >4</td>\n",
       "      <td id=\"T_4c880_row40_col1\" class=\"data row40 col1\" >1.000000</td>\n",
       "    </tr>\n",
       "    <tr>\n",
       "      <th id=\"T_4c880_level0_row41\" class=\"row_heading level0 row41\" >338</th>\n",
       "      <td id=\"T_4c880_row41_col0\" class=\"data row41 col0\" >4</td>\n",
       "      <td id=\"T_4c880_row41_col1\" class=\"data row41 col1\" >1.000000</td>\n",
       "    </tr>\n",
       "    <tr>\n",
       "      <th id=\"T_4c880_level0_row42\" class=\"row_heading level0 row42\" >297</th>\n",
       "      <td id=\"T_4c880_row42_col0\" class=\"data row42 col0\" >4</td>\n",
       "      <td id=\"T_4c880_row42_col1\" class=\"data row42 col1\" >1.000000</td>\n",
       "    </tr>\n",
       "    <tr>\n",
       "      <th id=\"T_4c880_level0_row43\" class=\"row_heading level0 row43\" >333</th>\n",
       "      <td id=\"T_4c880_row43_col0\" class=\"data row43 col0\" >4</td>\n",
       "      <td id=\"T_4c880_row43_col1\" class=\"data row43 col1\" >1.000000</td>\n",
       "    </tr>\n",
       "    <tr>\n",
       "      <th id=\"T_4c880_level0_row44\" class=\"row_heading level0 row44\" >339</th>\n",
       "      <td id=\"T_4c880_row44_col0\" class=\"data row44 col0\" >3</td>\n",
       "      <td id=\"T_4c880_row44_col1\" class=\"data row44 col1\" >0.750000</td>\n",
       "    </tr>\n",
       "    <tr>\n",
       "      <th id=\"T_4c880_level0_row45\" class=\"row_heading level0 row45\" >294</th>\n",
       "      <td id=\"T_4c880_row45_col0\" class=\"data row45 col0\" >2</td>\n",
       "      <td id=\"T_4c880_row45_col1\" class=\"data row45 col1\" >0.500000</td>\n",
       "    </tr>\n",
       "    <tr>\n",
       "      <th id=\"T_4c880_level0_row46\" class=\"row_heading level0 row46\" >290</th>\n",
       "      <td id=\"T_4c880_row46_col0\" class=\"data row46 col0\" >2</td>\n",
       "      <td id=\"T_4c880_row46_col1\" class=\"data row46 col1\" >0.500000</td>\n",
       "    </tr>\n",
       "    <tr>\n",
       "      <th id=\"T_4c880_level0_row47\" class=\"row_heading level0 row47\" >337</th>\n",
       "      <td id=\"T_4c880_row47_col0\" class=\"data row47 col0\" >1</td>\n",
       "      <td id=\"T_4c880_row47_col1\" class=\"data row47 col1\" >0.250000</td>\n",
       "    </tr>\n",
       "    <tr>\n",
       "      <th id=\"T_4c880_level0_row48\" class=\"row_heading level0 row48\" >293</th>\n",
       "      <td id=\"T_4c880_row48_col0\" class=\"data row48 col0\" >1</td>\n",
       "      <td id=\"T_4c880_row48_col1\" class=\"data row48 col1\" >0.250000</td>\n",
       "    </tr>\n",
       "  </tbody>\n",
       "</table>\n"
      ],
      "text/plain": [
       "<pandas.io.formats.style.Styler at 0x79edd750e560>"
      ]
     },
     "execution_count": 27,
     "metadata": {},
     "output_type": "execute_result"
    }
   ],
   "source": [
    "percent_value_counts(data, 'GREScore').style.background_gradient(cmap='Greys')"
   ]
  },
  {
   "cell_type": "code",
   "execution_count": 28,
   "id": "82d270f3",
   "metadata": {
    "execution": {
     "iopub.execute_input": "2024-11-07T10:19:36.544254Z",
     "iopub.status.busy": "2024-11-07T10:19:36.543327Z",
     "iopub.status.idle": "2024-11-07T10:19:38.779929Z",
     "shell.execute_reply": "2024-11-07T10:19:38.778546Z"
    },
    "papermill": {
     "duration": 2.286211,
     "end_time": "2024-11-07T10:19:38.782734",
     "exception": false,
     "start_time": "2024-11-07T10:19:36.496523",
     "status": "completed"
    },
    "tags": []
   },
   "outputs": [
    {
     "data": {
      "text/html": [
       "        <script type=\"text/javascript\">\n",
       "        window.PlotlyConfig = {MathJaxConfig: 'local'};\n",
       "        if (window.MathJax && window.MathJax.Hub && window.MathJax.Hub.Config) {window.MathJax.Hub.Config({SVG: {font: \"STIX-Web\"}});}\n",
       "        if (typeof require !== 'undefined') {\n",
       "        require.undef(\"plotly\");\n",
       "        requirejs.config({\n",
       "            paths: {\n",
       "                'plotly': ['https://cdn.plot.ly/plotly-2.32.0.min']\n",
       "            }\n",
       "        });\n",
       "        require(['plotly'], function(Plotly) {\n",
       "            window._Plotly = Plotly;\n",
       "        });\n",
       "        }\n",
       "        </script>\n",
       "        "
      ]
     },
     "metadata": {},
     "output_type": "display_data"
    },
    {
     "data": {
      "text/html": [
       "<div>                            <div id=\"b8d47053-2e7a-43c2-befb-0d311c1df4b7\" class=\"plotly-graph-div\" style=\"height:525px; width:100%;\"></div>            <script type=\"text/javascript\">                require([\"plotly\"], function(Plotly) {                    window.PLOTLYENV=window.PLOTLYENV || {};                                    if (document.getElementById(\"b8d47053-2e7a-43c2-befb-0d311c1df4b7\")) {                    Plotly.newPlot(                        \"b8d47053-2e7a-43c2-befb-0d311c1df4b7\",                        [{\"marker\":{\"color\":\"#19e6e6\",\"line\":{\"color\":\"black\",\"width\":3}},\"showlegend\":false,\"text\":[\"19\",\"19\",\"14\",\"14\",\"14\",\"13\",\"13\",\"12\",\"12\",\"12\",\"12\",\"11\",\"11\",\"11\",\"10\",\"10\",\"9\",\"9\",\"9\",\"9\",\"8\",\"8\",\"8\",\"8\",\"8\",\"8\",\"8\",\"8\",\"7\",\"7\",\"6\",\"6\",\"6\",\"6\",\"6\",\"5\",\"5\",\"5\",\"5\",\"4\",\"4\",\"4\",\"4\",\"4\",\"3\",\"2\",\"2\",\"1\",\"1\"],\"textfont\":{\"size\":15},\"textposition\":\"outside\",\"x\":[324,312,316,322,314,325,321,311,317,327,320,326,313,308,323,315,300,329,319,318,340,310,301,299,304,331,307,305,298,334,332,328,306,309,330,336,296,303,302,335,295,338,297,333,339,294,290,337,293],\"y\":[19,19,14,14,14,13,13,12,12,12,12,11,11,11,10,10,9,9,9,9,8,8,8,8,8,8,8,8,7,7,6,6,6,6,6,5,5,5,5,4,4,4,4,4,3,2,2,1,1],\"type\":\"bar\",\"xaxis\":\"x\",\"yaxis\":\"y\"}],                        {\"template\":{\"data\":{\"barpolar\":[{\"marker\":{\"line\":{\"color\":\"white\",\"width\":0.5},\"pattern\":{\"fillmode\":\"overlay\",\"size\":10,\"solidity\":0.2}},\"type\":\"barpolar\"}],\"bar\":[{\"error_x\":{\"color\":\"#2a3f5f\"},\"error_y\":{\"color\":\"#2a3f5f\"},\"marker\":{\"line\":{\"color\":\"white\",\"width\":0.5},\"pattern\":{\"fillmode\":\"overlay\",\"size\":10,\"solidity\":0.2}},\"type\":\"bar\"}],\"carpet\":[{\"aaxis\":{\"endlinecolor\":\"#2a3f5f\",\"gridcolor\":\"#C8D4E3\",\"linecolor\":\"#C8D4E3\",\"minorgridcolor\":\"#C8D4E3\",\"startlinecolor\":\"#2a3f5f\"},\"baxis\":{\"endlinecolor\":\"#2a3f5f\",\"gridcolor\":\"#C8D4E3\",\"linecolor\":\"#C8D4E3\",\"minorgridcolor\":\"#C8D4E3\",\"startlinecolor\":\"#2a3f5f\"},\"type\":\"carpet\"}],\"choropleth\":[{\"colorbar\":{\"outlinewidth\":0,\"ticks\":\"\"},\"type\":\"choropleth\"}],\"contourcarpet\":[{\"colorbar\":{\"outlinewidth\":0,\"ticks\":\"\"},\"type\":\"contourcarpet\"}],\"contour\":[{\"colorbar\":{\"outlinewidth\":0,\"ticks\":\"\"},\"colorscale\":[[0.0,\"#0d0887\"],[0.1111111111111111,\"#46039f\"],[0.2222222222222222,\"#7201a8\"],[0.3333333333333333,\"#9c179e\"],[0.4444444444444444,\"#bd3786\"],[0.5555555555555556,\"#d8576b\"],[0.6666666666666666,\"#ed7953\"],[0.7777777777777778,\"#fb9f3a\"],[0.8888888888888888,\"#fdca26\"],[1.0,\"#f0f921\"]],\"type\":\"contour\"}],\"heatmapgl\":[{\"colorbar\":{\"outlinewidth\":0,\"ticks\":\"\"},\"colorscale\":[[0.0,\"#0d0887\"],[0.1111111111111111,\"#46039f\"],[0.2222222222222222,\"#7201a8\"],[0.3333333333333333,\"#9c179e\"],[0.4444444444444444,\"#bd3786\"],[0.5555555555555556,\"#d8576b\"],[0.6666666666666666,\"#ed7953\"],[0.7777777777777778,\"#fb9f3a\"],[0.8888888888888888,\"#fdca26\"],[1.0,\"#f0f921\"]],\"type\":\"heatmapgl\"}],\"heatmap\":[{\"colorbar\":{\"outlinewidth\":0,\"ticks\":\"\"},\"colorscale\":[[0.0,\"#0d0887\"],[0.1111111111111111,\"#46039f\"],[0.2222222222222222,\"#7201a8\"],[0.3333333333333333,\"#9c179e\"],[0.4444444444444444,\"#bd3786\"],[0.5555555555555556,\"#d8576b\"],[0.6666666666666666,\"#ed7953\"],[0.7777777777777778,\"#fb9f3a\"],[0.8888888888888888,\"#fdca26\"],[1.0,\"#f0f921\"]],\"type\":\"heatmap\"}],\"histogram2dcontour\":[{\"colorbar\":{\"outlinewidth\":0,\"ticks\":\"\"},\"colorscale\":[[0.0,\"#0d0887\"],[0.1111111111111111,\"#46039f\"],[0.2222222222222222,\"#7201a8\"],[0.3333333333333333,\"#9c179e\"],[0.4444444444444444,\"#bd3786\"],[0.5555555555555556,\"#d8576b\"],[0.6666666666666666,\"#ed7953\"],[0.7777777777777778,\"#fb9f3a\"],[0.8888888888888888,\"#fdca26\"],[1.0,\"#f0f921\"]],\"type\":\"histogram2dcontour\"}],\"histogram2d\":[{\"colorbar\":{\"outlinewidth\":0,\"ticks\":\"\"},\"colorscale\":[[0.0,\"#0d0887\"],[0.1111111111111111,\"#46039f\"],[0.2222222222222222,\"#7201a8\"],[0.3333333333333333,\"#9c179e\"],[0.4444444444444444,\"#bd3786\"],[0.5555555555555556,\"#d8576b\"],[0.6666666666666666,\"#ed7953\"],[0.7777777777777778,\"#fb9f3a\"],[0.8888888888888888,\"#fdca26\"],[1.0,\"#f0f921\"]],\"type\":\"histogram2d\"}],\"histogram\":[{\"marker\":{\"pattern\":{\"fillmode\":\"overlay\",\"size\":10,\"solidity\":0.2}},\"type\":\"histogram\"}],\"mesh3d\":[{\"colorbar\":{\"outlinewidth\":0,\"ticks\":\"\"},\"type\":\"mesh3d\"}],\"parcoords\":[{\"line\":{\"colorbar\":{\"outlinewidth\":0,\"ticks\":\"\"}},\"type\":\"parcoords\"}],\"pie\":[{\"automargin\":true,\"type\":\"pie\"}],\"scatter3d\":[{\"line\":{\"colorbar\":{\"outlinewidth\":0,\"ticks\":\"\"}},\"marker\":{\"colorbar\":{\"outlinewidth\":0,\"ticks\":\"\"}},\"type\":\"scatter3d\"}],\"scattercarpet\":[{\"marker\":{\"colorbar\":{\"outlinewidth\":0,\"ticks\":\"\"}},\"type\":\"scattercarpet\"}],\"scattergeo\":[{\"marker\":{\"colorbar\":{\"outlinewidth\":0,\"ticks\":\"\"}},\"type\":\"scattergeo\"}],\"scattergl\":[{\"marker\":{\"colorbar\":{\"outlinewidth\":0,\"ticks\":\"\"}},\"type\":\"scattergl\"}],\"scattermapbox\":[{\"marker\":{\"colorbar\":{\"outlinewidth\":0,\"ticks\":\"\"}},\"type\":\"scattermapbox\"}],\"scatterpolargl\":[{\"marker\":{\"colorbar\":{\"outlinewidth\":0,\"ticks\":\"\"}},\"type\":\"scatterpolargl\"}],\"scatterpolar\":[{\"marker\":{\"colorbar\":{\"outlinewidth\":0,\"ticks\":\"\"}},\"type\":\"scatterpolar\"}],\"scatter\":[{\"fillpattern\":{\"fillmode\":\"overlay\",\"size\":10,\"solidity\":0.2},\"type\":\"scatter\"}],\"scatterternary\":[{\"marker\":{\"colorbar\":{\"outlinewidth\":0,\"ticks\":\"\"}},\"type\":\"scatterternary\"}],\"surface\":[{\"colorbar\":{\"outlinewidth\":0,\"ticks\":\"\"},\"colorscale\":[[0.0,\"#0d0887\"],[0.1111111111111111,\"#46039f\"],[0.2222222222222222,\"#7201a8\"],[0.3333333333333333,\"#9c179e\"],[0.4444444444444444,\"#bd3786\"],[0.5555555555555556,\"#d8576b\"],[0.6666666666666666,\"#ed7953\"],[0.7777777777777778,\"#fb9f3a\"],[0.8888888888888888,\"#fdca26\"],[1.0,\"#f0f921\"]],\"type\":\"surface\"}],\"table\":[{\"cells\":{\"fill\":{\"color\":\"#EBF0F8\"},\"line\":{\"color\":\"white\"}},\"header\":{\"fill\":{\"color\":\"#C8D4E3\"},\"line\":{\"color\":\"white\"}},\"type\":\"table\"}]},\"layout\":{\"annotationdefaults\":{\"arrowcolor\":\"#2a3f5f\",\"arrowhead\":0,\"arrowwidth\":1},\"autotypenumbers\":\"strict\",\"coloraxis\":{\"colorbar\":{\"outlinewidth\":0,\"ticks\":\"\"}},\"colorscale\":{\"diverging\":[[0,\"#8e0152\"],[0.1,\"#c51b7d\"],[0.2,\"#de77ae\"],[0.3,\"#f1b6da\"],[0.4,\"#fde0ef\"],[0.5,\"#f7f7f7\"],[0.6,\"#e6f5d0\"],[0.7,\"#b8e186\"],[0.8,\"#7fbc41\"],[0.9,\"#4d9221\"],[1,\"#276419\"]],\"sequential\":[[0.0,\"#0d0887\"],[0.1111111111111111,\"#46039f\"],[0.2222222222222222,\"#7201a8\"],[0.3333333333333333,\"#9c179e\"],[0.4444444444444444,\"#bd3786\"],[0.5555555555555556,\"#d8576b\"],[0.6666666666666666,\"#ed7953\"],[0.7777777777777778,\"#fb9f3a\"],[0.8888888888888888,\"#fdca26\"],[1.0,\"#f0f921\"]],\"sequentialminus\":[[0.0,\"#0d0887\"],[0.1111111111111111,\"#46039f\"],[0.2222222222222222,\"#7201a8\"],[0.3333333333333333,\"#9c179e\"],[0.4444444444444444,\"#bd3786\"],[0.5555555555555556,\"#d8576b\"],[0.6666666666666666,\"#ed7953\"],[0.7777777777777778,\"#fb9f3a\"],[0.8888888888888888,\"#fdca26\"],[1.0,\"#f0f921\"]]},\"colorway\":[\"#636efa\",\"#EF553B\",\"#00cc96\",\"#ab63fa\",\"#FFA15A\",\"#19d3f3\",\"#FF6692\",\"#B6E880\",\"#FF97FF\",\"#FECB52\"],\"font\":{\"color\":\"#2a3f5f\"},\"geo\":{\"bgcolor\":\"white\",\"lakecolor\":\"white\",\"landcolor\":\"white\",\"showlakes\":true,\"showland\":true,\"subunitcolor\":\"#C8D4E3\"},\"hoverlabel\":{\"align\":\"left\"},\"hovermode\":\"closest\",\"mapbox\":{\"style\":\"light\"},\"paper_bgcolor\":\"white\",\"plot_bgcolor\":\"white\",\"polar\":{\"angularaxis\":{\"gridcolor\":\"#EBF0F8\",\"linecolor\":\"#EBF0F8\",\"ticks\":\"\"},\"bgcolor\":\"white\",\"radialaxis\":{\"gridcolor\":\"#EBF0F8\",\"linecolor\":\"#EBF0F8\",\"ticks\":\"\"}},\"scene\":{\"xaxis\":{\"backgroundcolor\":\"white\",\"gridcolor\":\"#DFE8F3\",\"gridwidth\":2,\"linecolor\":\"#EBF0F8\",\"showbackground\":true,\"ticks\":\"\",\"zerolinecolor\":\"#EBF0F8\"},\"yaxis\":{\"backgroundcolor\":\"white\",\"gridcolor\":\"#DFE8F3\",\"gridwidth\":2,\"linecolor\":\"#EBF0F8\",\"showbackground\":true,\"ticks\":\"\",\"zerolinecolor\":\"#EBF0F8\"},\"zaxis\":{\"backgroundcolor\":\"white\",\"gridcolor\":\"#DFE8F3\",\"gridwidth\":2,\"linecolor\":\"#EBF0F8\",\"showbackground\":true,\"ticks\":\"\",\"zerolinecolor\":\"#EBF0F8\"}},\"shapedefaults\":{\"line\":{\"color\":\"#2a3f5f\"}},\"ternary\":{\"aaxis\":{\"gridcolor\":\"#DFE8F3\",\"linecolor\":\"#A2B1C6\",\"ticks\":\"\"},\"baxis\":{\"gridcolor\":\"#DFE8F3\",\"linecolor\":\"#A2B1C6\",\"ticks\":\"\"},\"bgcolor\":\"white\",\"caxis\":{\"gridcolor\":\"#DFE8F3\",\"linecolor\":\"#A2B1C6\",\"ticks\":\"\"}},\"title\":{\"x\":0.05},\"xaxis\":{\"automargin\":true,\"gridcolor\":\"#EBF0F8\",\"linecolor\":\"#EBF0F8\",\"ticks\":\"\",\"title\":{\"standoff\":15},\"zerolinecolor\":\"#EBF0F8\",\"zerolinewidth\":2},\"yaxis\":{\"automargin\":true,\"gridcolor\":\"#EBF0F8\",\"linecolor\":\"#EBF0F8\",\"ticks\":\"\",\"title\":{\"standoff\":15},\"zerolinecolor\":\"#EBF0F8\",\"zerolinewidth\":2}}},\"xaxis\":{\"anchor\":\"y\",\"domain\":[0.0,1.0]},\"yaxis\":{\"anchor\":\"x\",\"domain\":[0.0,1.0],\"range\":[0,25]},\"title\":{\"text\":\"Density distribution of GRE Score\"}},                        {\"responsive\": true}                    ).then(function(){\n",
       "                            \n",
       "var gd = document.getElementById('b8d47053-2e7a-43c2-befb-0d311c1df4b7');\n",
       "var x = new MutationObserver(function (mutations, observer) {{\n",
       "        var display = window.getComputedStyle(gd).display;\n",
       "        if (!display || display === 'none') {{\n",
       "            console.log([gd, 'removed!']);\n",
       "            Plotly.purge(gd);\n",
       "            observer.disconnect();\n",
       "        }}\n",
       "}});\n",
       "\n",
       "// Listen for the removal of the full notebook cells\n",
       "var notebookContainer = gd.closest('#notebook-container');\n",
       "if (notebookContainer) {{\n",
       "    x.observe(notebookContainer, {childList: true});\n",
       "}}\n",
       "\n",
       "// Listen for the clearing of the current output cell\n",
       "var outputEl = gd.closest('.output');\n",
       "if (outputEl) {{\n",
       "    x.observe(outputEl, {childList: true});\n",
       "}}\n",
       "\n",
       "                        })                };                });            </script>        </div>"
      ]
     },
     "metadata": {},
     "output_type": "display_data"
    }
   ],
   "source": [
    "fig = make_subplots(rows=1,cols=1)\n",
    "fig.add_trace(go.Bar(y = data['GREScore'].value_counts().values.tolist(), \n",
    "                      x = data['GREScore'].value_counts().index, \n",
    "                      text=data['GREScore'].value_counts().values.tolist(),\n",
    "              textfont=dict(size=15),\n",
    "                      textposition = 'outside',\n",
    "                      showlegend=False,\n",
    "              marker = dict(color = '#19e6e6',\n",
    "                            line_color = 'black',\n",
    "                            line_width=3)),row = 1,col = 1)\n",
    "\n",
    "fig.update_layout(title='Density distribution of GRE Score',\n",
    "                  template='plotly_white')\n",
    "fig.update_yaxes(range=[0,25])\n",
    "# Display the figure\n",
    "fig \n"
   ]
  },
  {
   "cell_type": "markdown",
   "id": "dd28058d",
   "metadata": {
    "papermill": {
     "duration": 0.044453,
     "end_time": "2024-11-07T10:19:38.872666",
     "exception": false,
     "start_time": "2024-11-07T10:19:38.828213",
     "status": "completed"
    },
    "tags": []
   },
   "source": [
    "<p style= \"font-family:Georgia;color:#000000;font-size:110%;text-align:center;border-radius:10px 10px;border-style: dotted;border-width:5px;border-color:#19e6e6;\"><b>Insights:-</b>By analyzing the distribution of GREScore, we can say that highest number of the students GREscore is \"312\" & \"324\".<br>\n",
    " Highest GREScore of students is between \"304\" & \"330\".\n",
    "<br></p>"
   ]
  },
  {
   "cell_type": "markdown",
   "id": "85ef323d",
   "metadata": {
    "papermill": {
     "duration": 0.044409,
     "end_time": "2024-11-07T10:19:38.962243",
     "exception": false,
     "start_time": "2024-11-07T10:19:38.917834",
     "status": "completed"
    },
    "tags": []
   },
   "source": [
    "<h1 style=\"color:black;font-size:25px;font-family:Georgia;text-align:center;\">📌<strong style=\"color:#19e6e6;font-size:20px;font-family:Georgia;\">TOEFL_Score <strong style=\"color:black;font-size:25px;font-family:Georgia;\">:- </strong></strong></h1>"
   ]
  },
  {
   "cell_type": "code",
   "execution_count": 29,
   "id": "1c1f10f0",
   "metadata": {
    "execution": {
     "iopub.execute_input": "2024-11-07T10:19:39.054183Z",
     "iopub.status.busy": "2024-11-07T10:19:39.053350Z",
     "iopub.status.idle": "2024-11-07T10:19:39.079590Z",
     "shell.execute_reply": "2024-11-07T10:19:39.078385Z"
    },
    "papermill": {
     "duration": 0.076161,
     "end_time": "2024-11-07T10:19:39.082860",
     "exception": false,
     "start_time": "2024-11-07T10:19:39.006699",
     "status": "completed"
    },
    "tags": []
   },
   "outputs": [
    {
     "data": {
      "text/html": [
       "<style type=\"text/css\">\n",
       "#T_9d13c_row0_col0, #T_9d13c_row0_col1 {\n",
       "  background-color: #000000;\n",
       "  color: #f1f1f1;\n",
       "}\n",
       "#T_9d13c_row1_col0, #T_9d13c_row1_col1 {\n",
       "  background-color: #515151;\n",
       "  color: #f1f1f1;\n",
       "}\n",
       "#T_9d13c_row2_col0, #T_9d13c_row2_col1 {\n",
       "  background-color: #616161;\n",
       "  color: #f1f1f1;\n",
       "}\n",
       "#T_9d13c_row3_col0, #T_9d13c_row3_col1 {\n",
       "  background-color: #686868;\n",
       "  color: #f1f1f1;\n",
       "}\n",
       "#T_9d13c_row4_col0, #T_9d13c_row4_col1 {\n",
       "  background-color: #6f6f6f;\n",
       "  color: #f1f1f1;\n",
       "}\n",
       "#T_9d13c_row5_col0, #T_9d13c_row5_col1 {\n",
       "  background-color: #868686;\n",
       "  color: #f1f1f1;\n",
       "}\n",
       "#T_9d13c_row6_col0, #T_9d13c_row6_col1 {\n",
       "  background-color: #959595;\n",
       "  color: #f1f1f1;\n",
       "}\n",
       "#T_9d13c_row7_col0, #T_9d13c_row7_col1 {\n",
       "  background-color: #9f9f9f;\n",
       "  color: #f1f1f1;\n",
       "}\n",
       "#T_9d13c_row8_col0, #T_9d13c_row8_col1, #T_9d13c_row9_col0, #T_9d13c_row9_col1, #T_9d13c_row10_col0, #T_9d13c_row10_col1, #T_9d13c_row11_col0, #T_9d13c_row11_col1 {\n",
       "  background-color: #a8a8a8;\n",
       "  color: #f1f1f1;\n",
       "}\n",
       "#T_9d13c_row12_col0, #T_9d13c_row12_col1 {\n",
       "  background-color: #b0b0b0;\n",
       "  color: #000000;\n",
       "}\n",
       "#T_9d13c_row13_col0, #T_9d13c_row13_col1 {\n",
       "  background-color: #b9b9b9;\n",
       "  color: #000000;\n",
       "}\n",
       "#T_9d13c_row14_col0, #T_9d13c_row14_col1 {\n",
       "  background-color: #c0c0c0;\n",
       "  color: #000000;\n",
       "}\n",
       "#T_9d13c_row15_col0, #T_9d13c_row15_col1, #T_9d13c_row16_col0, #T_9d13c_row16_col1 {\n",
       "  background-color: #d3d3d3;\n",
       "  color: #000000;\n",
       "}\n",
       "#T_9d13c_row17_col0, #T_9d13c_row17_col1, #T_9d13c_row18_col0, #T_9d13c_row18_col1, #T_9d13c_row19_col0, #T_9d13c_row19_col1, #T_9d13c_row20_col0, #T_9d13c_row20_col1 {\n",
       "  background-color: #dfdfdf;\n",
       "  color: #000000;\n",
       "}\n",
       "#T_9d13c_row21_col0, #T_9d13c_row21_col1 {\n",
       "  background-color: #e4e4e4;\n",
       "  color: #000000;\n",
       "}\n",
       "#T_9d13c_row22_col0, #T_9d13c_row22_col1 {\n",
       "  background-color: #e9e9e9;\n",
       "  color: #000000;\n",
       "}\n",
       "#T_9d13c_row23_col0, #T_9d13c_row23_col1 {\n",
       "  background-color: #eeeeee;\n",
       "  color: #000000;\n",
       "}\n",
       "#T_9d13c_row24_col0, #T_9d13c_row24_col1 {\n",
       "  background-color: #f5f5f5;\n",
       "  color: #000000;\n",
       "}\n",
       "#T_9d13c_row25_col0, #T_9d13c_row25_col1, #T_9d13c_row26_col0, #T_9d13c_row26_col1 {\n",
       "  background-color: #fcfcfc;\n",
       "  color: #000000;\n",
       "}\n",
       "#T_9d13c_row27_col0, #T_9d13c_row27_col1, #T_9d13c_row28_col0, #T_9d13c_row28_col1 {\n",
       "  background-color: #ffffff;\n",
       "  color: #000000;\n",
       "}\n",
       "</style>\n",
       "<table id=\"T_9d13c\">\n",
       "  <thead>\n",
       "    <tr>\n",
       "      <th class=\"blank level0\" >&nbsp;</th>\n",
       "      <th id=\"T_9d13c_level0_col0\" class=\"col_heading level0 col0\" >Total</th>\n",
       "      <th id=\"T_9d13c_level0_col1\" class=\"col_heading level0 col1\" >Percent</th>\n",
       "    </tr>\n",
       "    <tr>\n",
       "      <th class=\"index_name level0\" >TOEFLScore</th>\n",
       "      <th class=\"blank col0\" >&nbsp;</th>\n",
       "      <th class=\"blank col1\" >&nbsp;</th>\n",
       "    </tr>\n",
       "  </thead>\n",
       "  <tbody>\n",
       "    <tr>\n",
       "      <th id=\"T_9d13c_level0_row0\" class=\"row_heading level0 row0\" >110</th>\n",
       "      <td id=\"T_9d13c_row0_col0\" class=\"data row0 col0\" >37</td>\n",
       "      <td id=\"T_9d13c_row0_col1\" class=\"data row0 col1\" >9.250000</td>\n",
       "    </tr>\n",
       "    <tr>\n",
       "      <th id=\"T_9d13c_level0_row1\" class=\"row_heading level0 row1\" >105</th>\n",
       "      <td id=\"T_9d13c_row1_col0\" class=\"data row1 col0\" >28</td>\n",
       "      <td id=\"T_9d13c_row1_col1\" class=\"data row1 col1\" >7.000000</td>\n",
       "    </tr>\n",
       "    <tr>\n",
       "      <th id=\"T_9d13c_level0_row2\" class=\"row_heading level0 row2\" >107</th>\n",
       "      <td id=\"T_9d13c_row2_col0\" class=\"data row2 col0\" >26</td>\n",
       "      <td id=\"T_9d13c_row2_col1\" class=\"data row2 col1\" >6.500000</td>\n",
       "    </tr>\n",
       "    <tr>\n",
       "      <th id=\"T_9d13c_level0_row3\" class=\"row_heading level0 row3\" >104</th>\n",
       "      <td id=\"T_9d13c_row3_col0\" class=\"data row3 col0\" >25</td>\n",
       "      <td id=\"T_9d13c_row3_col1\" class=\"data row3 col1\" >6.250000</td>\n",
       "    </tr>\n",
       "    <tr>\n",
       "      <th id=\"T_9d13c_level0_row4\" class=\"row_heading level0 row4\" >106</th>\n",
       "      <td id=\"T_9d13c_row4_col0\" class=\"data row4 col0\" >24</td>\n",
       "      <td id=\"T_9d13c_row4_col1\" class=\"data row4 col1\" >6.000000</td>\n",
       "    </tr>\n",
       "    <tr>\n",
       "      <th id=\"T_9d13c_level0_row5\" class=\"row_heading level0 row5\" >112</th>\n",
       "      <td id=\"T_9d13c_row5_col0\" class=\"data row5 col0\" >21</td>\n",
       "      <td id=\"T_9d13c_row5_col1\" class=\"data row5 col1\" >5.250000</td>\n",
       "    </tr>\n",
       "    <tr>\n",
       "      <th id=\"T_9d13c_level0_row6\" class=\"row_heading level0 row6\" >100</th>\n",
       "      <td id=\"T_9d13c_row6_col0\" class=\"data row6 col0\" >19</td>\n",
       "      <td id=\"T_9d13c_row6_col1\" class=\"data row6 col1\" >4.750000</td>\n",
       "    </tr>\n",
       "    <tr>\n",
       "      <th id=\"T_9d13c_level0_row7\" class=\"row_heading level0 row7\" >99</th>\n",
       "      <td id=\"T_9d13c_row7_col0\" class=\"data row7 col0\" >18</td>\n",
       "      <td id=\"T_9d13c_row7_col1\" class=\"data row7 col1\" >4.500000</td>\n",
       "    </tr>\n",
       "    <tr>\n",
       "      <th id=\"T_9d13c_level0_row8\" class=\"row_heading level0 row8\" >111</th>\n",
       "      <td id=\"T_9d13c_row8_col0\" class=\"data row8 col0\" >17</td>\n",
       "      <td id=\"T_9d13c_row8_col1\" class=\"data row8 col1\" >4.250000</td>\n",
       "    </tr>\n",
       "    <tr>\n",
       "      <th id=\"T_9d13c_level0_row9\" class=\"row_heading level0 row9\" >108</th>\n",
       "      <td id=\"T_9d13c_row9_col0\" class=\"data row9 col0\" >17</td>\n",
       "      <td id=\"T_9d13c_row9_col1\" class=\"data row9 col1\" >4.250000</td>\n",
       "    </tr>\n",
       "    <tr>\n",
       "      <th id=\"T_9d13c_level0_row10\" class=\"row_heading level0 row10\" >102</th>\n",
       "      <td id=\"T_9d13c_row10_col0\" class=\"data row10 col0\" >17</td>\n",
       "      <td id=\"T_9d13c_row10_col1\" class=\"data row10 col1\" >4.250000</td>\n",
       "    </tr>\n",
       "    <tr>\n",
       "      <th id=\"T_9d13c_level0_row11\" class=\"row_heading level0 row11\" >109</th>\n",
       "      <td id=\"T_9d13c_row11_col0\" class=\"data row11 col0\" >17</td>\n",
       "      <td id=\"T_9d13c_row11_col1\" class=\"data row11 col1\" >4.250000</td>\n",
       "    </tr>\n",
       "    <tr>\n",
       "      <th id=\"T_9d13c_level0_row12\" class=\"row_heading level0 row12\" >103</th>\n",
       "      <td id=\"T_9d13c_row12_col0\" class=\"data row12 col0\" >16</td>\n",
       "      <td id=\"T_9d13c_row12_col1\" class=\"data row12 col1\" >4.000000</td>\n",
       "    </tr>\n",
       "    <tr>\n",
       "      <th id=\"T_9d13c_level0_row13\" class=\"row_heading level0 row13\" >114</th>\n",
       "      <td id=\"T_9d13c_row13_col0\" class=\"data row13 col0\" >15</td>\n",
       "      <td id=\"T_9d13c_row13_col1\" class=\"data row13 col1\" >3.750000</td>\n",
       "    </tr>\n",
       "    <tr>\n",
       "      <th id=\"T_9d13c_level0_row14\" class=\"row_heading level0 row14\" >113</th>\n",
       "      <td id=\"T_9d13c_row14_col0\" class=\"data row14 col0\" >14</td>\n",
       "      <td id=\"T_9d13c_row14_col1\" class=\"data row14 col1\" >3.500000</td>\n",
       "    </tr>\n",
       "    <tr>\n",
       "      <th id=\"T_9d13c_level0_row15\" class=\"row_heading level0 row15\" >101</th>\n",
       "      <td id=\"T_9d13c_row15_col0\" class=\"data row15 col0\" >11</td>\n",
       "      <td id=\"T_9d13c_row15_col1\" class=\"data row15 col1\" >2.750000</td>\n",
       "    </tr>\n",
       "    <tr>\n",
       "      <th id=\"T_9d13c_level0_row16\" class=\"row_heading level0 row16\" >116</th>\n",
       "      <td id=\"T_9d13c_row16_col0\" class=\"data row16 col0\" >11</td>\n",
       "      <td id=\"T_9d13c_row16_col1\" class=\"data row16 col1\" >2.750000</td>\n",
       "    </tr>\n",
       "    <tr>\n",
       "      <th id=\"T_9d13c_level0_row17\" class=\"row_heading level0 row17\" >98</th>\n",
       "      <td id=\"T_9d13c_row17_col0\" class=\"data row17 col0\" >9</td>\n",
       "      <td id=\"T_9d13c_row17_col1\" class=\"data row17 col1\" >2.250000</td>\n",
       "    </tr>\n",
       "    <tr>\n",
       "      <th id=\"T_9d13c_level0_row18\" class=\"row_heading level0 row18\" >118</th>\n",
       "      <td id=\"T_9d13c_row18_col0\" class=\"data row18 col0\" >9</td>\n",
       "      <td id=\"T_9d13c_row18_col1\" class=\"data row18 col1\" >2.250000</td>\n",
       "    </tr>\n",
       "    <tr>\n",
       "      <th id=\"T_9d13c_level0_row19\" class=\"row_heading level0 row19\" >119</th>\n",
       "      <td id=\"T_9d13c_row19_col0\" class=\"data row19 col0\" >9</td>\n",
       "      <td id=\"T_9d13c_row19_col1\" class=\"data row19 col1\" >2.250000</td>\n",
       "    </tr>\n",
       "    <tr>\n",
       "      <th id=\"T_9d13c_level0_row20\" class=\"row_heading level0 row20\" >115</th>\n",
       "      <td id=\"T_9d13c_row20_col0\" class=\"data row20 col0\" >9</td>\n",
       "      <td id=\"T_9d13c_row20_col1\" class=\"data row20 col1\" >2.250000</td>\n",
       "    </tr>\n",
       "    <tr>\n",
       "      <th id=\"T_9d13c_level0_row21\" class=\"row_heading level0 row21\" >120</th>\n",
       "      <td id=\"T_9d13c_row21_col0\" class=\"data row21 col0\" >8</td>\n",
       "      <td id=\"T_9d13c_row21_col1\" class=\"data row21 col1\" >2.000000</td>\n",
       "    </tr>\n",
       "    <tr>\n",
       "      <th id=\"T_9d13c_level0_row22\" class=\"row_heading level0 row22\" >117</th>\n",
       "      <td id=\"T_9d13c_row22_col0\" class=\"data row22 col0\" >7</td>\n",
       "      <td id=\"T_9d13c_row22_col1\" class=\"data row22 col1\" >1.750000</td>\n",
       "    </tr>\n",
       "    <tr>\n",
       "      <th id=\"T_9d13c_level0_row23\" class=\"row_heading level0 row23\" >97</th>\n",
       "      <td id=\"T_9d13c_row23_col0\" class=\"data row23 col0\" >6</td>\n",
       "      <td id=\"T_9d13c_row23_col1\" class=\"data row23 col1\" >1.500000</td>\n",
       "    </tr>\n",
       "    <tr>\n",
       "      <th id=\"T_9d13c_level0_row24\" class=\"row_heading level0 row24\" >96</th>\n",
       "      <td id=\"T_9d13c_row24_col0\" class=\"data row24 col0\" >4</td>\n",
       "      <td id=\"T_9d13c_row24_col1\" class=\"data row24 col1\" >1.000000</td>\n",
       "    </tr>\n",
       "    <tr>\n",
       "      <th id=\"T_9d13c_level0_row25\" class=\"row_heading level0 row25\" >93</th>\n",
       "      <td id=\"T_9d13c_row25_col0\" class=\"data row25 col0\" >2</td>\n",
       "      <td id=\"T_9d13c_row25_col1\" class=\"data row25 col1\" >0.500000</td>\n",
       "    </tr>\n",
       "    <tr>\n",
       "      <th id=\"T_9d13c_level0_row26\" class=\"row_heading level0 row26\" >95</th>\n",
       "      <td id=\"T_9d13c_row26_col0\" class=\"data row26 col0\" >2</td>\n",
       "      <td id=\"T_9d13c_row26_col1\" class=\"data row26 col1\" >0.500000</td>\n",
       "    </tr>\n",
       "    <tr>\n",
       "      <th id=\"T_9d13c_level0_row27\" class=\"row_heading level0 row27\" >94</th>\n",
       "      <td id=\"T_9d13c_row27_col0\" class=\"data row27 col0\" >1</td>\n",
       "      <td id=\"T_9d13c_row27_col1\" class=\"data row27 col1\" >0.250000</td>\n",
       "    </tr>\n",
       "    <tr>\n",
       "      <th id=\"T_9d13c_level0_row28\" class=\"row_heading level0 row28\" >92</th>\n",
       "      <td id=\"T_9d13c_row28_col0\" class=\"data row28 col0\" >1</td>\n",
       "      <td id=\"T_9d13c_row28_col1\" class=\"data row28 col1\" >0.250000</td>\n",
       "    </tr>\n",
       "  </tbody>\n",
       "</table>\n"
      ],
      "text/plain": [
       "<pandas.io.formats.style.Styler at 0x79edd51fb700>"
      ]
     },
     "execution_count": 29,
     "metadata": {},
     "output_type": "execute_result"
    }
   ],
   "source": [
    "percent_value_counts(data, 'TOEFLScore').style.background_gradient(cmap='Greys')"
   ]
  },
  {
   "cell_type": "code",
   "execution_count": 30,
   "id": "5b52b3c9",
   "metadata": {
    "execution": {
     "iopub.execute_input": "2024-11-07T10:19:39.177048Z",
     "iopub.status.busy": "2024-11-07T10:19:39.176033Z",
     "iopub.status.idle": "2024-11-07T10:19:39.244894Z",
     "shell.execute_reply": "2024-11-07T10:19:39.243671Z"
    },
    "papermill": {
     "duration": 0.118741,
     "end_time": "2024-11-07T10:19:39.247555",
     "exception": false,
     "start_time": "2024-11-07T10:19:39.128814",
     "status": "completed"
    },
    "tags": []
   },
   "outputs": [
    {
     "data": {
      "text/html": [
       "<div>                            <div id=\"f92dd55f-3efc-4505-ba5f-5462ae8aa5ae\" class=\"plotly-graph-div\" style=\"height:525px; width:100%;\"></div>            <script type=\"text/javascript\">                require([\"plotly\"], function(Plotly) {                    window.PLOTLYENV=window.PLOTLYENV || {};                                    if (document.getElementById(\"f92dd55f-3efc-4505-ba5f-5462ae8aa5ae\")) {                    Plotly.newPlot(                        \"f92dd55f-3efc-4505-ba5f-5462ae8aa5ae\",                        [{\"marker\":{\"color\":\"#19e6e6\",\"line\":{\"color\":\"black\",\"width\":3}},\"showlegend\":false,\"text\":[\"37\",\"28\",\"26\",\"25\",\"24\",\"21\",\"19\",\"18\",\"17\",\"17\",\"17\",\"17\",\"16\",\"15\",\"14\",\"11\",\"11\",\"9\",\"9\",\"9\",\"9\",\"8\",\"7\",\"6\",\"4\",\"2\",\"2\",\"1\",\"1\"],\"textfont\":{\"size\":15},\"textposition\":\"outside\",\"x\":[110,105,107,104,106,112,100,99,111,108,102,109,103,114,113,101,116,98,118,119,115,120,117,97,96,93,95,94,92],\"y\":[37,28,26,25,24,21,19,18,17,17,17,17,16,15,14,11,11,9,9,9,9,8,7,6,4,2,2,1,1],\"type\":\"bar\",\"xaxis\":\"x\",\"yaxis\":\"y\"}],                        {\"template\":{\"data\":{\"barpolar\":[{\"marker\":{\"line\":{\"color\":\"white\",\"width\":0.5},\"pattern\":{\"fillmode\":\"overlay\",\"size\":10,\"solidity\":0.2}},\"type\":\"barpolar\"}],\"bar\":[{\"error_x\":{\"color\":\"#2a3f5f\"},\"error_y\":{\"color\":\"#2a3f5f\"},\"marker\":{\"line\":{\"color\":\"white\",\"width\":0.5},\"pattern\":{\"fillmode\":\"overlay\",\"size\":10,\"solidity\":0.2}},\"type\":\"bar\"}],\"carpet\":[{\"aaxis\":{\"endlinecolor\":\"#2a3f5f\",\"gridcolor\":\"#C8D4E3\",\"linecolor\":\"#C8D4E3\",\"minorgridcolor\":\"#C8D4E3\",\"startlinecolor\":\"#2a3f5f\"},\"baxis\":{\"endlinecolor\":\"#2a3f5f\",\"gridcolor\":\"#C8D4E3\",\"linecolor\":\"#C8D4E3\",\"minorgridcolor\":\"#C8D4E3\",\"startlinecolor\":\"#2a3f5f\"},\"type\":\"carpet\"}],\"choropleth\":[{\"colorbar\":{\"outlinewidth\":0,\"ticks\":\"\"},\"type\":\"choropleth\"}],\"contourcarpet\":[{\"colorbar\":{\"outlinewidth\":0,\"ticks\":\"\"},\"type\":\"contourcarpet\"}],\"contour\":[{\"colorbar\":{\"outlinewidth\":0,\"ticks\":\"\"},\"colorscale\":[[0.0,\"#0d0887\"],[0.1111111111111111,\"#46039f\"],[0.2222222222222222,\"#7201a8\"],[0.3333333333333333,\"#9c179e\"],[0.4444444444444444,\"#bd3786\"],[0.5555555555555556,\"#d8576b\"],[0.6666666666666666,\"#ed7953\"],[0.7777777777777778,\"#fb9f3a\"],[0.8888888888888888,\"#fdca26\"],[1.0,\"#f0f921\"]],\"type\":\"contour\"}],\"heatmapgl\":[{\"colorbar\":{\"outlinewidth\":0,\"ticks\":\"\"},\"colorscale\":[[0.0,\"#0d0887\"],[0.1111111111111111,\"#46039f\"],[0.2222222222222222,\"#7201a8\"],[0.3333333333333333,\"#9c179e\"],[0.4444444444444444,\"#bd3786\"],[0.5555555555555556,\"#d8576b\"],[0.6666666666666666,\"#ed7953\"],[0.7777777777777778,\"#fb9f3a\"],[0.8888888888888888,\"#fdca26\"],[1.0,\"#f0f921\"]],\"type\":\"heatmapgl\"}],\"heatmap\":[{\"colorbar\":{\"outlinewidth\":0,\"ticks\":\"\"},\"colorscale\":[[0.0,\"#0d0887\"],[0.1111111111111111,\"#46039f\"],[0.2222222222222222,\"#7201a8\"],[0.3333333333333333,\"#9c179e\"],[0.4444444444444444,\"#bd3786\"],[0.5555555555555556,\"#d8576b\"],[0.6666666666666666,\"#ed7953\"],[0.7777777777777778,\"#fb9f3a\"],[0.8888888888888888,\"#fdca26\"],[1.0,\"#f0f921\"]],\"type\":\"heatmap\"}],\"histogram2dcontour\":[{\"colorbar\":{\"outlinewidth\":0,\"ticks\":\"\"},\"colorscale\":[[0.0,\"#0d0887\"],[0.1111111111111111,\"#46039f\"],[0.2222222222222222,\"#7201a8\"],[0.3333333333333333,\"#9c179e\"],[0.4444444444444444,\"#bd3786\"],[0.5555555555555556,\"#d8576b\"],[0.6666666666666666,\"#ed7953\"],[0.7777777777777778,\"#fb9f3a\"],[0.8888888888888888,\"#fdca26\"],[1.0,\"#f0f921\"]],\"type\":\"histogram2dcontour\"}],\"histogram2d\":[{\"colorbar\":{\"outlinewidth\":0,\"ticks\":\"\"},\"colorscale\":[[0.0,\"#0d0887\"],[0.1111111111111111,\"#46039f\"],[0.2222222222222222,\"#7201a8\"],[0.3333333333333333,\"#9c179e\"],[0.4444444444444444,\"#bd3786\"],[0.5555555555555556,\"#d8576b\"],[0.6666666666666666,\"#ed7953\"],[0.7777777777777778,\"#fb9f3a\"],[0.8888888888888888,\"#fdca26\"],[1.0,\"#f0f921\"]],\"type\":\"histogram2d\"}],\"histogram\":[{\"marker\":{\"pattern\":{\"fillmode\":\"overlay\",\"size\":10,\"solidity\":0.2}},\"type\":\"histogram\"}],\"mesh3d\":[{\"colorbar\":{\"outlinewidth\":0,\"ticks\":\"\"},\"type\":\"mesh3d\"}],\"parcoords\":[{\"line\":{\"colorbar\":{\"outlinewidth\":0,\"ticks\":\"\"}},\"type\":\"parcoords\"}],\"pie\":[{\"automargin\":true,\"type\":\"pie\"}],\"scatter3d\":[{\"line\":{\"colorbar\":{\"outlinewidth\":0,\"ticks\":\"\"}},\"marker\":{\"colorbar\":{\"outlinewidth\":0,\"ticks\":\"\"}},\"type\":\"scatter3d\"}],\"scattercarpet\":[{\"marker\":{\"colorbar\":{\"outlinewidth\":0,\"ticks\":\"\"}},\"type\":\"scattercarpet\"}],\"scattergeo\":[{\"marker\":{\"colorbar\":{\"outlinewidth\":0,\"ticks\":\"\"}},\"type\":\"scattergeo\"}],\"scattergl\":[{\"marker\":{\"colorbar\":{\"outlinewidth\":0,\"ticks\":\"\"}},\"type\":\"scattergl\"}],\"scattermapbox\":[{\"marker\":{\"colorbar\":{\"outlinewidth\":0,\"ticks\":\"\"}},\"type\":\"scattermapbox\"}],\"scatterpolargl\":[{\"marker\":{\"colorbar\":{\"outlinewidth\":0,\"ticks\":\"\"}},\"type\":\"scatterpolargl\"}],\"scatterpolar\":[{\"marker\":{\"colorbar\":{\"outlinewidth\":0,\"ticks\":\"\"}},\"type\":\"scatterpolar\"}],\"scatter\":[{\"fillpattern\":{\"fillmode\":\"overlay\",\"size\":10,\"solidity\":0.2},\"type\":\"scatter\"}],\"scatterternary\":[{\"marker\":{\"colorbar\":{\"outlinewidth\":0,\"ticks\":\"\"}},\"type\":\"scatterternary\"}],\"surface\":[{\"colorbar\":{\"outlinewidth\":0,\"ticks\":\"\"},\"colorscale\":[[0.0,\"#0d0887\"],[0.1111111111111111,\"#46039f\"],[0.2222222222222222,\"#7201a8\"],[0.3333333333333333,\"#9c179e\"],[0.4444444444444444,\"#bd3786\"],[0.5555555555555556,\"#d8576b\"],[0.6666666666666666,\"#ed7953\"],[0.7777777777777778,\"#fb9f3a\"],[0.8888888888888888,\"#fdca26\"],[1.0,\"#f0f921\"]],\"type\":\"surface\"}],\"table\":[{\"cells\":{\"fill\":{\"color\":\"#EBF0F8\"},\"line\":{\"color\":\"white\"}},\"header\":{\"fill\":{\"color\":\"#C8D4E3\"},\"line\":{\"color\":\"white\"}},\"type\":\"table\"}]},\"layout\":{\"annotationdefaults\":{\"arrowcolor\":\"#2a3f5f\",\"arrowhead\":0,\"arrowwidth\":1},\"autotypenumbers\":\"strict\",\"coloraxis\":{\"colorbar\":{\"outlinewidth\":0,\"ticks\":\"\"}},\"colorscale\":{\"diverging\":[[0,\"#8e0152\"],[0.1,\"#c51b7d\"],[0.2,\"#de77ae\"],[0.3,\"#f1b6da\"],[0.4,\"#fde0ef\"],[0.5,\"#f7f7f7\"],[0.6,\"#e6f5d0\"],[0.7,\"#b8e186\"],[0.8,\"#7fbc41\"],[0.9,\"#4d9221\"],[1,\"#276419\"]],\"sequential\":[[0.0,\"#0d0887\"],[0.1111111111111111,\"#46039f\"],[0.2222222222222222,\"#7201a8\"],[0.3333333333333333,\"#9c179e\"],[0.4444444444444444,\"#bd3786\"],[0.5555555555555556,\"#d8576b\"],[0.6666666666666666,\"#ed7953\"],[0.7777777777777778,\"#fb9f3a\"],[0.8888888888888888,\"#fdca26\"],[1.0,\"#f0f921\"]],\"sequentialminus\":[[0.0,\"#0d0887\"],[0.1111111111111111,\"#46039f\"],[0.2222222222222222,\"#7201a8\"],[0.3333333333333333,\"#9c179e\"],[0.4444444444444444,\"#bd3786\"],[0.5555555555555556,\"#d8576b\"],[0.6666666666666666,\"#ed7953\"],[0.7777777777777778,\"#fb9f3a\"],[0.8888888888888888,\"#fdca26\"],[1.0,\"#f0f921\"]]},\"colorway\":[\"#636efa\",\"#EF553B\",\"#00cc96\",\"#ab63fa\",\"#FFA15A\",\"#19d3f3\",\"#FF6692\",\"#B6E880\",\"#FF97FF\",\"#FECB52\"],\"font\":{\"color\":\"#2a3f5f\"},\"geo\":{\"bgcolor\":\"white\",\"lakecolor\":\"white\",\"landcolor\":\"white\",\"showlakes\":true,\"showland\":true,\"subunitcolor\":\"#C8D4E3\"},\"hoverlabel\":{\"align\":\"left\"},\"hovermode\":\"closest\",\"mapbox\":{\"style\":\"light\"},\"paper_bgcolor\":\"white\",\"plot_bgcolor\":\"white\",\"polar\":{\"angularaxis\":{\"gridcolor\":\"#EBF0F8\",\"linecolor\":\"#EBF0F8\",\"ticks\":\"\"},\"bgcolor\":\"white\",\"radialaxis\":{\"gridcolor\":\"#EBF0F8\",\"linecolor\":\"#EBF0F8\",\"ticks\":\"\"}},\"scene\":{\"xaxis\":{\"backgroundcolor\":\"white\",\"gridcolor\":\"#DFE8F3\",\"gridwidth\":2,\"linecolor\":\"#EBF0F8\",\"showbackground\":true,\"ticks\":\"\",\"zerolinecolor\":\"#EBF0F8\"},\"yaxis\":{\"backgroundcolor\":\"white\",\"gridcolor\":\"#DFE8F3\",\"gridwidth\":2,\"linecolor\":\"#EBF0F8\",\"showbackground\":true,\"ticks\":\"\",\"zerolinecolor\":\"#EBF0F8\"},\"zaxis\":{\"backgroundcolor\":\"white\",\"gridcolor\":\"#DFE8F3\",\"gridwidth\":2,\"linecolor\":\"#EBF0F8\",\"showbackground\":true,\"ticks\":\"\",\"zerolinecolor\":\"#EBF0F8\"}},\"shapedefaults\":{\"line\":{\"color\":\"#2a3f5f\"}},\"ternary\":{\"aaxis\":{\"gridcolor\":\"#DFE8F3\",\"linecolor\":\"#A2B1C6\",\"ticks\":\"\"},\"baxis\":{\"gridcolor\":\"#DFE8F3\",\"linecolor\":\"#A2B1C6\",\"ticks\":\"\"},\"bgcolor\":\"white\",\"caxis\":{\"gridcolor\":\"#DFE8F3\",\"linecolor\":\"#A2B1C6\",\"ticks\":\"\"}},\"title\":{\"x\":0.05},\"xaxis\":{\"automargin\":true,\"gridcolor\":\"#EBF0F8\",\"linecolor\":\"#EBF0F8\",\"ticks\":\"\",\"title\":{\"standoff\":15},\"zerolinecolor\":\"#EBF0F8\",\"zerolinewidth\":2},\"yaxis\":{\"automargin\":true,\"gridcolor\":\"#EBF0F8\",\"linecolor\":\"#EBF0F8\",\"ticks\":\"\",\"title\":{\"standoff\":15},\"zerolinecolor\":\"#EBF0F8\",\"zerolinewidth\":2}}},\"xaxis\":{\"anchor\":\"y\",\"domain\":[0.0,1.0]},\"yaxis\":{\"anchor\":\"x\",\"domain\":[0.0,1.0],\"range\":[0,48]},\"title\":{\"text\":\"Density distribution of TOEFL Score\"}},                        {\"responsive\": true}                    ).then(function(){\n",
       "                            \n",
       "var gd = document.getElementById('f92dd55f-3efc-4505-ba5f-5462ae8aa5ae');\n",
       "var x = new MutationObserver(function (mutations, observer) {{\n",
       "        var display = window.getComputedStyle(gd).display;\n",
       "        if (!display || display === 'none') {{\n",
       "            console.log([gd, 'removed!']);\n",
       "            Plotly.purge(gd);\n",
       "            observer.disconnect();\n",
       "        }}\n",
       "}});\n",
       "\n",
       "// Listen for the removal of the full notebook cells\n",
       "var notebookContainer = gd.closest('#notebook-container');\n",
       "if (notebookContainer) {{\n",
       "    x.observe(notebookContainer, {childList: true});\n",
       "}}\n",
       "\n",
       "// Listen for the clearing of the current output cell\n",
       "var outputEl = gd.closest('.output');\n",
       "if (outputEl) {{\n",
       "    x.observe(outputEl, {childList: true});\n",
       "}}\n",
       "\n",
       "                        })                };                });            </script>        </div>"
      ]
     },
     "metadata": {},
     "output_type": "display_data"
    }
   ],
   "source": [
    "fig = make_subplots(rows=1,cols=1)\n",
    "fig.add_trace(go.Bar(y = data['TOEFLScore'].value_counts().values.tolist(), \n",
    "                      x = data['TOEFLScore'].value_counts().index, \n",
    "                      text=data['TOEFLScore'].value_counts().values.tolist(),\n",
    "              textfont=dict(size=15),\n",
    "                      textposition = 'outside',\n",
    "                      showlegend=False,\n",
    "              marker = dict(color = '#19e6e6',\n",
    "                            line_color = 'black',\n",
    "                            line_width=3)),row = 1,col = 1)\n",
    "\n",
    "fig.update_layout(title='Density distribution of TOEFL Score',\n",
    "                  template='plotly_white')\n",
    "fig.update_yaxes(range=[0,48])\n",
    "fig"
   ]
  },
  {
   "cell_type": "markdown",
   "id": "fff68fd6",
   "metadata": {
    "papermill": {
     "duration": 0.045813,
     "end_time": "2024-11-07T10:19:39.339201",
     "exception": false,
     "start_time": "2024-11-07T10:19:39.293388",
     "status": "completed"
    },
    "tags": []
   },
   "source": [
    "<p style= \"font-family:Georgia;color:#000000;font-size:110%;text-align:center;border-radius:10px 10px;border-style: dotted;border-width:5px;border-color:#19e6e6;\"><b>Insights:-</b>By analyzing the distribution of TOEFLScore, we can say that highest number of the students TOEFLscore is \"110\" & \"105\".<br>\n",
    " Highest TOEFLScore of students is between \"99\" & \"115\".\n",
    "<br></p>"
   ]
  },
  {
   "cell_type": "markdown",
   "id": "568c8215",
   "metadata": {
    "papermill": {
     "duration": 0.045984,
     "end_time": "2024-11-07T10:19:39.432077",
     "exception": false,
     "start_time": "2024-11-07T10:19:39.386093",
     "status": "completed"
    },
    "tags": []
   },
   "source": [
    "<a id=\"Import\"></a>\n",
    "<p style=\"background-color: #19e6e6; font-family: 'Pacifico', cursive; color:#000; font-size:200%; text-align:center; border-radius:3000px 50px;\">Correlation Matrix</p>"
   ]
  },
  {
   "cell_type": "code",
   "execution_count": 31,
   "id": "f46f457f",
   "metadata": {
    "execution": {
     "iopub.execute_input": "2024-11-07T10:19:39.527094Z",
     "iopub.status.busy": "2024-11-07T10:19:39.526651Z",
     "iopub.status.idle": "2024-11-07T10:19:40.063055Z",
     "shell.execute_reply": "2024-11-07T10:19:40.061829Z"
    },
    "papermill": {
     "duration": 0.586956,
     "end_time": "2024-11-07T10:19:40.065723",
     "exception": false,
     "start_time": "2024-11-07T10:19:39.478767",
     "status": "completed"
    },
    "tags": []
   },
   "outputs": [
    {
     "name": "stdout",
     "output_type": "stream",
     "text": [
      "\n",
      "\u001b[33m╭───────────────────────────────────────╮\u001b[0m\n",
      "\u001b[35m│ Correlation \u001b[36m│ Matrix │\u001b[0m\n",
      "\u001b[33m╰───────────────────────────────────────╯\u001b[0m\n"
     ]
    },
    {
     "data": {
      "image/png": "[encoded data removed]",
      "text/plain": [
       "<Figure size 640x480 with 2 Axes>"
      ]
     },
     "metadata": {},
     "output_type": "display_data"
    }
   ],
   "source": [
    "print_boxed_zigzag_heading('Correlation Matrix ')\n",
    "\n",
    "sns.heatmap(data.corr(), annot=True)\n",
    "plt.show()"
   ]
  },
  {
   "cell_type": "code",
   "execution_count": 32,
   "id": "8779f826",
   "metadata": {
    "execution": {
     "iopub.execute_input": "2024-11-07T10:19:40.165525Z",
     "iopub.status.busy": "2024-11-07T10:19:40.165078Z",
     "iopub.status.idle": "2024-11-07T10:19:40.173615Z",
     "shell.execute_reply": "2024-11-07T10:19:40.172460Z"
    },
    "papermill": {
     "duration": 0.06061,
     "end_time": "2024-11-07T10:19:40.175962",
     "exception": false,
     "start_time": "2024-11-07T10:19:40.115352",
     "status": "completed"
    },
    "tags": []
   },
   "outputs": [
    {
     "data": {
      "text/plain": [
       "Index(['GREScore', 'TOEFLScore', 'UniversityRating', 'SOP', 'LOR', 'CGPA',\n",
       "       'Research', 'ChanceofAdmit'],\n",
       "      dtype='object')"
      ]
     },
     "execution_count": 32,
     "metadata": {},
     "output_type": "execute_result"
    }
   ],
   "source": [
    "data.columns"
   ]
  },
  {
   "cell_type": "code",
   "execution_count": 33,
   "id": "4f7716d4",
   "metadata": {
    "execution": {
     "iopub.execute_input": "2024-11-07T10:19:40.273424Z",
     "iopub.status.busy": "2024-11-07T10:19:40.272414Z",
     "iopub.status.idle": "2024-11-07T10:19:41.871007Z",
     "shell.execute_reply": "2024-11-07T10:19:41.869866Z"
    },
    "papermill": {
     "duration": 1.650449,
     "end_time": "2024-11-07T10:19:41.873854",
     "exception": false,
     "start_time": "2024-11-07T10:19:40.223405",
     "status": "completed"
    },
    "tags": []
   },
   "outputs": [
    {
     "data": {
      "image/png": "[encoded data removed]",
      "text/plain": [
       "<Figure size 640x480 with 1 Axes>"
      ]
     },
     "metadata": {},
     "output_type": "display_data"
    },
    {
     "data": {
      "image/png": "[encoded data removed]",
      "text/plain": [
       "<Figure size 640x480 with 1 Axes>"
      ]
     },
     "metadata": {},
     "output_type": "display_data"
    },
    {
     "data": {
      "image/png": "[encoded data removed]",
      "text/plain": [
       "<Figure size 640x480 with 1 Axes>"
      ]
     },
     "metadata": {},
     "output_type": "display_data"
    },
    {
     "data": {
      "image/png": "[encoded data removed]",
      "text/plain": [
       "<Figure size 640x480 with 1 Axes>"
      ]
     },
     "metadata": {},
     "output_type": "display_data"
    },
    {
     "data": {
      "image/png": "[encoded data removed]",
      "text/plain": [
       "<Figure size 640x480 with 1 Axes>"
      ]
     },
     "metadata": {},
     "output_type": "display_data"
    },
    {
     "data": {
      "image/png": "[encoded data removed]",
      "text/plain": [
       "<Figure size 640x480 with 1 Axes>"
      ]
     },
     "metadata": {},
     "output_type": "display_data"
    }
   ],
   "source": [
    "# Let's see the distribution of the variables of graduate applicants\n",
    "sns.distplot(data['GREScore'], kde=False)\n",
    "plt.title(\"Distribution of GRE Scores\")\n",
    "plt.show()\n",
    "\n",
    "sns.distplot(data['TOEFLScore'], kde=False)\n",
    "plt.title(\"Distribution of TOEFL Score\")\n",
    "plt.show()\n",
    "\n",
    "sns.distplot(data['UniversityRating'], kde=False)\n",
    "plt.title(\"Distribution of University Rating\")\n",
    "plt.show()\n",
    "\n",
    "sns.distplot(data['SOP'], kde=False)\n",
    "plt.title(\"Distribution of SOP\")\n",
    "plt.show()\n",
    "\n",
    "sns.distplot(data['CGPA'], kde=False)\n",
    "plt.title(\"Distribution of CGPA\")\n",
    "plt.show()\n",
    "\n",
    "sns.distplot(data['Research'], kde=False)\n",
    "plt.title(\"Distribution of Research\")\n",
    "plt.show()"
   ]
  },
  {
   "cell_type": "code",
   "execution_count": 34,
   "id": "44b7e9b2",
   "metadata": {
    "execution": {
     "iopub.execute_input": "2024-11-07T10:19:41.979546Z",
     "iopub.status.busy": "2024-11-07T10:19:41.978317Z",
     "iopub.status.idle": "2024-11-07T10:19:41.986624Z",
     "shell.execute_reply": "2024-11-07T10:19:41.985259Z"
    },
    "papermill": {
     "duration": 0.064107,
     "end_time": "2024-11-07T10:19:41.988942",
     "exception": false,
     "start_time": "2024-11-07T10:19:41.924835",
     "status": "completed"
    },
    "tags": []
   },
   "outputs": [
    {
     "data": {
      "text/plain": [
       "Index(['GREScore', 'TOEFLScore', 'UniversityRating', 'SOP', 'LOR', 'CGPA',\n",
       "       'Research', 'ChanceofAdmit'],\n",
       "      dtype='object')"
      ]
     },
     "execution_count": 34,
     "metadata": {},
     "output_type": "execute_result"
    }
   ],
   "source": [
    "data.columns"
   ]
  },
  {
   "cell_type": "code",
   "execution_count": 35,
   "id": "12bc8647",
   "metadata": {
    "execution": {
     "iopub.execute_input": "2024-11-07T10:19:42.095208Z",
     "iopub.status.busy": "2024-11-07T10:19:42.094685Z",
     "iopub.status.idle": "2024-11-07T10:19:43.004249Z",
     "shell.execute_reply": "2024-11-07T10:19:43.002983Z"
    },
    "papermill": {
     "duration": 0.966353,
     "end_time": "2024-11-07T10:19:43.006767",
     "exception": false,
     "start_time": "2024-11-07T10:19:42.040414",
     "status": "completed"
    },
    "tags": []
   },
   "outputs": [
    {
     "data": {
      "image/png": "[encoded data removed]",
      "text/plain": [
       "<Figure size 640x480 with 1 Axes>"
      ]
     },
     "metadata": {},
     "output_type": "display_data"
    },
    {
     "data": {
      "image/png": "[encoded data removed]",
      "text/plain": [
       "<Figure size 640x480 with 1 Axes>"
      ]
     },
     "metadata": {},
     "output_type": "display_data"
    }
   ],
   "source": [
    "sns.regplot(x=\"GREScore\", y=\"TOEFLScore\", data=data)\n",
    "plt.title(\"GRE Score vs TOEFL Score\")\n",
    "plt.show()\n",
    "\n",
    "\n",
    "sns.regplot(x=\"GREScore\", y=\"CGPA\", data=data)\n",
    "plt.title(\"GRE Score vs CGPA\")\n",
    "plt.show()"
   ]
  },
  {
   "cell_type": "markdown",
   "id": "825a7680",
   "metadata": {
    "papermill": {
     "duration": 0.054933,
     "end_time": "2024-11-07T10:19:43.115890",
     "exception": false,
     "start_time": "2024-11-07T10:19:43.060957",
     "status": "completed"
    },
    "tags": []
   },
   "source": [
    "* `People with higher GRE Scores also have higher TOEFL Scores which is justified because both TOEFL and GRE have a verbal section which although not similar are relatable`\n",
    "\n",
    "\n",
    "* `Although there are exceptions, people with higher CGPA usually have higher GRE scores may be they are smart or hard working`"
   ]
  },
  {
   "cell_type": "code",
   "execution_count": 36,
   "id": "a504924d",
   "metadata": {
    "execution": {
     "iopub.execute_input": "2024-11-07T10:19:43.226491Z",
     "iopub.status.busy": "2024-11-07T10:19:43.226015Z",
     "iopub.status.idle": "2024-11-07T10:19:43.233002Z",
     "shell.execute_reply": "2024-11-07T10:19:43.231543Z"
    },
    "papermill": {
     "duration": 0.065029,
     "end_time": "2024-11-07T10:19:43.235664",
     "exception": false,
     "start_time": "2024-11-07T10:19:43.170635",
     "status": "completed"
    },
    "tags": []
   },
   "outputs": [],
   "source": [
    "X = data.iloc[:,:-1]\n",
    "\n",
    "y = data.iloc[:,-1]"
   ]
  },
  {
   "cell_type": "code",
   "execution_count": 37,
   "id": "8e3a3043",
   "metadata": {
    "execution": {
     "iopub.execute_input": "2024-11-07T10:19:43.344862Z",
     "iopub.status.busy": "2024-11-07T10:19:43.344394Z",
     "iopub.status.idle": "2024-11-07T10:19:43.355032Z",
     "shell.execute_reply": "2024-11-07T10:19:43.353805Z"
    },
    "papermill": {
     "duration": 0.068608,
     "end_time": "2024-11-07T10:19:43.357655",
     "exception": false,
     "start_time": "2024-11-07T10:19:43.289047",
     "status": "completed"
    },
    "tags": []
   },
   "outputs": [],
   "source": [
    "X_train, X_test, y_train, y_test = train_test_split(X, y, test_size=0.2, random_state=42)"
   ]
  },
  {
   "cell_type": "code",
   "execution_count": 38,
   "id": "18c83bef",
   "metadata": {
    "execution": {
     "iopub.execute_input": "2024-11-07T10:19:43.466093Z",
     "iopub.status.busy": "2024-11-07T10:19:43.465653Z",
     "iopub.status.idle": "2024-11-07T10:19:43.473261Z",
     "shell.execute_reply": "2024-11-07T10:19:43.472160Z"
    },
    "papermill": {
     "duration": 0.064672,
     "end_time": "2024-11-07T10:19:43.475816",
     "exception": false,
     "start_time": "2024-11-07T10:19:43.411144",
     "status": "completed"
    },
    "tags": []
   },
   "outputs": [
    {
     "data": {
      "text/plain": [
       "(320, 7)"
      ]
     },
     "execution_count": 38,
     "metadata": {},
     "output_type": "execute_result"
    }
   ],
   "source": [
    "X_train.shape"
   ]
  },
  {
   "cell_type": "code",
   "execution_count": 39,
   "id": "05a2b307",
   "metadata": {
    "execution": {
     "iopub.execute_input": "2024-11-07T10:19:43.587586Z",
     "iopub.status.busy": "2024-11-07T10:19:43.587101Z",
     "iopub.status.idle": "2024-11-07T10:19:43.594024Z",
     "shell.execute_reply": "2024-11-07T10:19:43.592823Z"
    },
    "papermill": {
     "duration": 0.065739,
     "end_time": "2024-11-07T10:19:43.596885",
     "exception": false,
     "start_time": "2024-11-07T10:19:43.531146",
     "status": "completed"
    },
    "tags": []
   },
   "outputs": [
    {
     "name": "stdout",
     "output_type": "stream",
     "text": [
      "\n",
      "\u001b[33m╭────────────────────────────────────────╮\u001b[0m\n",
      "\u001b[31m│ Data \u001b[32m│ Splitted \u001b[31m│ Done \u001b[36m│ ! │\u001b[0m\n",
      "\u001b[33m╰────────────────────────────────────────╯\u001b[0m\n",
      "\n",
      "\u001b[33m╭───────────────────────────────────────────────────────────────╮\u001b[0m\n",
      "\u001b[32m│ Training \u001b[33m│ set \u001b[35m│ shape \u001b[36m│ - \u001b[32m│ X: \u001b[35m│ (320, \u001b[33m│ 7), \u001b[32m│ y: \u001b[36m│ (320,) │\u001b[0m\n",
      "\u001b[33m╰───────────────────────────────────────────────────────────────╯\u001b[0m\n",
      "\n",
      "\u001b[33m╭────────────────────────────────────────────────────────────╮\u001b[0m\n",
      "\u001b[36m│ Testing \u001b[33m│ set \u001b[35m│ shape \u001b[36m│ - \u001b[32m│ X: \u001b[31m│ (80, \u001b[33m│ 7), \u001b[32m│ y: \u001b[36m│ (80,) │\u001b[0m\n",
      "\u001b[33m╰────────────────────────────────────────────────────────────╯\u001b[0m\n"
     ]
    }
   ],
   "source": [
    "print_boxed_zigzag_heading('Data Splitted Done !')\n",
    "print_boxed_zigzag_heading(f\"Training set shape - X: {X_train.shape}, y: {y_train.shape}\")\n",
    "print_boxed_zigzag_heading(f\"Testing set shape - X: {X_test.shape}, y: {y_test.shape}\")"
   ]
  },
  {
   "cell_type": "markdown",
   "id": "b838a753",
   "metadata": {
    "papermill": {
     "duration": 0.053427,
     "end_time": "2024-11-07T10:19:43.704605",
     "exception": false,
     "start_time": "2024-11-07T10:19:43.651178",
     "status": "completed"
    },
    "tags": []
   },
   "source": [
    "# **Feature Scalling**"
   ]
  },
  {
   "cell_type": "code",
   "execution_count": 40,
   "id": "d0b3c5a8",
   "metadata": {
    "execution": {
     "iopub.execute_input": "2024-11-07T10:19:43.815683Z",
     "iopub.status.busy": "2024-11-07T10:19:43.814593Z",
     "iopub.status.idle": "2024-11-07T10:19:43.820343Z",
     "shell.execute_reply": "2024-11-07T10:19:43.819157Z"
    },
    "papermill": {
     "duration": 0.064349,
     "end_time": "2024-11-07T10:19:43.823150",
     "exception": false,
     "start_time": "2024-11-07T10:19:43.758801",
     "status": "completed"
    },
    "tags": []
   },
   "outputs": [],
   "source": [
    "from sklearn.preprocessing import StandardScaler"
   ]
  },
  {
   "cell_type": "code",
   "execution_count": 41,
   "id": "652e0921",
   "metadata": {
    "execution": {
     "iopub.execute_input": "2024-11-07T10:19:43.933680Z",
     "iopub.status.busy": "2024-11-07T10:19:43.933196Z",
     "iopub.status.idle": "2024-11-07T10:19:43.947799Z",
     "shell.execute_reply": "2024-11-07T10:19:43.946514Z"
    },
    "papermill": {
     "duration": 0.072521,
     "end_time": "2024-11-07T10:19:43.950446",
     "exception": false,
     "start_time": "2024-11-07T10:19:43.877925",
     "status": "completed"
    },
    "tags": []
   },
   "outputs": [
    {
     "name": "stdout",
     "output_type": "stream",
     "text": [
      "\n",
      "\u001b[33m╭──────────────────────────────────────╮\u001b[0m\n",
      "\u001b[31m│ Data \u001b[34m│ Scaled \u001b[31m│ Done \u001b[36m│ ! │\u001b[0m\n",
      "\u001b[33m╰──────────────────────────────────────╯\u001b[0m\n"
     ]
    }
   ],
   "source": [
    "scaler = StandardScaler()\n",
    "\n",
    "X_train = scaler.fit_transform(X_train)\n",
    "\n",
    "X_test = scaler.transform(X_test)\n",
    "print_boxed_zigzag_heading('Data Scaled Done !')\n"
   ]
  },
  {
   "cell_type": "markdown",
   "id": "05f508c4",
   "metadata": {
    "papermill": {
     "duration": 0.053731,
     "end_time": "2024-11-07T10:19:44.059806",
     "exception": false,
     "start_time": "2024-11-07T10:19:44.006075",
     "status": "completed"
    },
    "tags": []
   },
   "source": [
    "<a id=\"Import\"></a>\n",
    "<p style=\"background-color: #1E90FF; font-family: 'Pacifico', cursive; color:#FFD700; font-size:200%; text-align:center; border-radius:3000px 50px;\">Base Classifiers</p>"
   ]
  },
  {
   "cell_type": "markdown",
   "id": "00ed1818",
   "metadata": {
    "papermill": {
     "duration": 0.053617,
     "end_time": "2024-11-07T10:19:44.169531",
     "exception": false,
     "start_time": "2024-11-07T10:19:44.115914",
     "status": "completed"
    },
    "tags": []
   },
   "source": [
    "<a class=\"anchor\" id=\"1\"></a>\n",
    "<a href=\"#toc\"><img src= \"https://upload.wikimedia.org/wikipedia/commons/thumb/2/20/Circle-icons-arrow-up.svg/1200px-Circle-icons-arrow-up.svg.png\" style=\"width:20px;hight:20px;float:left\" >        Back to the table of contents</a>"
   ]
  },
  {
   "cell_type": "code",
   "execution_count": 42,
   "id": "1931c023",
   "metadata": {
    "execution": {
     "iopub.execute_input": "2024-11-07T10:19:44.278932Z",
     "iopub.status.busy": "2024-11-07T10:19:44.278473Z",
     "iopub.status.idle": "2024-11-07T10:19:44.285107Z",
     "shell.execute_reply": "2024-11-07T10:19:44.283912Z"
    },
    "papermill": {
     "duration": 0.064351,
     "end_time": "2024-11-07T10:19:44.287682",
     "exception": false,
     "start_time": "2024-11-07T10:19:44.223331",
     "status": "completed"
    },
    "tags": []
   },
   "outputs": [],
   "source": [
    "def PrintColor(text, color=\"blue\"):\n",
    "    colors = {\n",
    "        \"blue\": \"\\033[94m\",\n",
    "        \"green\": \"\\033[92m\",\n",
    "        \"yellow\": \"\\033[93m\",\n",
    "        \"red\": \"\\033[91m\",\n",
    "        \"end\": \"\\033[0m\"\n",
    "    }\n",
    "    print(f\"{colors.get(color, colors['blue'])}{text}{colors['end']}\")\n"
   ]
  },
  {
   "cell_type": "code",
   "execution_count": 43,
   "id": "50e75b89",
   "metadata": {
    "execution": {
     "iopub.execute_input": "2024-11-07T10:19:44.398691Z",
     "iopub.status.busy": "2024-11-07T10:19:44.397527Z",
     "iopub.status.idle": "2024-11-07T10:19:45.942083Z",
     "shell.execute_reply": "2024-11-07T10:19:45.940757Z"
    },
    "papermill": {
     "duration": 1.603334,
     "end_time": "2024-11-07T10:19:45.945042",
     "exception": false,
     "start_time": "2024-11-07T10:19:44.341708",
     "status": "completed"
    },
    "tags": []
   },
   "outputs": [
    {
     "name": "stdout",
     "output_type": "stream",
     "text": [
      "Results...\n",
      "\n",
      "\u001b[33m╭───────────────────────────────────────────────────────────────────╮\u001b[0m\n",
      "\u001b[31m│ Evaluation \u001b[36m│ Results \u001b[33m│ for \u001b[33m│ DecisionTreeRegressor \u001b[36m│ : │\u001b[0m\n",
      "\u001b[33m╰───────────────────────────────────────────────────────────────────╯\u001b[0m\n",
      "\u001b[92mThe R2 Score Of DecisionTreeRegressor : is 0.5989096596770729, MSE is 0.0103575\u001b[0m\n",
      "\n",
      "\n",
      "\n",
      "\u001b[33m╭───────────────────────────────────────────────────────────────╮\u001b[0m\n",
      "\u001b[31m│ Evaluation \u001b[36m│ Results \u001b[33m│ for \u001b[34m│ Linear \u001b[31m│ Regression \u001b[36m│ : │\u001b[0m\n",
      "\u001b[33m╰───────────────────────────────────────────────────────────────╯\u001b[0m\n",
      "\u001b[92mThe R2 Score Of Linear Regression : is 0.8212082591486991, MSE is 0.004617003377285012\u001b[0m\n",
      "\n",
      "\n",
      "\n",
      "\u001b[33m╭───────────────────────────────────────────────────────────────────╮\u001b[0m\n",
      "\u001b[31m│ Evaluation \u001b[36m│ Results \u001b[33m│ for \u001b[33m│ RandomForestRegressor \u001b[36m│ : │\u001b[0m\n",
      "\u001b[33m╰───────────────────────────────────────────────────────────────────╯\u001b[0m\n",
      "\u001b[92mThe R2 Score Of RandomForestRegressor : is 0.8078768992463826, MSE is 0.004961263874999996\u001b[0m\n",
      "\n",
      "\n",
      "\n",
      "\u001b[33m╭─────────────────────────────────────────────────────────────────╮\u001b[0m\n",
      "\u001b[31m│ Evaluation \u001b[36m│ Results \u001b[33m│ for \u001b[36m│ KNeighborsRegressor \u001b[36m│ : │\u001b[0m\n",
      "\u001b[33m╰─────────────────────────────────────────────────────────────────╯\u001b[0m\n",
      "\u001b[92mThe R2 Score Of KNeighborsRegressor : is 0.7231068043407889, MSE is 0.007150312499999997\u001b[0m\n",
      "\n",
      "\n",
      "\n",
      "\u001b[33m╭─────────────────────────────────────────────────╮\u001b[0m\n",
      "\u001b[31m│ Evaluation \u001b[36m│ Results \u001b[33m│ for \u001b[33m│ SVM \u001b[36m│ : │\u001b[0m\n",
      "\u001b[33m╰─────────────────────────────────────────────────╯\u001b[0m\n",
      "\u001b[92mThe R2 Score Of SVM : is 0.7597814848647667, MSE is 0.006203249044866006\u001b[0m\n",
      "\n",
      "\n",
      "\n",
      "\u001b[33m╭───────────────────────────────────────────────────────────────╮\u001b[0m\n",
      "\u001b[31m│ Evaluation \u001b[36m│ Results \u001b[33m│ for \u001b[35m│ AdaBoostRegressor \u001b[36m│ : │\u001b[0m\n",
      "\u001b[33m╰───────────────────────────────────────────────────────────────╯\u001b[0m\n",
      "\u001b[92mThe R2 Score Of AdaBoostRegressor : is 0.7767042198143035, MSE is 0.005766247178656245\u001b[0m\n",
      "\n",
      "\n",
      "\n",
      "\u001b[33m╭───────────────────────────────────────────────────────────────────────╮\u001b[0m\n",
      "\u001b[31m│ Evaluation \u001b[36m│ Results \u001b[33m│ for \u001b[36m│ GradientBoostingRegressor: │\u001b[0m\n",
      "\u001b[33m╰───────────────────────────────────────────────────────────────────────╯\u001b[0m\n",
      "\u001b[92mThe R2 Score Of GradientBoostingRegressor:  is 0.7970711793525685, MSE is 0.005240303863123542\u001b[0m\n",
      "\n",
      "\n",
      "\n",
      "\u001b[33m╭──────────────────────────────────────────────────────────╮\u001b[0m\n",
      "\u001b[31m│ Evaluation \u001b[36m│ Results \u001b[33m│ for \u001b[36m│ XGBRegressor: │\u001b[0m\n",
      "\u001b[33m╰──────────────────────────────────────────────────────────╯\u001b[0m\n",
      "\u001b[92mThe R2 Score Of XGBRegressor:  is 0.7656313947390769, MSE is 0.00605218471987033\u001b[0m\n",
      "\n",
      "\n",
      "\n",
      "\u001b[33m╭───────────────────────────────────────────────────────────────╮\u001b[0m\n",
      "\u001b[31m│ Evaluation \u001b[36m│ Results \u001b[33m│ for \u001b[36m│ CatBoostRegressor: │\u001b[0m\n",
      "\u001b[33m╰───────────────────────────────────────────────────────────────╯\u001b[0m\n",
      "\u001b[92mThe R2 Score Of CatBoostRegressor:  is 0.8016252461895692, MSE is 0.0051227025585739066\u001b[0m\n",
      "\n",
      "\n",
      "\n",
      "\u001b[33m╭───────────────────────────────────────────────────╮\u001b[0m\n",
      "\u001b[31m│ Evaluation \u001b[36m│ Results \u001b[33m│ for \u001b[36m│ Lasso: │\u001b[0m\n",
      "\u001b[33m╰───────────────────────────────────────────────────╯\u001b[0m\n",
      "\u001b[92mThe R2 Score Of Lasso:  is -0.0008395756627810336, MSE is 0.0258450400390625\u001b[0m\n",
      "\n",
      "\n",
      "\n",
      "\u001b[33m╭───────────────────────────────────────────────────╮\u001b[0m\n",
      "\u001b[31m│ Evaluation \u001b[36m│ Results \u001b[33m│ for \u001b[36m│ Ridge: │\u001b[0m\n",
      "\u001b[33m╰───────────────────────────────────────────────────╯\u001b[0m\n",
      "\u001b[92mThe R2 Score Of Ridge:  is 0.8209191666333078, MSE is 0.004624468717202586\u001b[0m\n",
      "\n",
      "\n",
      "\n",
      "\u001b[33m╭───────────────────────────────────────────────────────────╮\u001b[0m\n",
      "\u001b[31m│ Evaluation \u001b[36m│ Results \u001b[33m│ for \u001b[36m│ BayesianRidge: │\u001b[0m\n",
      "\u001b[33m╰───────────────────────────────────────────────────────────╯\u001b[0m\n",
      "\u001b[92mThe R2 Score Of BayesianRidge:  is 0.8197079973177281, MSE is 0.0046557451777027685\u001b[0m\n",
      "\n",
      "\n",
      "\n",
      "\u001b[33m╭────────────────────────────────────────────────────────╮\u001b[0m\n",
      "\u001b[31m│ Evaluation \u001b[36m│ Results \u001b[33m│ for \u001b[36m│ ElasticNet: │\u001b[0m\n",
      "\u001b[33m╰────────────────────────────────────────────────────────╯\u001b[0m\n",
      "\u001b[92mThe R2 Score Of ElasticNet:  is -0.0008395756627810336, MSE is 0.0258450400390625\u001b[0m\n",
      "\n",
      "\n",
      "\n",
      "\u001b[33m╭────────────────────────────────────────────────────────────╮\u001b[0m\n",
      "\u001b[31m│ Evaluation \u001b[36m│ Results \u001b[33m│ for \u001b[36m│ HuberRegressor: │\u001b[0m\n",
      "\u001b[33m╰────────────────────────────────────────────────────────────╯\u001b[0m\n",
      "\u001b[92mThe R2 Score Of HuberRegressor:  is 0.806602828534105, MSE is 0.004994164660872301\u001b[0m\n",
      "\n",
      "\n"
     ]
    },
    {
     "data": {
      "text/html": [
       "<div>\n",
       "<style scoped>\n",
       "    .dataframe tbody tr th:only-of-type {\n",
       "        vertical-align: middle;\n",
       "    }\n",
       "\n",
       "    .dataframe tbody tr th {\n",
       "        vertical-align: top;\n",
       "    }\n",
       "\n",
       "    .dataframe thead th {\n",
       "        text-align: right;\n",
       "    }\n",
       "</style>\n",
       "<table border=\"1\" class=\"dataframe\">\n",
       "  <thead>\n",
       "    <tr style=\"text-align: right;\">\n",
       "      <th></th>\n",
       "      <th>Models</th>\n",
       "      <th>R2 Score</th>\n",
       "      <th>MSE</th>\n",
       "    </tr>\n",
       "  </thead>\n",
       "  <tbody>\n",
       "    <tr>\n",
       "      <th>0</th>\n",
       "      <td>DecisionTreeRegressor :</td>\n",
       "      <td>0.598910</td>\n",
       "      <td>0.010358</td>\n",
       "    </tr>\n",
       "    <tr>\n",
       "      <th>1</th>\n",
       "      <td>Linear Regression :</td>\n",
       "      <td>0.821208</td>\n",
       "      <td>0.004617</td>\n",
       "    </tr>\n",
       "    <tr>\n",
       "      <th>2</th>\n",
       "      <td>RandomForestRegressor :</td>\n",
       "      <td>0.807877</td>\n",
       "      <td>0.004961</td>\n",
       "    </tr>\n",
       "    <tr>\n",
       "      <th>3</th>\n",
       "      <td>KNeighborsRegressor :</td>\n",
       "      <td>0.723107</td>\n",
       "      <td>0.007150</td>\n",
       "    </tr>\n",
       "    <tr>\n",
       "      <th>4</th>\n",
       "      <td>SVM :</td>\n",
       "      <td>0.759781</td>\n",
       "      <td>0.006203</td>\n",
       "    </tr>\n",
       "    <tr>\n",
       "      <th>5</th>\n",
       "      <td>AdaBoostRegressor :</td>\n",
       "      <td>0.776704</td>\n",
       "      <td>0.005766</td>\n",
       "    </tr>\n",
       "    <tr>\n",
       "      <th>6</th>\n",
       "      <td>GradientBoostingRegressor:</td>\n",
       "      <td>0.797071</td>\n",
       "      <td>0.005240</td>\n",
       "    </tr>\n",
       "    <tr>\n",
       "      <th>7</th>\n",
       "      <td>XGBRegressor:</td>\n",
       "      <td>0.765631</td>\n",
       "      <td>0.006052</td>\n",
       "    </tr>\n",
       "    <tr>\n",
       "      <th>8</th>\n",
       "      <td>CatBoostRegressor:</td>\n",
       "      <td>0.801625</td>\n",
       "      <td>0.005123</td>\n",
       "    </tr>\n",
       "    <tr>\n",
       "      <th>9</th>\n",
       "      <td>Lasso:</td>\n",
       "      <td>-0.000840</td>\n",
       "      <td>0.025845</td>\n",
       "    </tr>\n",
       "    <tr>\n",
       "      <th>10</th>\n",
       "      <td>Ridge:</td>\n",
       "      <td>0.820919</td>\n",
       "      <td>0.004624</td>\n",
       "    </tr>\n",
       "    <tr>\n",
       "      <th>11</th>\n",
       "      <td>BayesianRidge:</td>\n",
       "      <td>0.819708</td>\n",
       "      <td>0.004656</td>\n",
       "    </tr>\n",
       "    <tr>\n",
       "      <th>12</th>\n",
       "      <td>ElasticNet:</td>\n",
       "      <td>-0.000840</td>\n",
       "      <td>0.025845</td>\n",
       "    </tr>\n",
       "    <tr>\n",
       "      <th>13</th>\n",
       "      <td>HuberRegressor:</td>\n",
       "      <td>0.806603</td>\n",
       "      <td>0.004994</td>\n",
       "    </tr>\n",
       "  </tbody>\n",
       "</table>\n",
       "</div>"
      ],
      "text/plain": [
       "                         Models  R2 Score       MSE\n",
       "0       DecisionTreeRegressor :  0.598910  0.010358\n",
       "1           Linear Regression :  0.821208  0.004617\n",
       "2       RandomForestRegressor :  0.807877  0.004961\n",
       "3         KNeighborsRegressor :  0.723107  0.007150\n",
       "4                         SVM :  0.759781  0.006203\n",
       "5           AdaBoostRegressor :  0.776704  0.005766\n",
       "6   GradientBoostingRegressor:   0.797071  0.005240\n",
       "7                XGBRegressor:   0.765631  0.006052\n",
       "8           CatBoostRegressor:   0.801625  0.005123\n",
       "9                       Lasso:  -0.000840  0.025845\n",
       "10                      Ridge:   0.820919  0.004624\n",
       "11              BayesianRidge:   0.819708  0.004656\n",
       "12                 ElasticNet:  -0.000840  0.025845\n",
       "13             HuberRegressor:   0.806603  0.004994"
      ]
     },
     "execution_count": 43,
     "metadata": {},
     "output_type": "execute_result"
    }
   ],
   "source": [
    "lgbm_params = {\n",
    "    'n_estimators': 890,\n",
    "    'learning_rate': 0.7019434172842792,\n",
    "    'max_depth': 19,\n",
    "    'reg_alpha': 1.2057738033316066,\n",
    "    'reg_lambda': 0.18598174484559382,\n",
    "    'num_leaves': 3,\n",
    "    'subsample': 0.746154395882518,\n",
    "    'colsample_bytree': 0.3877680559022922\n",
    "}\n",
    "models = [['DecisionTreeRegressor :',DecisionTreeRegressor()],\n",
    "           ['Linear Regression :', LinearRegression()],\n",
    "           ['RandomForestRegressor :',RandomForestRegressor()],\n",
    "           ['KNeighborsRegressor :', KNeighborsRegressor(n_neighbors = 2)],\n",
    "           ['SVM :', SVR()],\n",
    "           ['AdaBoostRegressor :', AdaBoostRegressor()],\n",
    "           ['GradientBoostingRegressor: ', GradientBoostingRegressor()],\n",
    "           ['XGBRegressor: ', XGBRegressor()],\n",
    "           ['CatBoostRegressor: ', CatBoostRegressor(logging_level='Silent')],\n",
    "           ['Lasso: ', Lasso()],\n",
    "           ['Ridge: ', Ridge()],\n",
    "           ['BayesianRidge: ', BayesianRidge()],\n",
    "           ['ElasticNet: ', ElasticNet()],\n",
    "           ['HuberRegressor: ', HuberRegressor()],\n",
    "           # ['lgbm_regressor: ',  LGBMRegressor(**lgbm_params, random_state=42)]\n",
    "         ]\n",
    "\n",
    "print(\"Results...\")\n",
    "\n",
    "final_data= pd.DataFrame(columns=['Models', 'R2 Score', 'MSE'])\n",
    "\n",
    "for name, model in models:\n",
    "    model.fit(X_train, y_train)\n",
    "    pred = model.predict(X_test)\n",
    "    mse = mean_squared_error(y_test, pred)\n",
    "    r2 = r2_score(y_test, pred)  # Renamed to 'r2' to avoid conflict\n",
    "\n",
    "    final_data = pd.concat([final_data, pd.DataFrame({\n",
    "        'Models': [name],\n",
    "        'R2 Score': [r2],\n",
    "        'MSE': [mse]\n",
    "    })], ignore_index=True)\n",
    "\n",
    "    \n",
    "    print_boxed_zigzag_heading(f\"Evaluation Results for {name} \")\n",
    "\n",
    "    # Using PrintColor if defined, otherwise just print\n",
    "    PrintColor(f\"The R2 Score Of {name} is {r2}, MSE is {mse}\", color=\"green\")\n",
    "    print(\"\\n\")\n",
    "\n",
    "final_data"
   ]
  },
  {
   "cell_type": "code",
   "execution_count": 44,
   "id": "9c6b0434",
   "metadata": {
    "execution": {
     "iopub.execute_input": "2024-11-07T10:19:46.057536Z",
     "iopub.status.busy": "2024-11-07T10:19:46.057111Z",
     "iopub.status.idle": "2024-11-07T10:19:46.368649Z",
     "shell.execute_reply": "2024-11-07T10:19:46.367378Z"
    },
    "papermill": {
     "duration": 0.370792,
     "end_time": "2024-11-07T10:19:46.371545",
     "exception": false,
     "start_time": "2024-11-07T10:19:46.000753",
     "status": "completed"
    },
    "tags": []
   },
   "outputs": [],
   "source": [
    "# Generate Feature Importance\n",
    "classifier = RandomForestRegressor()\n",
    "classifier.fit(X,y)\n",
    "feature_name = X.columns\n",
    "importance_frame = pd.DataFrame()\n",
    "importance_frame['Features'] = X.columns\n",
    "importance_frame['Importance'] = classifier.feature_importances_\n",
    "importance_frame = importance_frame.sort_values(by=['Importance'], ascending=True)\n"
   ]
  },
  {
   "cell_type": "markdown",
   "id": "a0ccd5ac",
   "metadata": {
    "papermill": {
     "duration": 0.054356,
     "end_time": "2024-11-07T10:19:46.482015",
     "exception": false,
     "start_time": "2024-11-07T10:19:46.427659",
     "status": "completed"
    },
    "tags": []
   },
   "source": [
    "* Visualize Feature Importances"
   ]
  },
  {
   "cell_type": "code",
   "execution_count": 45,
   "id": "50368c24",
   "metadata": {
    "execution": {
     "iopub.execute_input": "2024-11-07T10:19:46.595185Z",
     "iopub.status.busy": "2024-11-07T10:19:46.594746Z",
     "iopub.status.idle": "2024-11-07T10:19:46.832809Z",
     "shell.execute_reply": "2024-11-07T10:19:46.831324Z"
    },
    "papermill": {
     "duration": 0.298597,
     "end_time": "2024-11-07T10:19:46.835949",
     "exception": false,
     "start_time": "2024-11-07T10:19:46.537352",
     "status": "completed"
    },
    "tags": []
   },
   "outputs": [
    {
     "data": {
      "image/png": "[encoded data removed]",
      "text/plain": [
       "<Figure size 640x480 with 1 Axes>"
      ]
     },
     "metadata": {},
     "output_type": "display_data"
    }
   ],
   "source": [
    "plt.barh([1,2,3,4,5,6,7], importance_frame['Importance'], align='center', alpha=0.5)\n",
    "plt.yticks([1,2,3,4,5,6,7],importance_frame['Features'])\n",
    "plt.xlabel('Importance')\n",
    "plt.title('Feature Importances')\n",
    "plt.show()"
   ]
  },
  {
   "cell_type": "code",
   "execution_count": 46,
   "id": "cb3cbdaa",
   "metadata": {
    "execution": {
     "iopub.execute_input": "2024-11-07T10:19:46.953281Z",
     "iopub.status.busy": "2024-11-07T10:19:46.952859Z",
     "iopub.status.idle": "2024-11-07T10:19:46.961932Z",
     "shell.execute_reply": "2024-11-07T10:19:46.960669Z"
    },
    "papermill": {
     "duration": 0.068943,
     "end_time": "2024-11-07T10:19:46.964433",
     "exception": false,
     "start_time": "2024-11-07T10:19:46.895490",
     "status": "completed"
    },
    "tags": []
   },
   "outputs": [
    {
     "data": {
      "text/plain": [
       "6    0.011936\n",
       "2    0.013798\n",
       "4    0.028687\n",
       "3    0.030230\n",
       "1    0.033499\n",
       "0    0.074815\n",
       "5    0.807034\n",
       "Name: Importance, dtype: float64"
      ]
     },
     "execution_count": 46,
     "metadata": {},
     "output_type": "execute_result"
    }
   ],
   "source": [
    "importance_frame['Importance']"
   ]
  },
  {
   "cell_type": "code",
   "execution_count": 47,
   "id": "c276de1d",
   "metadata": {
    "execution": {
     "iopub.execute_input": "2024-11-07T10:19:47.077733Z",
     "iopub.status.busy": "2024-11-07T10:19:47.077170Z",
     "iopub.status.idle": "2024-11-07T10:19:47.086656Z",
     "shell.execute_reply": "2024-11-07T10:19:47.085319Z"
    },
    "papermill": {
     "duration": 0.06915,
     "end_time": "2024-11-07T10:19:47.089238",
     "exception": false,
     "start_time": "2024-11-07T10:19:47.020088",
     "status": "completed"
    },
    "tags": []
   },
   "outputs": [
    {
     "data": {
      "text/plain": [
       "6            Research\n",
       "2    UniversityRating\n",
       "4                 LOR\n",
       "3                 SOP\n",
       "1          TOEFLScore\n",
       "0            GREScore\n",
       "5                CGPA\n",
       "Name: Features, dtype: object"
      ]
     },
     "execution_count": 47,
     "metadata": {},
     "output_type": "execute_result"
    }
   ],
   "source": [
    "importance_frame['Features']"
   ]
  },
  {
   "cell_type": "markdown",
   "id": "b9dcc853",
   "metadata": {
    "papermill": {
     "duration": 0.056176,
     "end_time": "2024-11-07T10:19:47.203702",
     "exception": false,
     "start_time": "2024-11-07T10:19:47.147526",
     "status": "completed"
    },
    "tags": []
   },
   "source": [
    "* **Clearly, CGPA is the most factor for graduate admissions followed by GRE Score.****"
   ]
  },
  {
   "cell_type": "code",
   "execution_count": 48,
   "id": "0b5c9d33",
   "metadata": {
    "execution": {
     "iopub.execute_input": "2024-11-07T10:19:47.318813Z",
     "iopub.status.busy": "2024-11-07T10:19:47.318330Z",
     "iopub.status.idle": "2024-11-07T10:19:47.873817Z",
     "shell.execute_reply": "2024-11-07T10:19:47.872590Z"
    },
    "papermill": {
     "duration": 0.615416,
     "end_time": "2024-11-07T10:19:47.876307",
     "exception": false,
     "start_time": "2024-11-07T10:19:47.260891",
     "status": "completed"
    },
    "tags": []
   },
   "outputs": [
    {
     "data": {
      "image/png": "[encoded data removed]",
      "text/plain": [
       "<Figure size 1200x800 with 1 Axes>"
      ]
     },
     "metadata": {},
     "output_type": "display_data"
    }
   ],
   "source": [
    "plt.figure(figsize =(12,8))\n",
    "\n",
    "plt.xticks(rotation=75)\n",
    "\n",
    "sns.barplot(x=final_data['Models'], y=final_data['R2 Score'])\n",
    "\n",
    "\n",
    "\n",
    "# Adding title and labels\n",
    "\n",
    "plt.title('Model Accuracy Comparison')\n",
    "\n",
    "plt.xlabel('Model')\n",
    "\n",
    "plt.ylabel('Accuracy (%)')\n",
    "\n",
    "\n",
    "\n",
    "# Display the plot\n",
    "\n",
    "plt.show()"
   ]
  },
  {
   "cell_type": "markdown",
   "id": "454533f8",
   "metadata": {
    "papermill": {
     "duration": 0.056951,
     "end_time": "2024-11-07T10:19:47.991308",
     "exception": false,
     "start_time": "2024-11-07T10:19:47.934357",
     "status": "completed"
    },
    "tags": []
   },
   "source": [
    "<a id=\"Import\"></a>\n",
    "<p style=\"background-color: #1E90FF; font-family: 'Pacifico', cursive; color:#FFD700; font-size:200%; text-align:center; border-radius:3000px 50px;\">Classification</p>"
   ]
  },
  {
   "cell_type": "markdown",
   "id": "3c16f749",
   "metadata": {
    "papermill": {
     "duration": 0.057609,
     "end_time": "2024-11-07T10:19:48.106711",
     "exception": false,
     "start_time": "2024-11-07T10:19:48.049102",
     "status": "completed"
    },
    "tags": []
   },
   "source": [
    "<a class=\"anchor\" id=\"1\"></a>\n",
    "<a href=\"#toc\"><img src= \"https://upload.wikimedia.org/wikipedia/commons/thumb/2/20/Circle-icons-arrow-up.svg/1200px-Circle-icons-arrow-up.svg.png\" style=\"width:20px;hight:20px;float:left\" >        Back to the table of contents</a>"
   ]
  },
  {
   "cell_type": "code",
   "execution_count": 49,
   "id": "a0b44eb1",
   "metadata": {
    "execution": {
     "iopub.execute_input": "2024-11-07T10:19:48.227368Z",
     "iopub.status.busy": "2024-11-07T10:19:48.226873Z",
     "iopub.status.idle": "2024-11-07T10:19:48.232598Z",
     "shell.execute_reply": "2024-11-07T10:19:48.231290Z"
    },
    "papermill": {
     "duration": 0.068473,
     "end_time": "2024-11-07T10:19:48.235130",
     "exception": false,
     "start_time": "2024-11-07T10:19:48.166657",
     "status": "completed"
    },
    "tags": []
   },
   "outputs": [],
   "source": [
    "import numpy as np"
   ]
  },
  {
   "cell_type": "code",
   "execution_count": 50,
   "id": "63d53786",
   "metadata": {
    "execution": {
     "iopub.execute_input": "2024-11-07T10:19:48.353991Z",
     "iopub.status.busy": "2024-11-07T10:19:48.353056Z",
     "iopub.status.idle": "2024-11-07T10:19:48.359885Z",
     "shell.execute_reply": "2024-11-07T10:19:48.358268Z"
    },
    "papermill": {
     "duration": 0.06907,
     "end_time": "2024-11-07T10:19:48.362471",
     "exception": false,
     "start_time": "2024-11-07T10:19:48.293401",
     "status": "completed"
    },
    "tags": []
   },
   "outputs": [],
   "source": [
    "y_train = [ 1 if val >0.8 else 0 for val in y_train]\n",
    "\n",
    "y_test = [ 1 if val >0.8 else 0 for val in y_test]"
   ]
  },
  {
   "cell_type": "code",
   "execution_count": 51,
   "id": "f27721fb",
   "metadata": {
    "execution": {
     "iopub.execute_input": "2024-11-07T10:19:48.481152Z",
     "iopub.status.busy": "2024-11-07T10:19:48.480201Z",
     "iopub.status.idle": "2024-11-07T10:19:48.485614Z",
     "shell.execute_reply": "2024-11-07T10:19:48.484510Z"
    },
    "papermill": {
     "duration": 0.067291,
     "end_time": "2024-11-07T10:19:48.488037",
     "exception": false,
     "start_time": "2024-11-07T10:19:48.420746",
     "status": "completed"
    },
    "tags": []
   },
   "outputs": [],
   "source": [
    "y_train = np.array(y_train)\n",
    "\n",
    "y_test = np.array(y_test)"
   ]
  },
  {
   "cell_type": "code",
   "execution_count": 52,
   "id": "d5757360",
   "metadata": {
    "execution": {
     "iopub.execute_input": "2024-11-07T10:19:48.607334Z",
     "iopub.status.busy": "2024-11-07T10:19:48.606920Z",
     "iopub.status.idle": "2024-11-07T10:19:48.616175Z",
     "shell.execute_reply": "2024-11-07T10:19:48.615020Z"
    },
    "papermill": {
     "duration": 0.072138,
     "end_time": "2024-11-07T10:19:48.618704",
     "exception": false,
     "start_time": "2024-11-07T10:19:48.546566",
     "status": "completed"
    },
    "tags": []
   },
   "outputs": [
    {
     "data": {
      "text/plain": [
       "(array([0, 0, 1, 0, 0, 0, 0, 0, 1, 0, 0, 1, 0, 0, 0, 0, 0, 0, 0, 0, 0, 0,\n",
       "        0, 0, 0, 0, 0, 0, 0, 0, 0, 0, 0, 0, 1, 0, 0, 1, 0, 0, 0, 0, 0, 0,\n",
       "        1, 1, 0, 0, 0, 1, 1, 1, 0, 1, 0, 0, 1, 0, 1, 0, 0, 0, 0, 0, 0, 1,\n",
       "        0, 0, 0, 0, 0, 0, 0, 1, 0, 1, 0, 1, 0, 0, 0, 0, 1, 0, 0, 0, 0, 0,\n",
       "        1, 0, 0, 0, 0, 0, 1, 0, 1, 0, 0, 1, 0, 0, 0, 0, 0, 0, 0, 0, 0, 0,\n",
       "        0, 0, 1, 0, 0, 0, 1, 0, 0, 0, 0, 1, 0, 1, 1, 1, 0, 1, 1, 1, 0, 0,\n",
       "        0, 0, 0, 0, 0, 0, 1, 1, 1, 1, 1, 0, 0, 0, 0, 1, 0, 0, 0, 1, 1, 0,\n",
       "        1, 0, 0, 1, 0, 0, 0, 0, 0, 0, 0, 1, 0, 1, 0, 0, 0, 0, 0, 0, 1, 0,\n",
       "        0, 0, 0, 1, 0, 0, 1, 0, 0, 1, 0, 0, 0, 0, 0, 0, 1, 0, 0, 0, 0, 0,\n",
       "        1, 0, 0, 0, 0, 0, 0, 0, 1, 1, 1, 1, 0, 1, 1, 0, 0, 0, 0, 0, 0, 1,\n",
       "        1, 0, 0, 0, 0, 1, 1, 0, 0, 0, 0, 0, 0, 0, 0, 1, 0, 0, 1, 0, 1, 0,\n",
       "        0, 0, 0, 1, 0, 0, 0, 0, 1, 1, 1, 0, 1, 0, 0, 0, 0, 0, 0, 1, 0, 0,\n",
       "        1, 0, 0, 0, 0, 0, 0, 0, 0, 0, 0, 0, 1, 0, 0, 0, 0, 0, 0, 1, 1, 1,\n",
       "        1, 0, 0, 1, 0, 1, 0, 0, 0, 0, 1, 1, 0, 0, 0, 0, 0, 1, 1, 1, 0, 1,\n",
       "        0, 0, 1, 1, 1, 0, 1, 1, 1, 0, 0, 0]),\n",
       " array([0, 0, 1, 0, 0, 1, 0, 0, 0, 1, 0, 1, 0, 1, 0, 0, 0, 0, 0, 1, 0, 0,\n",
       "        0, 0, 1, 1, 0, 0, 0, 0, 1, 1, 0, 0, 0, 0, 0, 0, 0, 1, 0, 0, 0, 1,\n",
       "        1, 1, 1, 0, 1, 1, 1, 0, 1, 1, 0, 0, 0, 1, 0, 1, 0, 0, 0, 0, 0, 0,\n",
       "        0, 1, 1, 1, 0, 1, 1, 1, 0, 0, 0, 0, 1, 0]))"
      ]
     },
     "execution_count": 52,
     "metadata": {},
     "output_type": "execute_result"
    }
   ],
   "source": [
    "y_train, y_test"
   ]
  },
  {
   "cell_type": "code",
   "execution_count": 53,
   "id": "90033ee0",
   "metadata": {
    "execution": {
     "iopub.execute_input": "2024-11-07T10:19:48.737877Z",
     "iopub.status.busy": "2024-11-07T10:19:48.736429Z",
     "iopub.status.idle": "2024-11-07T10:19:48.742338Z",
     "shell.execute_reply": "2024-11-07T10:19:48.741057Z"
    },
    "papermill": {
     "duration": 0.068281,
     "end_time": "2024-11-07T10:19:48.745048",
     "exception": false,
     "start_time": "2024-11-07T10:19:48.676767",
     "status": "completed"
    },
    "tags": []
   },
   "outputs": [],
   "source": [
    "\n",
    "\n",
    "from sklearn.metrics import accuracy_score"
   ]
  },
  {
   "cell_type": "code",
   "execution_count": 54,
   "id": "fe1f219a",
   "metadata": {
    "execution": {
     "iopub.execute_input": "2024-11-07T10:19:48.863256Z",
     "iopub.status.busy": "2024-11-07T10:19:48.862166Z",
     "iopub.status.idle": "2024-11-07T10:19:50.711420Z",
     "shell.execute_reply": "2024-11-07T10:19:50.710260Z"
    },
    "papermill": {
     "duration": 1.911466,
     "end_time": "2024-11-07T10:19:50.714399",
     "exception": false,
     "start_time": "2024-11-07T10:19:48.802933",
     "status": "completed"
    },
    "tags": []
   },
   "outputs": [
    {
     "name": "stdout",
     "output_type": "stream",
     "text": [
      "Results...\n",
      "\n",
      "\u001b[33m╭────────────────────────────────────────────────────────────────────╮\u001b[0m\n",
      "\u001b[31m│ Evaluation \u001b[36m│ Results \u001b[33m│ for \u001b[34m│ DecisionTree \u001b[36m│ : \u001b[36m│ Classifier │\u001b[0m\n",
      "\u001b[33m╰────────────────────────────────────────────────────────────────────╯\u001b[0m\n",
      "\u001b[94mThe Accuracy Of DecisionTree : Classifier is 0.925\u001b[0m\n",
      "\n",
      "\u001b[33m╭───────────────────────────────────────────────────────────────────────────╮\u001b[0m\n",
      "\u001b[31m│ Evaluation \u001b[36m│ Results \u001b[33m│ for \u001b[32m│ Logistic \u001b[31m│ Regression \u001b[36m│ : \u001b[36m│ Classifier │\u001b[0m\n",
      "\u001b[33m╰───────────────────────────────────────────────────────────────────────────╯\u001b[0m\n",
      "\u001b[94mThe Accuracy Of Logistic Regression : Classifier is 0.925\u001b[0m\n",
      "\n",
      "\u001b[33m╭────────────────────────────────────────────────────────────────────╮\u001b[0m\n",
      "\u001b[31m│ Evaluation \u001b[36m│ Results \u001b[33m│ for \u001b[34m│ RandomForest \u001b[36m│ : \u001b[36m│ Classifier │\u001b[0m\n",
      "\u001b[33m╰────────────────────────────────────────────────────────────────────╯\u001b[0m\n",
      "\u001b[94mThe Accuracy Of RandomForest : Classifier is 0.95\u001b[0m\n",
      "\n",
      "\u001b[33m╭───────────────────────────────────────────────────────────────────╮\u001b[0m\n",
      "\u001b[31m│ Evaluation \u001b[36m│ Results \u001b[33m│ for \u001b[35m│ KNeighbours \u001b[36m│ : \u001b[36m│ Classifier │\u001b[0m\n",
      "\u001b[33m╰───────────────────────────────────────────────────────────────────╯\u001b[0m\n",
      "\u001b[94mThe Accuracy Of KNeighbours : Classifier is 0.9125\u001b[0m\n",
      "\n",
      "\u001b[33m╭───────────────────────────────────────────────────────────╮\u001b[0m\n",
      "\u001b[31m│ Evaluation \u001b[36m│ Results \u001b[33m│ for \u001b[33m│ SVM \u001b[36m│ : \u001b[36m│ Classifier │\u001b[0m\n",
      "\u001b[33m╰───────────────────────────────────────────────────────────╯\u001b[0m\n",
      "\u001b[94mThe Accuracy Of SVM : Classifier is 0.925\u001b[0m\n",
      "\n",
      "\u001b[33m╭──────────────────────────────────────────────────────────────────────────╮\u001b[0m\n",
      "\u001b[31m│ Evaluation \u001b[36m│ Results \u001b[33m│ for \u001b[34m│ AdaBoostClassifier \u001b[36m│ : \u001b[36m│ Classifier │\u001b[0m\n",
      "\u001b[33m╰──────────────────────────────────────────────────────────────────────────╯\u001b[0m\n",
      "\u001b[94mThe Accuracy Of AdaBoostClassifier : Classifier is 0.95\u001b[0m\n",
      "\n",
      "\u001b[33m╭──────────────────────────────────────────────────────────────────────────────────╮\u001b[0m\n",
      "\u001b[31m│ Evaluation \u001b[36m│ Results \u001b[33m│ for \u001b[33m│ GradientBoostingClassifier: \u001b[36m│ Classifier │\u001b[0m\n",
      "\u001b[33m╰──────────────────────────────────────────────────────────────────────────────────╯\u001b[0m\n",
      "\u001b[94mThe Accuracy Of GradientBoostingClassifier:  Classifier is 0.975\u001b[0m\n",
      "\n",
      "\u001b[33m╭───────────────────────────────────────────────────────────────╮\u001b[0m\n",
      "\u001b[31m│ Evaluation \u001b[36m│ Results \u001b[33m│ for \u001b[32m│ Xgboost: \u001b[36m│ Classifier │\u001b[0m\n",
      "\u001b[33m╰───────────────────────────────────────────────────────────────╯\u001b[0m\n",
      "\u001b[94mThe Accuracy Of Xgboost:  Classifier is 0.95\u001b[0m\n",
      "\n",
      "\u001b[33m╭────────────────────────────────────────────────────────────────╮\u001b[0m\n",
      "\u001b[31m│ Evaluation \u001b[36m│ Results \u001b[33m│ for \u001b[33m│ CatBoost: \u001b[36m│ Classifier │\u001b[0m\n",
      "\u001b[33m╰────────────────────────────────────────────────────────────────╯\u001b[0m\n",
      "\u001b[94mThe Accuracy Of CatBoost:  Classifier is 0.95\u001b[0m\n",
      "\n",
      "\u001b[33m╭─────────────────────────────────────────────────────────────────────╮\u001b[0m\n",
      "\u001b[31m│ Evaluation \u001b[36m│ Results \u001b[33m│ for \u001b[32m│ BayesianRidge: \u001b[36m│ Classifier │\u001b[0m\n",
      "\u001b[33m╰─────────────────────────────────────────────────────────────────────╯\u001b[0m\n",
      "\u001b[94mThe Accuracy Of BayesianRidge:  Classifier is 0.75\u001b[0m\n",
      "\n",
      "\u001b[33m╭────────────────────────────────────────────────────────────────────────────╮\u001b[0m\n",
      "\u001b[31m│ Evaluation \u001b[36m│ Results \u001b[33m│ for \u001b[33m│ ExtraTreesClassifier: \u001b[36m│ Classifier │\u001b[0m\n",
      "\u001b[33m╰────────────────────────────────────────────────────────────────────────────╯\u001b[0m\n",
      "\u001b[94mThe Accuracy Of ExtraTreesClassifier:  Classifier is 0.925\u001b[0m\n"
     ]
    },
    {
     "data": {
      "text/html": [
       "<div>\n",
       "<style scoped>\n",
       "    .dataframe tbody tr th:only-of-type {\n",
       "        vertical-align: middle;\n",
       "    }\n",
       "\n",
       "    .dataframe tbody tr th {\n",
       "        vertical-align: top;\n",
       "    }\n",
       "\n",
       "    .dataframe thead th {\n",
       "        text-align: right;\n",
       "    }\n",
       "</style>\n",
       "<table border=\"1\" class=\"dataframe\">\n",
       "  <thead>\n",
       "    <tr style=\"text-align: right;\">\n",
       "      <th></th>\n",
       "      <th>Models</th>\n",
       "      <th>Accuracy</th>\n",
       "    </tr>\n",
       "  </thead>\n",
       "  <tbody>\n",
       "    <tr>\n",
       "      <th>0</th>\n",
       "      <td>DecisionTree :</td>\n",
       "      <td>0.9250</td>\n",
       "    </tr>\n",
       "    <tr>\n",
       "      <th>1</th>\n",
       "      <td>Logistic Regression :</td>\n",
       "      <td>0.9250</td>\n",
       "    </tr>\n",
       "    <tr>\n",
       "      <th>2</th>\n",
       "      <td>RandomForest :</td>\n",
       "      <td>0.9500</td>\n",
       "    </tr>\n",
       "    <tr>\n",
       "      <th>3</th>\n",
       "      <td>KNeighbours :</td>\n",
       "      <td>0.9125</td>\n",
       "    </tr>\n",
       "    <tr>\n",
       "      <th>4</th>\n",
       "      <td>SVM :</td>\n",
       "      <td>0.9250</td>\n",
       "    </tr>\n",
       "    <tr>\n",
       "      <th>5</th>\n",
       "      <td>AdaBoostClassifier :</td>\n",
       "      <td>0.9500</td>\n",
       "    </tr>\n",
       "    <tr>\n",
       "      <th>6</th>\n",
       "      <td>GradientBoostingClassifier:</td>\n",
       "      <td>0.9750</td>\n",
       "    </tr>\n",
       "    <tr>\n",
       "      <th>7</th>\n",
       "      <td>Xgboost:</td>\n",
       "      <td>0.9500</td>\n",
       "    </tr>\n",
       "    <tr>\n",
       "      <th>8</th>\n",
       "      <td>CatBoost:</td>\n",
       "      <td>0.9500</td>\n",
       "    </tr>\n",
       "    <tr>\n",
       "      <th>9</th>\n",
       "      <td>BayesianRidge:</td>\n",
       "      <td>0.7500</td>\n",
       "    </tr>\n",
       "    <tr>\n",
       "      <th>10</th>\n",
       "      <td>ExtraTreesClassifier:</td>\n",
       "      <td>0.9250</td>\n",
       "    </tr>\n",
       "  </tbody>\n",
       "</table>\n",
       "</div>"
      ],
      "text/plain": [
       "                          Models  Accuracy\n",
       "0                 DecisionTree :    0.9250\n",
       "1          Logistic Regression :    0.9250\n",
       "2                 RandomForest :    0.9500\n",
       "3                  KNeighbours :    0.9125\n",
       "4                          SVM :    0.9250\n",
       "5           AdaBoostClassifier :    0.9500\n",
       "6   GradientBoostingClassifier:     0.9750\n",
       "7                      Xgboost:     0.9500\n",
       "8                     CatBoost:     0.9500\n",
       "9                BayesianRidge:     0.7500\n",
       "10        ExtraTreesClassifier:     0.9250"
      ]
     },
     "execution_count": 54,
     "metadata": {},
     "output_type": "execute_result"
    }
   ],
   "source": [
    "modelsC = [['DecisionTree :',DecisionTreeClassifier()],\n",
    "           ['Logistic Regression :', LogisticRegression()],\n",
    "           ['RandomForest :',RandomForestClassifier()],\n",
    "           ['KNeighbours :', KNeighborsClassifier(n_neighbors = 2)],\n",
    "           ['SVM :', SVC()],\n",
    "           ['AdaBoostClassifier :', AdaBoostClassifier()],\n",
    "           ['GradientBoostingClassifier: ', GradientBoostingClassifier()],\n",
    "           ['Xgboost: ', XGBClassifier()],\n",
    "           ['CatBoost: ', CatBoostClassifier(logging_level='Silent')],\n",
    "           ['BayesianRidge: ', BayesianRidge()],\n",
    "           ['ExtraTreesClassifier: ', ExtraTreesClassifier()],\n",
    "           # ['lgbm_regressor: ',  LGBMClassifier()]\n",
    "         ]\n",
    "\n",
    "print(\"Results...\")\n",
    "\n",
    "final_data_c= pd.DataFrame(columns=['Models', 'Accuracy'])\n",
    "for name, model in modelsC:\n",
    "    model=model\n",
    "    model.fit(X_train, y_train)\n",
    "    # Convert probabilities to class labels (if model output is probabilistic)\n",
    "    pred = (model.predict(X_test) > 0.8).astype(int)  # For binary classification\n",
    "\n",
    "\n",
    "    # print(name, (np.sqrt(mean_squared_error(y_test, pred))))\n",
    "   \n",
    "    final_data_c = pd.concat([final_data_c, pd.DataFrame({'Models': [name], 'Accuracy': [accuracy_score(y_test, pred)]})], ignore_index=True)\n",
    "    print_boxed_zigzag_heading(f\"Evaluation Results for {name} Classifier\")\n",
    "    PrintColor(f\"The Accuracy Of {name} Classifier is {accuracy_score(y_test, pred)}\")\n",
    "\n",
    "final_data_c"
   ]
  },
  {
   "cell_type": "code",
   "execution_count": 55,
   "id": "ddbc6d6d",
   "metadata": {
    "execution": {
     "iopub.execute_input": "2024-11-07T10:19:50.833199Z",
     "iopub.status.busy": "2024-11-07T10:19:50.832765Z",
     "iopub.status.idle": "2024-11-07T10:19:51.231284Z",
     "shell.execute_reply": "2024-11-07T10:19:51.230002Z"
    },
    "papermill": {
     "duration": 0.46188,
     "end_time": "2024-11-07T10:19:51.234999",
     "exception": false,
     "start_time": "2024-11-07T10:19:50.773119",
     "status": "completed"
    },
    "tags": []
   },
   "outputs": [
    {
     "data": {
      "image/png": "[encoded data removed]",
      "text/plain": [
       "<Figure size 1200x800 with 1 Axes>"
      ]
     },
     "metadata": {},
     "output_type": "display_data"
    }
   ],
   "source": [
    "plt.figure(figsize=(12,8))\n",
    "sns.barplot(x= final_data_c['Models'], y= final_data_c['Accuracy'])\n",
    "plt.xticks(rotation=75)\n",
    "plt.show()"
   ]
  },
  {
   "cell_type": "markdown",
   "id": "bdd4171f",
   "metadata": {
    "papermill": {
     "duration": 0.069873,
     "end_time": "2024-11-07T10:19:51.391784",
     "exception": false,
     "start_time": "2024-11-07T10:19:51.321911",
     "status": "completed"
    },
    "tags": []
   },
   "source": [
    "<a id=\"Import\"></a>\n",
    "<p style=\"background-color: #1E90FF; font-family: 'Pacifico', cursive; color:#FFD700; font-size:200%; text-align:center; border-radius:3000px 50px;\">Evaluate Base Classifiers</p>"
   ]
  },
  {
   "cell_type": "markdown",
   "id": "6059b047",
   "metadata": {
    "papermill": {
     "duration": 0.06913,
     "end_time": "2024-11-07T10:19:51.523041",
     "exception": false,
     "start_time": "2024-11-07T10:19:51.453911",
     "status": "completed"
    },
    "tags": []
   },
   "source": [
    "<a class=\"anchor\" id=\"1\"></a>\n",
    "<a href=\"#toc\"><img src= \"https://upload.wikimedia.org/wikipedia/commons/thumb/2/20/Circle-icons-arrow-up.svg/1200px-Circle-icons-arrow-up.svg.png\" style=\"width:20px;hight:20px;float:left\" >        Back to the table of contents</a>"
   ]
  },
  {
   "cell_type": "code",
   "execution_count": 56,
   "id": "e83ddac4",
   "metadata": {
    "execution": {
     "iopub.execute_input": "2024-11-07T10:19:51.648009Z",
     "iopub.status.busy": "2024-11-07T10:19:51.646699Z",
     "iopub.status.idle": "2024-11-07T10:19:51.654333Z",
     "shell.execute_reply": "2024-11-07T10:19:51.652996Z"
    },
    "papermill": {
     "duration": 0.073304,
     "end_time": "2024-11-07T10:19:51.657375",
     "exception": false,
     "start_time": "2024-11-07T10:19:51.584071",
     "status": "completed"
    },
    "tags": []
   },
   "outputs": [
    {
     "name": "stdout",
     "output_type": "stream",
     "text": [
      "\n",
      "\u001b[33m╭───────────────────────────────────────────────────────────────────╮\u001b[0m\n",
      "\u001b[33m│ The \u001b[34m│ Winner \u001b[32m│ in \u001b[31m│ Regression \u001b[32m│ is \u001b[36m│ : \u001b[36m│ LinearRegression │\u001b[0m\n",
      "\u001b[33m╰───────────────────────────────────────────────────────────────────╯\u001b[0m\n",
      "\n",
      "\u001b[33m╭──────────────────────────────────────────────────────────────────────────╮\u001b[0m\n",
      "\u001b[33m│ The \u001b[34m│ Winner \u001b[32m│ in \u001b[32m│ Classification \u001b[32m│ is \u001b[36m│ : \u001b[36m│ ExtraTreeClassifier │\u001b[0m\n",
      "\u001b[33m╰──────────────────────────────────────────────────────────────────────────╯\u001b[0m\n"
     ]
    }
   ],
   "source": [
    "print_boxed_zigzag_heading(\" The Winner in Regression is : LinearRegression\")\n",
    "print_boxed_zigzag_heading(\" The Winner in Classification is : ExtraTreeClassifier\")"
   ]
  },
  {
   "cell_type": "markdown",
   "id": "671dda59",
   "metadata": {
    "papermill": {
     "duration": 0.059658,
     "end_time": "2024-11-07T10:19:51.777432",
     "exception": false,
     "start_time": "2024-11-07T10:19:51.717774",
     "status": "completed"
    },
    "tags": []
   },
   "source": []
  },
  {
   "cell_type": "markdown",
   "id": "8b44ec36",
   "metadata": {
    "papermill": {
     "duration": 0.064515,
     "end_time": "2024-11-07T10:19:51.902014",
     "exception": false,
     "start_time": "2024-11-07T10:19:51.837499",
     "status": "completed"
    },
    "tags": []
   },
   "source": [
    "# Save The Model"
   ]
  },
  {
   "cell_type": "code",
   "execution_count": 57,
   "id": "00d2114c",
   "metadata": {
    "execution": {
     "iopub.execute_input": "2024-11-07T10:19:52.026372Z",
     "iopub.status.busy": "2024-11-07T10:19:52.025320Z",
     "iopub.status.idle": "2024-11-07T10:19:52.039671Z",
     "shell.execute_reply": "2024-11-07T10:19:52.038469Z"
    },
    "papermill": {
     "duration": 0.079473,
     "end_time": "2024-11-07T10:19:52.042234",
     "exception": false,
     "start_time": "2024-11-07T10:19:51.962761",
     "status": "completed"
    },
    "tags": []
   },
   "outputs": [],
   "source": [
    "X = data.drop('ChanceofAdmit', axis=1)\n",
    "\n",
    "y = data['ChanceofAdmit']\n",
    "\n",
    "y = [ 1 if val>0.8 else 0 for val in y]\n",
    "\n",
    "y = np.array(y)\n",
    "\n",
    "X = scaler.fit_transform(X)"
   ]
  },
  {
   "cell_type": "code",
   "execution_count": 58,
   "id": "dac99411",
   "metadata": {
    "execution": {
     "iopub.execute_input": "2024-11-07T10:19:52.168360Z",
     "iopub.status.busy": "2024-11-07T10:19:52.167799Z",
     "iopub.status.idle": "2024-11-07T10:19:52.173994Z",
     "shell.execute_reply": "2024-11-07T10:19:52.172691Z"
    },
    "papermill": {
     "duration": 0.073269,
     "end_time": "2024-11-07T10:19:52.177021",
     "exception": false,
     "start_time": "2024-11-07T10:19:52.103752",
     "status": "completed"
    },
    "tags": []
   },
   "outputs": [],
   "source": [
    "gdc= GradientBoostingClassifier()"
   ]
  },
  {
   "cell_type": "code",
   "execution_count": 59,
   "id": "01ee50f1",
   "metadata": {
    "execution": {
     "iopub.execute_input": "2024-11-07T10:19:52.301390Z",
     "iopub.status.busy": "2024-11-07T10:19:52.300845Z",
     "iopub.status.idle": "2024-11-07T10:19:52.447207Z",
     "shell.execute_reply": "2024-11-07T10:19:52.445908Z"
    },
    "papermill": {
     "duration": 0.211565,
     "end_time": "2024-11-07T10:19:52.449920",
     "exception": false,
     "start_time": "2024-11-07T10:19:52.238355",
     "status": "completed"
    },
    "tags": []
   },
   "outputs": [
    {
     "data": {
      "text/html": [
       "<style>#sk-container-id-1 {color: black;background-color: white;}#sk-container-id-1 pre{padding: 0;}#sk-container-id-1 div.sk-toggleable {background-color: white;}#sk-container-id-1 label.sk-toggleable__label {cursor: pointer;display: block;width: 100%;margin-bottom: 0;padding: 0.3em;box-sizing: border-box;text-align: center;}#sk-container-id-1 label.sk-toggleable__label-arrow:before {content: \"▸\";float: left;margin-right: 0.25em;color: #696969;}#sk-container-id-1 label.sk-toggleable__label-arrow:hover:before {color: black;}#sk-container-id-1 div.sk-estimator:hover label.sk-toggleable__label-arrow:before {color: black;}#sk-container-id-1 div.sk-toggleable__content {max-height: 0;max-width: 0;overflow: hidden;text-align: left;background-color: #f0f8ff;}#sk-container-id-1 div.sk-toggleable__content pre {margin: 0.2em;color: black;border-radius: 0.25em;background-color: #f0f8ff;}#sk-container-id-1 input.sk-toggleable__control:checked~div.sk-toggleable__content {max-height: 200px;max-width: 100%;overflow: auto;}#sk-container-id-1 input.sk-toggleable__control:checked~label.sk-toggleable__label-arrow:before {content: \"▾\";}#sk-container-id-1 div.sk-estimator input.sk-toggleable__control:checked~label.sk-toggleable__label {background-color: #d4ebff;}#sk-container-id-1 div.sk-label input.sk-toggleable__control:checked~label.sk-toggleable__label {background-color: #d4ebff;}#sk-container-id-1 input.sk-hidden--visually {border: 0;clip: rect(1px 1px 1px 1px);clip: rect(1px, 1px, 1px, 1px);height: 1px;margin: -1px;overflow: hidden;padding: 0;position: absolute;width: 1px;}#sk-container-id-1 div.sk-estimator {font-family: monospace;background-color: #f0f8ff;border: 1px dotted black;border-radius: 0.25em;box-sizing: border-box;margin-bottom: 0.5em;}#sk-container-id-1 div.sk-estimator:hover {background-color: #d4ebff;}#sk-container-id-1 div.sk-parallel-item::after {content: \"\";width: 100%;border-bottom: 1px solid gray;flex-grow: 1;}#sk-container-id-1 div.sk-label:hover label.sk-toggleable__label {background-color: #d4ebff;}#sk-container-id-1 div.sk-serial::before {content: \"\";position: absolute;border-left: 1px solid gray;box-sizing: border-box;top: 0;bottom: 0;left: 50%;z-index: 0;}#sk-container-id-1 div.sk-serial {display: flex;flex-direction: column;align-items: center;background-color: white;padding-right: 0.2em;padding-left: 0.2em;position: relative;}#sk-container-id-1 div.sk-item {position: relative;z-index: 1;}#sk-container-id-1 div.sk-parallel {display: flex;align-items: stretch;justify-content: center;background-color: white;position: relative;}#sk-container-id-1 div.sk-item::before, #sk-container-id-1 div.sk-parallel-item::before {content: \"\";position: absolute;border-left: 1px solid gray;box-sizing: border-box;top: 0;bottom: 0;left: 50%;z-index: -1;}#sk-container-id-1 div.sk-parallel-item {display: flex;flex-direction: column;z-index: 1;position: relative;background-color: white;}#sk-container-id-1 div.sk-parallel-item:first-child::after {align-self: flex-end;width: 50%;}#sk-container-id-1 div.sk-parallel-item:last-child::after {align-self: flex-start;width: 50%;}#sk-container-id-1 div.sk-parallel-item:only-child::after {width: 0;}#sk-container-id-1 div.sk-dashed-wrapped {border: 1px dashed gray;margin: 0 0.4em 0.5em 0.4em;box-sizing: border-box;padding-bottom: 0.4em;background-color: white;}#sk-container-id-1 div.sk-label label {font-family: monospace;font-weight: bold;display: inline-block;line-height: 1.2em;}#sk-container-id-1 div.sk-label-container {text-align: center;}#sk-container-id-1 div.sk-container {/* jupyter's `normalize.less` sets `[hidden] { display: none; }` but bootstrap.min.css set `[hidden] { display: none !important; }` so we also need the `!important` here to be able to override the default hidden behavior on the sphinx rendered scikit-learn.org. See: https://github.com/scikit-learn/scikit-learn/issues/21755 */display: inline-block !important;position: relative;}#sk-container-id-1 div.sk-text-repr-fallback {display: none;}</style><div id=\"sk-container-id-1\" class=\"sk-top-container\"><div class=\"sk-text-repr-fallback\"><pre>GradientBoostingClassifier()</pre><b>In a Jupyter environment, please rerun this cell to show the HTML representation or trust the notebook. <br />On GitHub, the HTML representation is unable to render, please try loading this page with nbviewer.org.</b></div><div class=\"sk-container\" hidden><div class=\"sk-item\"><div class=\"sk-estimator sk-toggleable\"><input class=\"sk-toggleable__control sk-hidden--visually\" id=\"sk-estimator-id-1\" type=\"checkbox\" checked><label for=\"sk-estimator-id-1\" class=\"sk-toggleable__label sk-toggleable__label-arrow\">GradientBoostingClassifier</label><div class=\"sk-toggleable__content\"><pre>GradientBoostingClassifier()</pre></div></div></div></div></div>"
      ],
      "text/plain": [
       "GradientBoostingClassifier()"
      ]
     },
     "execution_count": 59,
     "metadata": {},
     "output_type": "execute_result"
    }
   ],
   "source": [
    "gdc.fit(X,y)"
   ]
  },
  {
   "cell_type": "code",
   "execution_count": 60,
   "id": "8b9d98b2",
   "metadata": {
    "execution": {
     "iopub.execute_input": "2024-11-07T10:19:52.575271Z",
     "iopub.status.busy": "2024-11-07T10:19:52.574828Z",
     "iopub.status.idle": "2024-11-07T10:19:52.599786Z",
     "shell.execute_reply": "2024-11-07T10:19:52.598684Z"
    },
    "papermill": {
     "duration": 0.089442,
     "end_time": "2024-11-07T10:19:52.602594",
     "exception": false,
     "start_time": "2024-11-07T10:19:52.513152",
     "status": "completed"
    },
    "tags": []
   },
   "outputs": [],
   "source": [
    "import joblib\n",
    "\n",
    "joblib.dump(gdc, 'admission_model')\n",
    "\n",
    "model = joblib.load('admission_model')"
   ]
  },
  {
   "cell_type": "code",
   "execution_count": 61,
   "id": "b2b5e1a1",
   "metadata": {
    "execution": {
     "iopub.execute_input": "2024-11-07T10:19:52.727736Z",
     "iopub.status.busy": "2024-11-07T10:19:52.726646Z",
     "iopub.status.idle": "2024-11-07T10:19:52.734710Z",
     "shell.execute_reply": "2024-11-07T10:19:52.733488Z"
    },
    "papermill": {
     "duration": 0.073264,
     "end_time": "2024-11-07T10:19:52.737069",
     "exception": false,
     "start_time": "2024-11-07T10:19:52.663805",
     "status": "completed"
    },
    "tags": []
   },
   "outputs": [
    {
     "data": {
      "text/plain": [
       "Index(['GREScore', 'TOEFLScore', 'UniversityRating', 'SOP', 'LOR', 'CGPA',\n",
       "       'Research', 'ChanceofAdmit'],\n",
       "      dtype='object')"
      ]
     },
     "execution_count": 61,
     "metadata": {},
     "output_type": "execute_result"
    }
   ],
   "source": [
    "data.columns"
   ]
  },
  {
   "cell_type": "code",
   "execution_count": 62,
   "id": "bc825cb7",
   "metadata": {
    "execution": {
     "iopub.execute_input": "2024-11-07T10:19:52.861276Z",
     "iopub.status.busy": "2024-11-07T10:19:52.859996Z",
     "iopub.status.idle": "2024-11-07T10:19:52.866994Z",
     "shell.execute_reply": "2024-11-07T10:19:52.865881Z"
    },
    "papermill": {
     "duration": 0.071572,
     "end_time": "2024-11-07T10:19:52.869343",
     "exception": false,
     "start_time": "2024-11-07T10:19:52.797771",
     "status": "completed"
    },
    "tags": []
   },
   "outputs": [],
   "source": [
    "res = model.predict(scaler.transform([[337, 118, 4 , 4.5, 4.5, 9.65, 1]]))"
   ]
  },
  {
   "cell_type": "code",
   "execution_count": 63,
   "id": "8e855b74",
   "metadata": {
    "execution": {
     "iopub.execute_input": "2024-11-07T10:19:52.993310Z",
     "iopub.status.busy": "2024-11-07T10:19:52.992277Z",
     "iopub.status.idle": "2024-11-07T10:19:52.999808Z",
     "shell.execute_reply": "2024-11-07T10:19:52.998765Z"
    },
    "papermill": {
     "duration": 0.07225,
     "end_time": "2024-11-07T10:19:53.002351",
     "exception": false,
     "start_time": "2024-11-07T10:19:52.930101",
     "status": "completed"
    },
    "tags": []
   },
   "outputs": [
    {
     "data": {
      "text/plain": [
       "1"
      ]
     },
     "execution_count": 63,
     "metadata": {},
     "output_type": "execute_result"
    }
   ],
   "source": [
    "res[0]"
   ]
  },
  {
   "cell_type": "markdown",
   "id": "73377092",
   "metadata": {
    "papermill": {
     "duration": 0.060991,
     "end_time": "2024-11-07T10:19:53.124432",
     "exception": false,
     "start_time": "2024-11-07T10:19:53.063441",
     "status": "completed"
    },
    "tags": []
   },
   "source": [
    "<a id=\"Import\"></a>\n",
    "<p style=\"background-color: #1E90FF; font-family: 'Pacifico', cursive; color:#FFD700; font-size:200%; text-align:center; border-radius:3000px 50px;\">The End</p>"
   ]
  },
  {
   "cell_type": "code",
   "execution_count": null,
   "id": "ba3c3792",
   "metadata": {
    "papermill": {
     "duration": 0.061495,
     "end_time": "2024-11-07T10:19:53.249522",
     "exception": false,
     "start_time": "2024-11-07T10:19:53.188027",
     "status": "completed"
    },
    "tags": []
   },
   "outputs": [],
   "source": []
  },
  {
   "cell_type": "code",
   "execution_count": null,
   "id": "39b5b187",
   "metadata": {
    "papermill": {
     "duration": 0.063572,
     "end_time": "2024-11-07T10:19:53.378374",
     "exception": false,
     "start_time": "2024-11-07T10:19:53.314802",
     "status": "completed"
    },
    "tags": []
   },
   "outputs": [],
   "source": []
  },
  {
   "cell_type": "code",
   "execution_count": null,
   "id": "65d9290d",
   "metadata": {
    "papermill": {
     "duration": 0.061004,
     "end_time": "2024-11-07T10:19:53.502760",
     "exception": false,
     "start_time": "2024-11-07T10:19:53.441756",
     "status": "completed"
    },
    "tags": []
   },
   "outputs": [],
   "source": []
  },
  {
   "cell_type": "code",
   "execution_count": null,
   "id": "d93200bb",
   "metadata": {
    "papermill": {
     "duration": 0.062577,
     "end_time": "2024-11-07T10:19:53.627316",
     "exception": false,
     "start_time": "2024-11-07T10:19:53.564739",
     "status": "completed"
    },
    "tags": []
   },
   "outputs": [],
   "source": []
  },
  {
   "cell_type": "code",
   "execution_count": null,
   "id": "67670a68",
   "metadata": {
    "papermill": {
     "duration": 0.06104,
     "end_time": "2024-11-07T10:19:53.749328",
     "exception": false,
     "start_time": "2024-11-07T10:19:53.688288",
     "status": "completed"
    },
    "tags": []
   },
   "outputs": [],
   "source": []
  },
  {
   "cell_type": "code",
   "execution_count": null,
   "id": "3627c683",
   "metadata": {
    "papermill": {
     "duration": 0.060841,
     "end_time": "2024-11-07T10:19:53.872468",
     "exception": false,
     "start_time": "2024-11-07T10:19:53.811627",
     "status": "completed"
    },
    "tags": []
   },
   "outputs": [],
   "source": []
  },
  {
   "cell_type": "code",
   "execution_count": null,
   "id": "31a2c567",
   "metadata": {
    "papermill": {
     "duration": 0.060874,
     "end_time": "2024-11-07T10:19:53.995220",
     "exception": false,
     "start_time": "2024-11-07T10:19:53.934346",
     "status": "completed"
    },
    "tags": []
   },
   "outputs": [],
   "source": []
  },
  {
   "cell_type": "code",
   "execution_count": null,
   "id": "72d8f5b8",
   "metadata": {
    "papermill": {
     "duration": 0.061626,
     "end_time": "2024-11-07T10:19:54.118686",
     "exception": false,
     "start_time": "2024-11-07T10:19:54.057060",
     "status": "completed"
    },
    "tags": []
   },
   "outputs": [],
   "source": []
  },
  {
   "cell_type": "code",
   "execution_count": null,
   "id": "a48e0333",
   "metadata": {
    "papermill": {
     "duration": 0.061168,
     "end_time": "2024-11-07T10:19:54.242919",
     "exception": false,
     "start_time": "2024-11-07T10:19:54.181751",
     "status": "completed"
    },
    "tags": []
   },
   "outputs": [],
   "source": []
  },
  {
   "cell_type": "code",
   "execution_count": null,
   "id": "42e6d0aa",
   "metadata": {
    "papermill": {
     "duration": 0.060801,
     "end_time": "2024-11-07T10:19:54.364723",
     "exception": false,
     "start_time": "2024-11-07T10:19:54.303922",
     "status": "completed"
    },
    "tags": []
   },
   "outputs": [],
   "source": []
  },
  {
   "cell_type": "code",
   "execution_count": null,
   "id": "6bc77951",
   "metadata": {
    "papermill": {
     "duration": 0.061657,
     "end_time": "2024-11-07T10:19:54.488304",
     "exception": false,
     "start_time": "2024-11-07T10:19:54.426647",
     "status": "completed"
    },
    "tags": []
   },
   "outputs": [],
   "source": []
  },
  {
   "cell_type": "code",
   "execution_count": null,
   "id": "a4b16dee",
   "metadata": {
    "papermill": {
     "duration": 0.063817,
     "end_time": "2024-11-07T10:19:54.613891",
     "exception": false,
     "start_time": "2024-11-07T10:19:54.550074",
     "status": "completed"
    },
    "tags": []
   },
   "outputs": [],
   "source": []
  },
  {
   "cell_type": "code",
   "execution_count": null,
   "id": "ac5a9612",
   "metadata": {
    "papermill": {
     "duration": 0.060677,
     "end_time": "2024-11-07T10:19:54.738389",
     "exception": false,
     "start_time": "2024-11-07T10:19:54.677712",
     "status": "completed"
    },
    "tags": []
   },
   "outputs": [],
   "source": []
  },
  {
   "cell_type": "code",
   "execution_count": null,
   "id": "daa8f345",
   "metadata": {
    "papermill": {
     "duration": 0.060598,
     "end_time": "2024-11-07T10:19:54.859897",
     "exception": false,
     "start_time": "2024-11-07T10:19:54.799299",
     "status": "completed"
    },
    "tags": []
   },
   "outputs": [],
   "source": []
  },
  {
   "cell_type": "code",
   "execution_count": null,
   "id": "a1beac38",
   "metadata": {
    "papermill": {
     "duration": 0.061111,
     "end_time": "2024-11-07T10:19:54.982114",
     "exception": false,
     "start_time": "2024-11-07T10:19:54.921003",
     "status": "completed"
    },
    "tags": []
   },
   "outputs": [],
   "source": []
  },
  {
   "cell_type": "code",
   "execution_count": null,
   "id": "4a764961",
   "metadata": {
    "papermill": {
     "duration": 0.060595,
     "end_time": "2024-11-07T10:19:55.108877",
     "exception": false,
     "start_time": "2024-11-07T10:19:55.048282",
     "status": "completed"
    },
    "tags": []
   },
   "outputs": [],
   "source": []
  },
  {
   "cell_type": "code",
   "execution_count": null,
   "id": "e3065f72",
   "metadata": {
    "papermill": {
     "duration": 0.080904,
     "end_time": "2024-11-07T10:19:55.255199",
     "exception": false,
     "start_time": "2024-11-07T10:19:55.174295",
     "status": "completed"
    },
    "tags": []
   },
   "outputs": [],
   "source": []
  },
  {
   "cell_type": "code",
   "execution_count": null,
   "id": "89775353",
   "metadata": {
    "papermill": {
     "duration": 0.060893,
     "end_time": "2024-11-07T10:19:55.377529",
     "exception": false,
     "start_time": "2024-11-07T10:19:55.316636",
     "status": "completed"
    },
    "tags": []
   },
   "outputs": [],
   "source": [
    "\n",
    "\n",
    "\n"
   ]
  }
 ],
 "metadata": {
  "kaggle": {
   "accelerator": "none",
   "dataSources": [
    {
     "datasetId": 14872,
     "sourceId": 228180,
     "sourceType": "datasetVersion"
    }
   ],
   "dockerImageVersionId": 30786,
   "isGpuEnabled": false,
   "isInternetEnabled": true,
   "language": "python",
   "sourceType": "notebook"
  },
  "kernelspec": {
   "display_name": "Python 3",
   "language": "python",
   "name": "python3"
  },
  "language_info": {
   "codemirror_mode": {
    "name": "ipython",
    "version": 3
   },
   "file_extension": ".py",
   "mimetype": "text/x-python",
   "name": "python",
   "nbconvert_exporter": "python",
   "pygments_lexer": "ipython3",
   "version": "3.10.14"
  },
  "papermill": {
   "default_parameters": {},
   "duration": 37.083446,
   "end_time": "2024-11-07T10:19:56.462316",
   "environment_variables": {},
   "exception": null,
   "input_path": "__notebook__.ipynb",
   "output_path": "__notebook__.ipynb",
   "parameters": {},
   "start_time": "2024-11-07T10:19:19.378870",
   "version": "2.6.0"
  }
 },
 "nbformat": 4,
 "nbformat_minor": 5
}
